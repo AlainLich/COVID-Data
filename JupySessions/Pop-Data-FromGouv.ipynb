{
 "cells": [
  {
   "cell_type": "markdown",
   "metadata": {},
   "source": [
    "# Analyze population data from www.data.gouv.fr and/or INSEE\n",
    "\n",
    "**Note:** This is a Jupyter notebook which is also available as its executable export as a Python 3 script (therefore with automatically generated comments)."
   ]
  },
  {
   "cell_type": "markdown",
   "metadata": {},
   "source": [
    "# Libraries"
   ]
  },
  {
   "cell_type": "code",
   "execution_count": null,
   "metadata": {},
   "outputs": [],
   "source": [
    "# Sys import\n",
    "import sys, os, re\n",
    "# Common imports\n",
    "import math\n",
    "import numpy             as NP\n",
    "import numpy.random      as RAND\n",
    "import scipy.stats       as STATS\n",
    "from scipy import sparse\n",
    "from scipy import linalg\n",
    "\n",
    "# Better formatting functions\n",
    "from IPython.display import display, HTML\n",
    "from IPython import get_ipython\n",
    "\n",
    "import matplotlib        as MPL\n",
    "import matplotlib.pyplot as PLT\n",
    "import seaborn as SNS\n",
    "SNS.set(font_scale=1)\n",
    "\n",
    "# Python programming\n",
    "from itertools import cycle\n",
    "from time import time\n",
    "import datetime\n",
    "\n",
    "# Using pandas\n",
    "import pandas as PAN\n",
    "import xlrd"
   ]
  },
  {
   "cell_type": "code",
   "execution_count": null,
   "metadata": {},
   "outputs": [],
   "source": [
    "import warnings\n",
    "warnings.filterwarnings('ignore')\n",
    "print(\"For now, reduce python warnings, I will look into this later\")"
   ]
  },
  {
   "cell_type": "markdown",
   "metadata": {},
   "source": [
    "### Import my own modules\n",
    "The next cell attempts to give user some information if things improperly setup.\n",
    "Intended to work both in Jupyter and when executing the Python file directly."
   ]
  },
  {
   "cell_type": "code",
   "execution_count": null,
   "metadata": {},
   "outputs": [],
   "source": [
    "if not get_ipython() is None and os.path.abspath(\"../source/\") not in sys.path:\n",
    "    sys.path.append(os.path.abspath(\"../source/\"))\n",
    "try:\n",
    "    from lib.utilities     import *\n",
    "    from lib.figureHelpers import *\n",
    "    from lib.DataMgrJSON   import *\n",
    "    from lib.DataMgr       import *\n",
    "    from lib.pandaUtils    import *\n",
    "except Exception as err:\n",
    "    print(\"Could not find library 'lib' with contents 'DataGouvFr' \")\n",
    "    if get_ipython() is None:\n",
    "        print(\"Check the PYTHONPATH environment variable which should point to 'source' wich contains 'lib'\")\n",
    "    else:\n",
    "        print(\"You are supposed to be running in JupySessions, and '../source/lib' should exist\")\n",
    "    raise err"
   ]
  },
  {
   "cell_type": "markdown",
   "metadata": {},
   "source": [
    "## Check environment\n",
    "\n",
    "It is expected that:\n",
    "- your working directory is named `JupySessions`, \n",
    "- that it has subdirectories \n",
    "   - `images/*` where generated images may be stored to avoid overcrowding. \n",
    "- At the same level as your working dir there should be directories \n",
    "   - `../data` for storing input data and \n",
    "   - `../source` for python scripts.\n",
    "   \n",
    "My package library is in `../source/lib`, and users running under Python (not in Jupyter) should\n",
    "set their PYTHONPATH to include \"../source\" ( *or whatever appropriate* )."
   ]
  },
  {
   "cell_type": "code",
   "execution_count": null,
   "metadata": {},
   "outputs": [],
   "source": [
    "checkSetup(chap=\"Chap02\")\n",
    "ImgMgr = ImageMgr(chapdir=\"Chap02\")"
   ]
  },
  {
   "cell_type": "markdown",
   "metadata": {},
   "source": [
    "# Load Data"
   ]
  },
  {
   "cell_type": "markdown",
   "metadata": {},
   "source": [
    "## Functions"
   ]
  },
  {
   "cell_type": "markdown",
   "metadata": {},
   "source": [
    "## Load CSV and XLSX data from remote \n",
    "The `dataFileVMgr` will manage a cache of data files in `../dataPop`.\n",
    "\n",
    "We check what is in the cache/data directory; for each file, we identify the latest version, \n",
    "and list this below to make sure. The file name will usually contain a time stamp; this has to do with \n",
    "the version management/identification technique used when downloading from www.data.gouv.fr or INSEE\n",
    "\n",
    "For the files used in this notebook, the latest version is used/loaded irrespective of the\n",
    "timestamp used in the notebook.\n",
    "\n",
    "Consulted:\n",
    "  - https://www.insee.fr/fr/information/2410988\n",
    "  - https://www.insee.fr/fr/information/2008354\n",
    "  - https://www.insee.fr/fr/statistiques/4265429?sommaire=4265511#consulter  \n",
    "  - https://www.insee.fr/fr/statistiques/4265429?sommaire=4265511#documentation\n",
    "  - https://api.insee.fr/catalogue/\n",
    "  - https://api.insee.fr/catalogue/site/themes/wso2/subthemes/insee/pages/help.jag\n",
    "  \n",
    "Downloaded:\n",
    "  \n",
    "  - https://www.insee.fr/fr/statistiques/fichier/1893198/estim-pop-dep-sexe-gca-1975-2020.xls\n",
    "  - https://www.insee.fr/fr/statistiques/fichier/1893198/estim-pop-dep-sexe-aq-1975-2020.xls\n",
    "  - https://www.insee.fr/fr/statistiques/fichier/1893198/evolution-population-dep-2007-2020.xls\n",
    "  - https://www.insee.fr/fr/statistiques/fichier/1893198/estim-pop-nreg-sexe-gca-1975-2020.xls\n",
    "  - https://www.insee.fr/fr/statistiques/fichier/1893198/estim-pop-nreg-sexe-aq-1975-2020.xls\n",
    "  - https://www.insee.fr/fr/statistiques/fichier/1893198/evolution-population-nreg-2007-2020.xls"
   ]
  },
  {
   "cell_type": "code",
   "execution_count": null,
   "metadata": {},
   "outputs": [],
   "source": [
    "dataFileVMgr = manageAndCacheFilesDFrame(\"../dataPop\")"
   ]
  },
  {
   "cell_type": "code",
   "execution_count": null,
   "metadata": {},
   "outputs": [],
   "source": [
    "print(\"Most recent versions of files in data directory:\")\n",
    "for f in dataFileVMgr.listMostRecent() :\n",
    "    print(f\"\\t{f}\")"
   ]
  },
  {
   "cell_type": "code",
   "execution_count": null,
   "metadata": {},
   "outputs": [],
   "source": [
    "last = lambda x: dataFileVMgr.getRecentVersion(x,default=True)"
   ]
  },
  {
   "cell_type": "markdown",
   "metadata": {},
   "source": [
    "This ensures we load the most recent version, so that it is not required to update the list \n",
    "below. The timestamps shown in the following sequence will be update by the call to `getRecentVersion`."
   ]
  },
  {
   "cell_type": "code",
   "execution_count": null,
   "metadata": {},
   "outputs": [],
   "source": [
    "exportDSCsv    = last(\"export-dataset-20200314-064905.csv\")\n",
    "exportORGCsv    = last(\"export-organization-20200314-065744.csv\")\n",
    "tagsCsv        = last(\"tags-2020-04-20-09-22.csv\")\n"
   ]
  },
  {
   "cell_type": "code",
   "execution_count": null,
   "metadata": {},
   "outputs": [],
   "source": [
    "S1 = set (dataFileVMgr.listMostRecent())\n",
    "S2 =set((exportDSCsv ,tagsCsv,  exportORGCsv ))\n",
    "missing = S1. difference(S2)\n",
    "if len(missing) > 0:\n",
    "    print (f\"Missing comparing with most recent files in ../data:\")\n",
    "    for f in missing:\n",
    "        print(f\"\\t{f}\")"
   ]
  },
  {
   "cell_type": "code",
   "execution_count": null,
   "metadata": {},
   "outputs": [],
   "source": [
    "metaCodeTranchesAgeCSV =\"../dataPop/code-tranches-dage.csv\" \n",
    "\n",
    "estimPopDepSxXLS      =\"../dataPop/estim-pop-dep-sexe-aq-1975-2020.xls\"\n",
    "estimPopDepSxGXLS     =\"../dataPop/estim-pop-dep-sexe-gca-1975-2020.xls\"\n",
    "estimPopRegSxXLS      =\"../dataPop/estim-pop-nreg-sexe-aq-1975-2020.xls\"\n",
    "estimPopRegSxGXLS     =\"../dataPop/estim-pop-nreg-sexe-gca-1975-2020.xls\"\n",
    "evolPopDepXLS         =\"../dataPop/evolution-population-dep-2007-2020.xls\"\n",
    "evolPopRegXLS         =\"../dataPop/evolution-population-nreg-2007-2020.xls\"\n",
    "\n",
    "inseeDepXLS           =\"../dataPop/InseeDep.xls\""
   ]
  },
  {
   "cell_type": "markdown",
   "metadata": {},
   "source": [
    "Now load the stuff"
   ]
  },
  {
   "cell_type": "code",
   "execution_count": null,
   "metadata": {},
   "outputs": [],
   "source": [
    "ad  = lambda x: \"../dataPop/\"+x\n",
    "data_exportDS = read_csvPandas(ad(exportDSCsv), error_bad_lines=False,sep=\";\" )\n",
    "data_tags     = read_csvPandas(ad(tagsCsv), error_bad_lines=False,sep=\";\")\n",
    "data_exportORG= read_csvPandas(ad(exportORGCsv), error_bad_lines=False,sep=\";\")"
   ]
  },
  {
   "cell_type": "code",
   "execution_count": null,
   "metadata": {},
   "outputs": [],
   "source": [
    "metaCodeTranchesAge = read_csvPandas(metaCodeTranchesAgeCSV, error_bad_lines=False,sep=\";\")\n",
    "estimPopDepSx       = read_xlsxPandas(estimPopDepSxXLS, error_bad_lines=False,sep=\",\")\n",
    "estimPopDepSxG      = read_xlsxPandas(estimPopDepSxGXLS, error_bad_lines=False,sep=\",\")\n",
    "estimPopRegSxX      = read_xlsxPandas(estimPopRegSxXLS , error_bad_lines=False,sep=\",\")\n",
    "estimPopRegSxG      = read_xlsxPandas(estimPopRegSxGXLS, error_bad_lines=False,sep=\",\")\n",
    "evolPopDep          = read_xlsxPandas(evolPopDepXLS , error_bad_lines=False,sep=\",\")       \n",
    "evolPopReg          = read_xlsxPandas(evolPopRegXLS , error_bad_lines=False,sep=\",\")      \n",
    "\n",
    "inseeDep            = read_xlsxPandas(inseeDepXLS, error_bad_lines=False,sep=\",\", sheet_name=1, header=7)\n",
    "inseeReg            = read_xlsxPandas(inseeDepXLS, error_bad_lines=False,sep=\",\", sheet_name=0, header=7)"
   ]
  },
  {
   "cell_type": "markdown",
   "metadata": {},
   "source": [
    "Show the shape of the loaded data:"
   ]
  },
  {
   "cell_type": "code",
   "execution_count": null,
   "metadata": {},
   "outputs": [],
   "source": [
    "def showBasics(data,dataName):\n",
    "    print(f\"{dataName:24}\\thas shape {data.shape}\")\n",
    "\n",
    "dataListDescr = ( (data_exportDS, \"data_exportDS\"),\n",
    "                (data_tags, \"data_tags\"),\n",
    "                (data_exportORG,\"data_exportORG\"),\n",
    "                (metaCodeTranchesAge,\"metaCodeTranchesAge\"),\n",
    "                (estimPopDepSx ,\"estimPopDepSx \"),\n",
    "                (estimPopDepSxG,\"estimPopDepSxG\"),\n",
    "                (estimPopRegSxX,\"estimPopRegSxX\"),\n",
    "                (estimPopRegSxG,\"estimPopRegSxG\"),\n",
    "                (evolPopDep,\"evolPopDep\"),\n",
    "                (evolPopReg,\"evolPopReg\"),\n",
    "                (inseeDep,\"inseeDep\"),\n",
    "                (inseeReg,\"inseeReg\")\n",
    "                )\n",
    "    \n",
    "for (dat,name) in dataListDescr:\n",
    "    showBasics(dat,name)\n"
   ]
  },
  {
   "cell_type": "code",
   "execution_count": null,
   "metadata": {},
   "outputs": [],
   "source": [
    "for (dat,name) in dataListDescr:\n",
    "    if name[0:5]==\"meta_\": continue\n",
    "    print(f\"\\nDescription of data in '{name}'\\n\")\n",
    "    display(dat.describe().transpose())\n",
    "    "
   ]
  },
  {
   "cell_type": "markdown",
   "metadata": {},
   "source": [
    "## Explore the INSEE export-dataset-\\*.csv\n",
    "\n",
    "### Use utilities to find rows corresponding to regexp"
   ]
  },
  {
   "cell_type": "code",
   "execution_count": null,
   "metadata": {},
   "outputs": [],
   "source": [
    "from IPython.core.display import display, HTML\n",
    "display(HTML(\"<style>.container { width:100% !important; }</style>\"))"
   ]
  },
  {
   "cell_type": "code",
   "execution_count": null,
   "metadata": {},
   "outputs": [],
   "source": [
    "data_exportDS.loc[:2].values"
   ]
  },
  {
   "cell_type": "markdown",
   "metadata": {},
   "source": [
    "This selects rows according to a *regular expression* (compliant with the python `re` module)"
   ]
  },
  {
   "cell_type": "code",
   "execution_count": null,
   "metadata": {},
   "outputs": [],
   "source": [
    "df1 =  DfMatcher(data_exportDS)\n",
    "df1.showMatch('description','stat.*population.*')\n",
    "df1.prMatch('description','stat.*population.*')"
   ]
  },
  {
   "cell_type": "markdown",
   "metadata": {},
   "source": [
    "### Now look at population statistics\n",
    "#### Landed at the wrong place\n",
    "I like the atlantic seaside, but this was not the target!"
   ]
  },
  {
   "cell_type": "code",
   "execution_count": null,
   "metadata": {},
   "outputs": [],
   "source": [
    "interesting = df1.rowMatch('slug','recensement.*population-population$') \n",
    "interesting.loc[:, ['url', 'title']].values\n",
    "interesting.values"
   ]
  },
  {
   "cell_type": "markdown",
   "metadata": {},
   "source": [
    "## Explore population from INSEE files\n",
    "See above for the files and how they may be found. "
   ]
  },
  {
   "cell_type": "code",
   "execution_count": null,
   "metadata": {},
   "outputs": [],
   "source": [
    "evolPopDep          "
   ]
  },
  {
   "cell_type": "markdown",
   "metadata": {},
   "source": [
    "Comments to be exploited later:\n",
    "- evolPopReg           \n",
    "- estimPopbeDepSx      \n",
    "- estimPopDepSxG     \n",
    "- estimPopRegSxX     \n",
    "- estimPopRegSxG      "
   ]
  },
  {
   "cell_type": "code",
   "execution_count": null,
   "metadata": {},
   "outputs": [],
   "source": [
    "metaCodeTranchesAge  "
   ]
  },
  {
   "cell_type": "code",
   "execution_count": null,
   "metadata": {},
   "outputs": [],
   "source": [
    "inseeReg"
   ]
  },
  {
   "cell_type": "code",
   "execution_count": null,
   "metadata": {},
   "outputs": [],
   "source": [
    "inseeDep"
   ]
  },
  {
   "cell_type": "code",
   "execution_count": null,
   "metadata": {},
   "outputs": [],
   "source": [
    "inseeDep.iloc[:,4:].sum()"
   ]
  },
  {
   "cell_type": "code",
   "execution_count": null,
   "metadata": {},
   "outputs": [],
   "source": [
    "inseeReg.iloc[:,4:].sum()"
   ]
  },
  {
   "cell_type": "markdown",
   "metadata": {},
   "source": [
    "## Merging demographic data with Covid hospital or testing statistics\n",
    "This should give a different perspective on those numbers."
   ]
  },
  {
   "cell_type": "code",
   "execution_count": null,
   "metadata": {},
   "outputs": [],
   "source": []
  }
 ],
 "metadata": {
  "kernelspec": {
   "display_name": "Python 3",
   "language": "python",
   "name": "python3"
  },
  "language_info": {
   "codemirror_mode": {
    "name": "ipython",
    "version": 3
   },
   "file_extension": ".py",
   "mimetype": "text/x-python",
   "name": "python",
   "nbconvert_exporter": "python",
   "pygments_lexer": "ipython3",
   "version": "3.6.5"
  }
 },
 "nbformat": 4,
 "nbformat_minor": 2
}
