{
 "cells": [
  {
   "cell_type": "markdown",
   "metadata": {},
   "source": [
    "#  Simple tool to analyze data from www.data.gouv.fr\n",
    "\n",
    "**Note:** This is a Jupyter notebook which is also available as its executable export as a Python 3 script (therefore with automatically generated comments)."
   ]
  },
  {
   "cell_type": "markdown",
   "metadata": {},
   "source": [
    "**Note: This deals with the painfull reality that \"all vaccine type\" is not filled for some departements.**"
   ]
  },
  {
   "cell_type": "markdown",
   "metadata": {},
   "source": [
    "# Libraries"
   ]
  },
  {
   "cell_type": "markdown",
   "metadata": {},
   "source": [
    "This is weird, apparently needed after transitionning to Ubuntu 21.04 Python 3.9.4, \n",
    "there must be another dir lib competing ... so order has become important??"
   ]
  },
  {
   "cell_type": "code",
   "execution_count": null,
   "metadata": {},
   "outputs": [],
   "source": [
    "import sys,os\n",
    "addPath= [os.path.abspath(\"../venv/lib/python3.9/site-packages/\"),\n",
    "          os.path.abspath(\"../source\")]\n",
    "addPath.extend(sys.path)\n",
    "sys.path = addPath"
   ]
  },
  {
   "cell_type": "code",
   "execution_count": null,
   "metadata": {
    "scrolled": true
   },
   "outputs": [],
   "source": [
    "# Sys import\n",
    "import sys, os, re\n",
    "# Common imports\n",
    "import math\n",
    "import numpy             as NP\n",
    "import numpy.random      as RAND\n",
    "import scipy.stats       as STATS\n",
    "from scipy import sparse\n",
    "from scipy import linalg\n",
    "\n",
    "# Some maths\n",
    "from math import sqrt\n",
    "\n",
    "import matplotlib        as MPL\n",
    "import matplotlib.pyplot as PLT\n",
    "# Add color\n",
    "from matplotlib import cm\n",
    "from matplotlib.colors import ListedColormap, LinearSegmentedColormap\n",
    "\n",
    "import seaborn as SNS\n",
    "SNS.set(font_scale=1)\n",
    "\n",
    "import mpl_toolkits\n",
    "import mpl_toolkits.mplot3d.axes3d\n",
    "from mpl_toolkits.mplot3d.axes3d import get_test_data\n",
    "\n",
    "# Python programming\n",
    "from itertools import cycle\n",
    "from time import time\n",
    "import datetime\n",
    "\n",
    "# Using pandas\n",
    "import pandas as PAN\n",
    "import xlrd"
   ]
  },
  {
   "cell_type": "code",
   "execution_count": null,
   "metadata": {},
   "outputs": [],
   "source": [
    "#from sklearn.svm import SVC\n",
    "#from sklearn import linear_model\n",
    "from sklearn import cluster"
   ]
  },
  {
   "cell_type": "code",
   "execution_count": null,
   "metadata": {
    "scrolled": true
   },
   "outputs": [],
   "source": [
    "import warnings\n",
    "warnings.filterwarnings('ignore')\n",
    "print(\"For now, reduce python warnings, I will look into this later\")"
   ]
  },
  {
   "cell_type": "markdown",
   "metadata": {},
   "source": [
    "### Import my own modules\n",
    "The next cell attempts to give user some information if things improperly setup.\n",
    "Intended to work both in Jupyter and when executing the Python file directly."
   ]
  },
  {
   "cell_type": "code",
   "execution_count": null,
   "metadata": {
    "scrolled": false
   },
   "outputs": [],
   "source": [
    "if not get_ipython() is None and os.path.abspath(\"../source/\") not in sys.path:\n",
    "    sys.path.append(os.path.abspath(\"../source/\"))\n",
    "try:\n",
    "    from lib.utilities     import *\n",
    "    from lib.figureHelpers import *\n",
    "    from lib.DataMgrJSON   import *\n",
    "    from lib.DataMgr       import *\n",
    "    import lib.basicDataCTE as DCTE\n",
    "    from lib import figureHelpers as FHelp\n",
    "    import libApp.appFrance as appFrance\n",
    "except Exception as err:\n",
    "    print(\"Could not find library 'lib' with contents 'DataGouvFr' \")\n",
    "    if get_ipython() is None:\n",
    "        print(\"Check the PYTHONPATH environment variable which should point to 'source' wich contains 'lib'\")\n",
    "    else:\n",
    "        print(\"You are supposed to be running in JupySessions, and '../source/lib' should exist\")\n",
    "    raise err"
   ]
  },
  {
   "cell_type": "markdown",
   "metadata": {},
   "source": [
    "## Check environment\n",
    "\n",
    "It is expected that:\n",
    "- your working directory is named `JupySessions`, \n",
    "- that it has subdirectories \n",
    "   - `images/*` where generated images may be stored to avoid overcrowding. \n",
    "- At the same level as your working dir there should be directories \n",
    "   - `../data` for storing input data and \n",
    "   - `../source` for python scripts.\n",
    "   \n",
    "My package library is in `../source/lib`, and users running under Python (not in Jupyter) should\n",
    "set their PYTHONPATH to include \"../source\" ( *or whatever appropriate* )."
   ]
  },
  {
   "cell_type": "code",
   "execution_count": null,
   "metadata": {
    "scrolled": true
   },
   "outputs": [],
   "source": [
    "checkSetup(chap=\"Vac01\")\n",
    "ImgMgr = ImageMgr(chapdir=\"Vac01\")"
   ]
  },
  {
   "cell_type": "markdown",
   "metadata": {},
   "source": [
    "# Load Data"
   ]
  },
  {
   "cell_type": "markdown",
   "metadata": {},
   "source": [
    "## Functions"
   ]
  },
  {
   "cell_type": "markdown",
   "metadata": {},
   "source": [
    "## Load CSV and XLSX data from remote \n",
    "The `dataFileVMgr` will manage a cache of data files in `../dataVaccin`, the data will be downloaded\n",
    "from www.data.gouv.fr using a request specified with tags and filtering file names and urls. The meta information is stored/cached  in `../dataVaccin/.data`\n",
    "as the pickle of a json.\n",
    "\n",
    "We check what is in the cache/data directory; for each file, we identify the latest version, \n",
    "and list this below to make sure. The file name will usually contain a time stamp; this has to do with \n",
    "the version management/identification technique used when downloading from www.data.gouv.fr.\n",
    "\n",
    "For the files used in this notebook, the latest version is used/loaded irrespective of the\n",
    "timestamp used in the notebook."
   ]
  },
  {
   "cell_type": "code",
   "execution_count": null,
   "metadata": {},
   "outputs": [],
   "source": [
    "specOpts={ 'CacheValidity': 12*60*60, # normal caching period (seconds)\n",
    "            'cacheFname': '.cache.vaccin.json',\n",
    "            \"dumpMetaFile\" : \"vaccin.meta.dump\",\n",
    "            \"dumpMetaInfoFile\" : \"vaccin.metainfo.dump\",\n",
    "            'ApiInq'       : 'datasets',\n",
    "            'InqParmsDir'  : {\"tag\":\"covid\"},\n",
    "         }\n",
    "rex = re.compile('.*vacsi-(v|tot)-(fra|reg|dep).*')\n",
    "def uselFn(urqt):\n",
    "    return rex.match(urqt.fname) or rex.match(urqt.url)"
   ]
  },
  {
   "cell_type": "markdown",
   "metadata": {},
   "source": [
    "Fichiers avec le nombre de personnes ayant reçu au moins une dose ou complètement \n",
    "vaccinées, arrêté à la dernière date disponible :\n",
    "  - vacsi-tot-fra-YYYY-MM-DD-HHhmm.csv (échelle nationale)\n",
    "  - vacsi-tot-reg-YYYY-MM-DD-HHhmm.csv (échelle régionale)\n",
    "  - vacsi-tot-dep-YYYY-MM-DD-HHhmm.csv (échelle départementale)\n",
    "\n",
    "\n",
    "Fichiers avec le nombre quotidien de personnes ayant reçu au moins une dose, \n",
    "par vaccin, et par date d’injection :\n",
    "  - vacsi-v-fra-YYYY-MM-DD-HHhmm.csv (échelle nationale)\n",
    "  - vacsi-v-reg-YYYY-MM-DD-HHhmm.csv (échelle régionale)\n",
    "  - vacsi-v-dep-YYYY-MM-DD-HHhmm.csv (échelle départementale)\n",
    "\n",
    "Les vaccins sont codifiés de la façon suivante : \n",
    "- 0 : Tous vaccins\\n'\n",
    "- 1 : COMIRNATY Pfizer/BioNTech\n",
    "- 2 : Moderna\n",
    "- 3 : AstraZeneka\n",
    "- 4 : Janssen"
   ]
  },
  {
   "cell_type": "code",
   "execution_count": null,
   "metadata": {
    "scrolled": false
   },
   "outputs": [],
   "source": [
    "dataFileVMgr = manageAndCacheDataFilesFRAPI(\"../dataVaccin\", maxDirSz= 24*(2**10)**2,\n",
    "                                            **specOpts)\n",
    "dataFileVMgr.getRemoteInfo()\n",
    "dataFileVMgr.updatePrepare()\n",
    "dataFileVMgr.updateSelect(displayCount=40 ,  URqtSelector = uselFn)\n",
    "\n",
    "dataFileVMgr.printUpdtList('fname') \n",
    "dataFileVMgr.printUpdtList('url')\n",
    "\n",
    "dataFileVMgr.cacheUpdate()"
   ]
  },
  {
   "cell_type": "code",
   "execution_count": null,
   "metadata": {
    "scrolled": true
   },
   "outputs": [],
   "source": [
    "last = lambda x: dataFileVMgr.getRecentVersion(x,default=True)"
   ]
  },
  {
   "cell_type": "code",
   "execution_count": null,
   "metadata": {},
   "outputs": [],
   "source": [
    "print(\"Most recent versions of files in data directory:\")\n",
    "for f in dataFileVMgr.listMostRecent() :\n",
    "    print(f\"\\t{f}\")"
   ]
  },
  {
   "cell_type": "markdown",
   "metadata": {},
   "source": [
    "This ensures we load the most recent version, so that it is not required to update the list \n",
    "below. The timestamps shown in the following sequence will be update by the call to `getRecentVersion`."
   ]
  },
  {
   "cell_type": "code",
   "execution_count": null,
   "metadata": {},
   "outputs": [],
   "source": [
    "dailyVacDep = last(\"vacsi-v-dep-2021-08-20-19h09.csv\")\n",
    "dailyVacFr  = last(\"vacsi-v-fra-2021-08-20-19h09.csv\")\n",
    "dailyVacReg = last(\"vacsi-v-reg-2021-08-20-19h09.csv\")"
   ]
  },
  {
   "cell_type": "code",
   "execution_count": null,
   "metadata": {
    "scrolled": true
   },
   "outputs": [],
   "source": [
    "S1 = set (dataFileVMgr.listMostRecent())\n",
    "S2 =set((dailyVacFr,dailyVacDep, dailyVacReg ))\n",
    "missing = S1. difference(S2)\n",
    "if len(missing) > 0:\n",
    "    print (f\"Not exploited comparing with most recent files in ../dataVaccin:\")\n",
    "for f in missing:\n",
    "    print(f\"\\t{f}\")\n",
    "    \n",
    "metaSexeCsv = \"../data/metadonnees-sexe.csv\"\n",
    "metaRegionsCsv=\"../data/regions-france.csv\"\n",
    "metaTranchesAgeCsv=\"../data/code-tranches-dage.csv\""
   ]
  },
  {
   "cell_type": "code",
   "execution_count": null,
   "metadata": {},
   "outputs": [],
   "source": [
    "ad  = lambda x: \"../dataVaccin/\"+x\n",
    "S1 = set (map(ad, dataFileVMgr.listMostRecent(nonTS=True)))\n",
    "S2 =set(( metaRegionsCsv, metaTranchesAgeCsv, metaSexeCsv ))\n",
    "missing = S1. difference(S2)\n",
    "if len(missing) > 0:\n",
    "    print (f\"Missing comparing with non timestamped files in ../data:\")\n",
    "    print (\"These may eventually be exploited in other notebooks (e.g. COVID-MoreData-FromGouv)\")\n",
    "    for f in missing:\n",
    "        print(f\"\\t{f}\")"
   ]
  },
  {
   "cell_type": "markdown",
   "metadata": {},
   "source": [
    "Now load the stuff\n"
   ]
  },
  {
   "cell_type": "code",
   "execution_count": null,
   "metadata": {
    "scrolled": true
   },
   "outputs": [],
   "source": [
    "ad  = lambda x: \"../data/\"+x\n",
    "adv  = lambda x: \"../dataVaccin/\"+x\n",
    "data_dailyRegion = read_csvPandas(adv(dailyVacReg), error_bad_lines=False,sep=\";\" )\n",
    "data_dailyDep    = read_csvPandas(adv(dailyVacDep), error_bad_lines=False,sep=\";\")\n",
    "data_dailyFrance = read_csvPandas(adv(dailyVacFr), error_bad_lines=False,sep=\";\")\n",
    "\n",
    "meta_Sexe    = read_csvPandas(metaSexeCsv, clearNaN=True, error_bad_lines=False,sep=\";\",header=0)\n",
    "meta_Regions = read_csvPandas(metaRegionsCsv, clearNaN=True, error_bad_lines=False,sep=\",\")\n",
    "meta_Ages    = read_csvPandas(metaTranchesAgeCsv, clearNaN=True, error_bad_lines=False,sep=\";\")"
   ]
  },
  {
   "cell_type": "markdown",
   "metadata": {},
   "source": [
    "## Figure out data characteristics"
   ]
  },
  {
   "cell_type": "code",
   "execution_count": null,
   "metadata": {
    "scrolled": true
   },
   "outputs": [],
   "source": [
    "def showBasics(data,dataName):\n",
    "    print(f\"{dataName:24}\\thas shape {data.shape}\")\n",
    "\n",
    "dataListDescr = ((data_dailyRegion, \"data_dailyRegion\"), \n",
    "                  (data_dailyDep,\"data_dailyDep\"), \n",
    "                  (data_dailyFrance, \"data_dailyFrance\"),\n",
    "                  (meta_Sexe,\"meta_Sexe\"),\n",
    "                  (meta_Regions,'meta_Regions'),\n",
    "                  (meta_Ages,'meta_Ages'))\n",
    "    \n",
    "for (dat,name) in dataListDescr:\n",
    "    showBasics(dat,name)\n"
   ]
  },
  {
   "cell_type": "markdown",
   "metadata": {},
   "source": [
    "### Focus on the recent period\n",
    "\n",
    "In some displays, we may want to focus on the recent data, then the number of days is parametrized here."
   ]
  },
  {
   "cell_type": "code",
   "execution_count": null,
   "metadata": {},
   "outputs": [],
   "source": [
    "nbLastDays=50"
   ]
  },
  {
   "cell_type": "markdown",
   "metadata": {},
   "source": [
    "## Get some demographics data from INSEE\n",
    "For the time being, these data are obtained / loaded from Insee web site using a manual process and are placed in a different directory, therefore a distinct FileManager is used, and loading this data is done here; for more details see the notebook `Pop-Data-FromGouv.ipy`\n",
    "\n",
    "Using the base version which **does not try to update** the \"../dataPop\" directory"
   ]
  },
  {
   "cell_type": "code",
   "execution_count": null,
   "metadata": {
    "scrolled": true
   },
   "outputs": [],
   "source": [
    "dataFileVMgrInsee = manageDataFileVersions(\"../dataPop\") \n",
    "inseeDepXLS           =\"../dataPop/InseeDep.xls\"\n",
    "inseeDep            = read_xlsxPandas(inseeDepXLS, sheet_name=1, header=7)\n",
    "inseeReg            = read_xlsxPandas(inseeDepXLS, sheet_name=0, header=7)"
   ]
  },
  {
   "cell_type": "markdown",
   "metadata": {},
   "source": [
    "Now we can display our demographics data (summarized)"
   ]
  },
  {
   "cell_type": "code",
   "execution_count": null,
   "metadata": {
    "scrolled": true
   },
   "outputs": [],
   "source": [
    "display(inseeDep.iloc[:,4:].sum())\n",
    "display(inseeReg.iloc[:,4:].sum())"
   ]
  },
  {
   "cell_type": "markdown",
   "metadata": {},
   "source": [
    "## Let's do some graphics!"
   ]
  },
  {
   "cell_type": "markdown",
   "metadata": {},
   "source": [
    "### Merge Vaccination and demographics data\n",
    "See the `Pop-Data-FromGouv.ipynb` notebook for more details on the demographics data obtained from\n",
    "INSEE (https://www.insee.fr/fr/accueil). "
   ]
  },
  {
   "cell_type": "markdown",
   "metadata": {},
   "source": [
    "## Whole France"
   ]
  },
  {
   "cell_type": "code",
   "execution_count": null,
   "metadata": {},
   "outputs": [],
   "source": [
    "vacFrf = data_dailyFrance.copy()\n",
    "vac0Frf = vacFrf.loc[vacFrf.loc[:,'vaccin']==0,:].set_index(\"jour\")"
   ]
  },
  {
   "cell_type": "code",
   "execution_count": null,
   "metadata": {},
   "outputs": [],
   "source": [
    "colOpts = {'n_dose1'  : {\"c\":\"b\",\"marker\":\"v\"},  \n",
    "           'n_dose2' : {\"c\":\"r\",\"marker\":\"o\", \"linestyle\":\"--\"},\n",
    "           'n_dose3' : {\"c\":\"g\",\"marker\":\"<\", \"linestyle\":\"--\"},\n",
    "           'n_cum_dose1' : {\"c\":\"b\",\"marker\":\"+\"},\n",
    "           'n_cum_dose2': {\"c\":\"r\",\"marker\":\"*\"},\n",
    "           'n_cum_dose3': {\"c\":\"g\",\"marker\":\">\"}\n",
    "          }"
   ]
  },
  {
   "cell_type": "code",
   "execution_count": null,
   "metadata": {},
   "outputs": [],
   "source": [
    "dfGr = PAN.DataFrame(vac0Frf.copy(), columns=vac0Frf.columns[5:])\n",
    "painter = figureTSFromFrame(dfGr,figsize=(12,8))\n",
    "painter.doPlot()\n",
    "painter.setAttrs(colOpts=colOpts,\n",
    "                 xlabel=f\"Days since {painter.dt[0]}\", \n",
    "                 ylabel=\"Total number\",\n",
    "                 title=\"Vaccination (cumulative), all vaccine types\",\n",
    "                 legend=True  ) \n",
    "PAN.set_option('display.max_colwidth', None)\n",
    "ImgMgr.save_fig(\"FIG001\")"
   ]
  },
  {
   "cell_type": "code",
   "execution_count": null,
   "metadata": {},
   "outputs": [],
   "source": [
    "dfGr = PAN.DataFrame(vac0Frf.copy(), columns=vac0Frf.columns[2:5])\n",
    "painter = figureTSFromFrame(dfGr,figsize=(12,8))\n",
    "painter.doPlot()\n",
    "painter.setAttrs(colOpts=colOpts,\n",
    "                 xlabel=f\"Days since {painter.dt[0]}\", \n",
    "                 ylabel=\"Total number\",\n",
    "                 title=\"Vaccination (daily), all vaccine types\",\n",
    "                 legend=True  ) \n",
    "PAN.set_option('display.max_colwidth', None)\n",
    "ImgMgr.save_fig(\"FIG002\")"
   ]
  },
  {
   "cell_type": "markdown",
   "metadata": {},
   "source": [
    "Here, it would be a good idea to apply a low pass filter!!"
   ]
  },
  {
   "cell_type": "markdown",
   "metadata": {},
   "source": [
    "## Split according to vaccine type\n",
    "see in a second step, not sure that I am really interested in vaccine type for now!"
   ]
  },
  {
   "cell_type": "code",
   "execution_count": null,
   "metadata": {},
   "outputs": [],
   "source": [
    "vaccNames= { 0 : 'All vaccines',\n",
    "            1 : 'Pfizer/BioNTech',\n",
    "            2 : 'Moderna',\n",
    "            3 : 'Astra Zeneka',\n",
    "            4 : 'Janssen'}"
   ]
  },
  {
   "cell_type": "code",
   "execution_count": null,
   "metadata": {},
   "outputs": [],
   "source": [
    "vac1Frf = vacFrf.set_index(\"jour\")"
   ]
  },
  {
   "cell_type": "code",
   "execution_count": null,
   "metadata": {},
   "outputs": [],
   "source": [
    "vac1GrFrf=vac1Frf.groupby('vaccin')"
   ]
  },
  {
   "cell_type": "code",
   "execution_count": null,
   "metadata": {},
   "outputs": [],
   "source": [
    "subnodeSpec=(lambda i,j:{\"nrows\":i,\"ncols\":j})(*subPlotShape(len(vac1GrFrf),maxCol=2))"
   ]
  },
  {
   "cell_type": "code",
   "execution_count": null,
   "metadata": {},
   "outputs": [],
   "source": [
    "colOpts = {'n_dose1'  : {\"c\":\"b\",\"marker\":\"v\"},  \n",
    "           'n_dose2' : {\"c\":\"r\",\"marker\":\"o\", \"linestyle\":\"--\"},\n",
    "           'n_dose3' : {\"c\":\"g\",\"marker\":\"<\", \"linestyle\":\"--\"},\n",
    "           'n_cum_dose1' : {\"c\":\"b\",\"marker\":\"+\"},\n",
    "           'n_cum_dose2': {\"c\":\"r\",\"marker\":\"*\"},\n",
    "           'n_cum_dose3': {\"c\":\"g\",\"marker\":\">\"}\n",
    "          }"
   ]
  },
  {
   "cell_type": "code",
   "execution_count": null,
   "metadata": {},
   "outputs": [],
   "source": [
    "painter = figureTSFromFrame(None, subplots=subnodeSpec, figsize=(15,15))\n",
    "for (i, tble) in vac1GrFrf:\n",
    "    title = f\"Vaccine: {vaccNames[i]}\"\n",
    "    painter.doPlotBycol(tble, colSel=tble.columns[5:]);\n",
    "    painter.setAttrs(colOpts = colOpts,\n",
    "                     xlabel  = f\"Days since {painter.dt[0]}\",\n",
    "                     title   = title,\n",
    "                     legend  = True    ) \n",
    "     \n",
    "    painter.advancePlotIndex()\n",
    "    \n",
    "PAN.set_option('display.max_colwidth', None)\n",
    "ImgMgr.save_fig(\"FIG003\")"
   ]
  },
  {
   "cell_type": "markdown",
   "metadata": {},
   "source": [
    "## Look at the distribution accross areas ('departements')\n",
    "\n",
    "### Basics"
   ]
  },
  {
   "cell_type": "markdown",
   "metadata": {},
   "source": [
    "Prepare the data for a database style join/merge, documented on https://pandas.pydata.org/pandas-docs/stable/user_guide/merging.html.\n",
    "First we need to establish \"dep\" as an index in our data: "
   ]
  },
  {
   "cell_type": "code",
   "execution_count": null,
   "metadata": {},
   "outputs": [],
   "source": [
    "vacDepf = data_dailyDep.copy()"
   ]
  },
  {
   "cell_type": "markdown",
   "metadata": {},
   "source": [
    "At this date (26/9/21) the \"dep\" column contains a mix of integer and str encodings, which causes failure down the road (look a merge...); so we correct this"
   ]
  },
  {
   "cell_type": "code",
   "execution_count": null,
   "metadata": {},
   "outputs": [],
   "source": [
    "vacDepf.loc[:,\"dep\"] = vacDepf.loc[:,\"dep\"].apply(str) "
   ]
  },
  {
   "cell_type": "code",
   "execution_count": null,
   "metadata": {
    "scrolled": true
   },
   "outputs": [],
   "source": [
    "vacDepfV=vacDepf.set_index(\"vaccin\")"
   ]
  },
  {
   "cell_type": "markdown",
   "metadata": {},
   "source": [
    "Here we discover that for vaccine code 0 (all vaccines) the cumulative columns have not been filled!! As somebody said, *real data is often cause for \n",
    "surprises*!! I correct this situation here, not *checking whether progessively summing daily contributions will give the same result*. "
   ]
  },
  {
   "cell_type": "code",
   "execution_count": null,
   "metadata": {},
   "outputs": [],
   "source": [
    "for col in ('n_cum_dose1', 'n_cum_dose2'):\n",
    "    vacDepfV.loc[0, col] = vacDepfV.loc[1, col].values\n",
    "    for i in range(2,5):\n",
    "        vacDepfV.loc[0, col] += vacDepfV.loc[i, col].values"
   ]
  },
  {
   "cell_type": "code",
   "execution_count": null,
   "metadata": {},
   "outputs": [],
   "source": [
    "vacDepf = vacDepfV.reset_index()"
   ]
  },
  {
   "cell_type": "markdown",
   "metadata": {},
   "source": [
    "Then we extract the demographic information and set index \"dep\" "
   ]
  },
  {
   "cell_type": "code",
   "execution_count": null,
   "metadata": {
    "scrolled": true
   },
   "outputs": [],
   "source": [
    "depStats = inseeDep.iloc[:,[2,3,7,8]].copy()\n",
    "cols = depStats.columns.values\n",
    "cols[0]=\"dep\"\n",
    "depStats.columns = cols\n",
    "depStats.set_index(\"dep\");"
   ]
  },
  {
   "cell_type": "markdown",
   "metadata": {},
   "source": [
    "Now we perform the merge, and group by date and 'départements'.\n",
    "For details on `Pandas.merge`, see \n",
    "   https://stackoverflow.com/questions/53645882/pandas-merging-101\n"
   ]
  },
  {
   "cell_type": "code",
   "execution_count": null,
   "metadata": {
    "scrolled": true
   },
   "outputs": [],
   "source": [
    "vacMerged = PAN.merge(vacDepf,depStats, how=\"inner\", on=\"dep\" ) \n",
    "vacGrMerged=vacMerged.groupby([\"dep\",\"jour\",\"vaccin\"]).sum()"
   ]
  },
  {
   "cell_type": "code",
   "execution_count": null,
   "metadata": {
    "scrolled": true
   },
   "outputs": [],
   "source": [
    "colLabs = (\"n_dose1\", \"n_dose2\", \"n_cum_dose1\", \"n_cum_dose2\")\n",
    "for lab in colLabs:\n",
    "    vacGrMerged[lab+\"_rate\"] = vacGrMerged[lab]/vacGrMerged[\"Population totale\"]*100"
   ]
  },
  {
   "cell_type": "code",
   "execution_count": null,
   "metadata": {},
   "outputs": [],
   "source": [
    "print(f\"vacDepf.shape ={vacDepf.shape}\")\n",
    "print(f\"depStats.shape={depStats.shape}\")\n",
    "print(f\"vacMerged.shape={vacMerged.shape}\")\n",
    "print(f\"vacGrMerged.shape={vacGrMerged.shape}\")\n",
    "print(f\"data_dailyDep.shape={data_dailyDep.shape}\")\n",
    "\n",
    "print(f\"vacMerged.columns:{vacMerged.columns}\")\n",
    "print(f\"vacGrMerged.columns:{vacGrMerged.columns}\")"
   ]
  },
  {
   "cell_type": "markdown",
   "metadata": {},
   "source": [
    "For now, look at daily statistics normalized by concerned population (unit= event per million people)"
   ]
  },
  {
   "cell_type": "code",
   "execution_count": null,
   "metadata": {},
   "outputs": [],
   "source": [
    "deps=depStats.iloc[:,0]\n",
    "deps1=set(vacGrMerged.index.get_level_values(0))\n",
    "sdiff = deps1-set(deps)\n",
    "sdiffR = set(deps)-deps1\n",
    "\n",
    "if len(sdiff) > 0:\n",
    "    raise RuntimeError (f\"Missing departements in depStats (pop stats):{sdiff}\")\n",
    "\n",
    "if len(sdiffR) > 0:\n",
    "    raise RuntimeError(f\"Non represented departements in vacGrMerged:{sorted(sdiffR)}\")"
   ]
  },
  {
   "cell_type": "markdown",
   "metadata": {},
   "source": [
    "### Naive approach: assume that `vaccin == 0` is always set\n",
    "Select `vaccin == 0` (all vaccine types), iterate on `dep` (if this is doable\n",
    "on a multi-index, note that `vacGrMerged` is a `pandas.core.frame.DataFrame`.)\n",
    "- https://stackoverflow.com/questions/53927460/select-rows-in-pandas-multiindex-dataframe is quite comprehensive on slicing multi-indices\n",
    "- we select `vaccin == 0` with `loc[slice(None),slice(None),0]` selector"
   ]
  },
  {
   "cell_type": "markdown",
   "metadata": {},
   "source": [
    "**ISSUE**: Apparently, for some departements, the vaccin category '0' is missing, therefore cannot use this selection mode... So this was **way too naive...**, and we correct this below."
   ]
  },
  {
   "cell_type": "code",
   "execution_count": null,
   "metadata": {},
   "outputs": [],
   "source": [
    "vacAllPanda=vacGrMerged.loc[slice(None),slice(None),0]"
   ]
  },
  {
   "cell_type": "markdown",
   "metadata": {},
   "source": [
    "We take this opportunity to check that all departements are represented"
   ]
  },
  {
   "cell_type": "code",
   "execution_count": null,
   "metadata": {
    "scrolled": false
   },
   "outputs": [],
   "source": [
    "deps=depStats.iloc[:,0]\n",
    "deps1=set(vacAllPanda.index.get_level_values(0))\n",
    "sdiff = deps1-set(deps)\n",
    "sdiffR = set(deps)-deps1\n",
    "\n",
    "if len(sdiff) > 0:\n",
    "    raise RuntimeError (f\"Missing departements in depStats (pop stats):{sdiff}\")\n",
    "\n",
    "if len(sdiffR) > 0:\n",
    "    #raise RuntimeError(f\"Non represented departements in vacAllPanda:{sorted(sdiffR)}\")\n",
    "    print(f\"Non represented departements in vacAllPanda:{sorted(sdiffR)}\",\n",
    "         file=sys.stderr)"
   ]
  },
  {
   "cell_type": "markdown",
   "metadata": {},
   "source": [
    "These are the departements for which the entry \"0\": all vaccines is missing. We sum for vaccin values $\\ne 0$ per (dep,jour) and then add the result the the table."
   ]
  },
  {
   "cell_type": "code",
   "execution_count": null,
   "metadata": {},
   "outputs": [],
   "source": [
    "if len(sdiffR) > 0:\n",
    "    missingLines=vacGrMerged.loc[sdiffR,slice(None),slice(None)]\\\n",
    "                        .groupby([\"dep\",\"jour\"])\\\n",
    "                        .sum()\n",
    "    missingLines.loc[:,\"vaccin\"] = 0 \n",
    "    missingLines2= missingLines.set_index(\"vaccin\", append=True)\n",
    "\n",
    "    print(f\"shape before append:{vacGrMerged.shape}\")\n",
    "    vacGrMerged = vacGrMerged.append(missingLines2)\n",
    "    print(f\"shape after append:{vacGrMerged.shape}\")\n",
    "    \n",
    "    vacAllPanda=vacGrMerged.loc[slice(None),slice(None),0]\n",
    "    deps1=set(vacAllPanda.index.get_level_values(0))\n",
    "    \n",
    "    sdiff = deps1-set(deps)\n",
    "    sdiffR = set(deps)-deps1\n",
    "    \n",
    "    \n",
    "    if len(sdiff) > 0:\n",
    "        raise RuntimeError (f\"Missing departements in depStats (pop stats):{sdiff}\")\n",
    "\n",
    "    if len(sdiffR) > 0:\n",
    "        raise RuntimeError(f\"Non represented departements in vacAllPanda:{sorted(sdiffR)}\")"
   ]
  },
  {
   "cell_type": "code",
   "execution_count": null,
   "metadata": {},
   "outputs": [],
   "source": [
    "vacGrMerged.loc[slice(None),slice(None),0].loc[:,('n_cum_dose1','n_cum_dose2') ].describe()"
   ]
  },
  {
   "cell_type": "markdown",
   "metadata": {},
   "source": [
    "We also make a dict to get information about a departement from its id as a string representing a number. There is an **issue** here since *code 976 (Mayotte) is missing,\n",
    "as well as code 975 (St Pierre et Miquelon)*. When this **blows up...** I will have to do something about it!!"
   ]
  },
  {
   "cell_type": "code",
   "execution_count": null,
   "metadata": {},
   "outputs": [],
   "source": [
    "depDict = {depStats.iloc[i,0]:i for i in range(depStats.shape[0])}"
   ]
  },
  {
   "cell_type": "markdown",
   "metadata": {},
   "source": [
    "This is how this works and this solves the mystery about 97X numbers!"
   ]
  },
  {
   "cell_type": "code",
   "execution_count": null,
   "metadata": {},
   "outputs": [],
   "source": [
    "depStats.iloc[list(depDict[f\"{i}\"] for i in range(971,975)) ,:]"
   ]
  },
  {
   "cell_type": "markdown",
   "metadata": {},
   "source": [
    "What corresponds to departement with number '976' (Mayotte), missing here, \n",
    "remains to be seen... But at this point this is non blocking. Of course we used the trick of converting to a set\n",
    "to get the unique values used in the 'dep' multi-index level."
   ]
  },
  {
   "cell_type": "markdown",
   "metadata": {},
   "source": [
    "And the graph can be readily generated:"
   ]
  },
  {
   "cell_type": "code",
   "execution_count": null,
   "metadata": {},
   "outputs": [],
   "source": [
    "showOnly=20 # all require = deps.shape[0]\n",
    "subnodeSpec=(lambda i,j:{\"nrows\":j,\"ncols\":i})(*subPlotShape(showOnly,maxCol=4))"
   ]
  },
  {
   "cell_type": "code",
   "execution_count": null,
   "metadata": {},
   "outputs": [],
   "source": [
    "painter = figureTSFromFrame(None, subplots=subnodeSpec, figsize=(15,20))\n",
    "for ndep in   range(deps.shape[0]):\n",
    "    departement = depStats.iloc[ndep,0]\n",
    "    depName, depPopu = (depStats.iloc[ndep,i] for i in (1,3))\n",
    "    depData = vacAllPanda.loc[(departement,)].copy()         \n",
    "    dateStart = depData.index[0]\n",
    "    painter.doPlot(df = depData.loc[:,[\"n_cum_dose1_rate\", \"n_cum_dose2_rate\"]])\n",
    "    painter.setAttrs(title=f\"Data from Data.Gouv.Fr:\\n {depName}\",\n",
    "                     legend=True,\n",
    "                     xlabel=f\"Days since {dateStart}\",\n",
    "                     ylabel=\"Percentage of total population\"   )\n",
    "    \n",
    "    painter.advancePlotIndex()  \n",
    "    \n",
    "    if ndep >= showOnly-1:\n",
    "        break\n",
    "        \n",
    "PLT.subplots_adjust( bottom=0.1, top=0.9, \n",
    "                    wspace=0.4,  hspace=0.4)        \n",
    "ImgMgr.save_fig(\"FIG004\")"
   ]
  },
  {
   "cell_type": "markdown",
   "metadata": {},
   "source": [
    "Redo the same figure using the (modularized) function"
   ]
  },
  {
   "cell_type": "code",
   "execution_count": null,
   "metadata": {},
   "outputs": [],
   "source": [
    "showOnly=20 # all require = deps.shape[0]\n",
    "subnodeSpec=(lambda i,j:{\"nrows\":j,\"ncols\":i})(*subPlotShape(showOnly,maxCol=4))\n",
    "\n",
    "figMaker =  appFrance.departementFigArrayTSFrame( depIdxIterable = range(min(deps.shape[0],showOnly)),\n",
    "                                        depStats = depStats,\n",
    "                                        allData =  vacAllPanda,\n",
    "                                        subnodeSpec =  subnodeSpec)\n",
    "figMaker( titleStart = 'Data from Data.Gouv.Fr:',\n",
    "          xlabelStart = 'Days since',\n",
    "          ylabel = 'Percentage of total population')\n",
    "ImgMgr.save_fig(\"FIG005\")\n"
   ]
  },
  {
   "cell_type": "markdown",
   "metadata": {},
   "source": [
    "### Vaccination timelines for 'départements' according to vaccine coverage \n",
    "We are interested in\n",
    "- most populated\n",
    "- best covered\n",
    "- best and worse covered with vaccines"
   ]
  },
  {
   "cell_type": "code",
   "execution_count": null,
   "metadata": {},
   "outputs": [],
   "source": [
    "showOnly=20 \n",
    "sel=depStats.nlargest(showOnly,'Population totale').index\n",
    "subnodeSpec=(lambda i,j:{\"nrows\":j,\"ncols\":i})(*subPlotShape(showOnly,maxCol=4))\n",
    "\n",
    "figMaker =  appFrance.departementFigArrayTSFrame( depIdxIterable = sel,\n",
    "                                        depStats = depStats,\n",
    "                                        allData =  vacAllPanda,\n",
    "                                        subnodeSpec =  subnodeSpec)\n",
    "figMaker( titleStart = 'Data from Data.Gouv.Fr: (large deps)',\n",
    "          xlabelStart = 'Days since',\n",
    "          ylabel = 'Percentage of total population')\n",
    "ImgMgr.save_fig(\"FIG006\")\n"
   ]
  },
  {
   "cell_type": "code",
   "execution_count": null,
   "metadata": {},
   "outputs": [],
   "source": [
    "showOnly=20 \n",
    "sel=depStats.nsmallest(showOnly,'Population totale').index\n",
    "subnodeSpec=(lambda i,j:{\"nrows\":j,\"ncols\":i})(*subPlotShape(showOnly,maxCol=4))\n",
    "\n",
    "figMaker =  appFrance.departementFigArrayTSFrame( depIdxIterable = sel,\n",
    "                                        depStats = depStats,\n",
    "                                        allData =  vacAllPanda,\n",
    "                                        subnodeSpec =  subnodeSpec)\n",
    "figMaker( titleStart = 'Data from Data.Gouv.Fr: (small deps)',\n",
    "          xlabelStart = 'Days since',\n",
    "          ylabel = 'Percentage of total population')\n",
    "ImgMgr.save_fig(\"FIG007\")\n"
   ]
  },
  {
   "cell_type": "markdown",
   "metadata": {},
   "source": [
    "For vaccine coverage, we determine it on last day in table. \n",
    "This implementation requires all departements to have entries for the last day!!\n",
    "\n",
    "First we prepare by getting access to the vaccination rates:"
   ]
  },
  {
   "cell_type": "code",
   "execution_count": null,
   "metadata": {},
   "outputs": [],
   "source": [
    "lastDay=max(vacAllPanda.index.levels[1])\n",
    "vaccAllLast=vacAllPanda.loc[(slice(None),lastDay),:]\n",
    "vRates = vaccAllLast.loc[:, ('n_cum_dose1_rate','n_cum_dose2_rate')]"
   ]
  },
  {
   "cell_type": "code",
   "execution_count": null,
   "metadata": {},
   "outputs": [],
   "source": [
    "showOnly=20 \n",
    "sel1 = vRates.nlargest(showOnly, 'n_cum_dose1_rate').copy()\n",
    "sel  = [ depDict[d] for d in sel1.reset_index(level=0).loc[:,'dep']]\n",
    "\n",
    "subnodeSpec=(lambda i,j:{\"nrows\":j,\"ncols\":i})(*subPlotShape(showOnly,maxCol=4))\n",
    "\n",
    "figMaker =  appFrance.departementFigArrayTSFrame( depIdxIterable = sel,\n",
    "                                        depStats = depStats,\n",
    "                                        allData =  vacAllPanda,\n",
    "                                        subnodeSpec =  subnodeSpec)\n",
    "figMaker( titleStart = 'Data from Data.Gouv.Fr:\\n(best vac. cov. 1 shot)',\n",
    "          xlabelStart = 'Days since',\n",
    "          ylabel = 'Percentage of total population')\n",
    "ImgMgr.save_fig(\"FIG008\")\n"
   ]
  },
  {
   "cell_type": "code",
   "execution_count": null,
   "metadata": {},
   "outputs": [],
   "source": [
    "showOnly=20 \n",
    "sel1 = vRates.nlargest(showOnly, 'n_cum_dose2_rate').copy()\n",
    "sel  = [ depDict[d] for d in sel1.reset_index(level=0).loc[:,'dep']]\n",
    "\n",
    "subnodeSpec=(lambda i,j:{\"nrows\":j,\"ncols\":i})(*subPlotShape(showOnly,maxCol=4))\n",
    "\n",
    "figMaker =  appFrance.departementFigArrayTSFrame( depIdxIterable = sel,\n",
    "                                        depStats = depStats,\n",
    "                                        allData =  vacAllPanda,\n",
    "                                        subnodeSpec =  subnodeSpec)\n",
    "figMaker( titleStart = 'Data from Data.Gouv.Fr:\\n(best vac. cov. 2 shot)',\n",
    "          xlabelStart = 'Days since',\n",
    "          ylabel = 'Percentage of total population')\n",
    "ImgMgr.save_fig(\"FIG009\")\n"
   ]
  },
  {
   "cell_type": "code",
   "execution_count": null,
   "metadata": {
    "scrolled": true
   },
   "outputs": [],
   "source": [
    "showOnly=10 \n",
    "sel1 = vRates.nsmallest(showOnly, 'n_cum_dose1_rate').copy()\n",
    "sel  = [ depDict[d] for d in sel1.reset_index(level=0).loc[:,'dep']]\n",
    "\n",
    "subnodeSpec=(lambda i,j:{\"nrows\":j,\"ncols\":i})(*subPlotShape(showOnly,maxCol=4))\n",
    "\n",
    "figMaker =  appFrance.departementFigArrayTSFrame( depIdxIterable = sel,\n",
    "                                        depStats = depStats,\n",
    "                                        allData =  vacAllPanda,\n",
    "                                        subnodeSpec =  subnodeSpec)\n",
    "figMaker( titleStart = 'Data from Data.Gouv.Fr:\\n(worst vac. cov. 1 shot)',\n",
    "          xlabelStart = 'Days since',\n",
    "          ylabel = 'Percentage of total population')\n",
    "ImgMgr.save_fig(\"FIG010\")\n"
   ]
  },
  {
   "cell_type": "code",
   "execution_count": null,
   "metadata": {},
   "outputs": [],
   "source": [
    "showOnly=10 \n",
    "sel1 = vRates.nsmallest(showOnly, 'n_cum_dose2_rate').copy()\n",
    "sel  = [ depDict[d] for d in sel1.reset_index(level=0).loc[:,'dep']]\n",
    "\n",
    "subnodeSpec=(lambda i,j:{\"nrows\":j,\"ncols\":i})(*subPlotShape(showOnly,maxCol=4))\n",
    "\n",
    "figMaker =  appFrance.departementFigArrayTSFrame( depIdxIterable = sel,\n",
    "                                        depStats = depStats,\n",
    "                                        allData =  vacAllPanda,\n",
    "                                        subnodeSpec =  subnodeSpec)\n",
    "figMaker( titleStart = 'Data from Data.Gouv.Fr:\\n(worst vac. cov. 2 shot)',\n",
    "          xlabelStart = 'Days since',\n",
    "          ylabel = 'Percentage of total population')\n",
    "ImgMgr.save_fig(\"FIG011\")\n"
   ]
  },
  {
   "cell_type": "markdown",
   "metadata": {},
   "source": [
    "### Compare vaccination achievements accross departements"
   ]
  },
  {
   "cell_type": "markdown",
   "metadata": {},
   "source": [
    "<HTML><COLOR:'RED'></HTML>This figure need to be redone <HTML></COLOR></HTML>\n",
    "    as a point cloud, with no xlabels, improved xlabels,\n",
    "or as an X-Y cloud, possibly showing the label at each point (too cluttered?), also look at the graphs we want to make... (rates/population...)"
   ]
  },
  {
   "cell_type": "code",
   "execution_count": null,
   "metadata": {},
   "outputs": [],
   "source": [
    "vrsv=vRates.sort_values('n_cum_dose2_rate').copy()\n",
    "plt=vrsv.plot(title='Percentage population vaccinated' +'\\nper departement',\n",
    "             xlabel=\"departement\")\n",
    "xticks=depStats.loc[[ depDict[x[0]] for x in vrsv.index],'Nom du département']\n",
    "plt.set_xticks(NP.arange(len(xticks)))\n",
    "plt.set_xticklabels(xticks, rotation=90, fontsize=3);\n",
    "ImgMgr.save_fig(\"FIG100\")"
   ]
  },
  {
   "cell_type": "code",
   "execution_count": null,
   "metadata": {},
   "outputs": [],
   "source": [
    "vrsv=vRates.sort_values('n_cum_dose1_rate').copy()\n",
    "plt=vrsv.plot(title='Percentage population vaccinated' +'\\nper departement',\n",
    "              xlabel=\"departement\")\n",
    "xticks=depStats.loc[[ depDict[x[0]] for x in vrsv.index],'Nom du département']\n",
    "plt.set_xticks(NP.arange(len(xticks)))\n",
    "plt.set_xticklabels(xticks, rotation=90, fontsize=3);\n",
    "ImgMgr.save_fig(\"FIG101\")"
   ]
  },
  {
   "cell_type": "code",
   "execution_count": null,
   "metadata": {},
   "outputs": [],
   "source": [
    "vrsv=vRates.sort_values('n_cum_dose2_rate').copy()\n",
    "plt=vrsv.plot(x='n_cum_dose1_rate', \n",
    "              y='n_cum_dose2_rate',\n",
    "              kind='scatter',\n",
    "              title='Percentage population vaccinated' +\n",
    "                    '\\nper departement')\n",
    "ImgMgr.save_fig(\"FIG102\")"
   ]
  },
  {
   "cell_type": "markdown",
   "metadata": {},
   "source": [
    "### Mix vaccine and COVID Data on departemental level"
   ]
  },
  {
   "cell_type": "markdown",
   "metadata": {},
   "source": [
    "##### Load and prepare COVID Data\n",
    "This has been copied from 'COVID-Data-FromGouv(-Later)', postfix 'D' is used to name\n",
    "objects, since they will be used with previously loaded data."
   ]
  },
  {
   "cell_type": "code",
   "execution_count": null,
   "metadata": {},
   "outputs": [],
   "source": [
    "tagset1D = ({\"tag\":\"covid\"}, {\"tag\":\"covid19\"})\n",
    "specOptsD={ 'cacheFname': '.cache.tag-covid.json',\n",
    "           \"dumpMetaFile\" : \"data-gouv-fr.meta.dump\",\n",
    "           \"dumpMetaInfoFile\" : \"data-gouv-fr.metainfo.dump\",\n",
    "           'ApiInq'       : 'datasets',\n",
    "           'ApiInqQuery'  : tagset1D,\n",
    "           'InqParmsDir'  : {},\n",
    "          }\n",
    "rexD = re.compile('(.*sursaud|^donnees-hospitalieres).*')\n",
    "def uselFnD(urqt):\n",
    "                return rexD.match(urqt.fname) or rexD.match(urqt.url)"
   ]
  },
  {
   "cell_type": "code",
   "execution_count": null,
   "metadata": {},
   "outputs": [],
   "source": [
    "dataFileVMgrD = manageAndCacheDataFilesFRAPI(\"../data\", maxDirSz= 170*(2**10)**2,\n",
    "                                            **specOptsD)\n",
    "dataFileVMgrD.getRemoteInfo()\n",
    "dataFileVMgrD.updatePrepare()\n",
    "dataFileVMgrD.updateSelect(displayCount=40 ,  URqtSelector = uselFnD)\n",
    "dataFileVMgrD.cacheUpdate()"
   ]
  },
  {
   "cell_type": "code",
   "execution_count": null,
   "metadata": {},
   "outputs": [],
   "source": [
    "lastD = lambda x: dataFileVMgrD.getRecentVersion(x,default=True)"
   ]
  },
  {
   "cell_type": "code",
   "execution_count": null,
   "metadata": {},
   "outputs": [],
   "source": [
    "print(\"Most recent versions of files in data directory:\")\n",
    "for f in dataFileVMgrD.listMostRecent() :\n",
    "    print(f\"\\t{f}\")"
   ]
  },
  {
   "cell_type": "code",
   "execution_count": null,
   "metadata": {},
   "outputs": [],
   "source": [
    "dailyDepCsv    = lastD(\"sursaud-corona-quot-dep-2021-04-08-21h20.csv\")\n",
    "hospNouveauCsv = lastD(\"donnees-hospitalieres-nouveaux-covid19-2020-04-11-19h00.csv\")\n",
    "adD  = lambda x: \"../data/\"+x\n",
    "data_dailyDep    = read_csvPandas(adD(dailyDepCsv), error_bad_lines=False,sep=\";\")\n",
    "data_hospNouveau = read_csvPandas(adD(hospNouveauCsv), error_bad_lines=False,sep=\";\")"
   ]
  },
  {
   "cell_type": "markdown",
   "metadata": {},
   "source": [
    "We use `nbDaysFilter` for averaging daily data when such filtering is needed.\n",
    "There is a parameter `nbLastDays` above for representing recent data; for avoiding issues with week ends, make this a multiple of 7."
   ]
  },
  {
   "cell_type": "code",
   "execution_count": null,
   "metadata": {},
   "outputs": [],
   "source": [
    "nbDaysFilter=7"
   ]
  },
  {
   "cell_type": "code",
   "execution_count": null,
   "metadata": {},
   "outputs": [],
   "source": [
    "hndDf = data_hospNouveau.set_index( [\"dep\",\"jour\"]).copy()\n",
    "\n",
    "print(f\"hnDf:\\n\\tcolumn names:{hndDf.columns.values}\"\n",
    "      +f\"\\n\\tmulti-index names:{hndDf.index.names}\")"
   ]
  },
  {
   "cell_type": "markdown",
   "metadata": {},
   "source": [
    "Check that in this table, all departements use same set of dates, and store it in `hndDateList`:"
   ]
  },
  {
   "cell_type": "code",
   "execution_count": null,
   "metadata": {},
   "outputs": [],
   "source": [
    "hndDfG=hndDf.groupby(['dep'])\n",
    "hndDateList=None\n",
    "for dep in hndDfG:\n",
    "    gg=hndDfG.get_group(dep[0]).copy()\n",
    "    if hndDateList is None:\n",
    "        hndDateList=gg.reset_index('jour')['jour'].values\n",
    "    else:\n",
    "        assert  (hndDateList ==  gg.reset_index('jour')['jour'].values).all()"
   ]
  },
  {
   "cell_type": "markdown",
   "metadata": {},
   "source": [
    "Now, we run the same process for the `data_dailyDep` frame! \n",
    "*But there is an issue here!*"
   ]
  },
  {
   "cell_type": "code",
   "execution_count": null,
   "metadata": {},
   "outputs": [],
   "source": [
    "dDf=data_dailyDep\n",
    "dDfTypes=set( dDf.loc[:,'dep'].apply(type))\n",
    "print(f\"column 'dep' contains data with types {dDfTypes}\")\n",
    "for t in dDfTypes:\n",
    "    cc = dDf.loc[:,'dep'].apply(lambda x: isinstance(x,t))\n",
    "    print(f\"Count of {t} :  {cc.sum()}\")\n",
    "set(dDf.loc[:,'dep'].values)\n",
    "def cvFun(x):\n",
    "    if isinstance(x,int):\n",
    "        return f\"{x:02d}\"\n",
    "    return x\n",
    "depColAsStr=dDf.loc[:,'dep'].apply(cvFun)"
   ]
  },
  {
   "cell_type": "code",
   "execution_count": null,
   "metadata": {},
   "outputs": [],
   "source": [
    "for x in set(depColAsStr.values):\n",
    "    if x not in depDict:\n",
    "        print(f\"There is a departement code not in depDict:{x}\")"
   ]
  },
  {
   "cell_type": "markdown",
   "metadata": {},
   "source": [
    "We correct the table nevertheless, and hope for the best(?)"
   ]
  },
  {
   "cell_type": "code",
   "execution_count": null,
   "metadata": {},
   "outputs": [],
   "source": [
    "dDf.loc[:,'dep'] = depColAsStr"
   ]
  },
  {
   "cell_type": "code",
   "execution_count": null,
   "metadata": {},
   "outputs": [],
   "source": [
    "dDf=data_dailyDep.set_index([\"dep\",\"sursaud_cl_age_corona\",'date_de_passage'] ).copy()\n",
    "\n",
    "print(f\"dDf:\\n\\tcolumn names:{dDf.columns.values}\"\n",
    "      +f\"\\n\\tmulti-index names:{dDf.index.names}\")"
   ]
  },
  {
   "cell_type": "markdown",
   "metadata": {},
   "source": [
    "This is a check that all departement's data are relative the same dates! Seems\n",
    "weird, but this has permitted to diagnose that there was a mix of integer and string\n",
    "data in the \"dep\" column (string needed because of Corsica 2A and 2B codes!!!)"
   ]
  },
  {
   "cell_type": "code",
   "execution_count": null,
   "metadata": {},
   "outputs": [],
   "source": [
    "dDfG=dDf.groupby(['dep', \"sursaud_cl_age_corona\"])\n",
    "dDateList=None\n",
    "for dep in dDfG:\n",
    "    gg=dDfG.get_group(dep[0]).copy().reset_index('date_de_passage')['date_de_passage'].values\n",
    "    if dDateList is None:\n",
    "        dDateList=gg\n",
    "    else:\n",
    "        if len(gg)!= len (dDateList):\n",
    "            print(f\"Different number of dates for dep={dep[0]}; was:{len(dDateList)}\"+\n",
    "                  f\" This one: {len(gg)}\")\n"
   ]
  },
  {
   "cell_type": "markdown",
   "metadata": {},
   "source": [
    "#### Extract last days values\n",
    "Last days values are averaged over a period of time, as parametrized\n",
    "by `nbDaysFilter`, and this is represented in `hndLDays`. \n",
    "For now, we are using the data from \n",
    "`donnees-hospitalieres-nouveaux-covid19.*` (`hndDf`); this is consistent with\n",
    "per departement graphs in `COVID-Data-FromGouv-Later`."
   ]
  },
  {
   "cell_type": "code",
   "execution_count": null,
   "metadata": {},
   "outputs": [],
   "source": [
    "display(hndDf.describe())\n",
    "display(dDf.describe())"
   ]
  },
  {
   "cell_type": "code",
   "execution_count": null,
   "metadata": {},
   "outputs": [],
   "source": [
    "hndDfG=hndDf.groupby('dep')\n",
    "dataAsDict={}\n",
    "for (dep,depTb) in hndDfG:\n",
    "    #print(f\"dep={dep} {depTb.shape}\")\n",
    "    ll = depTb.iloc[-nbDaysFilter:, :]\n",
    "    llm = ll.mean()\n",
    "    dataAsDict[dep] = llm\n",
    "    #print(f\"{llm}\")\n",
    "hndLDays=PAN.DataFrame.from_dict(dataAsDict, orient='index')"
   ]
  },
  {
   "cell_type": "code",
   "execution_count": null,
   "metadata": {},
   "outputs": [],
   "source": [
    "vlday=hndLDays.sort_values('incid_hosp').copy()\n",
    "plt=vlday.plot(title='Incidence per day (avg. last.)' +'\\nper departement',\n",
    "             xlabel=\"departement\")\n",
    "# the 'get' here allows a (bad) treatment of Mayotte (976)\n",
    "xticks=depStats.loc[[ depDict.get(x,0) for x in vlday.index],'Nom du département']\n",
    "plt.set_xticks(NP.arange(len(xticks)))\n",
    "plt.set_xticklabels(xticks, rotation=90, fontsize=3)\n",
    "ImgMgr.save_fig(\"FIG200\")"
   ]
  },
  {
   "cell_type": "code",
   "execution_count": null,
   "metadata": {},
   "outputs": [],
   "source": [
    "vlday=hndLDays.sort_values('incid_dc').copy()\n",
    "plt=vlday.plot(title='Incidence per day (avg. last.)' +'\\nper departement',\n",
    "             xlabel=\"departement\")\n",
    "# the 'get' here allows a (bad) treatment of Mayotte (976)\n",
    "xticks=depStats.loc[[ depDict.get(x,0) for x in vlday.index],'Nom du département']\n",
    "plt.set_xticks(NP.arange(len(xticks)))\n",
    "plt.set_xticklabels(xticks, rotation=90, fontsize=3)\n",
    "ImgMgr.save_fig(\"FIG201\")"
   ]
  },
  {
   "cell_type": "markdown",
   "metadata": {},
   "source": [
    "#### Prepare and Merge data \n",
    "\n",
    "Here we want to merge with other data:\n",
    "- need population count in the various territories\n",
    "- need vaccination data\n",
    "\n",
    "First, we embark on getting vaccination data averaged over the last `nbDaysFilter`\n",
    "days; the dates are listed in `lastDays`.\n",
    "\n",
    "A quite comprehensive treatment of selection with multi-indices appears in\n",
    "https://stackoverflow.com/questions/53927460/select-rows-in-pandas-multiindex-dataframe . All considered, I decide to use selection with a binary mask built over the index:"
   ]
  },
  {
   "cell_type": "code",
   "execution_count": null,
   "metadata": {},
   "outputs": [],
   "source": [
    "v=vacDepf.set_index([\"vaccin\", \"dep\", \"jour\"]).loc[0, slice(None),slice(None)]\n",
    "try:\n",
    "    lastDays=v.loc[\"01\"].index.values[-nbDaysFilter:]\n",
    "except KeyError as err:\n",
    "    print(f\"using dep. selector '01': error {type(err)}:{err}\\n\\ttrying '1'\", \n",
    "          file=sys.stderr)\n",
    "    lastDays=v.loc[\"1\"].index.values[-nbDaysFilter:]\n",
    "\n",
    "print(f\"list of lastDays: {lastDays}\")\n",
    "assert len(lastDays) == nbDaysFilter"
   ]
  },
  {
   "cell_type": "code",
   "execution_count": null,
   "metadata": {},
   "outputs": [],
   "source": [
    "v.loc[\"1\"]"
   ]
  },
  {
   "cell_type": "code",
   "execution_count": null,
   "metadata": {},
   "outputs": [],
   "source": [
    "vSelLast=v[v.index.get_level_values('jour').map(lambda x: x in lastDays)]\n",
    "print(f\"vSelLast has\\tshape={vSelLast.shape},\"\n",
    "      +f\"\\n\\t\\tnb departement chunks:{vSelLast.shape[0] / nbDaysFilter}\")"
   ]
  },
  {
   "cell_type": "markdown",
   "metadata": {},
   "source": [
    "For each département:\n",
    "- we compute averages over `nbDaysFilter` last days for the vaccine delivery, which needs low pass filtering to avoid day to day variation and systematic variation on week ends\n",
    "- use vaccine cumulative data from the last day, since it is already a summation."
   ]
  },
  {
   "cell_type": "code",
   "execution_count": null,
   "metadata": {},
   "outputs": [],
   "source": [
    "vSelLastG=vSelLast.groupby('dep')\n",
    "dataAsDict={}\n",
    "for (dep,depTb) in vSelLastG:\n",
    "    ll = depTb.iloc[-nbDaysFilter:, :]\n",
    "    llm = ll.mean()\n",
    "    for c in (\"n_cum_dose1\",\"n_cum_dose2\"):\n",
    "        llm[c] = depTb.iloc[-1:, :].loc[:,c]\n",
    "    dataAsDict[dep] = llm\n",
    "vacDepAvg=PAN.DataFrame.from_dict(dataAsDict, orient='index')"
   ]
  },
  {
   "cell_type": "code",
   "execution_count": null,
   "metadata": {
    "scrolled": true
   },
   "outputs": [],
   "source": [
    "vacDepAvg"
   ]
  },
  {
   "cell_type": "markdown",
   "metadata": {},
   "source": [
    "Codes **missing** in `depDict` (it was loaded from Data originating at Insee??!!, **Check**)\n",
    "- 975 : St Pierre et Miquelon\n",
    "- 976 : Mayotte\n",
    "- 977 : St Barthelemy\n",
    "- 978 : St Martin"
   ]
  },
  {
   "cell_type": "markdown",
   "metadata": {},
   "source": [
    "Now, we embark on merging..\n",
    "- `vacDepAvg` : vaccination average over last days\n",
    "- `hndLDays`  : incidence average over last days\n",
    "- `depStats`  : population statistics (with some missing entries!!)\n",
    "\n"
   ]
  },
  {
   "cell_type": "code",
   "execution_count": null,
   "metadata": {
    "scrolled": true
   },
   "outputs": [],
   "source": [
    "depStatIdx=depStats.copy().set_index('dep')\n",
    "depStatIdx"
   ]
  },
  {
   "cell_type": "markdown",
   "metadata": {},
   "source": [
    "Now we need to use a 3 way merge of indexed data in `depStatIdx`, `hndLDays` and `vacDepAvg`"
   ]
  },
  {
   "cell_type": "code",
   "execution_count": null,
   "metadata": {},
   "outputs": [],
   "source": [
    "def substFirstColname(tble,name):\n",
    "    l = [name]\n",
    "    l.extend(tble.columns.values[1:])\n",
    "    tble.columns=l"
   ]
  },
  {
   "cell_type": "code",
   "execution_count": null,
   "metadata": {},
   "outputs": [],
   "source": [
    "t1=depStatIdx.reset_index()\n",
    "t2=hndLDays.reset_index()\n",
    "t3=vacDepAvg.reset_index()\n",
    "substFirstColname(t2,\"dep\")\n",
    "substFirstColname(t3,\"dep\")"
   ]
  },
  {
   "cell_type": "code",
   "execution_count": null,
   "metadata": {},
   "outputs": [],
   "source": [
    "vacM1 = PAN.merge(t1, t2, on=\"dep\" ) \n",
    "vacDepMerged=PAN.merge(vacM1, t3, on=\"dep\" ) \n",
    "vacGrMerged=vacMerged.groupby([\"dep\",\"jour\",\"vaccin\"]).sum()"
   ]
  },
  {
   "cell_type": "markdown",
   "metadata": {},
   "source": [
    "Depending on the data we compute occurrences per million population or as percentage of population."
   ]
  },
  {
   "cell_type": "code",
   "execution_count": null,
   "metadata": {},
   "outputs": [],
   "source": [
    "colLabs = ( 'incid_hosp', 'incid_rea', 'incid_dc', 'incid_rad',\n",
    "            'n_dose1', 'n_dose2', \n",
    "           'n_cum_dose1', 'n_cum_dose2')\n",
    "for lab in colLabs[:6]:\n",
    "    vacDepMerged[lab+\"_perM\"] = vacDepMerged[lab]/vacDepMerged[\"Population totale\"]*1.0e6\n",
    "for lab in colLabs[6:]:\n",
    "    vacDepMerged[lab+\"_perC\"] = vacDepMerged[lab]/vacDepMerged[\"Population totale\"]*100    \n"
   ]
  },
  {
   "cell_type": "code",
   "execution_count": null,
   "metadata": {},
   "outputs": [],
   "source": [
    "print(vacDepMerged.describe().loc[\"mean\",:].iloc[2:])"
   ]
  },
  {
   "cell_type": "code",
   "execution_count": null,
   "metadata": {},
   "outputs": [],
   "source": [
    "vd=vacDepMerged.describe().loc[['mean','std']]\n",
    "for c in vd.columns[2:]:\n",
    "    print(f\"{c:20s} mean={vd.loc['mean',c]:7.2e}\\tstd={vd.loc['std',c]:7.2e}\")"
   ]
  },
  {
   "cell_type": "markdown",
   "metadata": {},
   "source": [
    "#### Analyse and make graphics"
   ]
  },
  {
   "cell_type": "code",
   "execution_count": null,
   "metadata": {},
   "outputs": [],
   "source": [
    "vacDepMerged"
   ]
  },
  {
   "cell_type": "code",
   "execution_count": null,
   "metadata": {
    "scrolled": true
   },
   "outputs": [],
   "source": [
    "vrsv = vacDepMerged.copy()\n",
    "vrsv=vrsv.sort_values('incid_dc_perM').copy()\n",
    "vrsv.loc[:,'xpos'] = list(range(vrsv.shape[0]))\n",
    "\n",
    "plt=vrsv.plot(title='Daily deaths per Million people' +'\\nper departement',\n",
    "             xlabel=\"departement\",\n",
    "             kind='scatter',\n",
    "             x='xpos',\n",
    "             y='incid_dc_perM')\n",
    "\n",
    "xticks=depStats.loc[ : ,'Nom du département'].iloc[vrsv.index]\n",
    "plt.set_xticks(NP.arange(len(xticks)))\n",
    "plt.set_xticklabels(xticks, rotation=90, fontsize=3);\n",
    "ImgMgr.save_fig(\"FIG110\")"
   ]
  },
  {
   "cell_type": "code",
   "execution_count": null,
   "metadata": {
    "scrolled": true
   },
   "outputs": [],
   "source": [
    "vrsv = vacDepMerged.copy()\n",
    "vrsv=vrsv.sort_values('incid_hosp_perM').copy()\n",
    "vrsv.loc[:,'xpos'] = list(range(vrsv.shape[0]))\n",
    "\n",
    "plt=vrsv.plot(title='Daily hospitalizations per Million people' +'\\nper departement',\n",
    "             xlabel=\"departement\",\n",
    "             kind='scatter',\n",
    "             x='xpos',\n",
    "             y='incid_hosp_perM')\n",
    "\n",
    "xticks=depStats.loc[ : ,'Nom du département'].iloc[vrsv.index]\n",
    "plt.set_xticks(NP.arange(len(xticks)))\n",
    "plt.set_xticklabels(xticks, rotation=90, fontsize=3);\n",
    "ImgMgr.save_fig(\"FIG111\")"
   ]
  },
  {
   "cell_type": "code",
   "execution_count": null,
   "metadata": {
    "scrolled": false
   },
   "outputs": [],
   "source": [
    "vrsv = vacDepMerged.copy()\n",
    "vrsv=vrsv.sort_values('incid_rea_perM').copy()\n",
    "vrsv.loc[:,'xpos'] = list(range(vrsv.shape[0]))\n",
    "\n",
    "plt=vrsv.plot(title='Daily ICU entries per Million people' +'\\nper departement',\n",
    "             xlabel=\"departement\",\n",
    "             kind='scatter',\n",
    "             x='xpos',\n",
    "             y='incid_rea_perM')\n",
    "\n",
    "xticks=depStats.loc[ : ,'Nom du département'].iloc[vrsv.index]\n",
    "plt.set_xticks(NP.arange(len(xticks)))\n",
    "plt.set_xticklabels(xticks, rotation=90, fontsize=3);\n",
    "ImgMgr.save_fig(\"FIG112\")"
   ]
  },
  {
   "cell_type": "code",
   "execution_count": null,
   "metadata": {},
   "outputs": [],
   "source": []
  },
  {
   "cell_type": "markdown",
   "metadata": {},
   "source": [
    "Matplotlib parametrization:\n",
    "- Use more `matplotlib`related `kwargs`. \n",
    "- We use a color which conveys information about the departement's population.\n",
    "- Adopt a common coloring scheme\n",
    "- Set size of scatterplot markers"
   ]
  },
  {
   "cell_type": "code",
   "execution_count": null,
   "metadata": {},
   "outputs": [],
   "source": [
    "colormap = cm.get_cmap('brg', 32)\n",
    "\n",
    "vdm=vacDepMerged\n",
    "popRel=vdm.loc[:,'Population totale'] / max(vdm.loc[:,'Population totale'])\n",
    "colors=colormap(popRel)\n",
    "size = 2+150*popRel.map(sqrt)\n",
    "alpha=0.5"
   ]
  },
  {
   "cell_type": "code",
   "execution_count": null,
   "metadata": {},
   "outputs": [],
   "source": [
    "vdm=vacDepMerged\n",
    "plt=vdm.plot( x='incid_hosp_perM', \n",
    "              y='n_cum_dose2_perC',\n",
    "              s= size, c=colors, alpha=alpha,\n",
    "              kind='scatter',\n",
    "              title='Hospitalization/Vaccination(dose2)' +\n",
    "                    '\\nper departement')\n",
    "ImgMgr.save_fig(\"FIG210\")"
   ]
  },
  {
   "cell_type": "code",
   "execution_count": null,
   "metadata": {},
   "outputs": [],
   "source": [
    "vdm=vacDepMerged\n",
    "plt=vdm.plot( x='incid_hosp_perM', \n",
    "              y='n_cum_dose1_perC',\n",
    "              s= size, c=colors, alpha=alpha,\n",
    "              kind='scatter',\n",
    "              title='Hospitalization/Vaccination(dose1)' +\n",
    "                    '\\nper departement')\n",
    "ImgMgr.save_fig(\"FIG211\")"
   ]
  },
  {
   "cell_type": "code",
   "execution_count": null,
   "metadata": {},
   "outputs": [],
   "source": [
    "vdm=vacDepMerged\n",
    "plt=vdm.plot( x='incid_rea_perM', \n",
    "              y='n_cum_dose1_perC',\n",
    "              s= size, c=colors, alpha=alpha,\n",
    "              kind='scatter',\n",
    "              title='ICU/Vaccination(dose1)' +\n",
    "                    '\\nper departement')\n",
    "ImgMgr.save_fig(\"FIG212\")"
   ]
  },
  {
   "cell_type": "code",
   "execution_count": null,
   "metadata": {},
   "outputs": [],
   "source": [
    "vdm=vacDepMerged\n",
    "plt=vdm.plot( x='incid_dc_perM', \n",
    "              y='n_cum_dose1_perC',\n",
    "              s= size, c=colors, alpha=alpha,\n",
    "              kind='scatter',\n",
    "              title='Deaths/Vaccination(dose1)' +\n",
    "                    '\\nper departement')\n",
    "ImgMgr.save_fig(\"FIG213\")"
   ]
  },
  {
   "cell_type": "code",
   "execution_count": null,
   "metadata": {},
   "outputs": [],
   "source": [
    "vdm=vacDepMerged\n",
    "plt=vdm.plot( x='incid_dc_perM', \n",
    "              y='n_cum_dose2_perC',\n",
    "              s= size, c=colors, alpha=alpha,\n",
    "              kind='scatter',\n",
    "              title='Deaths/Vaccination(dose2)' +\n",
    "                    '\\nper departement')\n",
    "ImgMgr.save_fig(\"FIG214\")"
   ]
  },
  {
   "cell_type": "markdown",
   "metadata": {},
   "source": [
    "May be it is clearer in 3D!"
   ]
  },
  {
   "cell_type": "raw",
   "metadata": {},
   "source": [
    "nbClusters=4\n",
    "vdm=vacDepMerged\n",
    "figAdaptKM = FHelp.FigAdapter_KMeans(fitdata = vdm, nbClusters = nbClusters)\n",
    "figSc3D = FHelp.FigFrom3DScatterPlot( adapter = figAdaptKM, data = vdm)\n",
    "\n",
    "            # this fits the data and prepares the figure\n",
    "figSc3D( xcol=\"incid_dc_perM\",\n",
    "         ycol=\"n_cum_dose2_perC\", \n",
    "         zcol='Population totale')\n",
    "#PLT.show() #if needed             "
   ]
  },
  {
   "cell_type": "raw",
   "metadata": {},
   "source": [
    "## Older version\n",
    "\n",
    "vdm=vacDepMerged\n",
    "fig, ax1 = PLT.subplots(figsize=(8,8))\n",
    "ax = fig.add_subplot(1, 1, 1, projection='3d')\n",
    "\n",
    "x=vdm.loc[:,\"incid_dc_perM\"]\n",
    "y=vdm.loc[:,\"n_cum_dose2_perC\"]\n",
    "z=popRel\n",
    "\n",
    "ax.scatter(x, y, z, c = colors, \n",
    "              s = 2*size, marker=\"o\")\n",
    "\n",
    "ax.set_xlabel('Death per Million per Day')\n",
    "ax.set_ylabel('Dose2 percentage')\n",
    "ax.set_zlabel('Population relative max')\n",
    "ImgMgr.save_fig(\"FIG215\")"
   ]
  },
  {
   "cell_type": "markdown",
   "metadata": {},
   "source": [
    "Explore `seaborn`: https://seaborn.pydata.org/examples/index.html\n",
    "- https://seaborn.pydata.org/examples/joint_kde.html\n",
    "- https://seaborn.pydata.org/examples/marginal_ticks.html\n",
    "- https://seaborn.pydata.org/examples/multiple_bivariate_kde.html  **\n",
    "\n",
    "Concerning KDE plots:\n",
    "- https://seaborn.pydata.org/generated/seaborn.kdeplot.html#seaborn.kdeplot\n",
    "- https://seaborn.pydata.org/tutorial/distributions.html#tutorial-kde ** attempt this!!"
   ]
  },
  {
   "cell_type": "code",
   "execution_count": null,
   "metadata": {},
   "outputs": [],
   "source": [
    "vdm=vacDepMerged\n",
    "fig, ax1 = PLT.subplots(1,1,figsize=(8,4))\n",
    "SNS.kdeplot(data=vdm, x=\"incid_dc_perM\", y=\"n_cum_dose2_perC\", \n",
    "              ax=ax1)\n",
    "plt=vdm.plot( x='incid_dc_perM', \n",
    "              y='n_cum_dose2_perC',\n",
    "              s= size.values, c=colors, alpha=alpha,\n",
    "              kind='scatter',\n",
    "              title='Deaths/Vaccination(dose2)' +\n",
    "                    '\\nper departement',\n",
    "               ax=ax1)\n",
    "\n",
    "ImgMgr.save_fig(\"FIG220\")"
   ]
  },
  {
   "cell_type": "markdown",
   "metadata": {},
   "source": [
    "This requires to **cut along the x axis!!**"
   ]
  },
  {
   "cell_type": "markdown",
   "metadata": {},
   "source": [
    "#### Regression analysis\n",
    "For the following, regression analysis is interesting!!"
   ]
  },
  {
   "cell_type": "code",
   "execution_count": null,
   "metadata": {},
   "outputs": [],
   "source": [
    "vdm=vacDepMerged\n",
    "fig, ax1 = PLT.subplots(1,1,figsize=(8,4))\n",
    "\n",
    "SNS.regplot(data=vdm, x=\"incid_dc_perM\", y=\"incid_rea_perM\", \n",
    "            truncate=True, robust=True, scatter = False, ax=ax1)\n",
    "              \n",
    "plt=vdm.plot( x='incid_dc_perM', \n",
    "              y='incid_rea_perM',\n",
    "              s= size.values, c=colors, alpha=alpha,\n",
    "              kind='scatter',\n",
    "              title='Deaths/ICU' +\n",
    "                    '\\nper departement',\n",
    "               ax=ax1)\n",
    "\n",
    "ImgMgr.save_fig(\"FIG230\")"
   ]
  },
  {
   "cell_type": "code",
   "execution_count": null,
   "metadata": {},
   "outputs": [],
   "source": [
    "vdm=vacDepMerged\n",
    "fig, ax1 = PLT.subplots(1,1,figsize=(8,4))\n",
    "\n",
    "SNS.regplot(data=vdm, x=\"incid_hosp_perM\", y=\"incid_rea_perM\", \n",
    "            scatter= False, robust=True,\n",
    "            truncate=True, ax=ax1)\n",
    "              \n",
    "plt=vdm.plot( x='incid_hosp_perM', \n",
    "              y='incid_rea_perM',\n",
    "              s= size.values, c=colors, alpha=alpha,\n",
    "              kind='scatter',\n",
    "              title='Hospitalization/ICU' +\n",
    "                    '\\nper departement',\n",
    "               ax=ax1)\n",
    "\n",
    "ImgMgr.save_fig(\"FIG231\")"
   ]
  },
  {
   "cell_type": "code",
   "execution_count": null,
   "metadata": {},
   "outputs": [],
   "source": [
    "vdm=vacDepMerged\n",
    "fig, ax1 = PLT.subplots(1,1,figsize=(8,4))\n",
    "\n",
    "SNS.regplot(data=vdm, x=\"incid_hosp_perM\", y=\"incid_dc_perM\", \n",
    "            truncate=True, robust=True, ax=ax1, scatter=False)\n",
    "              \n",
    "plt=vdm.plot( x='incid_hosp_perM', \n",
    "              y='incid_dc_perM',\n",
    "              s= size.values, c=colors, alpha=alpha,\n",
    "              kind='scatter',\n",
    "              title='Hospitalization/Deaths' +\n",
    "                    '\\nper departement',\n",
    "               ax=ax1)\n",
    "\n",
    "ImgMgr.save_fig(\"FIG232\")"
   ]
  },
  {
   "cell_type": "markdown",
   "metadata": {},
   "source": [
    "#### Scikit and classification\n",
    "\n",
    "Let's start with a $k$-means classifier. Actually, seems that most issues lie selecting adequate weights for the features.... Maybe other parameters may be also of interest.\n",
    "\n",
    "Using explicit names for index selection makes this more robust, as columns are being added to the data (from the data collection site)."
   ]
  },
  {
   "cell_type": "code",
   "execution_count": null,
   "metadata": {},
   "outputs": [],
   "source": [
    "nbClusters=4\n",
    "\n",
    "colListA = list( list(vacDepMerged.columns).index(s) for s in ('incid_hosp_perM', 'incid_rea_perM', 'incid_dc_perM', 'incid_rad_perM',\n",
    "       'n_dose1_perM', 'n_dose2_perM', 'n_cum_dose1_perC', 'n_cum_dose2_perC'))\n",
    "colListB = list( list( vacDepMerged.columns).index(s) for s in ('incid_hosp_perM', 'incid_rea_perM', 'incid_dc_perM', 'incid_rad_perM',\n",
    "       'n_cum_dose1_perC', 'n_cum_dose2_perC'))"
   ]
  },
  {
   "cell_type": "markdown",
   "metadata": {},
   "source": [
    "Output the result of the classification... and see"
   ]
  },
  {
   "cell_type": "code",
   "execution_count": null,
   "metadata": {
    "scrolled": true
   },
   "outputs": [],
   "source": [
    "vdm=vacDepMerged.iloc[:,colListA]\n",
    "print(f\"Features considered:{vdm.columns.values}\")\n",
    "\n",
    "\n",
    "k_means = cluster.KMeans(n_clusters=nbClusters)\n",
    "k_means.fit(vdm)\n",
    "kolors=colormap((1+k_means.labels_)/(nbClusters+2))\n",
    "\n",
    "vdm1=vacDepMerged\n",
    "fig, ax1 = PLT.subplots(1,1,figsize=(8,4))\n",
    "\n",
    "SNS.regplot(data=vdm1, x=\"incid_hosp_perM\", y=\"incid_rea_perM\", \n",
    "            scatter= False, robust=True,\n",
    "            truncate=True, ax=ax1)\n",
    "              \n",
    "plt=vdm1.plot( x='incid_hosp_perM', \n",
    "              y='incid_rea_perM',\n",
    "              s= size.values, c=kolors, alpha=alpha,\n",
    "              kind='scatter',\n",
    "              title='Hospitalization/ICU' +\n",
    "                    '\\nper departement',\n",
    "               ax=ax1)\n",
    "\n",
    "ImgMgr.save_fig(\"FIG250\")\n",
    "\n",
    "vdm2=vacDepMerged\n",
    "fig, ax1 = PLT.subplots(figsize=(8,8))\n",
    "ax = fig.add_subplot(1, 1, 1, projection='3d')\n",
    "\n",
    "x=vdm2.loc[:,\"incid_dc_perM\"]\n",
    "y=vdm2.loc[:,\"n_cum_dose2_perC\"]\n",
    "z=popRel\n",
    "\n",
    "ax.scatter(x, y, z, c = kolors,s = 2*size, marker=\"o\")\n",
    "\n",
    "ax.set_xlabel('Death per Million per Day')\n",
    "ax.set_ylabel('Dose2 percentage')\n",
    "ax.set_zlabel('Population relative max')\n",
    "ImgMgr.save_fig(\"FIG251\")"
   ]
  },
  {
   "cell_type": "code",
   "execution_count": null,
   "metadata": {},
   "outputs": [],
   "source": [
    "vdm=vacDepMerged.iloc[:,colListB]\n",
    "print(f\"Features considered:{vdm.columns.values}\")\n",
    "\n",
    "k_means = cluster.KMeans(n_clusters=nbClusters)\n",
    "k_means.fit(vdm)\n",
    "kolors=colormap((1+k_means.labels_)/(nbClusters+2))\n",
    "\n",
    "vdm1=vacDepMerged\n",
    "fig, ax1 = PLT.subplots(1,1,figsize=(8,4))\n",
    "\n",
    "SNS.regplot(data=vdm1, x=\"incid_hosp_perM\", y=\"incid_rea_perM\", \n",
    "            scatter= False, robust=True,\n",
    "            truncate=True, ax=ax1)\n",
    "              \n",
    "plt=vdm1.plot( x='incid_hosp_perM', \n",
    "              y='incid_rea_perM',\n",
    "              s= size.values, c=kolors, alpha=alpha,\n",
    "              kind='scatter',\n",
    "              title='Hospitalization/ICU' +\n",
    "                    '\\nper departement',\n",
    "               ax=ax1)\n",
    "\n",
    "ImgMgr.save_fig(\"FIG252\")"
   ]
  },
  {
   "cell_type": "code",
   "execution_count": null,
   "metadata": {
    "scrolled": true
   },
   "outputs": [],
   "source": [
    "lmeans=[]\n",
    "for i in range(nbClusters):\n",
    "    mm=vdm.loc[k_means.labels_==i,:].mean()\n",
    "    lmeans.append(mm)\n",
    "meansDf= PAN.DataFrame(lmeans)"
   ]
  },
  {
   "cell_type": "code",
   "execution_count": null,
   "metadata": {},
   "outputs": [],
   "source": [
    "display(\"Averages per cluster\", meansDf)"
   ]
  },
  {
   "cell_type": "markdown",
   "metadata": {},
   "source": [
    "Now redo this with helper classes from `lib`. Also, using explicit names for index selection makes this more robust, as columns are being added to the data (from the data collection site)."
   ]
  },
  {
   "cell_type": "code",
   "execution_count": null,
   "metadata": {},
   "outputs": [],
   "source": [
    "nbClusters=4\n",
    "colListA = list( list(vacDepMerged.columns).index(s) for s in ('incid_hosp_perM', 'incid_rea_perM', 'incid_dc_perM', 'incid_rad_perM',\n",
    "       'n_dose1_perM', 'n_dose2_perM', 'n_cum_dose1_perC', 'n_cum_dose2_perC'))\n",
    "colListB = list( list( vacDepMerged.columns).index(s) for s in ('incid_hosp_perM', 'incid_rea_perM', 'incid_dc_perM', 'incid_rad_perM',\n",
    "       'n_cum_dose1_perC', 'n_cum_dose2_perC'))"
   ]
  },
  {
   "cell_type": "code",
   "execution_count": null,
   "metadata": {},
   "outputs": [],
   "source": [
    "vdm1=vacDepMerged.iloc[:,colListB]\n",
    "figAdaptKM = FigAdapter_KMeans(fitdata = vdm1, nbClusters = nbClusters)\n",
    "figFromRegress= FHelp.FigFromRegressionPlot( adapter = figAdaptKM, data = vdm1)\n",
    "\n",
    "# this fits the data and prepares the figure\n",
    "figFromRegress(xcol=\"incid_dc_perM\",\n",
    "                ycol= \"incid_rea_perM\",\n",
    "                title=\"ICU/Death per Million\")"
   ]
  },
  {
   "cell_type": "code",
   "execution_count": null,
   "metadata": {},
   "outputs": [],
   "source": [
    "vdm1=vacDepMerged.iloc[:,colListA]\n",
    "figAdaptKM = FigAdapter_KMeans(fitdata = vdm1, nbClusters = nbClusters)\n",
    "figFromRegress= FHelp.FigFromRegressionPlot( adapter = figAdaptKM, data = vdm1)\n",
    "\n",
    "# this fits the data and prepares the figure\n",
    "figFromRegress(xcol=\"incid_dc_perM\",\n",
    "                ycol= \"incid_hosp_perM\",\n",
    "                title=\"Hospitalizations/Death per Million\")"
   ]
  },
  {
   "cell_type": "code",
   "execution_count": null,
   "metadata": {},
   "outputs": [],
   "source": []
  }
 ],
 "metadata": {
  "kernelspec": {
   "display_name": "Python 3",
   "language": "python",
   "name": "python3"
  },
  "language_info": {
   "codemirror_mode": {
    "name": "ipython",
    "version": 3
   },
   "file_extension": ".py",
   "mimetype": "text/x-python",
   "name": "python",
   "nbconvert_exporter": "python",
   "pygments_lexer": "ipython3",
   "version": "3.9.4"
  }
 },
 "nbformat": 4,
 "nbformat_minor": 2
}
