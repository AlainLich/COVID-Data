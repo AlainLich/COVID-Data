{
 "cells": [
  {
   "cell_type": "markdown",
   "metadata": {},
   "source": [
    "#  Simple tool to analyze data from https://data.europa.eu/\n",
    "\n",
    "The EU Open Data Portal (EU ODP) aims to encourage the use of EU datasets for building third-party applications.\n",
    "\n",
    "**Notes:** \n",
    "1. This is a Jupyter notebook which is also available as its executable export as a Python 3 script (therefore with automatically generated comments).\n",
    "2. This version adapts to a significant change in format occurring early 2021: data was kept daily until 14 Dec 2020 and weekly thereafter. \n",
    "3. The update corresponding to the change in data format is expected around April 15th, 2021 ...*  since I became aware of this change rather late*."
   ]
  },
  {
   "cell_type": "markdown",
   "metadata": {},
   "source": [
    "# Libraries"
   ]
  },
  {
   "cell_type": "code",
   "execution_count": null,
   "metadata": {},
   "outputs": [],
   "source": [
    "# Sys import\n",
    "import sys, os, re\n",
    "# Common imports\n",
    "import math\n",
    "import numpy             as NP\n",
    "import numpy.random      as RAND\n",
    "import scipy.stats       as STATS\n",
    "from scipy import sparse\n",
    "from scipy import linalg\n",
    "\n",
    "# Better formatting functions\n",
    "from IPython.display import display, HTML\n",
    "from IPython import get_ipython\n",
    "\n",
    "import matplotlib        as MPL\n",
    "import matplotlib.pyplot as PLT\n",
    "import seaborn as SNS\n",
    "SNS.set(font_scale=1)\n",
    "\n",
    "# Python programming\n",
    "from itertools import cycle\n",
    "from time import time\n",
    "import datetime\n",
    "\n",
    "# Using pandas\n",
    "import pandas as PAN\n",
    "import xlrd\n",
    "import numpy as NP"
   ]
  },
  {
   "cell_type": "code",
   "execution_count": null,
   "metadata": {
    "scrolled": true
   },
   "outputs": [],
   "source": [
    "import warnings\n",
    "warnings.filterwarnings('ignore')\n",
    "print(\"For now, reduce python warnings, I will look into this later\")"
   ]
  },
  {
   "cell_type": "markdown",
   "metadata": {},
   "source": [
    "### Import my own modules\n",
    "The next cell attempts to give user some information if things improperly setup.\n",
    "Intended to work both in Jupyter and when executing the Python file directly."
   ]
  },
  {
   "cell_type": "code",
   "execution_count": null,
   "metadata": {
    "scrolled": true
   },
   "outputs": [],
   "source": [
    "if not get_ipython() is None and os.path.abspath(\"../source/\") not in sys.path:\n",
    "    sys.path.append(os.path.abspath(\"../source/\"))\n",
    "try:\n",
    "    from lib.utilities     import *\n",
    "    from lib.figureHelpers import *\n",
    "    from lib.DataMgrRdf        import *\n",
    "    import lib.basicDataCTE as DCTE\n",
    "    from lib.pandaUtils    import *\n",
    "    from libApp.appEU      import *\n",
    "\n",
    "except Exception as err:\n",
    "    print(\"Could not find library 'lib' with contents 'DataGouvFr' \")\n",
    "    if get_ipython() is None:\n",
    "        print(\"Check the PYTHONPATH environment variable which should point to 'source' wich contains 'lib'\")\n",
    "    else:\n",
    "        print(\"You are supposed to be running in JupySessions, and '../source/lib' should exist\")\n",
    "    raise err"
   ]
  },
  {
   "cell_type": "markdown",
   "metadata": {},
   "source": [
    "## Check environment\n",
    "\n",
    "It is expected that:\n",
    "- your working directory is named `JupySessions`, \n",
    "- that it has subdirectories \n",
    "   - `images/*` where generated images may be stored to avoid overcrowding. \n",
    "- At the same level as your working dir there should be directories \n",
    "   - `../data` for storing input data and \n",
    "   - `../source` for python scripts.\n",
    "   \n",
    "My package library is in `../source/lib`, and users running under Python (not in Jupyter) should\n",
    "set their PYTHONPATH to include \"../source\" ( *or whatever appropriate* )."
   ]
  },
  {
   "cell_type": "code",
   "execution_count": null,
   "metadata": {
    "scrolled": true
   },
   "outputs": [],
   "source": [
    "checkSetup(chap=\"Chap03\")\n",
    "ImgMgr = ImageMgr(chapdir=\"Chap03\")"
   ]
  },
  {
   "cell_type": "markdown",
   "metadata": {},
   "source": [
    "# Load Data"
   ]
  },
  {
   "cell_type": "markdown",
   "metadata": {},
   "source": [
    "## Functions"
   ]
  },
  {
   "cell_type": "markdown",
   "metadata": {},
   "source": [
    "## Load CSV and XLSX data from remote \n",
    "The `dataFileVMgr` will manage a cache of data files in `../dataEURdf`, the data will be downloaded\n",
    "from  https://data.europa.eu using the SPARQL query endpoint. The meta information is stored/cached  in `../dataEURdf/.cache*`\n",
    "\n",
    "We check what is in the cache/data directory; for each file, we identify the latest version, \n",
    "and list this below to make sure. The file name will usually contain a time stamp.\n",
    "\n",
    "<FONT COLOR=\"RED\">TO BE CHECKED For the files used in this notebook, the latest version is used/loaded irrespective of the\n",
    "timestamp used in the notebook.</FONT>"
   ]
  },
  {
   "cell_type": "code",
   "execution_count": null,
   "metadata": {
    "scrolled": true
   },
   "outputs": [],
   "source": [
    "dataFileVMgr = manageAndCacheDataFilesRdfEU( \"../dataEURdf\", maxDirSz= 180*(2**10)**2)\n",
    "dataFileVMgr.getRemoteInfo()"
   ]
  },
  {
   "cell_type": "markdown",
   "metadata": {},
   "source": [
    "This can be long, the SPARQL processor used is not fast"
   ]
  },
  {
   "cell_type": "code",
   "execution_count": null,
   "metadata": {},
   "outputs": [],
   "source": [
    "dataFileVMgr.updatePrepare()\n",
    "dataFileVMgr.cacheUpdate()"
   ]
  },
  {
   "cell_type": "markdown",
   "metadata": {},
   "source": [
    "## Get some understanding of the available resource"
   ]
  },
  {
   "cell_type": "code",
   "execution_count": null,
   "metadata": {},
   "outputs": [],
   "source": [
    "nbLastDays = 30"
   ]
  },
  {
   "cell_type": "markdown",
   "metadata": {},
   "source": [
    "## Dig into the data"
   ]
  },
  {
   "cell_type": "code",
   "execution_count": null,
   "metadata": {
    "scrolled": true
   },
   "outputs": [],
   "source": [
    "print(\"Most recent versions of files in data directory:\")\n",
    "for f in dataFileVMgr.listMostRecent(nonTS=True) :\n",
    "    print(f\"\\t{f}\")"
   ]
  },
  {
   "cell_type": "code",
   "execution_count": null,
   "metadata": {
    "scrolled": true
   },
   "outputs": [],
   "source": [
    "last = lambda x: dataFileVMgr.getRecentVersion(x,default=os.path.join(dataFileVMgr.dirpath,x))"
   ]
  },
  {
   "cell_type": "code",
   "execution_count": null,
   "metadata": {},
   "outputs": [],
   "source": [
    "dataFileVMgr.nonTSFiles"
   ]
  },
  {
   "cell_type": "code",
   "execution_count": null,
   "metadata": {},
   "outputs": [],
   "source": [
    "covidDataEUCsv = last(\"covid-19-coronavirus-data-weekly-from-17-december-2020.csv\")\n",
    "data_covidDataEU  = read_csvPandas(covidDataEUCsv , error_bad_lines=False,sep=\",\" )"
   ]
  },
  {
   "cell_type": "markdown",
   "metadata": {},
   "source": [
    "Explanations and description about this file is found at https://data.europa.eu/euodp/en/data/dataset/covid-19-coronavirus-data-weekly-from-17-december-2020:\n",
    "\n",
    "https://www.ecdc.europa.eu/en/publications-data/data-national-14-day-notification-rate-covid-19:\n",
    "Data on 14-day notification rate of new COVID-19 cases and deaths\n",
    "The downloadable data file contains information on the 14-day notification rate of newly reported COVID-19 cases per 100 000 population and the 14-day notification rate of reported deaths per million population by week and country. Each row contains the corresponding data for a certain day and per country. The file is updated weekly. You may use the data in line with ECDC’s copyright policy.\n",
    "https://www.ecdc.europa.eu/sites/default/files/documents/2021-01-13_Variable_Dictionary_and_Disclaimer_national_weekly_data.pdf\n",
    "rate_14_day 14-day notification rate of reported COVID-19 cases per 100\n",
    "000 population OR 14-day notification rate of reported\n",
    "deaths per 1 000 000 population\n",
    "\n",
    "\n",
    "\n",
    "After the transformation to weekly data, check that numbers are really weekly, dates appear in 'DateRep' and also in 'year_week' in distinct formats. Checked weekly results with \"StopCovid\" application at https://www.gouvernement.fr/info-coronavirus/tousanticovid (still factor 2 discrepancy ?) ."
   ]
  },
  {
   "cell_type": "code",
   "execution_count": null,
   "metadata": {},
   "outputs": [],
   "source": [
    "msk= (data_covidDataEU.loc[:,'country'] == 'France') & (data_covidDataEU.loc[:,'indicator'] == 'cases')\n",
    "data_covidDataEU[msk].iloc[-10:].describe()"
   ]
  },
  {
   "cell_type": "code",
   "execution_count": null,
   "metadata": {},
   "outputs": [],
   "source": [
    "data_covidDataEU[msk].iloc[-10:]"
   ]
  },
  {
   "cell_type": "code",
   "execution_count": null,
   "metadata": {},
   "outputs": [],
   "source": [
    "msk= (data_covidDataEU.loc[:,'country'] == 'France') & (data_covidDataEU.loc[:,'indicator'] == 'deaths')\n",
    "data_covidDataEU[msk].iloc[:].describe()"
   ]
  },
  {
   "cell_type": "code",
   "execution_count": null,
   "metadata": {},
   "outputs": [],
   "source": [
    "data_covidDataEU.columns"
   ]
  },
  {
   "cell_type": "markdown",
   "metadata": {},
   "source": [
    "This seems necessary, since there were NaNs in the \"geoId\" column"
   ]
  },
  {
   "cell_type": "code",
   "execution_count": null,
   "metadata": {},
   "outputs": [],
   "source": [
    "for coln in ( \"country_code\", \"country\"):\n",
    "    si = sortedColIds(data_covidDataEU, coln)\n",
    "    print(f\"{coln:30}-> {len(si)} elts\")"
   ]
  },
  {
   "cell_type": "markdown",
   "metadata": {},
   "source": [
    "**New with version of data input** (2021, found this late in April):\n",
    "Now we have to make do with \"year_week\" information in the form \"yyyy-ww\", as opposed to format=\"%d/%m/%Y\".  Acceptable format documented at https://docs.python.org/3/library/datetime.html#strftime-and-strptime-behavior.\n",
    "Appropriate format is \"%Y-%W-%w\" where \"%w\" is day of week information.\n",
    "\n",
    "You need also define start day:\n",
    "~~~\n",
    "a = pd.to_datetime('2017_01_0',format = '%Y_%W_%w')\n",
    "print (a)\n",
    "2017-01-08 00:00:00\n",
    "~~~"
   ]
  },
  {
   "cell_type": "markdown",
   "metadata": {},
   "source": [
    "### Lets visualize data from this *new* dataFrame"
   ]
  },
  {
   "cell_type": "code",
   "execution_count": null,
   "metadata": {},
   "outputs": [],
   "source": [
    "data_covidDataEU[\"date\"] = PAN.to_datetime(data_covidDataEU.loc[:,\"year_week\"]+\"-1\", format=\"%Y-%W-%w\")\n",
    "dateStart = data_covidDataEU[\"date\"].min()\n",
    "dateEnd   = data_covidDataEU[\"date\"].max() \n",
    "dateSpan  = dateEnd - dateStart \n",
    "print(f\"Our statistics span {dateSpan.days+1} days, start: {dateStart} and end {dateEnd}\")\n",
    "\n",
    "data_covidDataEU[\"elapsedDays\"] = (data_covidDataEU[\"date\"] - dateStart).dt.days"
   ]
  },
  {
   "cell_type": "code",
   "execution_count": null,
   "metadata": {},
   "outputs": [],
   "source": [
    "def prepareDataPerCountry(df, continent=None, minPop=None, maxPop=None):\n",
    " dt = df.copy()\n",
    " dt = dt.set_index(\"continent\")\n",
    " sel = True\n",
    " if continent is not None:\n",
    "    sel = dt.index == continent\n",
    " if minPop is not None:\n",
    "    sel = sel & (dt.loc[:,\"population\"]>= minPop)\n",
    " if maxPop is not None:\n",
    "    sel = sel & (dt.loc[:,\"population\"]>= maxPop)\n",
    "    \n",
    " dtx = dt[sel]   \n",
    " dtg = dtx.groupby(\"country\")\n",
    " return dtg"
   ]
  },
  {
   "cell_type": "code",
   "execution_count": null,
   "metadata": {},
   "outputs": [],
   "source": [
    "dtg = prepareDataPerCountry( data_covidDataEU,  continent=\"Asia\")\n",
    "myEUConverter = EUSiteData()\n",
    "argDict = { \"breakCond\" : lambda count, country : count > 45,\n",
    "            \"countryDataAdapter\" :myEUConverter ,\n",
    "            \"dateStart\" : dateStart}\n",
    "\n",
    "myFig =  perCountryFigure(**argDict )\n",
    "\n",
    "plotCols = ( \"cases\", \"deaths\")\n",
    "\n",
    "myFig.initPainter( subnodeSpec=45, maxCol=3)\n",
    "myFig.mkImage( dtg, plotCols)\n",
    " "
   ]
  },
  {
   "cell_type": "markdown",
   "metadata": {},
   "source": [
    "This is too detailed, let's specialize for the larger countries."
   ]
  },
  {
   "cell_type": "code",
   "execution_count": null,
   "metadata": {},
   "outputs": [],
   "source": [
    "dtg = prepareDataPerCountry(data_covidDataEU, continent=\"Europe\", minPop=2e7)\n",
    "myEUConverter = EUSiteData()\n",
    "argDict = { \"breakCond\" : lambda count, country : count > 12, \n",
    "            \"countryDataAdapter\":myEUConverter,\n",
    "             \"dateStart\" : dateStart,}\n",
    "myFig =  perCountryFigure(**argDict )\n",
    "\n",
    "plotCols = ( \"cases\", \"deaths\")\n",
    "\n",
    "myFig.initPainter( subnodeSpec=12, maxCol=3)\n",
    "myFig.mkImage( dtg, plotCols)\n",
    "ImgMgr.save_fig(\"FIG001\")"
   ]
  },
  {
   "cell_type": "code",
   "execution_count": null,
   "metadata": {},
   "outputs": [],
   "source": [
    "dtg = prepareDataPerCountry(data_covidDataEU, continent=\"Europe\", minPop=2e7)\n",
    "myEUConverter = EUSiteData()\n",
    "argDict = { \"breakCond\" : lambda count, country : count > 12, \n",
    "            \"countryDataAdapter\":myEUConverter,\n",
    "            \"dateStart\" : dateStart}\n",
    "myFig =  perCountryFigure(**argDict )\n",
    "\n",
    "plotCols = ( \"deaths\",)\n",
    "\n",
    "myFig.initPainter( subnodeSpec=12, maxCol=3)\n",
    "myFig.mkImage( dtg, plotCols)\n",
    "ImgMgr.save_fig(\"FIG002\") "
   ]
  },
  {
   "cell_type": "code",
   "execution_count": null,
   "metadata": {},
   "outputs": [],
   "source": [
    "dtg = prepareDataPerCountry(data_covidDataEU, continent=\"Europe\", minPop=2e7)\n",
    "myEUConverter = EUSiteData()\n",
    "argDict = { \"breakCond\" : lambda count, country : count > 12, \n",
    "            \"countryDataAdapter\":myEUConverter,\n",
    "            \"dateStart\" : dateStart}\n",
    "myFig =  perCountryFigure(**argDict )\n",
    "\n",
    "plotCols = ( \"cases\", \"deathscum\")\n",
    "\n",
    "myFig.initPainter( subnodeSpec=12, maxCol=3)\n",
    "myFig.mkImage( dtg, plotCols)\n",
    "ImgMgr.save_fig(\"FIG003\")"
   ]
  },
  {
   "cell_type": "code",
   "execution_count": null,
   "metadata": {},
   "outputs": [],
   "source": [
    "dtg = prepareDataPerCountry(data_covidDataEU, continent=\"Europe\", minPop=2e7)\n",
    "myEUConverter = EUSiteData()\n",
    "argDict = { \"breakCond\" : lambda count, country : count > 12, \n",
    "            \"countryDataAdapter\":myEUConverter,\n",
    "             \"dateStart\" : dateStart}\n",
    "myFig =  perCountryFigure(**argDict )\n",
    "\n",
    "plotCols = ( \"caserate\", \"deathscumrate\")\n",
    "\n",
    "myFig.initPainter( subnodeSpec=12, maxCol=3)\n",
    "myFig.mkImage( dtg, plotCols,  subImgPaintAttrs = perCountryFigure.perMillionSIPA )\n",
    "ImgMgr.save_fig(\"FIG004\")"
   ]
  },
  {
   "cell_type": "code",
   "execution_count": null,
   "metadata": {},
   "outputs": [],
   "source": [
    "dtg = prepareDataPerCountry(data_covidDataEU, continent=\"Europe\", minPop=2e7)\n",
    "myEUConverter = EUSiteData()\n",
    "argDict = { \"breakCond\" : lambda count, country : count > 12, \n",
    "            \"countryDataAdapter\":myEUConverter,\n",
    "             \"dateStart\" : dateStart}\n",
    "myFig =  perCountryFigure(**argDict )\n",
    "\n",
    "plotCols = ( \"deathrate\",)\n",
    "\n",
    "myFig.initPainter( subnodeSpec=12, maxCol=3)\n",
    "myFig.mkImage( dtg, plotCols,  subImgPaintAttrs = perCountryFigure.perMillionSIPA )\n",
    "ImgMgr.save_fig(\"FIG005\")"
   ]
  },
  {
   "cell_type": "markdown",
   "metadata": {},
   "source": [
    "### Look at the largest countries"
   ]
  },
  {
   "cell_type": "code",
   "execution_count": null,
   "metadata": {},
   "outputs": [],
   "source": [
    "dtg = prepareDataPerCountry(data_covidDataEU,  minPop=15e7)\n",
    "myEUConverter = EUSiteData()\n",
    "argDict = { \"breakCond\" : lambda count, country : count > 15, \n",
    "            \"countryDataAdapter\":myEUConverter,\n",
    "            \"dateStart\" : dateStart}\n",
    "myFig =  perCountryFigure(**argDict )\n",
    "\n",
    "plotCols = ( \"cases\", \"deaths\")\n",
    "\n",
    "myFig.initPainter( subnodeSpec=15, maxCol=3)\n",
    "myFig.mkImage( dtg, plotCols)\n",
    "ImgMgr.save_fig(\"FIG021\")"
   ]
  },
  {
   "cell_type": "code",
   "execution_count": null,
   "metadata": {},
   "outputs": [],
   "source": [
    "dtg = prepareDataPerCountry(data_covidDataEU, minPop=15e7)\n",
    "myEUConverter = EUSiteData()\n",
    "argDict = { \"breakCond\" : lambda count, country : count > 15, \n",
    "            \"countryDataAdapter\":myEUConverter, \n",
    "            \"dateStart\" : dateStart}\n",
    "myFig =  perCountryFigure(**argDict )\n",
    "\n",
    "plotCols = ( \"deaths\",)\n",
    "\n",
    "myFig.initPainter( subnodeSpec=15, maxCol=3)\n",
    "myFig.mkImage( dtg, plotCols)\n",
    "ImgMgr.save_fig(\"FIG022\") "
   ]
  },
  {
   "cell_type": "code",
   "execution_count": null,
   "metadata": {},
   "outputs": [],
   "source": [
    "dtg = prepareDataPerCountry(data_covidDataEU, minPop=15e7)\n",
    "myEUConverter = EUSiteData()\n",
    "argDict = { \"breakCond\" : lambda count, country : count > 15, \n",
    "            \"countryDataAdapter\":myEUConverter,\n",
    "            \"dateStart\" : dateStart}\n",
    "myFig =  perCountryFigure(**argDict )\n",
    "\n",
    "plotCols = ( \"cases\", \"deathscum\")\n",
    "\n",
    "myFig.initPainter( subnodeSpec=15, maxCol=3)\n",
    "myFig.mkImage( dtg, plotCols)\n",
    "ImgMgr.save_fig(\"FIG023\")"
   ]
  },
  {
   "cell_type": "code",
   "execution_count": null,
   "metadata": {},
   "outputs": [],
   "source": [
    "dtg = prepareDataPerCountry(data_covidDataEU, minPop=15e7)\n",
    "myEUConverter = EUSiteData()\n",
    "argDict = { \"breakCond\" : lambda count, country : count > 15, \n",
    "            \"countryDataAdapter\":myEUConverter,\n",
    "             \"dateStart\" : dateStart}\n",
    "myFig =  perCountryFigure(**argDict )\n",
    "\n",
    "plotCols = ( \"caserate\", \"deathscumrate\")\n",
    "\n",
    "myFig.initPainter( subnodeSpec=15, maxCol=3)\n",
    "myFig.mkImage( dtg, plotCols,  subImgPaintAttrs = perCountryFigure.perMillionSIPA )\n",
    "ImgMgr.save_fig(\"FIG024\")"
   ]
  },
  {
   "cell_type": "code",
   "execution_count": null,
   "metadata": {},
   "outputs": [],
   "source": [
    "dtg = prepareDataPerCountry(data_covidDataEU,  minPop=15e7)\n",
    "myEUConverter = EUSiteData()\n",
    "argDict = { \"breakCond\" : lambda count, country : count > 15, \n",
    "            \"countryDataAdapter\":myEUConverter,\n",
    "            \"dateStart\" : dateStart}\n",
    "myFig =  perCountryFigure(**argDict )\n",
    "\n",
    "plotCols = ( \"deathrate\",)\n",
    "\n",
    "myFig.initPainter( subnodeSpec=15, maxCol=3)\n",
    "myFig.mkImage( dtg, plotCols,  subImgPaintAttrs = perCountryFigure.perMillionSIPA )\n",
    "ImgMgr.save_fig(\"FIG025\")"
   ]
  },
  {
   "cell_type": "code",
   "execution_count": null,
   "metadata": {},
   "outputs": [],
   "source": []
  },
  {
   "cell_type": "code",
   "execution_count": null,
   "metadata": {},
   "outputs": [],
   "source": []
  },
  {
   "cell_type": "code",
   "execution_count": null,
   "metadata": {},
   "outputs": [],
   "source": []
  }
 ],
 "metadata": {
  "kernelspec": {
   "display_name": "Python 3",
   "language": "python",
   "name": "python3"
  },
  "language_info": {
   "codemirror_mode": {
    "name": "ipython",
    "version": 3
   },
   "file_extension": ".py",
   "mimetype": "text/x-python",
   "name": "python",
   "nbconvert_exporter": "python",
   "pygments_lexer": "ipython3",
   "version": "3.8.6"
  }
 },
 "nbformat": 4,
 "nbformat_minor": 2
}
