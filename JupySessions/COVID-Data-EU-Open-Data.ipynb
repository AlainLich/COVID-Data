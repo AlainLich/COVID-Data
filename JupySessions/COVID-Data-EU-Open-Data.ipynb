{
 "cells": [
  {
   "cell_type": "markdown",
   "metadata": {},
   "source": [
    "#  Simple tool to analyze data from https://data.europa.eu/\n",
    "\n",
    "The EU Open Data Portal (EU ODP) aims to encourage the use of EU datasets for building third-party applications.\n",
    "\n",
    "**Note:** This is a Jupyter notebook which is also available as its executable export as a Python 3 script (therefore with automatically generated comments)."
   ]
  },
  {
   "cell_type": "markdown",
   "metadata": {},
   "source": [
    "# Libraries"
   ]
  },
  {
   "cell_type": "code",
   "execution_count": null,
   "metadata": {},
   "outputs": [],
   "source": [
    "# Sys import\n",
    "import sys, os, re\n",
    "# Common imports\n",
    "import math\n",
    "import numpy             as NP\n",
    "import numpy.random      as RAND\n",
    "import scipy.stats       as STATS\n",
    "from scipy import sparse\n",
    "from scipy import linalg\n",
    "\n",
    "# Better formatting functions\n",
    "from IPython.display import display, HTML\n",
    "from IPython import get_ipython\n",
    "\n",
    "import matplotlib        as MPL\n",
    "import matplotlib.pyplot as PLT\n",
    "import seaborn as SNS\n",
    "SNS.set(font_scale=1)\n",
    "\n",
    "# Python programming\n",
    "from itertools import cycle\n",
    "from time import time\n",
    "import datetime\n",
    "\n",
    "# Using pandas\n",
    "import pandas as PAN\n",
    "import xlrd\n",
    "import numpy as NP"
   ]
  },
  {
   "cell_type": "code",
   "execution_count": null,
   "metadata": {
    "scrolled": true
   },
   "outputs": [],
   "source": [
    "import warnings\n",
    "warnings.filterwarnings('ignore')\n",
    "print(\"For now, reduce python warnings, I will look into this later\")"
   ]
  },
  {
   "cell_type": "markdown",
   "metadata": {},
   "source": [
    "### Import my own modules\n",
    "The next cell attempts to give user some information if things improperly setup.\n",
    "Intended to work both in Jupyter and when executing the Python file directly."
   ]
  },
  {
   "cell_type": "code",
   "execution_count": null,
   "metadata": {
    "scrolled": true
   },
   "outputs": [],
   "source": [
    "if not get_ipython() is None and os.path.abspath(\"../source/\") not in sys.path:\n",
    "    sys.path.append(os.path.abspath(\"../source/\"))\n",
    "try:\n",
    "    from lib.utilities     import *\n",
    "    from lib.figureHelpers import *\n",
    "    from lib.DataMgrRdf        import *\n",
    "    import lib.basicDataCTE as DCTE\n",
    "except Exception as err:\n",
    "    print(\"Could not find library 'lib' with contents 'DataGouvFr' \")\n",
    "    if get_ipython() is None:\n",
    "        print(\"Check the PYTHONPATH environment variable which should point to 'source' wich contains 'lib'\")\n",
    "    else:\n",
    "        print(\"You are supposed to be running in JupySessions, and '../source/lib' should exist\")\n",
    "    raise err"
   ]
  },
  {
   "cell_type": "markdown",
   "metadata": {},
   "source": [
    "## Check environment\n",
    "\n",
    "It is expected that:\n",
    "- your working directory is named `JupySessions`, \n",
    "- that it has subdirectories \n",
    "   - `images/*` where generated images may be stored to avoid overcrowding. \n",
    "- At the same level as your working dir there should be directories \n",
    "   - `../data` for storing input data and \n",
    "   - `../source` for python scripts.\n",
    "   \n",
    "My package library is in `../source/lib`, and users running under Python (not in Jupyter) should\n",
    "set their PYTHONPATH to include \"../source\" ( *or whatever appropriate* )."
   ]
  },
  {
   "cell_type": "code",
   "execution_count": null,
   "metadata": {
    "scrolled": true
   },
   "outputs": [],
   "source": [
    "checkSetup(chap=\"Chap03\")\n",
    "ImgMgr = ImageMgr(chapdir=\"Chap03\")"
   ]
  },
  {
   "cell_type": "markdown",
   "metadata": {},
   "source": [
    "# Load Data"
   ]
  },
  {
   "cell_type": "markdown",
   "metadata": {},
   "source": [
    "## Functions"
   ]
  },
  {
   "cell_type": "markdown",
   "metadata": {},
   "source": [
    "## Load CSV and XLSX data from remote \n",
    "The `dataFileVMgr` will manage a cache of data files in `../dataEURdf`, the data will be downloaded\n",
    "from  https://data.europa.eu using the SPARQL query endpoint. The meta information is stored/cached  in `../dataEURdf/.cache*`\n",
    "\n",
    "We check what is in the cache/data directory; for each file, we identify the latest version, \n",
    "and list this below to make sure. The file name will usually contain a time stamp.\n",
    "\n",
    "<FONT COLOR=\"RED\">TO BE CHECKED For the files used in this notebook, the latest version is used/loaded irrespective of the\n",
    "timestamp used in the notebook.</FONT>"
   ]
  },
  {
   "cell_type": "code",
   "execution_count": null,
   "metadata": {},
   "outputs": [],
   "source": [
    "dataFileVMgr = manageAndCacheDataFilesRdfEU( \"../dataEURdf\", maxDirSz= 80*(2**10)**2)\n",
    "dataFileVMgr.getRemoteInfo()"
   ]
  },
  {
   "cell_type": "markdown",
   "metadata": {},
   "source": [
    "This can be long, the SPARQL processor used is not fast"
   ]
  },
  {
   "cell_type": "code",
   "execution_count": null,
   "metadata": {},
   "outputs": [],
   "source": [
    "dataFileVMgr.updatePrepare()\n",
    "dataFileVMgr.cacheUpdate()"
   ]
  },
  {
   "cell_type": "markdown",
   "metadata": {},
   "source": [
    "## Get some understanding of the available resource"
   ]
  },
  {
   "cell_type": "code",
   "execution_count": null,
   "metadata": {},
   "outputs": [],
   "source": [
    "nbLastDays = 30"
   ]
  },
  {
   "cell_type": "markdown",
   "metadata": {},
   "source": [
    "## Dig into the data"
   ]
  },
  {
   "cell_type": "code",
   "execution_count": null,
   "metadata": {
    "scrolled": true
   },
   "outputs": [],
   "source": [
    "print(\"Most recent versions of files in data directory:\")\n",
    "for f in dataFileVMgr.listMostRecent(nonTS=True) :\n",
    "    print(f\"\\t{f}\")"
   ]
  },
  {
   "cell_type": "code",
   "execution_count": null,
   "metadata": {
    "scrolled": true
   },
   "outputs": [],
   "source": [
    "last = lambda x: dataFileVMgr.getRecentVersion(x,default=os.path.join(dataFileVMgr.dirpath,x))"
   ]
  },
  {
   "cell_type": "code",
   "execution_count": null,
   "metadata": {},
   "outputs": [],
   "source": [
    "dataFileVMgr.nonTSFiles"
   ]
  },
  {
   "cell_type": "code",
   "execution_count": null,
   "metadata": {},
   "outputs": [],
   "source": [
    "covidDataEUCsv = last(\"covid-19-coronavirus-data.csv\")\n",
    "data_covidDataEU  = read_csvPandas(covidDataEUCsv , error_bad_lines=False,sep=\",\" )"
   ]
  },
  {
   "cell_type": "code",
   "execution_count": null,
   "metadata": {},
   "outputs": [],
   "source": [
    "data_covidDataEU.info()"
   ]
  },
  {
   "cell_type": "markdown",
   "metadata": {},
   "source": [
    "After the transformation to weekly data, check that numbers are really weekly, dates appear in 'DateRep' and also in 'year_week' in distinct formats. Checked weekly results with \"StopCovid\" application at https://www.gouvernement.fr/info-coronavirus/tousanticovid (still factor 2 discrepancy ?) ."
   ]
  },
  {
   "cell_type": "code",
   "execution_count": null,
   "metadata": {},
   "outputs": [],
   "source": [
    "msk= data_covidDataEU.loc[:,'countriesAndTerritories'] == 'France'\n",
    "data_covidDataEU[msk].iloc[:3]"
   ]
  },
  {
   "cell_type": "code",
   "execution_count": null,
   "metadata": {},
   "outputs": [],
   "source": [
    "def sortedIds(df,col):\n",
    "   t=df.loc[:,col].unique()\n",
    "   return sorted([ x  for x in t if isinstance(x, str) ])"
   ]
  },
  {
   "cell_type": "code",
   "execution_count": null,
   "metadata": {},
   "outputs": [],
   "source": [
    "data_covidDataEU.columns"
   ]
  },
  {
   "cell_type": "markdown",
   "metadata": {},
   "source": [
    "This seems necessary, since there were NaNs in the \"geoId\" column"
   ]
  },
  {
   "cell_type": "code",
   "execution_count": null,
   "metadata": {},
   "outputs": [],
   "source": [
    "for coln in (\"geoId\" , \"countryterritoryCode\", \"countriesAndTerritories\"):\n",
    "    si = sortedIds(data_covidDataEU, coln)\n",
    "    print(f\"{coln:30}-> {len(si)} elts\")"
   ]
  },
  {
   "cell_type": "code",
   "execution_count": null,
   "metadata": {},
   "outputs": [],
   "source": [
    "data_covidDataEU[\"date\"] = PAN.to_datetime(data_covidDataEU.loc[:,\"dateRep\"], format=\"%d/%m/%Y\")"
   ]
  },
  {
   "cell_type": "code",
   "execution_count": null,
   "metadata": {},
   "outputs": [],
   "source": [
    "dateStart = data_covidDataEU[\"date\"].min()\n",
    "dateEnd   = data_covidDataEU[\"date\"].max() \n",
    "dateSpan  = dateEnd - dateStart \n",
    "print(f\"Our statistics span {dateSpan.days+1} days, start: {dateStart} and end {dateEnd}\")\n",
    "\n",
    "data_covidDataEU[\"elapsedDays\"] = (data_covidDataEU[\"date\"] - dateStart).dt.days"
   ]
  },
  {
   "cell_type": "code",
   "execution_count": null,
   "metadata": {},
   "outputs": [],
   "source": [
    "data_covidDataEU[\"elapsedDays\"][:3] "
   ]
  },
  {
   "cell_type": "code",
   "execution_count": null,
   "metadata": {},
   "outputs": [],
   "source": [
    "dt  = data_covidDataEU.copy()\n",
    "dt = dt.set_index(\"continentExp\")"
   ]
  },
  {
   "cell_type": "code",
   "execution_count": null,
   "metadata": {},
   "outputs": [],
   "source": [
    "dtx = dt[dt.index == \"Europe\"]\n",
    "dtg = dtx.groupby(\"countriesAndTerritories\")"
   ]
  },
  {
   "cell_type": "code",
   "execution_count": null,
   "metadata": {},
   "outputs": [],
   "source": [
    "for (country,dfExtract) in dtg:\n",
    "    print(f\"{country:30}\\t-> data over {dfExtract.shape[0]*7} days\")"
   ]
  },
  {
   "cell_type": "code",
   "execution_count": null,
   "metadata": {},
   "outputs": [],
   "source": [
    "for (country,dfExtract) in dtg :\n",
    "       #print(f\"{country:30}\\t-> data over {dfExtract.shape[0]} days\")\n",
    "       PLT.plot( dfExtract.loc[:,[\"elapsedDays\"]], dfExtract.loc[:,[\"cases_weekly\"]]/7)\n",
    "       PLT.yscale(\"log\")\n",
    "       #painter = figureTSFromFrame(dfExtract.loc[:,[\"cases\",\"deaths\"]],figsize=(12,8))\n",
    "       #painter.doPlot()"
   ]
  },
  {
   "cell_type": "code",
   "execution_count": null,
   "metadata": {},
   "outputs": [],
   "source": [
    "dtx = dt[ (dt.index == \"Europe\") & (dt[\"popData2019\"] > 10.0e6) ]\n",
    "dtg = dtx.groupby(\"countriesAndTerritories\")\n",
    "subnodeSpec=(lambda i,j:{\"nrows\":i,\"ncols\":j})(*subPlotShape(len(dtg),maxCol=4))"
   ]
  },
  {
   "cell_type": "code",
   "execution_count": null,
   "metadata": {},
   "outputs": [],
   "source": [
    "painter = figureFromFrame(None, subplots=subnodeSpec, figsize=(15,15))\n",
    "for (country,dfExtractOrig) in dtg :\n",
    "    pop = dfExtractOrig[\"popData2019\"][0]\n",
    "    print(f\"Country={country}, pop:{pop/1.0E6}M\")\n",
    "    dfExtract = dfExtractOrig.set_index(\"elapsedDays\").copy()\n",
    "    dfExtract.loc[:,\"cumcases\"] = dfExtract.loc[:,\"cases_weekly\"].sort_index().cumsum()/dfExtract.loc[:,\"popData2019\"]*1.0E6\n",
    "    dfExtract.loc[:,\"cumdeaths\"] = dfExtract.loc[:,\"deaths_weekly\"].sort_index().cumsum()/dfExtract.loc[:,\"popData2019\"]*1.0E6\n",
    "    dfExtract.loc[:,\"cases\"] = dfExtract.loc[:,\"cases_weekly\"]/dfExtract.loc[:,\"popData2019\"]*1.0E6/7\n",
    "    dfExtract.loc[:,\"deaths\"] = dfExtract.loc[:,\"deaths_weekly\"]/dfExtract.loc[:,\"popData2019\"]*1.0E6/7\n",
    "    painter.doPlot(df = dfExtract.loc[:,[\"cases\",\"deaths\",\"cumcases\",\"cumdeaths\"]])\n",
    "    painter.setAttrs(label=f\"Days since {dateStart}\",\n",
    "                 title=f\"Data from EU Data Portal: {country}\",\n",
    "                 legend=True,\n",
    "                 xlabel=f\"Days since {dateStart}\",\n",
    "                 ylabel=\"Daily Events per million population\"   )\n",
    "        \n",
    "    painter.advancePlotIndex()  \n",
    "ImgMgr.save_fig(\"FIG007\")  "
   ]
  },
  {
   "cell_type": "code",
   "execution_count": null,
   "metadata": {},
   "outputs": [],
   "source": [
    "painter = figureFromFrame(None, subplots=subnodeSpec, figsize=(15,15))\n",
    "for (country,dfExtractOrig) in dtg :\n",
    "    pop = dfExtractOrig[\"popData2019\"][0]\n",
    "    print(f\"Country={country}, pop:{pop/1.0E6}M\")\n",
    "    dfExtract = dfExtractOrig.set_index(\"elapsedDays\").copy()\n",
    "    dfExtract.loc[:,\"cumdeaths\"] = dfExtract.loc[:,\"deaths_weekly\"].sort_index().cumsum()/dfExtract.loc[:,\"popData2019\"]*1.0E6\n",
    "    dfExtract.loc[:,\"cases\"] = dfExtract.loc[:,\"cases_weekly\"]/dfExtract.loc[:,\"popData2019\"]*1.0E6/7\n",
    "    dfExtract.loc[:,\"deaths\"] = dfExtract.loc[:,\"deaths_weekly\"]/dfExtract.loc[:,\"popData2019\"]*1.0E6/7\n",
    "    painter.doPlot(df = dfExtract.loc[:,[\"cases\",\"deaths\",\"cumdeaths\"]])\n",
    "    painter.setAttrs(label=f\"Days since {dateStart}\",\n",
    "                 title=f\"Data from EU Data Portal: {country}\",\n",
    "                 legend=True,\n",
    "                 xlabel=f\"Days since {dateStart}\",\n",
    "                 ylabel=\"Daily Events per million population\"   )\n",
    "        \n",
    "    painter.advancePlotIndex()  \n",
    "ImgMgr.save_fig(\"FIG017\")  "
   ]
  },
  {
   "cell_type": "code",
   "execution_count": null,
   "metadata": {},
   "outputs": [],
   "source": [
    "painter = figureFromFrame(None, subplots=subnodeSpec, figsize=(15,15))\n",
    "for (country,dfExtractOrig) in dtg :\n",
    "    pop = dfExtractOrig[\"popData2019\"][0]\n",
    "    print(f\"Country={country}, pop:{pop/1.0E6}M\")\n",
    "    dfExtract = dfExtractOrig.set_index(\"elapsedDays\").copy()\n",
    "    dfExtract.loc[:,\"deaths\"] = dfExtract.loc[:,\"deaths_weekly\"]/dfExtract.loc[:,\"popData2019\"]*1.0E6/7\n",
    "    painter.doPlot(df = dfExtract.loc[:,[\"deaths\"]])\n",
    "    painter.setAttrs(label=f\"Days since {dateStart}\",\n",
    "                 title=f\"Data from EU Data Portal: {country}\",\n",
    "                 legend=True,\n",
    "                 xlabel=f\"Days since {dateStart}\",\n",
    "                 ylabel=\"Daily Events per million population\"   )\n",
    "        \n",
    "    painter.advancePlotIndex()  \n",
    "ImgMgr.save_fig(\"FIG017B\")  "
   ]
  },
  {
   "cell_type": "code",
   "execution_count": null,
   "metadata": {},
   "outputs": [],
   "source": [
    "painter = figureFromFrame(None,  subplots=subnodeSpec, figsize=(15,15))\n",
    "for (country,dfExtractOrig) in dtg :\n",
    "    pop = dfExtractOrig[\"popData2019\"][0]\n",
    "    print(f\"Country={country}, pop:{pop/1.0E6}M\")\n",
    "    dfExtract = dfExtractOrig.set_index(\"elapsedDays\").copy()\n",
    "    dfExtract.loc[:,\"cumcases\"] = dfExtract.loc[:,\"cases_weekly\"].sort_index().cumsum()/dfExtract.loc[:,\"popData2019\"]*1.0E6\n",
    "    dfExtract.loc[:,\"cumdeaths\"] = dfExtract.loc[:,\"deaths_weekly\"].sort_index().cumsum()/dfExtract.loc[:,\"popData2019\"]*1.0E6\n",
    "    dfExtract.loc[:,\"cases\"] = dfExtract.loc[:,\"cases_weekly\"]/dfExtract.loc[:,\"popData2019\"]*1.0E6/7\n",
    "    dfExtract.loc[:,\"deaths\"] = dfExtract.loc[:,\"deaths_weekly\"]/dfExtract.loc[:,\"popData2019\"]*1.0E6/7\n",
    "    painter.doPlot( df = dfExtract.loc[:,[\"cases\",\"deaths\",\"cumcases\",\"cumdeaths\"]],\n",
    "                      colOpts={\"cases\": {\"yscale\":'log'},\n",
    "                            \"deaths\": {\"yscale\":'log'},\n",
    "                            \"cumcases\": {\"yscale\":'log'},\n",
    "                            \"cumdeaths\": {\"yscale\":'log'},})\n",
    "    painter.setAttrs(label=f\"Days since {dateStart}\",\n",
    "                 title=f\"Data from EU Data Portal\\nstats for {country}\",\n",
    "                 legend=True,\n",
    "                 xlabel=f\"Days since {dateStart}\",\n",
    "                 ylabel=\"Daily events per million population\"   )\n",
    "    painter.advancePlotIndex()\n",
    "ImgMgr.save_fig(\"FIG008\")        "
   ]
  },
  {
   "cell_type": "markdown",
   "metadata": {},
   "source": [
    "### Look at the largest countries"
   ]
  },
  {
   "cell_type": "code",
   "execution_count": null,
   "metadata": {},
   "outputs": [],
   "source": [
    "dtx = dt[ dt[\"popData2019\"] > 65.0e6 ]\n",
    "dtg = dtx.groupby(\"countriesAndTerritories\")\n",
    "subnodeSpec=(lambda i,j:{\"nrows\":i,\"ncols\":j})(*subPlotShape(len(dtg),maxCol=4, colFirst=False))"
   ]
  },
  {
   "cell_type": "code",
   "execution_count": null,
   "metadata": {},
   "outputs": [],
   "source": [
    "painter = figureFromFrame(None, subplots=subnodeSpec, figsize=(15,20))\n",
    "for (country,dfExtractOrig) in dtg :\n",
    "    pop = dfExtractOrig[\"popData2019\"][0]\n",
    "    print(f\"Country={country}, pop:{pop/1.0E6}M\")\n",
    "    dfExtract = dfExtractOrig.set_index(\"elapsedDays\").copy()\n",
    "    dfExtract.loc[:,\"cumcases\"] = dfExtract.loc[:,\"cases_weekly\"].sort_index().cumsum()/dfExtract.loc[:,\"popData2019\"]*1.0E6\n",
    "    dfExtract.loc[:,\"cumdeaths\"] = dfExtract.loc[:,\"deaths_weekly\"].sort_index().cumsum()/dfExtract.loc[:,\"popData2019\"]*1.0E6\n",
    "    dfExtract.loc[:,\"cases\"] = dfExtract.loc[:,\"cases_weekly\"]/dfExtract.loc[:,\"popData2019\"]*1.0E6/7\n",
    "    dfExtract.loc[:,\"deaths\"] = dfExtract.loc[:,\"deaths_weekly\"]/dfExtract.loc[:,\"popData2019\"]*1.0E6/7\n",
    "    painter.doPlot(df = dfExtract.loc[:,[\"cases\",\"deaths\",\"cumcases\",\"cumdeaths\"]])\n",
    "    painter.setAttrs(label=f\"Days since {dateStart}\",\n",
    "                 title=f\"Data from EU Data Portal: {country}\",\n",
    "                 legend=True,\n",
    "                 xlabel=f\"Days since {dateStart}\",\n",
    "                 ylabel=\"Daily events per million population\"   )\n",
    "        \n",
    "    painter.advancePlotIndex()  \n",
    "ImgMgr.save_fig(\"FIG009\")  "
   ]
  },
  {
   "cell_type": "code",
   "execution_count": null,
   "metadata": {},
   "outputs": [],
   "source": [
    "painter = figureFromFrame(None, subplots=subnodeSpec, figsize=(15,20))\n",
    "for (country,dfExtractOrig) in dtg :\n",
    "    pop = dfExtractOrig[\"popData2019\"][0]\n",
    "    print(f\"Country={country}, pop:{pop/1.0E6}M\")\n",
    "    dfExtract = dfExtractOrig.set_index(\"elapsedDays\").copy()\n",
    "    dfExtract.loc[:,\"cumdeaths\"] = dfExtract.loc[:,\"deaths_weekly\"].sort_index().cumsum()/dfExtract.loc[:,\"popData2019\"]*1.0E6\n",
    "    dfExtract.loc[:,\"cases\"] = dfExtract.loc[:,\"cases_weekly\"]/dfExtract.loc[:,\"popData2019\"]*1.0E6/7\n",
    "    dfExtract.loc[:,\"deaths\"] = dfExtract.loc[:,\"deaths_weekly\"]/dfExtract.loc[:,\"popData2019\"]*1.0E6/7\n",
    "    painter.doPlot(df = dfExtract.loc[:,[\"cases\",\"deaths\",\"cumdeaths\"]])\n",
    "    painter.setAttrs(label=f\"Days since {dateStart}\",\n",
    "                 title=f\"Data from EU Data Portal: {country}\",\n",
    "                 legend=True,\n",
    "                 xlabel=f\"Days since {dateStart}\",\n",
    "                 ylabel=\"Daily events per million population\"   )\n",
    "        \n",
    "    painter.advancePlotIndex()  \n",
    "ImgMgr.save_fig(\"FIG019\")  "
   ]
  },
  {
   "cell_type": "code",
   "execution_count": null,
   "metadata": {},
   "outputs": [],
   "source": [
    "painter = figureFromFrame(None, subplots=subnodeSpec, figsize=(15,20))\n",
    "for (country,dfExtractOrig) in dtg :\n",
    "    pop = dfExtractOrig[\"popData2019\"][0]\n",
    "    print(f\"Country={country}, pop:{pop/1.0E6}M\")\n",
    "    dfExtract = dfExtractOrig.set_index(\"elapsedDays\").copy()    \n",
    "    dfExtract.loc[:,\"deaths\"] = dfExtract.loc[:,\"deaths_weekly\"]/dfExtract.loc[:,\"popData2019\"]*1.0E6/7\n",
    "    painter.doPlot(df = dfExtract.loc[:,[\"deaths\"]])\n",
    "    painter.setAttrs(label=f\"Days since {dateStart}\",\n",
    "                 title=f\"Data from EU Data Portal: {country}\",\n",
    "                 legend=True,\n",
    "                 xlabel=f\"Days since {dateStart}\",\n",
    "                 ylabel=\"Daily events per million population\"   )\n",
    "        \n",
    "    painter.advancePlotIndex()  \n",
    "ImgMgr.save_fig(\"FIG019B\")  "
   ]
  },
  {
   "cell_type": "code",
   "execution_count": null,
   "metadata": {},
   "outputs": [],
   "source": [
    "painter = figureFromFrame(None,  subplots=subnodeSpec, figsize=(15,20))\n",
    "for (country,dfExtractOrig) in dtg :\n",
    "    pop = dfExtractOrig[\"popData2019\"][0]\n",
    "    print(f\"Country={country}, pop:{pop/1.0E6}M\")\n",
    "    dfExtract = dfExtractOrig.set_index(\"elapsedDays\").copy()\n",
    "    dfExtract.loc[:,\"cumcases\"] = dfExtract.loc[:,\"cases_weekly\"].sort_index().cumsum()/dfExtract.loc[:,\"popData2019\"]*1.0E6\n",
    "    dfExtract.loc[:,\"cumdeaths\"] = dfExtract.loc[:,\"deaths_weekly\"].sort_index().cumsum()/dfExtract.loc[:,\"popData2019\"]*1.0E6\n",
    "    dfExtract.loc[:,\"cases\"] = dfExtract.loc[:,\"cases_weekly\"]/dfExtract.loc[:,\"popData2019\"]*1.0E6/7\n",
    "    dfExtract.loc[:,\"deaths\"] = dfExtract.loc[:,\"deaths_weekly\"]/dfExtract.loc[:,\"popData2019\"]*1.0E6/7\n",
    "    painter.doPlot( df = dfExtract.loc[:,[\"cases\",\"deaths\",\"cumcases\",\"cumdeaths\"]],\n",
    "                      colOpts={\"cases\": {\"yscale\":'log'},\n",
    "                            \"deaths\": {\"yscale\":'log'},\n",
    "                            \"cumcases\": {\"yscale\":'log'},\n",
    "                            \"cumdeaths\": {\"yscale\":'log'},})\n",
    "    painter.setAttrs(label=f\"Days since {dateStart}\",\n",
    "                 title=f\"Data from EU Data Portal\\nstats for {country}\",\n",
    "                 legend=True,\n",
    "                 xlabel=f\"Days since {dateStart}\",\n",
    "                 ylabel=\"Daily events per million population\"   )\n",
    "    painter.advancePlotIndex()\n",
    "ImgMgr.save_fig(\"FIG010\")        "
   ]
  },
  {
   "cell_type": "code",
   "execution_count": null,
   "metadata": {},
   "outputs": [],
   "source": []
  },
  {
   "cell_type": "code",
   "execution_count": null,
   "metadata": {},
   "outputs": [],
   "source": []
  }
 ],
 "metadata": {
  "kernelspec": {
   "display_name": "Python 3",
   "language": "python",
   "name": "python3"
  },
  "language_info": {
   "codemirror_mode": {
    "name": "ipython",
    "version": 3
   },
   "file_extension": ".py",
   "mimetype": "text/x-python",
   "name": "python",
   "nbconvert_exporter": "python",
   "pygments_lexer": "ipython3",
   "version": "3.8.2"
  }
 },
 "nbformat": 4,
 "nbformat_minor": 2
}
