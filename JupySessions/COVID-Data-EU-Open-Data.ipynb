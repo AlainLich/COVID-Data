{
 "cells": [
  {
   "cell_type": "markdown",
   "metadata": {},
   "source": [
    "#  Simple tool to analyze data from https://data.europa.eu/\n",
    "\n",
    "The EU Open Data Portal (EU ODP) aims to encourage the use of EU datasets for building third-party applications.\n",
    "\n",
    "**Notes:** \n",
    "1. This is a Jupyter notebook which is also available as its executable export as a Python 3 script (therefore with automatically generated comments).\n",
    "2. This version adapts to a significant change in format occurring early 2021: data was kept daily until 14 Dec 2020 and weekly thereafter. \n",
    "3. The update corresponding to the change in data format is expected around April 15th, 2021 ...*  since I became aware of this change rather late*."
   ]
  },
  {
   "cell_type": "markdown",
   "metadata": {},
   "source": [
    "# Libraries"
   ]
  },
  {
   "cell_type": "code",
   "execution_count": 1,
   "metadata": {},
   "outputs": [],
   "source": [
    "# Sys import\n",
    "import sys, os, re\n",
    "# Common imports\n",
    "import math\n",
    "import numpy             as NP\n",
    "import numpy.random      as RAND\n",
    "import scipy.stats       as STATS\n",
    "from scipy import sparse\n",
    "from scipy import linalg\n",
    "\n",
    "# Better formatting functions\n",
    "from IPython.display import display, HTML\n",
    "from IPython import get_ipython\n",
    "\n",
    "import matplotlib        as MPL\n",
    "import matplotlib.pyplot as PLT\n",
    "import seaborn as SNS\n",
    "SNS.set(font_scale=1)\n",
    "\n",
    "# Python programming\n",
    "from itertools import cycle\n",
    "from time import time\n",
    "import datetime\n",
    "\n",
    "# Using pandas\n",
    "import pandas as PAN\n",
    "import xlrd\n",
    "import numpy as NP"
   ]
  },
  {
   "cell_type": "code",
   "execution_count": 2,
   "metadata": {
    "scrolled": true
   },
   "outputs": [
    {
     "name": "stdout",
     "output_type": "stream",
     "text": [
      "For now, reduce python warnings, I will look into this later\n"
     ]
    }
   ],
   "source": [
    "import warnings\n",
    "warnings.filterwarnings('ignore')\n",
    "print(\"For now, reduce python warnings, I will look into this later\")"
   ]
  },
  {
   "cell_type": "markdown",
   "metadata": {},
   "source": [
    "### Import my own modules\n",
    "The next cell attempts to give user some information if things improperly setup.\n",
    "Intended to work both in Jupyter and when executing the Python file directly."
   ]
  },
  {
   "cell_type": "code",
   "execution_count": 3,
   "metadata": {
    "scrolled": true
   },
   "outputs": [
    {
     "name": "stdout",
     "output_type": "stream",
     "text": [
      "Loaded lib\n",
      "For now, reduce python warnings, I will look into this later\n",
      "Loaded libApp\n"
     ]
    }
   ],
   "source": [
    "if not get_ipython() is None and os.path.abspath(\"../source/\") not in sys.path:\n",
    "    sys.path.append(os.path.abspath(\"../source/\"))\n",
    "try:\n",
    "    from lib.utilities     import *\n",
    "    from lib.figureHelpers import *\n",
    "    from lib.DataMgrRdf        import *\n",
    "    import lib.basicDataCTE as DCTE\n",
    "    from lib.pandaUtils    import *\n",
    "    from libApp.appEU      import *\n",
    "\n",
    "except Exception as err:\n",
    "    print(\"Could not find library 'lib' with contents 'DataGouvFr' \")\n",
    "    if get_ipython() is None:\n",
    "        print(\"Check the PYTHONPATH environment variable which should point to 'source' wich contains 'lib'\")\n",
    "    else:\n",
    "        print(\"You are supposed to be running in JupySessions, and '../source/lib' should exist\")\n",
    "    raise err"
   ]
  },
  {
   "cell_type": "markdown",
   "metadata": {},
   "source": [
    "## Check environment\n",
    "\n",
    "It is expected that:\n",
    "- your working directory is named `JupySessions`, \n",
    "- that it has subdirectories \n",
    "   - `images/*` where generated images may be stored to avoid overcrowding. \n",
    "- At the same level as your working dir there should be directories \n",
    "   - `../data` for storing input data and \n",
    "   - `../source` for python scripts.\n",
    "   \n",
    "My package library is in `../source/lib`, and users running under Python (not in Jupyter) should\n",
    "set their PYTHONPATH to include \"../source\" ( *or whatever appropriate* )."
   ]
  },
  {
   "cell_type": "code",
   "execution_count": 4,
   "metadata": {
    "scrolled": true
   },
   "outputs": [],
   "source": [
    "checkSetup(chap=\"Chap03\")\n",
    "ImgMgr = ImageMgr(chapdir=\"Chap03\")"
   ]
  },
  {
   "cell_type": "markdown",
   "metadata": {},
   "source": [
    "# Load Data"
   ]
  },
  {
   "cell_type": "markdown",
   "metadata": {},
   "source": [
    "## Functions"
   ]
  },
  {
   "cell_type": "markdown",
   "metadata": {},
   "source": [
    "## Load CSV and XLSX data from remote \n",
    "The `dataFileVMgr` will manage a cache of data files in `../dataEURdf`, the data will be downloaded\n",
    "from  https://data.europa.eu using the SPARQL query endpoint. The meta information is stored/cached  in `../dataEURdf/.cache*`\n",
    "\n",
    "We check what is in the cache/data directory; for each file, we identify the latest version, \n",
    "and list this below to make sure. The file name will usually contain a time stamp.\n",
    "\n",
    "<FONT COLOR=\"RED\">TO BE CHECKED For the files used in this notebook, the latest version is used/loaded irrespective of the\n",
    "timestamp used in the notebook.</FONT>"
   ]
  },
  {
   "cell_type": "code",
   "execution_count": 5,
   "metadata": {
    "scrolled": false
   },
   "outputs": [
    {
     "name": "stdout",
     "output_type": "stream",
     "text": [
      "In <class 'lib.DataMgrRdf.manageAndCacheDataFilesRdfEU'>._buildRemoteSparql\t available options:\n",
      "\t['ApiHeaders', 'ApiInq', 'CacheValidity', 'HttpHDR', 'HttpRQT', 'cacheFname', 'httpTimeOut', 'maxDirSz', 'maxImportSz', 'showMetaData']\n",
      "HTTP response headers:{'Content-Type': 'text/html', 'Content-Length': '1365', 'Connection': 'keep-alive', 'Date': 'Mon, 03 May 2021 10:31:24 GMT', 'Last-Modified': 'Thu, 29 Apr 2021 14:46:31 GMT', 'Access-Control-Allow-Origin': '*', 'Accept-Ranges': 'bytes', 'ETag': '\"608ac6c7-555\"', 'X-Cache': 'Miss from cloudfront', 'Via': '1.1 f7946a4607f30d9f711fcb97773ed57e.cloudfront.net (CloudFront)', 'X-Amz-Cf-Pop': 'CDG50-C1', 'X-Amz-Cf-Id': 'sruAJtOdbxQ71Fm7VHO0bexnL0dKx7swI3joFz30YV78X4BiVhYuSQ=='}\n",
      "HTTP request:<PreparedRequest [GET]>\n",
      "HTTP request headers:{'User-Agent': 'python-requests/2.22.0', 'Accept-Encoding': 'gzip, deflate', 'Accept': 'application/rdf+xml', 'Connection': 'keep-alive'}\n",
      "URL/request=https://data.europa.eu/data/datasets?locale=&query=%0APREFIX%20http%3A%20%3Chttp%3A//www.w3.org/2011/http%23%3E%0APREFIX%20dcat%3A%20%3Chttp%3A//www.w3.org/ns/dcat%23%3E%0APREFIX%20odp%3A%20%20%3Chttp%3A//data.europa.eu/euodp/ontologies/ec-odp%23%3E%0APREFIX%20dc%3A%20%3Chttp%3A//purl.org/dc/terms/%3E%0APREFIX%20xsd%3A%20%3Chttp%3A//www.w3.org/2001/XMLSchema%23%3E%0APREFIX%20foaf%3A%20%3Chttp%3A//xmlns.com/foaf/0.1/%3E%0A%0ASELECT%20distinct%20%3Fg%20%3Ftitle%20%3FdsURI%20%3FDatasetTitle%20%3FPublisher%20%3Fdloadurl%20%3Flang%20%3Fissue%20%3Fmod%20%3Fsource%20%3Fsz%20%3Ffrequency%20%3FResource%20%3FResourceDescription%20%0AWHERE%20%7B%20GRAPH%20%3Fg%20%7B%20filter%20regex%28%3Ftitle%2C%20%27%5ECOVID.%2Adata%27%2C%20%27i%27%29.%20%0A%20%20%20%20%20%20%20%20%20%20%20%20%20%20%20%20%20%20%20FILTER%20langMatches%28%20lang%28%3Ftitle%29%2C%20%22EN%22%20%29.%0A%20%20%20%20%20%20%20%20%20%20%20%20%20%20%20%20%20%20%20%3FdsURI%20%20%20%20a%20%20%20%20%20%20%20%20dcat%3ADataset.%0A%20%20%20%20%20%20%20%20%20%20%20%20%20%20%20%20%20%20%20%3FdsURI%20%20%20%20dc%3Atitle%20%3Ftitle%20.%0A%20%20%20%20%20%20%20%20%20%20%20%20%20%20%20%20%20%20%20%3FdsURI%20%20%20%20dc%3Apublisher%20%20%20%3FPublisher%20.%20%0A%20%20%20%20%20%20%20%20%20%20%20%20%20%20%20%20%20%20%20%3FdsURI%20%20%20%20dc%3Atitle%20%3FDatasetTitle%20.%20%0A%20%20%20%20%20%20%20%20%20%20%20%20%20%20%20%20%20%20%20OPTIONAL%20%7B%20%3FdsURI%20%20%20%20dc%3AaccrualPeriodicity%20%20%20%3Ffrequency%20.%20%7D%0A%20%20%20%20%20%20%20%20%20%20%20%20%20%20%20%20%20%20%20OPTIONAL%20%7B%20%3FdsURI%20%20%20%20dc%3Alanguage%20%3Flang.%20%7D%0A%20%20%20%20%20%20%20%20%20%20%20%20%20%20%20%20%20%20%20OPTIONAL%20%7B%20%3FdsURI%20%20%20%20dc%3Amodified%20%3Fmod.%20%7D%20%20%20%20%23%20rare%0A%20%20%20%20%20%20%20%20%20%20%20%20%20%20%20%20%20%20%20OPTIONAL%20%7B%20%3FdsURI%20%20%20%20dc%3Aissued%20%20%20%3Fissued.%20%7D%20%20%23%20rare%0A%20%20%20%20%20%20%20%20%20%20%20%20%20%20%20%20%20%20%20%3FdsURI%20%20%20%20dcat%3Adistribution%20%3FResource.%0A%20%20%20%20%20%20%20%20%20%20%20%20%20%20%20%20%20%20%20OPTIONAL%20%7B%20%3FResource%20dc%3Adescription%20%3FResourceDescription.%20%7D%0A%20%20%20%20%20%20%20%20%20%20%20%20%20%20%20%20%20%20%20OPTIONAL%20%7B%20%3FResource%20%20dcat%3AdownloadURL%20%3Fdloadurl.%20%7D%0A%20%20%20%20%20%20%20%20%20%20%20%20%20%20%20%20%20%20%20OPTIONAL%20%7B%20%3FResource%20%20dcat%3AbyteSize%20%3Fsz.%20%7D%0A%20%20%20%20%20%20%20%20%20%20%20%20%20%20%20%20%20%20%20%23OPTIONAL%20%7B%20%3FResource%20%20dc%3Aformat%20%20%20%20%20%3Ffmt%20.%20%7D%0A%20%20%20%20%20%20%20%20%20%20%20%20%20%20%20%20%20%20%20%23OPTIONAL%20%7B%20%3FResource%20%20dc%3Aissued%20%20%20%20%20%3Frissue.%20%7D%0A%20%20%20%20%20%20%20%20%7D%20%20%0A%7D%20%0A%20%20ORDER%20BY%20%3Fmod%20%3Ftitle%20%0A%20%20LIMIT%20200%0A%20%20OFFSET%200%0A\n",
      "\tStatus:200:ok\n",
      "In prepareMeta (<lib.DataMgrRdf.manageAndCacheDataFilesRdfEU object at 0x7ffb8c894b80>)\n",
      "self.metadata = {'options': {'maxDirSz': 188743680, 'HttpRQT': 'POST', 'HttpHDR': 'https://data.europa.eu/euodp/', 'ApiInq': 'sparqlep', 'ApiHeaders': {'Accept': 'application/rdf+xml', 'Content-Type': 'application/rdf+xml'}, 'CacheValidity': 43200, 'maxImportSz': 5242880, 'showMetaData': True, 'cacheFname': '.cache.rdf', 'httpTimeOut': 1}, 'HTTP:Query:Sparql': '\\nPREFIX http: <http://www.w3.org/2011/http#>\\nPREFIX dcat: <http://www.w3.org/ns/dcat#>\\nPREFIX odp:  <http://data.europa.eu/euodp/ontologies/ec-odp#>\\nPREFIX dc: <http://purl.org/dc/terms/>\\nPREFIX xsd: <http://www.w3.org/2001/XMLSchema#>\\nPREFIX foaf: <http://xmlns.com/foaf/0.1/>\\n\\nSELECT distinct ?g ?title ?dsURI ?DatasetTitle ?Publisher ?dloadurl ?lang ?issue ?mod ?source ?sz ?frequency ?Resource ?ResourceDescription \\nWHERE { GRAPH ?g { filter regex(?title, \\'^COVID.*data\\', \\'i\\'). \\n                   FILTER langMatches( lang(?title), \"EN\" ).\\n                   ?dsURI    a        dcat:Dataset.\\n                   ?dsURI    dc:title ?title .\\n                   ?dsURI    dc:publisher   ?Publisher . \\n                   ?dsURI    dc:title ?DatasetTitle . \\n                   OPTIONAL { ?dsURI    dc:accrualPeriodicity   ?frequency . }\\n                   OPTIONAL { ?dsURI    dc:language ?lang. }\\n                   OPTIONAL { ?dsURI    dc:modified ?mod. }    # rare\\n                   OPTIONAL { ?dsURI    dc:issued   ?issued. }  # rare\\n                   ?dsURI    dcat:distribution ?Resource.\\n                   OPTIONAL { ?Resource dc:description ?ResourceDescription. }\\n                   OPTIONAL { ?Resource  dcat:downloadURL ?dloadurl. }\\n                   OPTIONAL { ?Resource  dcat:byteSize ?sz. }\\n                   #OPTIONAL { ?Resource  dc:format     ?fmt . }\\n                   #OPTIONAL { ?Resource  dc:issued     ?rissue. }\\n        }  \\n} \\n  ORDER BY ?mod ?title \\n  LIMIT 200\\n  OFFSET 0\\n', 'HTTP:Query:sha256': 'a693bc356a9cf5aef3647fd1b0c9801a422e170556538e18e73e86e865227b61', 'HTTP:Hdr:rqt': {'User-Agent': 'python-requests/2.22.0', 'Accept-Encoding': 'gzip, deflate', 'Accept': 'application/rdf+xml', 'Connection': 'keep-alive'}, 'HTTP:Hdr:resp': {'Content-Type': 'text/html', 'Content-Length': '1365', 'Connection': 'keep-alive', 'Date': 'Mon, 03 May 2021 10:31:24 GMT', 'Last-Modified': 'Thu, 29 Apr 2021 14:46:31 GMT', 'Access-Control-Allow-Origin': '*', 'Accept-Ranges': 'bytes', 'ETag': '\"608ac6c7-555\"', 'X-Cache': 'Miss from cloudfront', 'Via': '1.1 f7946a4607f30d9f711fcb97773ed57e.cloudfront.net (CloudFront)', 'X-Amz-Cf-Pop': 'CDG50-C1', 'X-Amz-Cf-Id': 'sruAJtOdbxQ71Fm7VHO0bexnL0dKx7swI3joFz30YV78X4BiVhYuSQ=='}, 'data:type': 'txt/xml+rdf'}\n",
      "About to parse (etree.fromstring)\n",
      "b'<!DOCTYPE html><html><head><meta charset=utf-8><meta name=viewport content=\"width=device-width,initial-scale=1\"><title>data.europa.eu</title><link rel=\"shortcut icon\" type=image/ico href=/data/static/favicon.ico><link rel=preload href=/data/static/preload-styles/loading-animation.css as=style><link rel=preload href=/data/static/fonts/material-icons.css as=style><link rel=stylesheet href=/data/static/preload-styles/loading-animation.css><link rel=stylesheet href=/data/static/fonts/material-icons.css><link rel=preconnect href=https://api.tiles.mapbox.com><link href=/data/static/css/vendors~app.dac2313fb0274ecf3674.css rel=stylesheet><link href=/data/static/css/app.dac2313fb0274ecf3674.css rel=stylesheet><link as=\"style\" href=\"/data/static/css/app.dac2313fb0274ecf3674.css\" rel=\"preload\"><link as=\"style\" href=\"/data/static/css/vendors~app.dac2313fb0274ecf3674.css\" rel=\"preload\"><link as=\"script\" href=\"/data/static/js/app.01d12789227db0e8a5a9.js\" rel=\"preload\"><link as=\"script\" href=\"/data/static/js/vendors~app.70266ed9cf348db4a51b.js\" rel=\"preload\"></head><body><div id=app><app><div class=spinner-container id=good><div class=spinner></div></div></app></div><script type=text/javascript src=/data/static/js/vendors~app.70266ed9cf348db4a51b.js></script><script type=text/javascript src=/data/static/js/app.01d12789227db0e8a5a9.js></script></body></html>'\n",
      "\n",
      "Trying command /usr/bin/firefox -new-tab file:///tmp/DispHtml58hshz8g.html\n"
     ]
    },
    {
     "name": "stderr",
     "output_type": "stream",
     "text": [
      "Could not parse as XML/RDF\n",
      "\tAttValue: \" or ' expected, line 1, column 42 (<string>, line 1)\n",
      "inString:<class 'bytes'>:b'<!DOCTYPE html><html><head><meta charset=utf-8><meta name=viewport content=\"width=device-width,initial-scale=1\"><title>data.europa.eu</title><link rel=\"shortcut icon\" type=image/ico href=/data/static/favicon.ico><link rel=preload href=/data/static/preload-styles/loading-animation.css as=style><link rel=preload href=/data/static/fonts/material-icons.css as=style><link rel=stylesheet href=/data/static/preload-styles/loading-animation.css><link rel=stylesheet href=/data/static/fonts/material-icons.css><link rel=preconnect href=https://api.tiles.mapbox.com><link href=/data/static/css/vendors~app.dac2313fb0274ecf3674.css rel=stylesheet><link href=/data/static/css/app.dac2313fb0274ecf3674.css rel=stylesheet><link as=\"style\" href=\"/data/static/css/app.dac2313fb0274ecf3674.css\" rel=\"preload\"><link as=\"style\" href=\"/data/static/css/vendors~app.dac2313fb0274ecf3674.css\" rel=\"preload\"><link as=\"script\" href=\"/data/static/js/app.01d12789227db0e8a5a9.js\" rel=\"preload\"><link as=\"script\" href=\"/data/static/js/vendors~app.70266ed9cf348db4a51b.js\" rel=\"preload\"></head><body><div id=app><app><div class=spinner-container id=good><div class=spinner></div></div></app></div><script type=text/javascript src=/data/static/js/vendors~app.70266ed9cf348db4a51b.js></script><script type=text/javascript src=/data/static/js/app.01d12789227db0e8a5a9.js></script></body></html>'\n",
      "metadata=(<class 'dict'>){'options': {'maxDirSz': 188743680, 'HttpRQT': 'POST', 'HttpHDR': 'https://data.europa.eu/euodp/', 'ApiInq': 'sparqlep', 'ApiHeaders': {'Accept': 'application/rdf+xml', 'Content-Type': 'application/rdf+xml'}, 'CacheValidity': 43200, 'maxImportSz': 5242880, 'showMetaData': True, 'cacheFname': '.cache.rdf', 'httpTimeOut': 1, 'cachefileRDF': '../dataEURdf/.cache.prdf'}, 'HTTP:Query:Sparql': '\\nPREFIX http: <http://www.w3.org/2011/http#>\\nPREFIX dcat: <http://www.w3.org/ns/dcat#>\\nPREFIX odp:  <http://data.europa.eu/euodp/ontologies/ec-odp#>\\nPREFIX dc: <http://purl.org/dc/terms/>\\nPREFIX xsd: <http://www.w3.org/2001/XMLSchema#>\\nPREFIX foaf: <http://xmlns.com/foaf/0.1/>\\n\\nSELECT distinct ?g ?title ?dsURI ?DatasetTitle ?Publisher ?dloadurl ?lang ?issue ?mod ?source ?sz ?frequency ?Resource ?ResourceDescription \\nWHERE { GRAPH ?g { filter regex(?title, \\'^COVID.*data\\', \\'i\\'). \\n                   FILTER langMatches( lang(?title), \"EN\" ).\\n                   ?dsURI    a        dcat:Dataset.\\n                   ?dsURI    dc:title ?title .\\n                   ?dsURI    dc:publisher   ?Publisher . \\n                   ?dsURI    dc:title ?DatasetTitle . \\n                   OPTIONAL { ?dsURI    dc:accrualPeriodicity   ?frequency . }\\n                   OPTIONAL { ?dsURI    dc:language ?lang. }\\n                   OPTIONAL { ?dsURI    dc:modified ?mod. }    # rare\\n                   OPTIONAL { ?dsURI    dc:issued   ?issued. }  # rare\\n                   ?dsURI    dcat:distribution ?Resource.\\n                   OPTIONAL { ?Resource dc:description ?ResourceDescription. }\\n                   OPTIONAL { ?Resource  dcat:downloadURL ?dloadurl. }\\n                   OPTIONAL { ?Resource  dcat:byteSize ?sz. }\\n                   #OPTIONAL { ?Resource  dc:format     ?fmt . }\\n                   #OPTIONAL { ?Resource  dc:issued     ?rissue. }\\n        }  \\n} \\n  ORDER BY ?mod ?title \\n  LIMIT 200\\n  OFFSET 0\\n', 'HTTP:Query:sha256': 'a693bc356a9cf5aef3647fd1b0c9801a422e170556538e18e73e86e865227b61', 'HTTP:Hdr:rqt': {'User-Agent': 'python-requests/2.22.0', 'Accept-Encoding': 'gzip, deflate', 'Accept': 'application/rdf+xml', 'Connection': 'keep-alive'}, 'HTTP:Hdr:resp': {'Content-Type': 'text/html', 'Content-Length': '1365', 'Connection': 'keep-alive', 'Date': 'Mon, 03 May 2021 10:31:24 GMT', 'Last-Modified': 'Thu, 29 Apr 2021 14:46:31 GMT', 'Access-Control-Allow-Origin': '*', 'Accept-Ranges': 'bytes', 'ETag': '\"608ac6c7-555\"', 'X-Cache': 'Miss from cloudfront', 'Via': '1.1 f7946a4607f30d9f711fcb97773ed57e.cloudfront.net (CloudFront)', 'X-Amz-Cf-Pop': 'CDG50-C1', 'X-Amz-Cf-Id': 'sruAJtOdbxQ71Fm7VHO0bexnL0dKx7swI3joFz30YV78X4BiVhYuSQ=='}, 'data:type': 'txt/xml+rdf'}\n",
      "HTTP Metadata for failed parse:\n",
      "options:\tmaxDirSz\t->188743680\n",
      "\tHttpRQT\t->POST\n",
      "\tHttpHDR\t->https://data.europa.eu/euodp/\n",
      "\tApiInq\t->sparqlep\n",
      "\tApiHeaders\t->{'Accept': 'application/rdf+xml', 'Content-Type': 'application/rdf+xml'}\n",
      "\tCacheValidity\t->43200\n",
      "\tmaxImportSz\t->5242880\n",
      "\tshowMetaData\t->True\n",
      "\tcacheFname\t->.cache.rdf\n",
      "\thttpTimeOut\t->1\n",
      "\tcachefileRDF\t->../dataEURdf/.cache.prdf\n",
      "HTTP:Query:Sparql:\t\n",
      "PREFIX http: <http://www.w3.org/2011/http#>\n",
      "PREFIX dcat: <http://www.w3.org/ns/dcat#>\n",
      "PREFIX odp:  <http://data.europa.eu/euodp/ontologies/ec-odp#>\n",
      "PREFIX dc: <http://purl.org/dc/terms/>\n",
      "PREFIX xsd: <http://www.w3.org/2001/XMLSchema#>\n",
      "PREFIX foaf: <http://xmlns.com/foaf/0.1/>\n",
      "\n",
      "SELECT distinct ?g ?title ?dsURI ?DatasetTitle ?Publisher ?dloadurl ?lang ?issue ?mod ?source ?sz ?frequency ?Resource ?ResourceDescription \n",
      "WHERE { GRAPH ?g { filter regex(?title, '^COVID.*data', 'i'). \n",
      "                   FILTER langMatches( lang(?title), \"EN\" ).\n",
      "                   ?dsURI    a        dcat:Dataset.\n",
      "                   ?dsURI    dc:title ?title .\n",
      "                   ?dsURI    dc:publisher   ?Publisher . \n",
      "                   ?dsURI    dc:title ?DatasetTitle . \n",
      "                   OPTIONAL { ?dsURI    dc:accrualPeriodicity   ?frequency . }\n",
      "                   OPTIONAL { ?dsURI    dc:language ?lang. }\n",
      "                   OPTIONAL { ?dsURI    dc:modified ?mod. }    # rare\n",
      "                   OPTIONAL { ?dsURI    dc:issued   ?issued. }  # rare\n",
      "                   ?dsURI    dcat:distribution ?Resource.\n",
      "                   OPTIONAL { ?Resource dc:description ?ResourceDescription. }\n",
      "                   OPTIONAL { ?Resource  dcat:downloadURL ?dloadurl. }\n",
      "                   OPTIONAL { ?Resource  dcat:byteSize ?sz. }\n",
      "                   #OPTIONAL { ?Resource  dc:format     ?fmt . }\n",
      "                   #OPTIONAL { ?Resource  dc:issued     ?rissue. }\n",
      "        }  \n",
      "} \n",
      "  ORDER BY ?mod ?title \n",
      "  LIMIT 200\n",
      "  OFFSET 0\n",
      "\n",
      "HTTP:Query:sha256:\ta693bc356a9cf5aef3647fd1b0c9801a422e170556538e18e73e86e865227b61\n",
      "HTTP:Hdr:rqt:\t{'User-Agent': 'python-requests/2.22.0', 'Accept-Encoding': 'gzip, deflate', 'Accept': 'application/rdf+xml', 'Connection': 'keep-alive'}\n",
      "HTTP:Hdr:resp:\t{'Content-Type': 'text/html', 'Content-Length': '1365', 'Connection': 'keep-alive', 'Date': 'Mon, 03 May 2021 10:31:24 GMT', 'Last-Modified': 'Thu, 29 Apr 2021 14:46:31 GMT', 'Access-Control-Allow-Origin': '*', 'Accept-Ranges': 'bytes', 'ETag': '\"608ac6c7-555\"', 'X-Cache': 'Miss from cloudfront', 'Via': '1.1 f7946a4607f30d9f711fcb97773ed57e.cloudfront.net (CloudFront)', 'X-Amz-Cf-Pop': 'CDG50-C1', 'X-Amz-Cf-Id': 'sruAJtOdbxQ71Fm7VHO0bexnL0dKx7swI3joFz30YV78X4BiVhYuSQ=='}\n",
      "data:type:\ttxt/xml+rdf\n"
     ]
    },
    {
     "ename": "XMLSyntaxError",
     "evalue": "AttValue: \" or ' expected, line 1, column 42 (<string>, line 1)",
     "output_type": "error",
     "traceback": [
      "Traceback \u001b[0;36m(most recent call last)\u001b[0m:\n",
      "  File \u001b[1;32m\"/home/alain/test/MachLearn/COVID/venv/lib/python3.8/site-packages/IPython/core/interactiveshell.py\"\u001b[0m, line \u001b[1;32m3437\u001b[0m, in \u001b[1;35mrun_code\u001b[0m\n    exec(code_obj, self.user_global_ns, self.user_ns)\n",
      "  File \u001b[1;32m\"<ipython-input-5-ef02e626e653>\"\u001b[0m, line \u001b[1;32m2\u001b[0m, in \u001b[1;35m<module>\u001b[0m\n    dataFileVMgr.getRemoteInfo()\n",
      "  File \u001b[1;32m\"/home/alain/test/MachLearn/COVID/source/lib/DataMgr.py\"\u001b[0m, line \u001b[1;32m265\u001b[0m, in \u001b[1;35mgetRemoteInfo\u001b[0m\n    fullyPrepared = self._getRemoteMeta()\n",
      "  File \u001b[1;32m\"/home/alain/test/MachLearn/COVID/source/lib/DataMgrRdf.py\"\u001b[0m, line \u001b[1;32m55\u001b[0m, in \u001b[1;35m_getRemoteMeta\u001b[0m\n    self.prepareMeta(fromCache=False)\n",
      "  File \u001b[1;32m\"/home/alain/test/MachLearn/COVID/source/lib/DataMgrRdf.py\"\u001b[0m, line \u001b[1;32m147\u001b[0m, in \u001b[1;35mprepareMeta\u001b[0m\n    raise err\n",
      "  File \u001b[1;32m\"/home/alain/test/MachLearn/COVID/source/lib/DataMgrRdf.py\"\u001b[0m, line \u001b[1;32m138\u001b[0m, in \u001b[1;35mprepareMeta\u001b[0m\n    xmlParser.parseQueryResult(inString=self.data, metadata=self.metadata)\n",
      "  File \u001b[1;32m\"/home/alain/test/MachLearn/COVID/source/lib/RDFandQuery.py\"\u001b[0m, line \u001b[1;32m197\u001b[0m, in \u001b[1;35mparseQueryResult\u001b[0m\n    raise err\n",
      "  File \u001b[1;32m\"/home/alain/test/MachLearn/COVID/source/lib/RDFandQuery.py\"\u001b[0m, line \u001b[1;32m163\u001b[0m, in \u001b[1;35mparseQueryResult\u001b[0m\n    self.tree = etree.fromstring(inString, parser)\n",
      "  File \u001b[1;32m\"src/lxml/etree.pyx\"\u001b[0m, line \u001b[1;32m3237\u001b[0m, in \u001b[1;35mlxml.etree.fromstring\u001b[0m\n",
      "  File \u001b[1;32m\"src/lxml/parser.pxi\"\u001b[0m, line \u001b[1;32m1896\u001b[0m, in \u001b[1;35mlxml.etree._parseMemoryDocument\u001b[0m\n",
      "  File \u001b[1;32m\"src/lxml/parser.pxi\"\u001b[0m, line \u001b[1;32m1784\u001b[0m, in \u001b[1;35mlxml.etree._parseDoc\u001b[0m\n",
      "  File \u001b[1;32m\"src/lxml/parser.pxi\"\u001b[0m, line \u001b[1;32m1141\u001b[0m, in \u001b[1;35mlxml.etree._BaseParser._parseDoc\u001b[0m\n",
      "  File \u001b[1;32m\"src/lxml/parser.pxi\"\u001b[0m, line \u001b[1;32m615\u001b[0m, in \u001b[1;35mlxml.etree._ParserContext._handleParseResultDoc\u001b[0m\n",
      "  File \u001b[1;32m\"src/lxml/parser.pxi\"\u001b[0m, line \u001b[1;32m725\u001b[0m, in \u001b[1;35mlxml.etree._handleParseResult\u001b[0m\n",
      "\u001b[0;36m  File \u001b[0;32m\"src/lxml/parser.pxi\"\u001b[0;36m, line \u001b[0;32m654\u001b[0;36m, in \u001b[0;35mlxml.etree._raiseParseError\u001b[0;36m\u001b[0m\n",
      "\u001b[0;36m  File \u001b[0;32m\"<string>\"\u001b[0;36m, line \u001b[0;32m1\u001b[0m\n\u001b[0;31mXMLSyntaxError\u001b[0m\u001b[0;31m:\u001b[0m AttValue: \" or ' expected, line 1, column 42\n"
     ]
    }
   ],
   "source": [
    "dataFileVMgr = manageAndCacheDataFilesRdfEU( \"../dataEURdf\", maxDirSz= 180*(2**10)**2)\n",
    "dataFileVMgr.getRemoteInfo()"
   ]
  },
  {
   "cell_type": "markdown",
   "metadata": {},
   "source": [
    "This can be long, the SPARQL processor used is not fast"
   ]
  },
  {
   "cell_type": "code",
   "execution_count": null,
   "metadata": {},
   "outputs": [],
   "source": [
    "dataFileVMgr.updatePrepare()\n",
    "dataFileVMgr.cacheUpdate()"
   ]
  },
  {
   "cell_type": "markdown",
   "metadata": {},
   "source": [
    "## Get some understanding of the available resource"
   ]
  },
  {
   "cell_type": "code",
   "execution_count": null,
   "metadata": {},
   "outputs": [],
   "source": [
    "nbLastDays = 30"
   ]
  },
  {
   "cell_type": "markdown",
   "metadata": {},
   "source": [
    "## Dig into the data"
   ]
  },
  {
   "cell_type": "code",
   "execution_count": null,
   "metadata": {
    "scrolled": true
   },
   "outputs": [],
   "source": [
    "print(\"Most recent versions of files in data directory:\")\n",
    "for f in dataFileVMgr.listMostRecent(nonTS=True) :\n",
    "    print(f\"\\t{f}\")"
   ]
  },
  {
   "cell_type": "code",
   "execution_count": null,
   "metadata": {
    "scrolled": true
   },
   "outputs": [],
   "source": [
    "last = lambda x: dataFileVMgr.getRecentVersion(x,default=os.path.join(dataFileVMgr.dirpath,x))"
   ]
  },
  {
   "cell_type": "code",
   "execution_count": null,
   "metadata": {},
   "outputs": [],
   "source": [
    "dataFileVMgr.nonTSFiles"
   ]
  },
  {
   "cell_type": "code",
   "execution_count": null,
   "metadata": {},
   "outputs": [],
   "source": [
    "covidDataEUCsv = last(\"covid-19-coronavirus-data-weekly-from-17-december-2020.csv\")\n",
    "data_covidDataEU  = read_csvPandas(covidDataEUCsv , error_bad_lines=False,sep=\",\" )"
   ]
  },
  {
   "cell_type": "markdown",
   "metadata": {},
   "source": [
    "Explanations and description about this file is found at https://data.europa.eu/euodp/en/data/dataset/covid-19-coronavirus-data-weekly-from-17-december-2020:\n",
    "\n",
    "https://www.ecdc.europa.eu/en/publications-data/data-national-14-day-notification-rate-covid-19:\n",
    "Data on 14-day notification rate of new COVID-19 cases and deaths\n",
    "The downloadable data file contains information on the 14-day notification rate of newly reported COVID-19 cases per 100 000 population and the 14-day notification rate of reported deaths per million population by week and country. Each row contains the corresponding data for a certain day and per country. The file is updated weekly. You may use the data in line with ECDC’s copyright policy.\n",
    "https://www.ecdc.europa.eu/sites/default/files/documents/2021-01-13_Variable_Dictionary_and_Disclaimer_national_weekly_data.pdf\n",
    "rate_14_day 14-day notification rate of reported COVID-19 cases per 100\n",
    "000 population OR 14-day notification rate of reported\n",
    "deaths per 1 000 000 population\n",
    "\n",
    "\n",
    "\n",
    "After the transformation to weekly data, check that numbers are really weekly, dates appear in 'DateRep' and also in 'year_week' in distinct formats. Checked weekly results with \"StopCovid\" application at https://www.gouvernement.fr/info-coronavirus/tousanticovid (still factor 2 discrepancy ?) ."
   ]
  },
  {
   "cell_type": "code",
   "execution_count": null,
   "metadata": {},
   "outputs": [],
   "source": [
    "msk= (data_covidDataEU.loc[:,'country'] == 'France') & (data_covidDataEU.loc[:,'indicator'] == 'cases')\n",
    "data_covidDataEU[msk].iloc[-10:].describe()"
   ]
  },
  {
   "cell_type": "code",
   "execution_count": null,
   "metadata": {},
   "outputs": [],
   "source": [
    "data_covidDataEU[msk].iloc[-10:]"
   ]
  },
  {
   "cell_type": "code",
   "execution_count": null,
   "metadata": {},
   "outputs": [],
   "source": [
    "msk= (data_covidDataEU.loc[:,'country'] == 'France') & (data_covidDataEU.loc[:,'indicator'] == 'deaths')\n",
    "data_covidDataEU[msk].iloc[:].describe()"
   ]
  },
  {
   "cell_type": "code",
   "execution_count": null,
   "metadata": {},
   "outputs": [],
   "source": [
    "data_covidDataEU.columns"
   ]
  },
  {
   "cell_type": "markdown",
   "metadata": {},
   "source": [
    "This seems necessary, since there were NaNs in the \"geoId\" column"
   ]
  },
  {
   "cell_type": "code",
   "execution_count": null,
   "metadata": {},
   "outputs": [],
   "source": [
    "for coln in ( \"country_code\", \"country\"):\n",
    "    si = sortedColIds(data_covidDataEU, coln)\n",
    "    print(f\"{coln:30}-> {len(si)} elts\")"
   ]
  },
  {
   "cell_type": "markdown",
   "metadata": {},
   "source": [
    "**New with version of data input** (2021, found this late in April):\n",
    "Now we have to make do with \"year_week\" information in the form \"yyyy-ww\", as opposed to format=\"%d/%m/%Y\".  Acceptable format documented at https://docs.python.org/3/library/datetime.html#strftime-and-strptime-behavior.\n",
    "Appropriate format is \"%Y-%W-%w\" where \"%w\" is day of week information.\n",
    "\n",
    "You need also define start day:\n",
    "~~~\n",
    "a = pd.to_datetime('2017_01_0',format = '%Y_%W_%w')\n",
    "print (a)\n",
    "2017-01-08 00:00:00\n",
    "~~~"
   ]
  },
  {
   "cell_type": "markdown",
   "metadata": {},
   "source": [
    "### Lets visualize data from this *new* dataFrame"
   ]
  },
  {
   "cell_type": "code",
   "execution_count": null,
   "metadata": {},
   "outputs": [],
   "source": [
    "data_covidDataEU[\"date\"] = PAN.to_datetime(data_covidDataEU.loc[:,\"year_week\"]+\"-1\", format=\"%Y-%W-%w\")\n",
    "dateStart = data_covidDataEU[\"date\"].min()\n",
    "dateEnd   = data_covidDataEU[\"date\"].max() \n",
    "dateSpan  = dateEnd - dateStart \n",
    "print(f\"Our statistics span {dateSpan.days+1} days, start: {dateStart} and end {dateEnd}\")\n",
    "\n",
    "data_covidDataEU[\"elapsedDays\"] = (data_covidDataEU[\"date\"] - dateStart).dt.days"
   ]
  },
  {
   "cell_type": "code",
   "execution_count": null,
   "metadata": {},
   "outputs": [],
   "source": [
    "def prepareDataPerCountry(df, continent=None, minPop=None, maxPop=None):\n",
    " dt = df.copy()\n",
    " dt = dt.set_index(\"continent\")\n",
    " sel = True\n",
    " if continent is not None:\n",
    "    sel = dt.index == continent\n",
    " if minPop is not None:\n",
    "    sel = sel & (dt.loc[:,\"population\"]>= minPop)\n",
    " if maxPop is not None:\n",
    "    sel = sel & (dt.loc[:,\"population\"]>= maxPop)\n",
    "    \n",
    " dtx = dt[sel]   \n",
    " dtg = dtx.groupby(\"country\")\n",
    " return dtg"
   ]
  },
  {
   "cell_type": "code",
   "execution_count": null,
   "metadata": {},
   "outputs": [],
   "source": [
    "dtg = prepareDataPerCountry( data_covidDataEU,  continent=\"Asia\")\n",
    "myEUConverter = EUSiteData()\n",
    "argDict = { \"breakCond\" : lambda count, country : count > 45,\n",
    "            \"countryDataAdapter\" :myEUConverter ,\n",
    "            \"dateStart\" : dateStart}\n",
    "\n",
    "myFig =  perCountryFigure(**argDict )\n",
    "\n",
    "plotCols = ( \"cases\", \"deaths\")\n",
    "\n",
    "myFig.initPainter( subnodeSpec=45, maxCol=3)\n",
    "myFig.mkImage( dtg, plotCols)\n",
    " "
   ]
  },
  {
   "cell_type": "markdown",
   "metadata": {},
   "source": [
    "This is too detailed, let's specialize for the larger countries."
   ]
  },
  {
   "cell_type": "code",
   "execution_count": null,
   "metadata": {},
   "outputs": [],
   "source": [
    "dtg = prepareDataPerCountry(data_covidDataEU, continent=\"Europe\", minPop=2e7)\n",
    "myEUConverter = EUSiteData()\n",
    "argDict = { \"breakCond\" : lambda count, country : count > 12, \n",
    "            \"countryDataAdapter\":myEUConverter,\n",
    "             \"dateStart\" : dateStart,}\n",
    "myFig =  perCountryFigure(**argDict )\n",
    "\n",
    "plotCols = ( \"cases\", \"deaths\")\n",
    "\n",
    "myFig.initPainter( subnodeSpec=12, maxCol=3)\n",
    "myFig.mkImage( dtg, plotCols)\n",
    "ImgMgr.save_fig(\"FIG001\")"
   ]
  },
  {
   "cell_type": "code",
   "execution_count": null,
   "metadata": {},
   "outputs": [],
   "source": [
    "dtg = prepareDataPerCountry(data_covidDataEU, continent=\"Europe\", minPop=2e7)\n",
    "myEUConverter = EUSiteData()\n",
    "argDict = { \"breakCond\" : lambda count, country : count > 12, \n",
    "            \"countryDataAdapter\":myEUConverter,\n",
    "            \"dateStart\" : dateStart}\n",
    "myFig =  perCountryFigure(**argDict )\n",
    "\n",
    "plotCols = ( \"deaths\",)\n",
    "\n",
    "myFig.initPainter( subnodeSpec=12, maxCol=3)\n",
    "myFig.mkImage( dtg, plotCols)\n",
    "ImgMgr.save_fig(\"FIG002\") "
   ]
  },
  {
   "cell_type": "code",
   "execution_count": null,
   "metadata": {},
   "outputs": [],
   "source": [
    "dtg = prepareDataPerCountry(data_covidDataEU, continent=\"Europe\", minPop=2e7)\n",
    "myEUConverter = EUSiteData()\n",
    "argDict = { \"breakCond\" : lambda count, country : count > 12, \n",
    "            \"countryDataAdapter\":myEUConverter,\n",
    "            \"dateStart\" : dateStart}\n",
    "myFig =  perCountryFigure(**argDict )\n",
    "\n",
    "plotCols = ( \"cases\", \"deathscum\")\n",
    "\n",
    "myFig.initPainter( subnodeSpec=12, maxCol=3)\n",
    "myFig.mkImage( dtg, plotCols)\n",
    "ImgMgr.save_fig(\"FIG003\")"
   ]
  },
  {
   "cell_type": "code",
   "execution_count": null,
   "metadata": {},
   "outputs": [],
   "source": [
    "dtg = prepareDataPerCountry(data_covidDataEU, continent=\"Europe\", minPop=2e7)\n",
    "myEUConverter = EUSiteData()\n",
    "argDict = { \"breakCond\" : lambda count, country : count > 12, \n",
    "            \"countryDataAdapter\":myEUConverter,\n",
    "             \"dateStart\" : dateStart}\n",
    "myFig =  perCountryFigure(**argDict )\n",
    "\n",
    "plotCols = ( \"caserate\", \"deathscumrate\")\n",
    "\n",
    "myFig.initPainter( subnodeSpec=12, maxCol=3)\n",
    "myFig.mkImage( dtg, plotCols,  subImgPaintAttrs = perCountryFigure.perMillionSIPA )\n",
    "ImgMgr.save_fig(\"FIG004\")"
   ]
  },
  {
   "cell_type": "code",
   "execution_count": null,
   "metadata": {},
   "outputs": [],
   "source": [
    "dtg = prepareDataPerCountry(data_covidDataEU, continent=\"Europe\", minPop=2e7)\n",
    "myEUConverter = EUSiteData()\n",
    "argDict = { \"breakCond\" : lambda count, country : count > 12, \n",
    "            \"countryDataAdapter\":myEUConverter,\n",
    "             \"dateStart\" : dateStart}\n",
    "myFig =  perCountryFigure(**argDict )\n",
    "\n",
    "plotCols = ( \"deathrate\",)\n",
    "\n",
    "myFig.initPainter( subnodeSpec=12, maxCol=3)\n",
    "myFig.mkImage( dtg, plotCols,  subImgPaintAttrs = perCountryFigure.perMillionSIPA )\n",
    "ImgMgr.save_fig(\"FIG005\")"
   ]
  },
  {
   "cell_type": "markdown",
   "metadata": {},
   "source": [
    "### Look at the largest countries"
   ]
  },
  {
   "cell_type": "code",
   "execution_count": null,
   "metadata": {},
   "outputs": [],
   "source": [
    "dtg = prepareDataPerCountry(data_covidDataEU,  minPop=15e7)\n",
    "myEUConverter = EUSiteData()\n",
    "argDict = { \"breakCond\" : lambda count, country : count > 15, \n",
    "            \"countryDataAdapter\":myEUConverter,\n",
    "            \"dateStart\" : dateStart}\n",
    "myFig =  perCountryFigure(**argDict )\n",
    "\n",
    "plotCols = ( \"cases\", \"deaths\")\n",
    "\n",
    "myFig.initPainter( subnodeSpec=15, maxCol=3)\n",
    "myFig.mkImage( dtg, plotCols)\n",
    "ImgMgr.save_fig(\"FIG021\")"
   ]
  },
  {
   "cell_type": "code",
   "execution_count": null,
   "metadata": {},
   "outputs": [],
   "source": [
    "dtg = prepareDataPerCountry(data_covidDataEU, minPop=15e7)\n",
    "myEUConverter = EUSiteData()\n",
    "argDict = { \"breakCond\" : lambda count, country : count > 15, \n",
    "            \"countryDataAdapter\":myEUConverter, \n",
    "            \"dateStart\" : dateStart}\n",
    "myFig =  perCountryFigure(**argDict )\n",
    "\n",
    "plotCols = ( \"deaths\",)\n",
    "\n",
    "myFig.initPainter( subnodeSpec=15, maxCol=3)\n",
    "myFig.mkImage( dtg, plotCols)\n",
    "ImgMgr.save_fig(\"FIG022\") "
   ]
  },
  {
   "cell_type": "code",
   "execution_count": null,
   "metadata": {},
   "outputs": [],
   "source": [
    "dtg = prepareDataPerCountry(data_covidDataEU, minPop=15e7)\n",
    "myEUConverter = EUSiteData()\n",
    "argDict = { \"breakCond\" : lambda count, country : count > 15, \n",
    "            \"countryDataAdapter\":myEUConverter,\n",
    "            \"dateStart\" : dateStart}\n",
    "myFig =  perCountryFigure(**argDict )\n",
    "\n",
    "plotCols = ( \"cases\", \"deathscum\")\n",
    "\n",
    "myFig.initPainter( subnodeSpec=15, maxCol=3)\n",
    "myFig.mkImage( dtg, plotCols)\n",
    "ImgMgr.save_fig(\"FIG023\")"
   ]
  },
  {
   "cell_type": "code",
   "execution_count": null,
   "metadata": {},
   "outputs": [],
   "source": [
    "dtg = prepareDataPerCountry(data_covidDataEU, minPop=15e7)\n",
    "myEUConverter = EUSiteData()\n",
    "argDict = { \"breakCond\" : lambda count, country : count > 15, \n",
    "            \"countryDataAdapter\":myEUConverter,\n",
    "             \"dateStart\" : dateStart}\n",
    "myFig =  perCountryFigure(**argDict )\n",
    "\n",
    "plotCols = ( \"caserate\", \"deathscumrate\")\n",
    "\n",
    "myFig.initPainter( subnodeSpec=15, maxCol=3)\n",
    "myFig.mkImage( dtg, plotCols,  subImgPaintAttrs = perCountryFigure.perMillionSIPA )\n",
    "ImgMgr.save_fig(\"FIG024\")"
   ]
  },
  {
   "cell_type": "code",
   "execution_count": null,
   "metadata": {},
   "outputs": [],
   "source": [
    "dtg = prepareDataPerCountry(data_covidDataEU,  minPop=15e7)\n",
    "myEUConverter = EUSiteData()\n",
    "argDict = { \"breakCond\" : lambda count, country : count > 15, \n",
    "            \"countryDataAdapter\":myEUConverter,\n",
    "            \"dateStart\" : dateStart}\n",
    "myFig =  perCountryFigure(**argDict )\n",
    "\n",
    "plotCols = ( \"deathrate\",)\n",
    "\n",
    "myFig.initPainter( subnodeSpec=15, maxCol=3)\n",
    "myFig.mkImage( dtg, plotCols,  subImgPaintAttrs = perCountryFigure.perMillionSIPA )\n",
    "ImgMgr.save_fig(\"FIG025\")"
   ]
  },
  {
   "cell_type": "code",
   "execution_count": null,
   "metadata": {},
   "outputs": [],
   "source": []
  },
  {
   "cell_type": "code",
   "execution_count": null,
   "metadata": {},
   "outputs": [],
   "source": []
  },
  {
   "cell_type": "code",
   "execution_count": null,
   "metadata": {},
   "outputs": [],
   "source": []
  }
 ],
 "metadata": {
  "kernelspec": {
   "display_name": "Python 3",
   "language": "python",
   "name": "python3"
  },
  "language_info": {
   "codemirror_mode": {
    "name": "ipython",
    "version": 3
   },
   "file_extension": ".py",
   "mimetype": "text/x-python",
   "name": "python",
   "nbconvert_exporter": "python",
   "pygments_lexer": "ipython3",
   "version": "3.8.6"
  }
 },
 "nbformat": 4,
 "nbformat_minor": 2
}
