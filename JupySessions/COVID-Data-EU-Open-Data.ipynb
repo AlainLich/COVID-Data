{
 "cells": [
  {
   "cell_type": "markdown",
   "metadata": {},
   "source": [
    "#  Simple tool to analyze data from https://data.europa.eu/\n",
    "\n",
    "The EU Open Data Portal (EU ODP) aims to encourage the use of EU datasets for building third-party applications.\n",
    "\n",
    "**Note:** This is a Jupyter notebook which is also available as its executable export as a Python 3 script (therefore with automatically generated comments)."
   ]
  },
  {
   "cell_type": "markdown",
   "metadata": {},
   "source": [
    "# Libraries"
   ]
  },
  {
   "cell_type": "code",
   "execution_count": 1,
   "metadata": {
    "scrolled": true
   },
   "outputs": [],
   "source": [
    "# Sys import\n",
    "import sys, os, re\n",
    "# Common imports\n",
    "import math\n",
    "import numpy             as NP\n",
    "import numpy.random      as RAND\n",
    "import scipy.stats       as STATS\n",
    "from scipy import sparse\n",
    "from scipy import linalg\n",
    "\n",
    "# Better formatting functions\n",
    "from IPython.display import display, HTML\n",
    "from IPython import get_ipython\n",
    "\n",
    "import matplotlib        as MPL\n",
    "import matplotlib.pyplot as PLT\n",
    "import seaborn as SNS\n",
    "SNS.set(font_scale=1)\n",
    "\n",
    "# Python programming\n",
    "from itertools import cycle\n",
    "from time import time\n",
    "import datetime\n",
    "\n",
    "# Using pandas\n",
    "import pandas as PAN\n",
    "import xlrd"
   ]
  },
  {
   "cell_type": "code",
   "execution_count": 2,
   "metadata": {
    "scrolled": true
   },
   "outputs": [
    {
     "name": "stdout",
     "output_type": "stream",
     "text": [
      "For now, reduce python warnings, I will look into this later\n"
     ]
    }
   ],
   "source": [
    "import warnings\n",
    "warnings.filterwarnings('ignore')\n",
    "print(\"For now, reduce python warnings, I will look into this later\")"
   ]
  },
  {
   "cell_type": "markdown",
   "metadata": {},
   "source": [
    "### Import my own modules\n",
    "The next cell attempts to give user some information if things improperly setup.\n",
    "Intended to work both in Jupyter and when executing the Python file directly."
   ]
  },
  {
   "cell_type": "code",
   "execution_count": 3,
   "metadata": {
    "scrolled": true
   },
   "outputs": [
    {
     "name": "stdout",
     "output_type": "stream",
     "text": [
      "Loaded lib\n",
      "For now, reduce python warnings, I will look into this later\n"
     ]
    }
   ],
   "source": [
    "if not get_ipython() is None and os.path.abspath(\"../source/\") not in sys.path:\n",
    "    sys.path.append(os.path.abspath(\"../source/\"))\n",
    "try:\n",
    "    from lib.utilities     import *\n",
    "    from lib.figureHelpers import *\n",
    "    from lib.DataMgrRdf        import *\n",
    "    import lib.basicDataCTE as DCTE\n",
    "except Exception as err:\n",
    "    print(\"Could not find library 'lib' with contents 'DataGouvFr' \")\n",
    "    if get_ipython() is None:\n",
    "        print(\"Check the PYTHONPATH environment variable which should point to 'source' wich contains 'lib'\")\n",
    "    else:\n",
    "        print(\"You are supposed to be running in JupySessions, and '../source/lib' should exist\")\n",
    "    raise err"
   ]
  },
  {
   "cell_type": "markdown",
   "metadata": {},
   "source": [
    "## Check environment\n",
    "\n",
    "It is expected that:\n",
    "- your working directory is named `JupySessions`, \n",
    "- that it has subdirectories \n",
    "   - `images/*` where generated images may be stored to avoid overcrowding. \n",
    "- At the same level as your working dir there should be directories \n",
    "   - `../data` for storing input data and \n",
    "   - `../source` for python scripts.\n",
    "   \n",
    "My package library is in `../source/lib`, and users running under Python (not in Jupyter) should\n",
    "set their PYTHONPATH to include \"../source\" ( *or whatever appropriate* )."
   ]
  },
  {
   "cell_type": "code",
   "execution_count": 4,
   "metadata": {
    "scrolled": true
   },
   "outputs": [],
   "source": [
    "checkSetup(chap=\"Chap03\")\n",
    "ImgMgr = ImageMgr(chapdir=\"Chap03\")"
   ]
  },
  {
   "cell_type": "markdown",
   "metadata": {},
   "source": [
    "# Load Data"
   ]
  },
  {
   "cell_type": "markdown",
   "metadata": {},
   "source": [
    "## Functions"
   ]
  },
  {
   "cell_type": "markdown",
   "metadata": {},
   "source": [
    "## Load CSV and XLSX data from remote \n",
    "The `dataFileVMgr` will manage a cache of data files in `../dataEURdf`, the data will be downloaded\n",
    "from  https://data.europa.eu using the SPARQL query endpoint. The meta information is stored/cached  in `../dataEURdf/.cache*`\n",
    "\n",
    "We check what is in the cache/data directory; for each file, we identify the latest version, \n",
    "and list this below to make sure. The file name will usually contain a time stamp.\n",
    "\n",
    "<FONT COLOR=\"RED\">TO BE CHECKED For the files used in this notebook, the latest version is used/loaded irrespective of the\n",
    "timestamp used in the notebook.</FONT>"
   ]
  },
  {
   "cell_type": "code",
   "execution_count": 5,
   "metadata": {},
   "outputs": [
    {
     "name": "stdout",
     "output_type": "stream",
     "text": [
      "Loaded pickle from ../dataEURdf/.cache.rdf, loaded 00h 26m 37s ago (336032 elts)\n",
      "cache metadata:{   'HTTP:Hdr:resp': {'Date': 'Thu, 07 May 2020 13:41:19 GMT', 'Content-Type': 'application/rdf+xml; charset=UTF-8', 'Access-Control-Allow-Origin': '*', 'Server': 'Europa', 'Connection': 'close', 'Content-Encoding': 'gzip'},\n",
      "    'HTTP:Hdr:rqt': {'User-Agent': 'python-requests/2.23.0', 'Accept-Encoding': 'gzip, deflate', 'Accept': 'application/rdf+xml', 'Connection': 'keep-alive', 'Content-Type': 'application/rdf+xml', 'Content-Length': '0'},\n",
      "    'HTTP:Query:Sparql': '\\n'\n",
      "                         'PREFIX http: <http://www.w3.org/2011/http#>\\n'\n",
      "                         'PREFIX dcat: <http://www.w3.org/ns/dcat#>\\n'\n",
      "                         'PREFIX odp:  <http://data.europa.eu/euodp/ontologies/ec-odp#>\\n'\n",
      "                         'PREFIX dc: <http://purl.org/dc/terms/>\\n'\n",
      "                         'PREFIX xsd: <http://www.w3.org/2001/XMLSchema#>\\n'\n",
      "                         'PREFIX foaf: <http://xmlns.com/foaf/0.1/>\\n'\n",
      "                         '\\n'\n",
      "                         'SELECT distinct ?g ?title ?dsURI ?DatasetTitle ?Publisher ?dloadurl ?lang ?issue ?mod ?source ?sz ?rissue ?fmt ?Resource '\n",
      "                         '?ResourceDescription \\n'\n",
      "                         \"WHERE { GRAPH ?g { filter regex(?title, 'COVID', 'i'). \\n\"\n",
      "                         '                   FILTER langMatches( lang(?title), \"EN\" ).\\n'\n",
      "                         '                   ?dsURI    a        dcat:Dataset.\\n'\n",
      "                         '                   ?dsURI    dc:title ?title .\\n'\n",
      "                         '                   ?dsURI    dc:publisher   ?Publisher . \\n'\n",
      "                         '                   ?dsURI    dc:title ?DatasetTitle . \\n'\n",
      "                         '                   OPTIONAL { ?dsURI    dc:language ?lang. }\\n'\n",
      "                         '                   OPTIONAL { ?dsURI    dc:modified ?mod. }    # rare\\n'\n",
      "                         '                   OPTIONAL { ?dsURI    dc:issued   ?issued. }  # rare\\n'\n",
      "                         '                   ?dsURI    dcat:distribution ?Resource.\\n'\n",
      "                         '                   OPTIONAL { ?Resource dc:description ?ResourceDescription. }\\n'\n",
      "                         '                   OPTIONAL { ?Resource  dcat:downloadURL ?dloadurl. }\\n'\n",
      "                         '                   OPTIONAL { ?Resource  dcat:byteSize ?sz. }\\n'\n",
      "                         '                   OPTIONAL { ?Resource  dc:format     ?fmt . }\\n'\n",
      "                         '                   OPTIONAL { ?Resource  dc:issued     ?rissue. }\\n'\n",
      "                         '        }  \\n'\n",
      "                         '} \\n'\n",
      "                         '  ORDER BY ?mod ?title ?fmt\\n'\n",
      "                         '  LIMIT 200\\n'\n",
      "                         '  OFFSET 0\\n',\n",
      "    'HTTP:Query:sha256': '98df30c9c0bf15faad6e10921996133619c68805f781d504d760471754079fd2',\n",
      "    'data:type': 'txt/xml+rdf',\n",
      "    'options': {   'ApiHeaders': {'Accept': 'application/rdf+xml', 'Content-Type': 'application/rdf+xml'},\n",
      "                   'ApiInq': 'sparqlep',\n",
      "                   'CacheValidity': 43200,\n",
      "                   'HttpHDR': 'https://data.europa.eu/euodp/',\n",
      "                   'HttpRQT': 'POST',\n",
      "                   'cacheFname': '.cache.rdf',\n",
      "                   'cachefileRDF': '../dataEURdf/.cache.prdf',\n",
      "                   'httpTimeOut': 1,\n",
      "                   'maxDirSz': 52428800,\n",
      "                   'maxImportSz': 5242880,\n",
      "                   'showMetaData': True},\n",
      "    'pickleTS': 'Pickled at :2020-05-07 13:41:26'}\n",
      "In prepareMeta (<lib.DataMgrRdf.manageAndCacheDataFilesRdfEU object at 0x7f34a02eac88>)\n",
      "self.metadata = {'options': {'CacheValidity': 43200, 'maxImportSz': 5242880, 'maxDirSz': 52428800, 'httpTimeOut': 1, 'HttpRQT': 'POST', 'HttpHDR': 'https://data.europa.eu/euodp/', 'ApiInq': 'sparqlep', 'ApiHeaders': {'Accept': 'application/rdf+xml', 'Content-Type': 'application/rdf+xml'}, 'showMetaData': True, 'cacheFname': '.cache.rdf', 'cachefileRDF': '../dataEURdf/.cache.prdf'}, 'HTTP:Query:Sparql': '\\nPREFIX http: <http://www.w3.org/2011/http#>\\nPREFIX dcat: <http://www.w3.org/ns/dcat#>\\nPREFIX odp:  <http://data.europa.eu/euodp/ontologies/ec-odp#>\\nPREFIX dc: <http://purl.org/dc/terms/>\\nPREFIX xsd: <http://www.w3.org/2001/XMLSchema#>\\nPREFIX foaf: <http://xmlns.com/foaf/0.1/>\\n\\nSELECT distinct ?g ?title ?dsURI ?DatasetTitle ?Publisher ?dloadurl ?lang ?issue ?mod ?source ?sz ?rissue ?fmt ?Resource ?ResourceDescription \\nWHERE { GRAPH ?g { filter regex(?title, \\'COVID\\', \\'i\\'). \\n                   FILTER langMatches( lang(?title), \"EN\" ).\\n                   ?dsURI    a        dcat:Dataset.\\n                   ?dsURI    dc:title ?title .\\n                   ?dsURI    dc:publisher   ?Publisher . \\n                   ?dsURI    dc:title ?DatasetTitle . \\n                   OPTIONAL { ?dsURI    dc:language ?lang. }\\n                   OPTIONAL { ?dsURI    dc:modified ?mod. }    # rare\\n                   OPTIONAL { ?dsURI    dc:issued   ?issued. }  # rare\\n                   ?dsURI    dcat:distribution ?Resource.\\n                   OPTIONAL { ?Resource dc:description ?ResourceDescription. }\\n                   OPTIONAL { ?Resource  dcat:downloadURL ?dloadurl. }\\n                   OPTIONAL { ?Resource  dcat:byteSize ?sz. }\\n                   OPTIONAL { ?Resource  dc:format     ?fmt . }\\n                   OPTIONAL { ?Resource  dc:issued     ?rissue. }\\n        }  \\n} \\n  ORDER BY ?mod ?title ?fmt\\n  LIMIT 200\\n  OFFSET 0\\n', 'HTTP:Query:sha256': '98df30c9c0bf15faad6e10921996133619c68805f781d504d760471754079fd2', 'HTTP:Hdr:rqt': {'User-Agent': 'python-requests/2.23.0', 'Accept-Encoding': 'gzip, deflate', 'Accept': 'application/rdf+xml', 'Connection': 'keep-alive', 'Content-Type': 'application/rdf+xml', 'Content-Length': '0'}, 'HTTP:Hdr:resp': {'Date': 'Thu, 07 May 2020 13:41:19 GMT', 'Content-Type': 'application/rdf+xml; charset=UTF-8', 'Access-Control-Allow-Origin': '*', 'Server': 'Europa', 'Connection': 'close', 'Content-Encoding': 'gzip'}, 'data:type': 'txt/xml+rdf', 'pickleTS': 'Pickled at :2020-05-07 13:41:26'}\n"
     ]
    },
    {
     "name": "stderr",
     "output_type": "stream",
     "text": [
      "Loading ../dataEURdf/.cache.prdf as xml... "
     ]
    },
    {
     "name": "stdout",
     "output_type": "stream",
     "text": [
      "Parsed ../dataEURdf/.cache.prdf\n"
     ]
    },
    {
     "name": "stderr",
     "output_type": "stream",
     "text": [
      "done.\t(17586 triples)\n"
     ]
    }
   ],
   "source": [
    "dataFileVMgr = manageAndCacheDataFilesRdfEU( \"../dataEURdf\")\n",
    "dataFileVMgr.getRemoteInfo()"
   ]
  },
  {
   "cell_type": "markdown",
   "metadata": {},
   "source": [
    "This can be long, the SPARQL processor used is not fast"
   ]
  },
  {
   "cell_type": "code",
   "execution_count": 6,
   "metadata": {},
   "outputs": [],
   "source": [
    "dataFileVMgr.updatePrepare()\n",
    "dataFileVMgr.cacheUpdate()"
   ]
  },
  {
   "cell_type": "markdown",
   "metadata": {},
   "source": [
    "## Get some understanding of the available resource"
   ]
  },
  {
   "cell_type": "markdown",
   "metadata": {},
   "source": [
    "## Dig into the data"
   ]
  },
  {
   "cell_type": "code",
   "execution_count": 7,
   "metadata": {
    "scrolled": true
   },
   "outputs": [
    {
     "name": "stdout",
     "output_type": "stream",
     "text": [
      "Most recent versions of files in data directory:\n",
      "\t.cache.prdf\n",
      "\t.cache.qhash\n",
      "\t.cache.rdf\n",
      "\tcovid-19-coronavirus-data.csv\n"
     ]
    }
   ],
   "source": [
    "print(\"Most recent versions of files in data directory:\")\n",
    "for f in dataFileVMgr.listMostRecent(nonTS=True) :\n",
    "    print(f\"\\t{f}\")"
   ]
  },
  {
   "cell_type": "code",
   "execution_count": 8,
   "metadata": {},
   "outputs": [
    {
     "data": {
      "text/plain": [
       "{'.cache.rdf': None,\n",
       " 'covid-19-coronavirus-data.csv': None,\n",
       " '.cache.prdf': None,\n",
       " '.cache.qhash': None}"
      ]
     },
     "execution_count": 8,
     "metadata": {},
     "output_type": "execute_result"
    }
   ],
   "source": [
    "dataFileVMgr.nonTSFiles"
   ]
  },
  {
   "cell_type": "code",
   "execution_count": 9,
   "metadata": {
    "scrolled": true
   },
   "outputs": [],
   "source": [
    "last = lambda x: dataFileVMgr.getRecentVersion(x,default=True)"
   ]
  }
 ],
 "metadata": {
  "kernelspec": {
   "display_name": "Python 3",
   "language": "python",
   "name": "python3"
  },
  "language_info": {
   "codemirror_mode": {
    "name": "ipython",
    "version": 3
   },
   "file_extension": ".py",
   "mimetype": "text/x-python",
   "name": "python",
   "nbconvert_exporter": "python",
   "pygments_lexer": "ipython3",
   "version": "3.6.5"
  }
 },
 "nbformat": 4,
 "nbformat_minor": 2
}
