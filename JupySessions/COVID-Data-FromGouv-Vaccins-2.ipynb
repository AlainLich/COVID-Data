{
 "cells": [
  {
   "cell_type": "markdown",
   "metadata": {},
   "source": [
    "#  Simple tool to analyze data from www.data.gouv.fr\n",
    "\n",
    "**Note:** This is a Jupyter notebook which is also available as its executable export as a Python 3 script (therefore with automatically generated comments)."
   ]
  },
  {
   "cell_type": "markdown",
   "metadata": {},
   "source": [
    "# Libraries"
   ]
  },
  {
   "cell_type": "markdown",
   "metadata": {},
   "source": [
    "This is weird, apparently needed after transitionning to Ubuntu 21.04 Python 3.9.4, \n",
    "there must be another dir lib competing ... so order has become important??"
   ]
  },
  {
   "cell_type": "code",
   "execution_count": 1,
   "metadata": {},
   "outputs": [],
   "source": [
    "import sys,os\n",
    "addPath= [os.path.abspath(\"../venv/lib/python3.9/site-packages/\"),\n",
    "          os.path.abspath(\"../source\")]\n",
    "addPath.extend(sys.path)\n",
    "sys.path = addPath"
   ]
  },
  {
   "cell_type": "code",
   "execution_count": 2,
   "metadata": {
    "scrolled": true
   },
   "outputs": [],
   "source": [
    "# Sys import\n",
    "import sys, os, re\n",
    "# Common imports\n",
    "import math\n",
    "import numpy             as NP\n",
    "import numpy.random      as RAND\n",
    "import scipy.stats       as STATS\n",
    "from scipy import sparse\n",
    "from scipy import linalg\n",
    "\n",
    "# Some maths\n",
    "from math import sqrt\n",
    "\n",
    "import matplotlib        as MPL\n",
    "import matplotlib.pyplot as PLT\n",
    "# Add color\n",
    "from matplotlib import cm\n",
    "from matplotlib.colors import ListedColormap, LinearSegmentedColormap\n",
    "\n",
    "import seaborn as SNS\n",
    "SNS.set(font_scale=1)\n",
    "\n",
    "import mpl_toolkits\n",
    "import mpl_toolkits.mplot3d.axes3d\n",
    "from mpl_toolkits.mplot3d.axes3d import get_test_data\n",
    "\n",
    "# Python programming\n",
    "from itertools import cycle\n",
    "from time import time\n",
    "import datetime\n",
    "\n",
    "# Using pandas\n",
    "import pandas as PAN\n",
    "import xlrd"
   ]
  },
  {
   "cell_type": "code",
   "execution_count": 3,
   "metadata": {},
   "outputs": [],
   "source": [
    "#from sklearn.svm import SVC\n",
    "#from sklearn import linear_model\n",
    "from sklearn import cluster"
   ]
  },
  {
   "cell_type": "code",
   "execution_count": 4,
   "metadata": {
    "scrolled": true
   },
   "outputs": [
    {
     "name": "stdout",
     "output_type": "stream",
     "text": [
      "For now, reduce python warnings, I will look into this later\n"
     ]
    }
   ],
   "source": [
    "import warnings\n",
    "warnings.filterwarnings('ignore')\n",
    "print(\"For now, reduce python warnings, I will look into this later\")"
   ]
  },
  {
   "cell_type": "markdown",
   "metadata": {},
   "source": [
    "### Import my own modules\n",
    "The next cell attempts to give user some information if things improperly setup.\n",
    "Intended to work both in Jupyter and when executing the Python file directly."
   ]
  },
  {
   "cell_type": "code",
   "execution_count": 5,
   "metadata": {
    "scrolled": false
   },
   "outputs": [
    {
     "name": "stdout",
     "output_type": "stream",
     "text": [
      "Loaded lib\n",
      "For now, reduce python warnings, I will look into this later\n",
      "Loaded libApp\n"
     ]
    }
   ],
   "source": [
    "if not get_ipython() is None and os.path.abspath(\"../source/\") not in sys.path:\n",
    "    sys.path.append(os.path.abspath(\"../source/\"))\n",
    "try:\n",
    "    from lib.utilities     import *\n",
    "    from lib.figureHelpers import *\n",
    "    from lib.DataMgrJSON   import *\n",
    "    from lib.DataMgr       import *\n",
    "    import lib.basicDataCTE as DCTE\n",
    "    from lib import figureHelpers as FHelp\n",
    "    import libApp.appFrance as appFrance\n",
    "except Exception as err:\n",
    "    print(\"Could not find library 'lib' with contents 'DataGouvFr' \")\n",
    "    if get_ipython() is None:\n",
    "        print(\"Check the PYTHONPATH environment variable which should point to 'source' wich contains 'lib'\")\n",
    "    else:\n",
    "        print(\"You are supposed to be running in JupySessions, and '../source/lib' should exist\")\n",
    "    raise err"
   ]
  },
  {
   "cell_type": "markdown",
   "metadata": {},
   "source": [
    "## Check environment\n",
    "\n",
    "It is expected that:\n",
    "- your working directory is named `JupySessions`, \n",
    "- that it has subdirectories \n",
    "   - `images/*` where generated images may be stored to avoid overcrowding. \n",
    "- At the same level as your working dir there should be directories \n",
    "   - `../data` for storing input data and \n",
    "   - `../source` for python scripts.\n",
    "   \n",
    "My package library is in `../source/lib`, and users running under Python (not in Jupyter) should\n",
    "set their PYTHONPATH to include \"../source\" ( *or whatever appropriate* )."
   ]
  },
  {
   "cell_type": "code",
   "execution_count": 6,
   "metadata": {
    "scrolled": true
   },
   "outputs": [],
   "source": [
    "checkSetup(chap=\"Vac02\")\n",
    "ImgMgr = ImageMgr(chapdir=\"Vac02\")"
   ]
  },
  {
   "cell_type": "markdown",
   "metadata": {},
   "source": [
    "# Load Data"
   ]
  },
  {
   "cell_type": "markdown",
   "metadata": {},
   "source": [
    "## Functions"
   ]
  },
  {
   "cell_type": "markdown",
   "metadata": {},
   "source": [
    "## Load CSV and XLSX data from remote \n",
    "The `dataFileVMgr` will manage a cache of data files in `../dataVaccin`, the data will be downloaded\n",
    "from www.data.gouv.fr using a request specified with tags and filtering file names and urls. The meta information is stored/cached  in `../dataVaccin/.data`\n",
    "as the pickle of a json.\n",
    "\n",
    "We check what is in the cache/data directory; for each file, we identify the latest version, \n",
    "and list this below to make sure. The file name will usually contain a time stamp; this has to do with \n",
    "the version management/identification technique used when downloading from www.data.gouv.fr.\n",
    "\n",
    "For the files used in this notebook, the latest version is used/loaded irrespective of the\n",
    "timestamp used in the notebook."
   ]
  },
  {
   "cell_type": "code",
   "execution_count": 7,
   "metadata": {},
   "outputs": [],
   "source": [
    "specOpts={ 'CacheValidity': 12*60*60, # normal caching period (seconds)\n",
    "            'cacheFname': '.cache.vaccin.json',\n",
    "            \"dumpMetaFile\" : \"vaccin.meta.dump\",\n",
    "            \"dumpMetaInfoFile\" : \"vaccin.metainfo.dump\",\n",
    "            'ApiInq'       : 'datasets',\n",
    "            'InqParmsDir'  : {\"tag\":\"covid\"},\n",
    "         }\n",
    "rex = re.compile('.*vacsi-(v|tot)-(fra|reg|dep).*')\n",
    "def uselFn(urqt):\n",
    "    return rex.match(urqt.fname) or rex.match(urqt.url)"
   ]
  },
  {
   "cell_type": "markdown",
   "metadata": {},
   "source": [
    "Fichiers avec le nombre de personnes ayant reçu au moins une dose ou complètement \n",
    "vaccinées, arrêté à la dernière date disponible :\n",
    "  - vacsi-tot-fra-YYYY-MM-DD-HHhmm.csv (échelle nationale)\n",
    "  - vacsi-tot-reg-YYYY-MM-DD-HHhmm.csv (échelle régionale)\n",
    "  - vacsi-tot-dep-YYYY-MM-DD-HHhmm.csv (échelle départementale)\n",
    "\n",
    "\n",
    "Fichiers avec le nombre quotidien de personnes ayant reçu au moins une dose, \n",
    "par vaccin, et par date d’injection :\n",
    "  - vacsi-v-fra-YYYY-MM-DD-HHhmm.csv (échelle nationale)\n",
    "  - vacsi-v-reg-YYYY-MM-DD-HHhmm.csv (échelle régionale)\n",
    "  - vacsi-v-dep-YYYY-MM-DD-HHhmm.csv (échelle départementale)\n",
    "\n",
    "Les vaccins sont codifiés de la façon suivante : \n",
    "- 0 : Tous vaccins\\n'\n",
    "- 1 : COMIRNATY Pfizer/BioNTech\n",
    "- 2 : Moderna\n",
    "- 3 : AstraZeneka\n",
    "- 4 : Janssen"
   ]
  },
  {
   "cell_type": "code",
   "execution_count": 8,
   "metadata": {
    "scrolled": false
   },
   "outputs": [
    {
     "name": "stdout",
     "output_type": "stream",
     "text": [
      "Need to reload cache from remote,  stale after 215h 34m 23s\n"
     ]
    },
    {
     "name": "stderr",
     "output_type": "stream",
     "text": [
      "In _mkRqtParms, self.options=\n",
      "{   'ApiHeaders': {},\n",
      "    'ApiInq': 'datasets',\n",
      "    'ApiInqQuery': {},\n",
      "    'CacheValidity': 43200,\n",
      "    'HttpHDR': 'https://www.data.gouv.fr/api/1',\n",
      "    'InqParmsDir': {'tag': 'covid'},\n",
      "    'cacheFname': '.cache.vaccin.json',\n",
      "    'dumpMetaFile': 'vaccin.meta.dump',\n",
      "    'dumpMetaInfoFile': 'vaccin.metainfo.dump',\n",
      "    'httpTimeOut': 20,\n",
      "    'maxDirSz': 25165824,\n",
      "    'maxImportSz': 5242880}\n",
      "inq=datasets,\tinqQuery={},\tinqDict={'tag': 'covid'}\n",
      "URL/request=https://www.data.gouv.fr/api/1/datasets/?tag=covid\n",
      "\tStatus:200:ok\n",
      "Size of collected data:88\n"
     ]
    },
    {
     "name": "stdout",
     "output_type": "stream",
     "text": [
      "Stored pickle in ../dataVaccin/.cache.vaccin.json\n"
     ]
    },
    {
     "name": "stderr",
     "output_type": "stream",
     "text": [
      "Per options['dumpMetaFile'], wrote data in file ../dataVaccin/vaccin.meta.dump\n",
      "Per options['dumpMetaInfoFile'], wrote meta data in file ../dataVaccin/vaccin.metainfo.dump\n",
      "UpdtList has len: 6\n",
      "UpdtList starts with:\n",
      "\t<<class 'lib.DataMgr.UpdateRqt'>>:[[ reason = ReasonCde.IsNewer; dict={'fname': 'vacsi-v-fra-2021-10-26-19h08.csv', 'url': 'https://static.data.gouv.fr/resources/donnees-relatives-aux-personnes-vaccinees-contre-la-covid-19-1/20211026-190859/vacsi-v-fra-2021-10-26-19h08.csv', 'latest': 'https://www.data.gouv.fr/fr/datasets/r/b273cf3b-e9de-437c-af55-eda5979e92fc', 'org': None, 'orgslug': 'NONE', 'checksum': {'type': 'sha1', 'value': '483ee484e8d41d5d4faa2d9722c3f5701a9e32c6'}, 'format': 'csv', 'modDate': '2021-10-26T19:09:00.030000', 'cachedDate': datetime.datetime(2021, 10, 26, 19, 8), 'filesize': 85315, 'genKey': 'vacsi-v-fra-!.csv'}]]\n",
      "\t<<class 'lib.DataMgr.UpdateRqt'>>:[[ reason = ReasonCde.IsNewer; dict={'fname': 'vacsi-v-reg-2021-10-26-19h08.csv', 'url': 'https://static.data.gouv.fr/resources/donnees-relatives-aux-personnes-vaccinees-contre-la-covid-19-1/20211026-190858/vacsi-v-reg-2021-10-26-19h08.csv', 'latest': 'https://www.data.gouv.fr/fr/datasets/r/900da9b0-8987-4ba7-b117-7aea0e53f530', 'org': None, 'orgslug': 'NONE', 'checksum': {'type': 'sha1', 'value': 'dfdbdca04d0428bde7062c2f745fa1352e736a46'}, 'format': 'csv', 'modDate': '2021-10-26T19:08:59.010000', 'cachedDate': datetime.datetime(2021, 10, 26, 19, 8), 'filesize': 1421621, 'genKey': 'vacsi-v-reg-!.csv'}]]\n",
      "\t<<class 'lib.DataMgr.UpdateRqt'>>:[[ reason = ReasonCde.IsNewer; dict={'fname': 'vacsi-v-dep-2021-10-26-19h09.csv', 'url': 'https://static.data.gouv.fr/resources/donnees-relatives-aux-personnes-vaccinees-contre-la-covid-19-1/20211026-190902/vacsi-v-dep-2021-10-26-19h09.csv', 'latest': 'https://www.data.gouv.fr/fr/datasets/r/535f8686-d75d-43d9-94b3-da8cdf850634', 'org': None, 'orgslug': 'NONE', 'checksum': {'type': 'sha1', 'value': 'e73b8bc2ae00f0e8723f9519804ed7fe0954660a'}, 'format': 'csv', 'modDate': '2021-10-26T19:09:03.582000', 'cachedDate': datetime.datetime(2021, 10, 26, 19, 9), 'filesize': 7131641, 'genKey': 'vacsi-v-dep-!.csv'}]]\n",
      "\t<<class 'lib.DataMgr.UpdateRqt'>>:[[ reason = ReasonCde.IsNewer; dict={'fname': 'vacsi-tot-fra-2021-10-26-19h09.csv', 'url': 'https://static.data.gouv.fr/resources/donnees-relatives-aux-personnes-vaccinees-contre-la-covid-19-1/20211026-190916/vacsi-tot-fra-2021-10-26-19h09.csv', 'latest': 'https://www.data.gouv.fr/fr/datasets/r/131c6b39-51b5-40a7-beaa-0eafc4b88466', 'org': None, 'orgslug': 'NONE', 'checksum': {'type': 'sha1', 'value': '8cc98fd052e649b98153fd351406c5efacf6cd99'}, 'format': 'csv', 'modDate': '2021-10-26T19:09:16.222000', 'cachedDate': datetime.datetime(2021, 10, 26, 19, 9), 'filesize': 165, 'genKey': 'vacsi-tot-fra-!.csv'}]]\n",
      "\t<<class 'lib.DataMgr.UpdateRqt'>>:[[ reason = ReasonCde.IsNewer; dict={'fname': 'vacsi-tot-reg-2021-10-26-19h09.csv', 'url': 'https://static.data.gouv.fr/resources/donnees-relatives-aux-personnes-vaccinees-contre-la-covid-19-1/20211026-190913/vacsi-tot-reg-2021-10-26-19h09.csv', 'latest': 'https://www.data.gouv.fr/fr/datasets/r/9b1e6c8c-7e1d-47f9-9eb9-f2eeaab60d99', 'org': None, 'orgslug': 'NONE', 'checksum': {'type': 'sha1', 'value': '5e917acc35394859becb0f672ca3710d99955918'}, 'format': 'csv', 'modDate': '2021-10-26T19:09:13.126000', 'cachedDate': datetime.datetime(2021, 10, 26, 19, 9), 'filesize': 1267, 'genKey': 'vacsi-tot-reg-!.csv'}]]\n",
      "\t<<class 'lib.DataMgr.UpdateRqt'>>:[[ reason = ReasonCde.IsNewer; dict={'fname': 'vacsi-tot-dep-2021-10-26-19h09.csv', 'url': 'https://static.data.gouv.fr/resources/donnees-relatives-aux-personnes-vaccinees-contre-la-covid-19-1/20211026-190912/vacsi-tot-dep-2021-10-26-19h09.csv', 'latest': 'https://www.data.gouv.fr/fr/datasets/r/7969c06d-848e-40cf-9c3c-21b5bd5a874b', 'org': None, 'orgslug': 'NONE', 'checksum': {'type': 'sha1', 'value': '319ff58d1b8af09b3eb78c49d3fbb844644ff289'}, 'format': 'csv', 'modDate': '2021-10-26T19:09:12.238000', 'cachedDate': datetime.datetime(2021, 10, 26, 19, 9), 'filesize': 5983, 'genKey': 'vacsi-tot-dep-!.csv'}]]\n"
     ]
    },
    {
     "name": "stdout",
     "output_type": "stream",
     "text": [
      "Selection: fname:\n",
      "\tvacsi-tot-dep-2021-10-26-19h09.csv\n",
      "\tvacsi-tot-fra-2021-10-26-19h09.csv\n",
      "\tvacsi-tot-reg-2021-10-26-19h09.csv\n",
      "\tvacsi-v-dep-2021-10-26-19h09.csv\n",
      "\tvacsi-v-fra-2021-10-26-19h08.csv\n",
      "\tvacsi-v-reg-2021-10-26-19h08.csv\n",
      "Selection: url:\n",
      "\thttps://static.data.gouv.fr/resources/donnees-relatives-aux-personnes-vaccinees-contre-la-covid-19-1/20211026-190858/vacsi-v-reg-2021-10-26-19h08.csv\n",
      "\thttps://static.data.gouv.fr/resources/donnees-relatives-aux-personnes-vaccinees-contre-la-covid-19-1/20211026-190859/vacsi-v-fra-2021-10-26-19h08.csv\n",
      "\thttps://static.data.gouv.fr/resources/donnees-relatives-aux-personnes-vaccinees-contre-la-covid-19-1/20211026-190902/vacsi-v-dep-2021-10-26-19h09.csv\n",
      "\thttps://static.data.gouv.fr/resources/donnees-relatives-aux-personnes-vaccinees-contre-la-covid-19-1/20211026-190912/vacsi-tot-dep-2021-10-26-19h09.csv\n",
      "\thttps://static.data.gouv.fr/resources/donnees-relatives-aux-personnes-vaccinees-contre-la-covid-19-1/20211026-190913/vacsi-tot-reg-2021-10-26-19h09.csv\n",
      "\thttps://static.data.gouv.fr/resources/donnees-relatives-aux-personnes-vaccinees-contre-la-covid-19-1/20211026-190916/vacsi-tot-fra-2021-10-26-19h09.csv\n",
      "About to load file ../dataVaccin/vacsi-v-fra-2021-10-26-19h08.csv,available space is 10312277\n",
      "Wrote file \t'../dataVaccin/vacsi-v-fra-2021-10-26-19h08.csv'\n",
      "\tfrom URL:'https://www.data.gouv.fr/fr/datasets/r/b273cf3b-e9de-437c-af55-eda5979e92fc'\n",
      "About to load file ../dataVaccin/vacsi-v-reg-2021-10-26-19h08.csv,available space is 10226962\n",
      "Wrote file \t'../dataVaccin/vacsi-v-reg-2021-10-26-19h08.csv'\n",
      "\tfrom URL:'https://www.data.gouv.fr/fr/datasets/r/900da9b0-8987-4ba7-b117-7aea0e53f530'\n",
      "About to load file ../dataVaccin/vacsi-v-dep-2021-10-26-19h09.csv,available space is 8805341\n",
      "Wrote file \t'../dataVaccin/vacsi-v-dep-2021-10-26-19h09.csv'\n",
      "\tfrom URL:'https://www.data.gouv.fr/fr/datasets/r/535f8686-d75d-43d9-94b3-da8cdf850634'\n",
      "About to load file ../dataVaccin/vacsi-tot-fra-2021-10-26-19h09.csv,available space is 1673700\n",
      "Wrote file \t'../dataVaccin/vacsi-tot-fra-2021-10-26-19h09.csv'\n",
      "\tfrom URL:'https://www.data.gouv.fr/fr/datasets/r/131c6b39-51b5-40a7-beaa-0eafc4b88466'\n",
      "About to load file ../dataVaccin/vacsi-tot-reg-2021-10-26-19h09.csv,available space is 1673535\n",
      "Wrote file \t'../dataVaccin/vacsi-tot-reg-2021-10-26-19h09.csv'\n",
      "\tfrom URL:'https://www.data.gouv.fr/fr/datasets/r/9b1e6c8c-7e1d-47f9-9eb9-f2eeaab60d99'\n",
      "About to load file ../dataVaccin/vacsi-tot-dep-2021-10-26-19h09.csv,available space is 1672268\n",
      "Wrote file \t'../dataVaccin/vacsi-tot-dep-2021-10-26-19h09.csv'\n",
      "\tfrom URL:'https://www.data.gouv.fr/fr/datasets/r/7969c06d-848e-40cf-9c3c-21b5bd5a874b'\n"
     ]
    }
   ],
   "source": [
    "dataFileVMgr = manageAndCacheDataFilesFRAPI(\"../dataVaccin\", maxDirSz= 24*(2**10)**2,\n",
    "                                            **specOpts)\n",
    "dataFileVMgr.getRemoteInfo()\n",
    "dataFileVMgr.updatePrepare()\n",
    "dataFileVMgr.updateSelect(displayCount=40 ,  URqtSelector = uselFn)\n",
    "\n",
    "dataFileVMgr.printUpdtList('fname') \n",
    "dataFileVMgr.printUpdtList('url')\n",
    "\n",
    "dataFileVMgr.cacheUpdate()"
   ]
  },
  {
   "cell_type": "code",
   "execution_count": 9,
   "metadata": {
    "scrolled": true
   },
   "outputs": [],
   "source": [
    "last = lambda x: dataFileVMgr.getRecentVersion(x,default=True)"
   ]
  },
  {
   "cell_type": "code",
   "execution_count": 10,
   "metadata": {},
   "outputs": [
    {
     "name": "stdout",
     "output_type": "stream",
     "text": [
      "Most recent versions of files in data directory:\n",
      "\tvacsi-tot-dep-2021-10-26-19h09.csv\n",
      "\tvacsi-tot-fra-2021-10-26-19h09.csv\n",
      "\tvacsi-tot-reg-2021-10-26-19h09.csv\n",
      "\tvacsi-v-dep-2021-10-26-19h09.csv\n",
      "\tvacsi-v-fra-2021-10-26-19h08.csv\n",
      "\tvacsi-v-reg-2021-10-26-19h08.csv\n"
     ]
    }
   ],
   "source": [
    "print(\"Most recent versions of files in data directory:\")\n",
    "for f in dataFileVMgr.listMostRecent() :\n",
    "    print(f\"\\t{f}\")"
   ]
  },
  {
   "cell_type": "markdown",
   "metadata": {},
   "source": [
    "This ensures we load the most recent version, so that it is not required to update the list \n",
    "below. The timestamps shown in the following sequence will be update by the call to `getRecentVersion`."
   ]
  },
  {
   "cell_type": "code",
   "execution_count": 11,
   "metadata": {},
   "outputs": [],
   "source": [
    "dailyVacDep = last(\"vacsi-v-dep-2021-08-20-19h09.csv\")\n",
    "dailyVacFr  = last(\"vacsi-v-fra-2021-08-20-19h09.csv\")\n",
    "dailyVacReg = last(\"vacsi-v-reg-2021-08-20-19h09.csv\")"
   ]
  },
  {
   "cell_type": "code",
   "execution_count": 12,
   "metadata": {
    "scrolled": true
   },
   "outputs": [
    {
     "name": "stdout",
     "output_type": "stream",
     "text": [
      "Not exploited comparing with most recent files in ../dataVaccin:\n",
      "\tvacsi-tot-reg-2021-10-26-19h09.csv\n",
      "\tvacsi-tot-fra-2021-10-26-19h09.csv\n",
      "\tvacsi-tot-dep-2021-10-26-19h09.csv\n"
     ]
    }
   ],
   "source": [
    "S1 = set (dataFileVMgr.listMostRecent())\n",
    "S2 =set((dailyVacFr,dailyVacDep, dailyVacReg ))\n",
    "missing = S1. difference(S2)\n",
    "if len(missing) > 0:\n",
    "    print (f\"Not exploited comparing with most recent files in ../dataVaccin:\")\n",
    "for f in missing:\n",
    "    print(f\"\\t{f}\")\n",
    "    \n",
    "metaSexeCsv = \"../data/metadonnees-sexe.csv\"\n",
    "metaRegionsCsv=\"../data/regions-france.csv\"\n",
    "metaTranchesAgeCsv=\"../data/code-tranches-dage.csv\""
   ]
  },
  {
   "cell_type": "code",
   "execution_count": 13,
   "metadata": {},
   "outputs": [
    {
     "name": "stdout",
     "output_type": "stream",
     "text": [
      "Missing comparing with non timestamped files in ../data:\n",
      "These may eventually be exploited in other notebooks (e.g. COVID-MoreData-FromGouv)\n",
      "\t../dataVaccin/.cache.json\n",
      "\t../dataVaccin/.cache.vaccin.json\n",
      "\t../dataVaccin/vaccin.metainfo.dump\n",
      "\t../dataVaccin/vaccin.meta.dump\n"
     ]
    }
   ],
   "source": [
    "ad  = lambda x: \"../dataVaccin/\"+x\n",
    "S1 = set (map(ad, dataFileVMgr.listMostRecent(nonTS=True)))\n",
    "S2 =set(( metaRegionsCsv, metaTranchesAgeCsv, metaSexeCsv ))\n",
    "missing = S1. difference(S2)\n",
    "if len(missing) > 0:\n",
    "    print (f\"Missing comparing with non timestamped files in ../data:\")\n",
    "    print (\"These may eventually be exploited in other notebooks (e.g. COVID-MoreData-FromGouv)\")\n",
    "    for f in missing:\n",
    "        print(f\"\\t{f}\")"
   ]
  },
  {
   "cell_type": "markdown",
   "metadata": {},
   "source": [
    "Now load the stuff\n"
   ]
  },
  {
   "cell_type": "code",
   "execution_count": 14,
   "metadata": {
    "scrolled": true
   },
   "outputs": [],
   "source": [
    "ad  = lambda x: \"../data/\"+x\n",
    "adv  = lambda x: \"../dataVaccin/\"+x\n",
    "data_dailyRegion = read_csvPandas(adv(dailyVacReg), error_bad_lines=False,sep=\";\" )\n",
    "data_dailyDep    = read_csvPandas(adv(dailyVacDep), error_bad_lines=False,sep=\";\")\n",
    "data_dailyFrance = read_csvPandas(adv(dailyVacFr), error_bad_lines=False,sep=\";\")\n",
    "\n",
    "meta_Sexe    = read_csvPandas(metaSexeCsv, clearNaN=True, error_bad_lines=False,sep=\";\",header=0)\n",
    "meta_Regions = read_csvPandas(metaRegionsCsv, clearNaN=True, error_bad_lines=False,sep=\",\")\n",
    "meta_Ages    = read_csvPandas(metaTranchesAgeCsv, clearNaN=True, error_bad_lines=False,sep=\";\")"
   ]
  },
  {
   "cell_type": "markdown",
   "metadata": {},
   "source": [
    "## Figure out data characteristics"
   ]
  },
  {
   "cell_type": "code",
   "execution_count": 15,
   "metadata": {
    "scrolled": true
   },
   "outputs": [
    {
     "name": "stdout",
     "output_type": "stream",
     "text": [
      "data_dailyRegion        \thas shape (30300, 13)\n",
      "data_dailyDep           \thas shape (156045, 13)\n",
      "data_dailyFrance        \thas shape (1515, 13)\n",
      "meta_Sexe               \thas shape (3, 2)\n",
      "meta_Regions            \thas shape (18, 2)\n",
      "meta_Ages               \thas shape (6, 2)\n"
     ]
    }
   ],
   "source": [
    "def showBasics(data,dataName):\n",
    "    print(f\"{dataName:24}\\thas shape {data.shape}\")\n",
    "\n",
    "dataListDescr = ((data_dailyRegion, \"data_dailyRegion\"), \n",
    "                  (data_dailyDep,\"data_dailyDep\"), \n",
    "                  (data_dailyFrance, \"data_dailyFrance\"),\n",
    "                  (meta_Sexe,\"meta_Sexe\"),\n",
    "                  (meta_Regions,'meta_Regions'),\n",
    "                  (meta_Ages,'meta_Ages'))\n",
    "    \n",
    "for (dat,name) in dataListDescr:\n",
    "    showBasics(dat,name)\n"
   ]
  },
  {
   "cell_type": "markdown",
   "metadata": {},
   "source": [
    "### Focus on the recent period\n",
    "\n",
    "In some displays, we may want to focus on the recent data, then the number of days is parametrized here."
   ]
  },
  {
   "cell_type": "code",
   "execution_count": 16,
   "metadata": {},
   "outputs": [],
   "source": [
    "nbLastDays=50"
   ]
  },
  {
   "cell_type": "markdown",
   "metadata": {},
   "source": [
    "## Get some demographics data from INSEE\n",
    "For the time being, these data are obtained / loaded from Insee web site using a manual process and are placed in a different directory, therefore a distinct FileManager is used, and loading this data is done here; for more details see the notebook `Pop-Data-FromGouv.ipy`\n",
    "\n",
    "Using the base version which **does not try to update** the \"../dataPop\" directory"
   ]
  },
  {
   "cell_type": "code",
   "execution_count": 17,
   "metadata": {
    "scrolled": true
   },
   "outputs": [],
   "source": [
    "dataFileVMgrInsee = manageDataFileVersions(\"../dataPop\") \n",
    "inseeDepXLS           =\"../dataPop/InseeDep.xls\"\n",
    "inseeDep            = read_xlsxPandas(inseeDepXLS, sheet_name=1, header=7)\n",
    "inseeReg            = read_xlsxPandas(inseeDepXLS, sheet_name=0, header=7)"
   ]
  },
  {
   "cell_type": "markdown",
   "metadata": {},
   "source": [
    "Now we can display our demographics data (summarized)"
   ]
  },
  {
   "cell_type": "code",
   "execution_count": 18,
   "metadata": {
    "scrolled": true
   },
   "outputs": [
    {
     "data": {
      "text/plain": [
       "Nombre d'arrondissements         332.0\n",
       "Nombre de cantons               2041.0\n",
       "Nombre de communes             34953.0\n",
       "Population municipale       66524339.0\n",
       "Population totale           67761092.0\n",
       "dtype: float64"
      ]
     },
     "metadata": {},
     "output_type": "display_data"
    },
    {
     "data": {
      "text/plain": [
       "Nombre de communes          34953\n",
       "Population municipale    66524339\n",
       "Population totale        67761092\n",
       "dtype: int64"
      ]
     },
     "metadata": {},
     "output_type": "display_data"
    }
   ],
   "source": [
    "display(inseeDep.iloc[:,4:].sum())\n",
    "display(inseeReg.iloc[:,4:].sum())"
   ]
  },
  {
   "cell_type": "markdown",
   "metadata": {},
   "source": [
    "## Let's do some graphics!"
   ]
  },
  {
   "cell_type": "markdown",
   "metadata": {},
   "source": [
    "### Merge Vaccination and demographics data\n",
    "See the `Pop-Data-FromGouv.ipynb` notebook for more details on the demographics data obtained from\n",
    "INSEE (https://www.insee.fr/fr/accueil). "
   ]
  },
  {
   "cell_type": "markdown",
   "metadata": {},
   "source": [
    "## Whole France"
   ]
  },
  {
   "cell_type": "code",
   "execution_count": 19,
   "metadata": {},
   "outputs": [],
   "source": [
    "vacFrf = data_dailyFrance.copy()\n",
    "vac0Frf = vacFrf.loc[vacFrf.loc[:,'vaccin']==0,:].set_index(\"jour\")"
   ]
  },
  {
   "cell_type": "markdown",
   "metadata": {},
   "source": [
    "Here, it would be a good idea to apply a low pass filter!!"
   ]
  },
  {
   "cell_type": "markdown",
   "metadata": {},
   "source": [
    "## Split according to vaccine type\n",
    "see in a second step, not sure that I am really interested in vaccine type for now!"
   ]
  },
  {
   "cell_type": "code",
   "execution_count": 20,
   "metadata": {},
   "outputs": [],
   "source": [
    "vaccNames= { 0 : 'All vaccines',\n",
    "            1 : 'Pfizer/BioNTech',\n",
    "            2 : 'Moderna',\n",
    "            3 : 'Astra Zeneka',\n",
    "            4 : 'Janssen'}"
   ]
  },
  {
   "cell_type": "code",
   "execution_count": 21,
   "metadata": {},
   "outputs": [],
   "source": [
    "vac1Frf = vacFrf.set_index(\"jour\")"
   ]
  },
  {
   "cell_type": "code",
   "execution_count": 22,
   "metadata": {},
   "outputs": [],
   "source": [
    "vac1GrFrf=vac1Frf.groupby('vaccin')"
   ]
  },
  {
   "cell_type": "code",
   "execution_count": 23,
   "metadata": {},
   "outputs": [],
   "source": [
    "subnodeSpec=(lambda i,j:{\"nrows\":i,\"ncols\":j})(*subPlotShape(len(vac1GrFrf),maxCol=2))"
   ]
  },
  {
   "cell_type": "markdown",
   "metadata": {},
   "source": [
    "## Look at the distribution accross areas ('departements')\n",
    "\n",
    "### Basics"
   ]
  },
  {
   "cell_type": "markdown",
   "metadata": {},
   "source": [
    "Prepare the data for a database style join/merge, documented on https://pandas.pydata.org/pandas-docs/stable/user_guide/merging.html.\n",
    "First we need to establish \"dep\" as an index in our data: "
   ]
  },
  {
   "cell_type": "code",
   "execution_count": 24,
   "metadata": {
    "scrolled": true
   },
   "outputs": [],
   "source": [
    "vacDepf = data_dailyDep.copy()\n",
    "vacDepf.loc[:,\"dep\"] = vacDepf.loc[:,\"dep\"].apply(str) \n",
    "vacDepfV=vacDepf.set_index(\"vaccin\")"
   ]
  },
  {
   "cell_type": "markdown",
   "metadata": {},
   "source": [
    "*At this date (26/9/21) the \"dep\" column contains a mix of integer and str encodings, which causes failure down the road (look a merge...); so we corrected this in second\n",
    "instruction above.*\n",
    "\n",
    "Here we discover that for vaccine code 0 (all vaccines) the cumulative columns have not been filled!! As somebody said, *real data is often cause for \n",
    "surprises*!! I correct this situation here, not *checking whether progessively summing daily contributions will give the same result*. "
   ]
  },
  {
   "cell_type": "code",
   "execution_count": 25,
   "metadata": {},
   "outputs": [],
   "source": [
    "for col in ('n_cum_dose1', 'n_cum_dose2'):\n",
    "    vacDepfV.loc[0, col] = vacDepfV.loc[1, col].values\n",
    "    for i in range(2,5):\n",
    "        vacDepfV.loc[0, col] += vacDepfV.loc[i, col].values"
   ]
  },
  {
   "cell_type": "code",
   "execution_count": 26,
   "metadata": {},
   "outputs": [],
   "source": [
    "vacDepf = vacDepfV.reset_index()"
   ]
  },
  {
   "cell_type": "markdown",
   "metadata": {},
   "source": [
    "Then we extract the demographic information and set index \"dep\" "
   ]
  },
  {
   "cell_type": "code",
   "execution_count": 27,
   "metadata": {
    "scrolled": true
   },
   "outputs": [],
   "source": [
    "depStats = inseeDep.iloc[:,[2,3,7,8]].copy()\n",
    "cols = depStats.columns.values\n",
    "cols[0]=\"dep\"\n",
    "depStats.columns = cols\n",
    "depStats.set_index(\"dep\");"
   ]
  },
  {
   "cell_type": "markdown",
   "metadata": {},
   "source": [
    "Now we perform the merge, and group by date and 'départements': "
   ]
  },
  {
   "cell_type": "code",
   "execution_count": 28,
   "metadata": {
    "scrolled": true
   },
   "outputs": [],
   "source": [
    "vacMerged = PAN.merge(vacDepf,depStats, on=\"dep\" ) \n",
    "vacGrMerged=vacMerged.groupby([\"dep\",\"jour\",\"vaccin\"]).sum()"
   ]
  },
  {
   "cell_type": "code",
   "execution_count": 29,
   "metadata": {},
   "outputs": [],
   "source": [
    "deps=depStats.iloc[:,0]\n",
    "deps1=set(vacGrMerged.index.get_level_values(0))\n",
    "sdiff = deps1-set(deps)\n",
    "sdiffR = set(deps)-deps1\n",
    "\n",
    "if len(sdiff) > 0:\n",
    "    raise RuntimeError (f\"Missing departements in depStats (pop stats):{sdiff}\")\n",
    "\n",
    "if len(sdiffR) > 0:\n",
    "    raise RuntimeError(f\"Non represented departements in vacGrMerged:{sorted(sdiffR)}\")"
   ]
  },
  {
   "cell_type": "code",
   "execution_count": 30,
   "metadata": {
    "scrolled": true
   },
   "outputs": [],
   "source": [
    "colLabs = (\"n_dose1\", \"n_dose2\", \"n_cum_dose1\", \"n_cum_dose2\")\n",
    "for lab in colLabs:\n",
    "    vacGrMerged[lab+\"_rate\"] = vacGrMerged[lab]/vacGrMerged[\"Population totale\"]*100"
   ]
  },
  {
   "cell_type": "code",
   "execution_count": 31,
   "metadata": {},
   "outputs": [
    {
     "name": "stdout",
     "output_type": "stream",
     "text": [
      "vacDepf.shape =(156045, 13)\n",
      "depStats.shape=(100, 4)\n",
      "vacMerged.shape=(148773, 16)\n",
      "vacGrMerged.shape=(148773, 16)\n",
      "data_dailyDep.shape=(156045, 13)\n",
      "vacMerged.columns:Index(['vaccin', 'dep', 'jour', 'n_dose1', 'n_dose2', 'n_dose3', 'n_dose4',\n",
      "       'n_rappel', 'n_cum_dose1', 'n_cum_dose2', 'n_cum_dose3', 'n_cum_dose4',\n",
      "       'n_cum_rappel', 'Nom du département', 'Population municipale',\n",
      "       'Population totale'],\n",
      "      dtype='object')\n",
      "vacGrMerged.columns:Index(['n_dose1', 'n_dose2', 'n_dose3', 'n_dose4', 'n_rappel', 'n_cum_dose1',\n",
      "       'n_cum_dose2', 'n_cum_dose3', 'n_cum_dose4', 'n_cum_rappel',\n",
      "       'Population municipale', 'Population totale', 'n_dose1_rate',\n",
      "       'n_dose2_rate', 'n_cum_dose1_rate', 'n_cum_dose2_rate'],\n",
      "      dtype='object')\n"
     ]
    }
   ],
   "source": [
    "print(f\"vacDepf.shape ={vacDepf.shape}\")\n",
    "print(f\"depStats.shape={depStats.shape}\")\n",
    "print(f\"vacMerged.shape={vacMerged.shape}\")\n",
    "print(f\"vacGrMerged.shape={vacGrMerged.shape}\")\n",
    "print(f\"data_dailyDep.shape={data_dailyDep.shape}\")\n",
    "\n",
    "print(f\"vacMerged.columns:{vacMerged.columns}\")\n",
    "print(f\"vacGrMerged.columns:{vacGrMerged.columns}\")"
   ]
  },
  {
   "cell_type": "markdown",
   "metadata": {},
   "source": [
    "For now, look at daily statistics normalized by concerned population (unit= event per million people)"
   ]
  },
  {
   "cell_type": "markdown",
   "metadata": {},
   "source": [
    "Select `vaccin == 0` (all vaccine types), iterate on `dep` (if this is doable\n",
    "on a multi-index, note that `vacGrMerged` is a `pandas.core.frame.DataFrame`.)\n",
    "- https://stackoverflow.com/questions/53927460/select-rows-in-pandas-multiindex-dataframe is quite comprehensive on slicing multi-indices\n",
    "- we select `vaccin == 0` with `loc[slice(None),slice(None),0]` selector"
   ]
  },
  {
   "cell_type": "code",
   "execution_count": 32,
   "metadata": {},
   "outputs": [],
   "source": [
    "vacAllPanda=vacGrMerged.loc[slice(None),slice(None),0]"
   ]
  },
  {
   "cell_type": "markdown",
   "metadata": {},
   "source": [
    "We take this opportunity to check that all departements are represented"
   ]
  },
  {
   "cell_type": "code",
   "execution_count": 33,
   "metadata": {
    "scrolled": true
   },
   "outputs": [],
   "source": [
    "deps=depStats.iloc[:,0]\n",
    "deps1=set(vacAllPanda.index.get_level_values(0))\n",
    "sdiff = deps1-set(deps)\n",
    "if len(sdiff) > 0:\n",
    "    raise RuntimeError (f\"Missing departements in depStats (pop stats):{sdiff}\")\n"
   ]
  },
  {
   "cell_type": "code",
   "execution_count": 34,
   "metadata": {},
   "outputs": [
    {
     "data": {
      "text/html": [
       "<div>\n",
       "<style scoped>\n",
       "    .dataframe tbody tr th:only-of-type {\n",
       "        vertical-align: middle;\n",
       "    }\n",
       "\n",
       "    .dataframe tbody tr th {\n",
       "        vertical-align: top;\n",
       "    }\n",
       "\n",
       "    .dataframe thead th {\n",
       "        text-align: right;\n",
       "    }\n",
       "</style>\n",
       "<table border=\"1\" class=\"dataframe\">\n",
       "  <thead>\n",
       "    <tr style=\"text-align: right;\">\n",
       "      <th></th>\n",
       "      <th>n_cum_dose1</th>\n",
       "      <th>n_cum_dose2</th>\n",
       "    </tr>\n",
       "  </thead>\n",
       "  <tbody>\n",
       "    <tr>\n",
       "      <th>count</th>\n",
       "      <td>2.757300e+04</td>\n",
       "      <td>2.757300e+04</td>\n",
       "    </tr>\n",
       "    <tr>\n",
       "      <th>mean</th>\n",
       "      <td>2.588694e+05</td>\n",
       "      <td>1.787344e+05</td>\n",
       "    </tr>\n",
       "    <tr>\n",
       "      <th>std</th>\n",
       "      <td>3.171681e+05</td>\n",
       "      <td>2.511466e+05</td>\n",
       "    </tr>\n",
       "    <tr>\n",
       "      <th>min</th>\n",
       "      <td>0.000000e+00</td>\n",
       "      <td>0.000000e+00</td>\n",
       "    </tr>\n",
       "    <tr>\n",
       "      <th>25%</th>\n",
       "      <td>3.737700e+04</td>\n",
       "      <td>1.572000e+04</td>\n",
       "    </tr>\n",
       "    <tr>\n",
       "      <th>50%</th>\n",
       "      <td>1.441310e+05</td>\n",
       "      <td>7.660700e+04</td>\n",
       "    </tr>\n",
       "    <tr>\n",
       "      <th>75%</th>\n",
       "      <td>3.624120e+05</td>\n",
       "      <td>2.390140e+05</td>\n",
       "    </tr>\n",
       "    <tr>\n",
       "      <th>max</th>\n",
       "      <td>2.005725e+06</td>\n",
       "      <td>1.687582e+06</td>\n",
       "    </tr>\n",
       "  </tbody>\n",
       "</table>\n",
       "</div>"
      ],
      "text/plain": [
       "        n_cum_dose1   n_cum_dose2\n",
       "count  2.757300e+04  2.757300e+04\n",
       "mean   2.588694e+05  1.787344e+05\n",
       "std    3.171681e+05  2.511466e+05\n",
       "min    0.000000e+00  0.000000e+00\n",
       "25%    3.737700e+04  1.572000e+04\n",
       "50%    1.441310e+05  7.660700e+04\n",
       "75%    3.624120e+05  2.390140e+05\n",
       "max    2.005725e+06  1.687582e+06"
      ]
     },
     "execution_count": 34,
     "metadata": {},
     "output_type": "execute_result"
    }
   ],
   "source": [
    "vacGrMerged.loc[slice(None),slice(None),0].loc[:,('n_cum_dose1','n_cum_dose2') ].describe()"
   ]
  },
  {
   "cell_type": "markdown",
   "metadata": {},
   "source": [
    "We also make a dict to get information about a departement from its id as a string representing a number. There is an **issue** here since *code 976 (Mayotte) is missing,\n",
    "as well as code 975 (St Pierre et Miquelon)*. When this **blows up...** I will have to do something about it!!"
   ]
  },
  {
   "cell_type": "code",
   "execution_count": 35,
   "metadata": {},
   "outputs": [],
   "source": [
    "depDict = {depStats.iloc[i,0]:i for i in range(depStats.shape[0])}"
   ]
  },
  {
   "cell_type": "markdown",
   "metadata": {},
   "source": [
    "This is how this works and this solves the mystery about 97X numbers!"
   ]
  },
  {
   "cell_type": "code",
   "execution_count": 36,
   "metadata": {},
   "outputs": [
    {
     "data": {
      "text/html": [
       "<div>\n",
       "<style scoped>\n",
       "    .dataframe tbody tr th:only-of-type {\n",
       "        vertical-align: middle;\n",
       "    }\n",
       "\n",
       "    .dataframe tbody tr th {\n",
       "        vertical-align: top;\n",
       "    }\n",
       "\n",
       "    .dataframe thead th {\n",
       "        text-align: right;\n",
       "    }\n",
       "</style>\n",
       "<table border=\"1\" class=\"dataframe\">\n",
       "  <thead>\n",
       "    <tr style=\"text-align: right;\">\n",
       "      <th></th>\n",
       "      <th>dep</th>\n",
       "      <th>Nom du département</th>\n",
       "      <th>Population municipale</th>\n",
       "      <th>Population totale</th>\n",
       "    </tr>\n",
       "  </thead>\n",
       "  <tbody>\n",
       "    <tr>\n",
       "      <th>96</th>\n",
       "      <td>971</td>\n",
       "      <td>Guadeloupe</td>\n",
       "      <td>390253</td>\n",
       "      <td>396153</td>\n",
       "    </tr>\n",
       "    <tr>\n",
       "      <th>97</th>\n",
       "      <td>972</td>\n",
       "      <td>Martinique</td>\n",
       "      <td>372594</td>\n",
       "      <td>377711</td>\n",
       "    </tr>\n",
       "    <tr>\n",
       "      <th>98</th>\n",
       "      <td>973</td>\n",
       "      <td>Guyane</td>\n",
       "      <td>268700</td>\n",
       "      <td>271124</td>\n",
       "    </tr>\n",
       "    <tr>\n",
       "      <th>99</th>\n",
       "      <td>974</td>\n",
       "      <td>La Réunion</td>\n",
       "      <td>853659</td>\n",
       "      <td>863063</td>\n",
       "    </tr>\n",
       "  </tbody>\n",
       "</table>\n",
       "</div>"
      ],
      "text/plain": [
       "    dep Nom du département  Population municipale  Population totale\n",
       "96  971         Guadeloupe                 390253             396153\n",
       "97  972         Martinique                 372594             377711\n",
       "98  973             Guyane                 268700             271124\n",
       "99  974         La Réunion                 853659             863063"
      ]
     },
     "execution_count": 36,
     "metadata": {},
     "output_type": "execute_result"
    }
   ],
   "source": [
    "depStats.iloc[list(depDict[f\"{i}\"] for i in range(971,975)) ,:]"
   ]
  },
  {
   "cell_type": "markdown",
   "metadata": {},
   "source": [
    "What corresponds to departement with number '976' (Mayotte), missing here, \n",
    "remains to be seen... But at this point this is non blocking. Of course we used the trick of converting to a set\n",
    "to get the unique values used in the 'dep' multi-index level."
   ]
  },
  {
   "cell_type": "markdown",
   "metadata": {},
   "source": [
    "And the graph can be readily generated:"
   ]
  },
  {
   "cell_type": "markdown",
   "metadata": {},
   "source": [
    "For vaccine coverage, we determine it on last day in table. \n",
    "This implementation requires all departements to have entries for the last day!!\n",
    "\n",
    "First we prepare by getting access to the vaccination rates:"
   ]
  },
  {
   "cell_type": "code",
   "execution_count": 37,
   "metadata": {},
   "outputs": [],
   "source": [
    "lastDay=max(vacAllPanda.index.levels[1])\n",
    "vaccAllLast=vacAllPanda.loc[(slice(None),lastDay),:]\n",
    "vRates = vaccAllLast.loc[:, ('n_cum_dose1_rate','n_cum_dose2_rate')]"
   ]
  },
  {
   "cell_type": "markdown",
   "metadata": {},
   "source": [
    "### Compare vaccination achievements accross departements"
   ]
  },
  {
   "cell_type": "markdown",
   "metadata": {},
   "source": [
    "<HTML><COLOR:'RED'></HTML>This figure need to be redone <HTML></COLOR></HTML>\n",
    "    as a point cloud, with no xlabels, improved xlabels,\n",
    "or as an X-Y cloud, possibly showing the label at each point (too cluttered?), also look at the graphs we want to make... (rates/population...)"
   ]
  },
  {
   "cell_type": "markdown",
   "metadata": {},
   "source": [
    "### Mix vaccine and COVID Data on departemental level"
   ]
  },
  {
   "cell_type": "markdown",
   "metadata": {},
   "source": [
    "##### Load and prepare COVID Data\n",
    "This has been copied from 'COVID-Data-FromGouv(-Later)', postfix 'D' is used to name\n",
    "objects, since they will be used with previously loaded data."
   ]
  },
  {
   "cell_type": "code",
   "execution_count": 38,
   "metadata": {},
   "outputs": [],
   "source": [
    "tagset1D = ({\"tag\":\"covid\"}, {\"tag\":\"covid19\"})\n",
    "specOptsD={ 'cacheFname': '.cache.tag-covid.json',\n",
    "           \"dumpMetaFile\" : \"data-gouv-fr.meta.dump\",\n",
    "           \"dumpMetaInfoFile\" : \"data-gouv-fr.metainfo.dump\",\n",
    "           'ApiInq'       : 'datasets',\n",
    "           'ApiInqQuery'  : tagset1D,\n",
    "           'InqParmsDir'  : {},\n",
    "          }\n",
    "rexD = re.compile('(.*sursaud|^donnees-hospitalieres).*')\n",
    "def uselFnD(urqt):\n",
    "                return rexD.match(urqt.fname) or rexD.match(urqt.url)"
   ]
  },
  {
   "cell_type": "code",
   "execution_count": 39,
   "metadata": {},
   "outputs": [
    {
     "name": "stdout",
     "output_type": "stream",
     "text": [
      "In cacheSpaceRecovery, looking for 7216553.0 bytes\n",
      "Printing genDir collected for preparing Cache Recovery\n",
      "\n",
      "Gen.File:\t'sp-pos-heb-dep-!.csv'\n",
      "\tTo be scavenged:\n",
      "\t\t2.232Mb\t'../data/sp-pos-heb-dep-2021-10-04-19h05.csv'\n",
      "\tKept\n",
      "\t\t2.326Mb\t'../data/sp-pos-heb-dep-2021-10-26-19h08.csv'\n",
      "\n",
      "Gen.File:\t'sp-pos-heb-fra-!.csv'\n",
      "\tTo be scavenged:\n",
      "\t\t0.049Mb\t'../data/sp-pos-heb-fra-2021-10-04-19h05.csv'\n",
      "\tKept\n",
      "\t\t0.051Mb\t'../data/sp-pos-heb-fra-2021-10-26-19h08.csv'\n",
      "\n",
      "Gen.File:\t'sp-pos-heb-reg-!.csv'\n",
      "\tTo be scavenged:\n",
      "\t\t0.715Mb\t'../data/sp-pos-heb-reg-2021-10-04-19h05.csv'\n",
      "\tKept\n",
      "\t\t0.745Mb\t'../data/sp-pos-heb-reg-2021-10-26-19h08.csv'\n",
      "\n",
      "Gen.File:\t'sp-pos-quot-fra-!.csv'\n",
      "\tTo be scavenged:\n",
      "\t\t0.330Mb\t'../data/sp-pos-quot-fra-2021-10-04-19h05.csv'\n",
      "\tKept\n",
      "\t\t0.345Mb\t'../data/sp-pos-quot-fra-2021-10-26-19h08.csv'\n",
      "\n",
      "Gen.File:\t'sp-pos-quot-reg-!.csv'\n",
      "\tTo be scavenged:\n",
      "\t\t4.840Mb\t'../data/sp-pos-quot-reg-2021-10-04-19h05.csv'\n",
      "\tKept\n",
      "\t\t5.052Mb\t'../data/sp-pos-quot-reg-2021-10-26-19h08.csv'\n",
      "\n",
      "Gen.File:\t'sursaud-corona-quot-dep-!.csv'\n",
      "\tTo be scavenged:\n",
      "\t\t13.577Mb\t'../data/sursaud-corona-quot-dep-2021-10-04-19h08.csv'\n",
      "\tKept\n",
      "\t\t14.085Mb\t'../data/sursaud-corona-quot-dep-2021-10-26-19h05.csv'\n",
      "\n",
      "Gen.File:\t'sursaud-corona-quot-reg-!.csv'\n",
      "\tTo be scavenged:\n",
      "\t\t2.867Mb\t'../data/sursaud-corona-quot-reg-2021-10-04-19h08.csv'\n",
      "\tKept\n",
      "\t\t2.972Mb\t'../data/sursaud-corona-quot-reg-2021-10-26-19h05.csv'\n",
      "Loaded pickle from ../data/.cache.tag-covid.json, loaded 0h 1m 39s ago (2 elts)\n"
     ]
    },
    {
     "name": "stderr",
     "output_type": "stream",
     "text": [
      "Per options['dumpMetaFile'], wrote data in file ../data/data-gouv-fr.meta.dump\n",
      "Per options['dumpMetaInfoFile'], wrote meta data in file ../data/data-gouv-fr.metainfo.dump\n",
      "UpdtList has len: 10\n",
      "UpdtList starts with:\n",
      "\t<<class 'lib.DataMgr.UpdateRqt'>>:[[ reason = ReasonCde.IsNewer; dict={'fname': 'donnees-hospitalieres-classe-age-hebdo-covid19-2021-10-21-19h06.csv', 'url': 'https://static.data.gouv.fr/resources/donnees-hospitalieres-relatives-a-lepidemie-de-covid-19/20211021-190614/donnees-hospitalieres-classe-age-hebdo-covid19-2021-10-21-19h06.csv', 'latest': 'https://www.data.gouv.fr/fr/datasets/r/dc7663c7-5da9-4765-a98b-ba4bc9de9079', 'org': None, 'orgslug': 'NONE', 'checksum': {'type': 'sha1', 'value': 'a433b6fd33fd21ac3b83d544aea888cfbd6af46a'}, 'format': 'csv', 'modDate': '2021-10-21T19:06:14.495000', 'cachedDate': datetime.datetime(2021, 10, 21, 19, 6), 'filesize': 399796, 'genKey': 'donnees-hospitalieres-classe-age-hebdo-covid19-!.csv'}]]\n",
      "\t<<class 'lib.DataMgr.UpdateRqt'>>:[[ reason = ReasonCde.IsNewer; dict={'fname': 'donnees-hospitalieres-covid19-2021-10-26-19h05.csv', 'url': 'https://static.data.gouv.fr/resources/donnees-hospitalieres-relatives-a-lepidemie-de-covid-19/20211026-190516/donnees-hospitalieres-covid19-2021-10-26-19h05.csv', 'latest': 'https://www.data.gouv.fr/fr/datasets/r/63352e38-d353-4b54-bfd1-f1b3ee1cabd7', 'org': None, 'orgslug': 'NONE', 'checksum': {'type': 'sha1', 'value': '36905d9ef78fc9dad90e6f24521ae18b07a546ce'}, 'format': 'csv', 'modDate': '2021-10-26T19:05:17.757000', 'cachedDate': datetime.datetime(2021, 10, 26, 19, 5), 'filesize': 7855604, 'genKey': 'donnees-hospitalieres-covid19-!.csv'}]]\n",
      "\t<<class 'lib.DataMgr.UpdateRqt'>>:[[ reason = ReasonCde.IsNewer; dict={'fname': 'donnees-hospitalieres-nouveaux-covid19-2021-10-26-19h05.csv', 'url': 'https://static.data.gouv.fr/resources/donnees-hospitalieres-relatives-a-lepidemie-de-covid-19/20211026-190519/donnees-hospitalieres-nouveaux-covid19-2021-10-26-19h05.csv', 'latest': 'https://www.data.gouv.fr/fr/datasets/r/6fadff46-9efd-4c53-942a-54aca783c30c', 'org': None, 'orgslug': 'NONE', 'checksum': {'type': 'sha1', 'value': 'f6f1677d20e0a99ccbd5103e0e4af27a768796ba'}, 'format': 'csv', 'modDate': '2021-10-26T19:05:19.533000', 'cachedDate': datetime.datetime(2021, 10, 26, 19, 5), 'filesize': 1473675, 'genKey': 'donnees-hospitalieres-nouveaux-covid19-!.csv'}]]\n",
      "\t<<class 'lib.DataMgr.UpdateRqt'>>:[[ reason = ReasonCde.IsNewer; dict={'fname': 'donnees-hospitalieres-classe-age-covid19-2021-10-26-19h05.csv', 'url': 'https://static.data.gouv.fr/resources/donnees-hospitalieres-relatives-a-lepidemie-de-covid-19/20211026-190521/donnees-hospitalieres-classe-age-covid19-2021-10-26-19h05.csv', 'latest': 'https://www.data.gouv.fr/fr/datasets/r/08c18e08-6780-452d-9b8c-ae244ad529b3', 'org': None, 'orgslug': 'NONE', 'checksum': {'type': 'sha1', 'value': 'e92758cad606c1fd003528127d7b44f410552fb0'}, 'format': 'csv', 'modDate': '2021-10-26T19:05:21.961000', 'cachedDate': datetime.datetime(2021, 10, 26, 19, 5), 'filesize': 4822801, 'genKey': 'donnees-hospitalieres-classe-age-covid19-!.csv'}]]\n",
      "\t<<class 'lib.DataMgr.UpdateRqt'>>:[[ reason = ReasonCde.IsNewer; dict={'fname': 'donnees-hospitalieres-etablissements-covid19-2021-10-26-19h05.csv', 'url': 'https://static.data.gouv.fr/resources/donnees-hospitalieres-relatives-a-lepidemie-de-covid-19/20211026-190523/donnees-hospitalieres-etablissements-covid19-2021-10-26-19h05.csv', 'latest': 'https://www.data.gouv.fr/fr/datasets/r/41b9bd2a-b5b6-4271-8878-e45a8902ef00', 'org': None, 'orgslug': 'NONE', 'checksum': {'type': 'sha1', 'value': '3595d3f9b563044b824ac6af99ebe0e8c2503957'}, 'format': 'csv', 'modDate': '2021-10-26T19:05:23.889000', 'cachedDate': datetime.datetime(2021, 10, 26, 19, 5), 'filesize': 1121949, 'genKey': 'donnees-hospitalieres-etablissements-covid19-!.csv'}]]\n",
      "\t<<class 'lib.DataMgr.UpdateRqt'>>:[[ reason = ReasonCde.IsNewer; dict={'fname': 'sursaud-corona-quot-dep-2021-10-26-19h05.csv', 'url': 'https://static.data.gouv.fr/resources/donnees-des-urgences-hospitalieres-et-de-sos-medecins-relatives-a-lepidemie-de-covid-19/20211026-190511/sursaud-corona-quot-dep-2021-10-26-19h05.csv', 'latest': 'https://www.data.gouv.fr/fr/datasets/r/eceb9fb4-3ebc-4da3-828d-f5939712600a', 'org': None, 'orgslug': 'NONE', 'checksum': {'type': 'sha1', 'value': '84b01bc6b12f3fc0bae63cb2e5291f663273d8bd'}, 'format': 'csv', 'modDate': '2021-10-26T19:05:12.709000', 'cachedDate': datetime.datetime(2021, 10, 26, 19, 5), 'filesize': 14769376, 'genKey': 'sursaud-corona-quot-dep-!.csv'}]]\n",
      "\t<<class 'lib.DataMgr.UpdateRqt'>>:[[ reason = ReasonCde.IsNewer; dict={'fname': 'sursaud-corona-quot-reg-2021-10-26-19h05.csv', 'url': 'https://static.data.gouv.fr/resources/donnees-des-urgences-hospitalieres-et-de-sos-medecins-relatives-a-lepidemie-de-covid-19/20211026-190506/sursaud-corona-quot-reg-2021-10-26-19h05.csv', 'latest': 'https://www.data.gouv.fr/fr/datasets/r/d2af5160-a21d-47b7-8f30-3c20dade63b1', 'org': None, 'orgslug': 'NONE', 'checksum': {'type': 'sha1', 'value': '6141f02ad83e9e26e65706c354bd784a94249f92'}, 'format': 'csv', 'modDate': '2021-10-26T19:05:06.401000', 'cachedDate': datetime.datetime(2021, 10, 26, 19, 5), 'filesize': 3116682, 'genKey': 'sursaud-corona-quot-reg-!.csv'}]]\n",
      "\t<<class 'lib.DataMgr.UpdateRqt'>>:[[ reason = ReasonCde.IsNewer; dict={'fname': 'sursaud-covid19-quotidien-2020-07-03-19h00-france.csv', 'url': 'https://static.data.gouv.fr/resources/donnees-des-urgences-hospitalieres-et-de-sos-medecins-relatives-a-lepidemie-de-covid-19/20200703-190036/sursaud-covid19-quotidien-2020-07-03-19h00-france.csv', 'latest': 'https://www.data.gouv.fr/fr/datasets/r/219427ba-7e90-4eb1-9ac7-4de2e7e2112c', 'org': None, 'orgslug': 'NONE', 'checksum': {'type': 'sha1', 'value': '78e14522b9e618d56dea7036fa722e8ccc86a835'}, 'format': 'csv', 'modDate': '2020-07-03T19:00:36.723000', 'cachedDate': datetime.datetime(2020, 7, 3, 19, 0), 'filesize': 55738, 'genKey': 'sursaud-covid19-quotidien-!-france.csv'}]]\n",
      "\t<<class 'lib.DataMgr.UpdateRqt'>>:[[ reason = ReasonCde.IsNewer; dict={'fname': 'sursaud-covid19-quotidien-2020-07-03-19h00.xlsx', 'url': 'https://static.data.gouv.fr/resources/donnees-des-urgences-hospitalieres-et-de-sos-medecins-relatives-a-lepidemie-de-covid-19/20200703-190034/sursaud-covid19-quotidien-2020-07-03-19h00.xlsx', 'latest': 'https://www.data.gouv.fr/fr/datasets/r/941ff2b4-ea24-4cdf-b0a7-655f2a332fb2', 'org': None, 'orgslug': 'NONE', 'checksum': {'type': 'sha1', 'value': '225270f16a89673186807408a03b8d7b934d87c4'}, 'format': 'xlsx', 'modDate': '2020-07-03T19:00:34.879000', 'cachedDate': datetime.datetime(2020, 7, 3, 19, 0), 'filesize': 5850795, 'genKey': 'sursaud-covid19-quotidien-!.xlsx'}]]\n",
      "\t<<class 'lib.DataMgr.UpdateRqt'>>:[[ reason = ReasonCde.IsNewer; dict={'fname': 'sursaud-corona-hebdo-2020-07-15-19h15.csv', 'url': 'https://static.data.gouv.fr/resources/donnees-des-urgences-hospitalieres-et-de-sos-medecins-relatives-a-lepidemie-de-covid-19/20200715-191515/sursaud-corona-hebdo-2020-07-15-19h15.csv', 'latest': 'https://www.data.gouv.fr/fr/datasets/r/c67aebf7-9883-49ef-a654-c4af5fdf5206', 'org': None, 'orgslug': 'NONE', 'checksum': {'type': 'sha1', 'value': '92f1689346a158c798d9db99e45d869be0d5bc40'}, 'format': 'csv', 'modDate': '2020-07-15T19:15:15.447000', 'cachedDate': datetime.datetime(2020, 7, 15, 19, 15), 'filesize': 327878, 'genKey': 'sursaud-corona-hebdo-!.csv'}]]\n"
     ]
    }
   ],
   "source": [
    "dataFileVMgrD = manageAndCacheDataFilesFRAPI(\"../data\", maxDirSz= 170*(2**10)**2,\n",
    "                                            **specOptsD)\n",
    "dataFileVMgrD.getRemoteInfo()\n",
    "dataFileVMgrD.updatePrepare()\n",
    "dataFileVMgrD.updateSelect(displayCount=40 ,  URqtSelector = uselFnD)\n",
    "dataFileVMgrD.cacheUpdate()"
   ]
  },
  {
   "cell_type": "code",
   "execution_count": 40,
   "metadata": {},
   "outputs": [],
   "source": [
    "lastD = lambda x: dataFileVMgrD.getRecentVersion(x,default=True)"
   ]
  },
  {
   "cell_type": "code",
   "execution_count": 41,
   "metadata": {},
   "outputs": [
    {
     "name": "stdout",
     "output_type": "stream",
     "text": [
      "Most recent versions of files in data directory:\n",
      "\tcovid-hospit-incid-reg-2021-10-26-19h05.csv\n",
      "\tdonnees-hospitalieres-classe-age-covid19-2021-10-26-19h05.csv\n",
      "\tdonnees-hospitalieres-classe-age-hebdo-covid19-2021-10-21-19h06.csv\n",
      "\tdonnees-hospitalieres-covid19-2021-10-26-19h05.csv\n",
      "\tdonnees-hospitalieres-etablissements-covid19-2021-10-26-19h05.csv\n",
      "\tdonnees-hospitalieres-nouveaux-covid19-2021-10-26-19h05.csv\n",
      "\tsp-pos-heb-2020-07-01-19h15.xlsx\n",
      "\tsp-pos-heb-dep-2021-10-26-19h08.csv\n",
      "\tsp-pos-heb-fra-2021-10-26-19h08.csv\n",
      "\tsp-pos-heb-reg-2021-10-26-19h08.csv\n",
      "\tsp-pos-quot-2020-07-03-19h15.xlsx\n",
      "\tsp-pos-quot-dep-2021-10-26-19h08.csv\n",
      "\tsp-pos-quot-fra-2021-10-26-19h08.csv\n",
      "\tsp-pos-quot-reg-2021-10-26-19h08.csv\n",
      "\tsursaud-corona-hebdo-2020-07-15-19h15.csv\n",
      "\tsursaud-corona-quot-dep-2021-10-26-19h05.csv\n",
      "\tsursaud-corona-quot-reg-2021-10-26-19h05.csv\n",
      "\tsursaud-covid19-hebdomadaire-2020-06-24-19h00.csv\n",
      "\tsursaud-covid19-quotidien-2020-07-03-19h00-france.csv\n",
      "\tsursaud-covid19-quotidien-2020-07-03-19h00.xlsx\n"
     ]
    }
   ],
   "source": [
    "print(\"Most recent versions of files in data directory:\")\n",
    "for f in dataFileVMgrD.listMostRecent() :\n",
    "    print(f\"\\t{f}\")"
   ]
  },
  {
   "cell_type": "code",
   "execution_count": 42,
   "metadata": {},
   "outputs": [],
   "source": [
    "dailyDepCsv    = lastD(\"sursaud-corona-quot-dep-2021-04-08-21h20.csv\")\n",
    "hospNouveauCsv = lastD(\"donnees-hospitalieres-nouveaux-covid19-2020-04-11-19h00.csv\")\n",
    "adD  = lambda x: \"../data/\"+x\n",
    "data_dailyDep    = read_csvPandas(adD(dailyDepCsv), error_bad_lines=False,sep=\";\")\n",
    "data_hospNouveau = read_csvPandas(adD(hospNouveauCsv), error_bad_lines=False,sep=\";\")"
   ]
  },
  {
   "cell_type": "markdown",
   "metadata": {},
   "source": [
    "We use `nbDaysFilter` for averaging daily data when such filtering is needed.\n",
    "There is a parameter `nbLastDays` above for representing recent data; for avoiding issues with week ends, make this a multiple of 7."
   ]
  },
  {
   "cell_type": "code",
   "execution_count": 43,
   "metadata": {},
   "outputs": [],
   "source": [
    "nbDaysFilter=7"
   ]
  },
  {
   "cell_type": "code",
   "execution_count": 44,
   "metadata": {},
   "outputs": [
    {
     "name": "stdout",
     "output_type": "stream",
     "text": [
      "hnDf:\n",
      "\tcolumn names:['incid_hosp' 'incid_rea' 'incid_dc' 'incid_rad']\n",
      "\tmulti-index names:['dep', 'jour']\n"
     ]
    }
   ],
   "source": [
    "hndDf = data_hospNouveau.set_index( [\"dep\",\"jour\"]).copy()\n",
    "\n",
    "print(f\"hnDf:\\n\\tcolumn names:{hndDf.columns.values}\"\n",
    "      +f\"\\n\\tmulti-index names:{hndDf.index.names}\")"
   ]
  },
  {
   "cell_type": "markdown",
   "metadata": {},
   "source": [
    "Check that in this table, all departements use same set of dates, and store it in `hndDateList`:"
   ]
  },
  {
   "cell_type": "code",
   "execution_count": 45,
   "metadata": {},
   "outputs": [],
   "source": [
    "hndDfG=hndDf.groupby(['dep'])\n",
    "hndDateList=None\n",
    "for dep in hndDfG:\n",
    "    gg=hndDfG.get_group(dep[0]).copy()\n",
    "    if hndDateList is None:\n",
    "        hndDateList=gg.reset_index('jour')['jour'].values\n",
    "    else:\n",
    "        assert  (hndDateList ==  gg.reset_index('jour')['jour'].values).all()"
   ]
  },
  {
   "cell_type": "markdown",
   "metadata": {},
   "source": [
    "Now, we run the same process for the `data_dailyDep` frame! \n",
    "*But there is an issue here!*"
   ]
  },
  {
   "cell_type": "code",
   "execution_count": 46,
   "metadata": {},
   "outputs": [
    {
     "name": "stdout",
     "output_type": "stream",
     "text": [
      "column 'dep' contains data with types {<class 'int'>, <class 'str'>}\n",
      "Count of <class 'int'> :  336892\n",
      "Count of <class 'str'> :  32768\n"
     ]
    }
   ],
   "source": [
    "dDf=data_dailyDep\n",
    "dDfTypes=set( dDf.loc[:,'dep'].apply(type))\n",
    "print(f\"column 'dep' contains data with types {dDfTypes}\")\n",
    "for t in dDfTypes:\n",
    "    cc = dDf.loc[:,'dep'].apply(lambda x: isinstance(x,t))\n",
    "    print(f\"Count of {t} :  {cc.sum()}\")\n",
    "set(dDf.loc[:,'dep'].values)\n",
    "def cvFun(x):\n",
    "    if isinstance(x,int):\n",
    "        return f\"{x:02d}\"\n",
    "    return x\n",
    "depColAsStr=dDf.loc[:,'dep'].apply(cvFun)"
   ]
  },
  {
   "cell_type": "code",
   "execution_count": 47,
   "metadata": {},
   "outputs": [
    {
     "name": "stdout",
     "output_type": "stream",
     "text": [
      "There is a departement code not in depDict:976\n"
     ]
    }
   ],
   "source": [
    "for x in set(depColAsStr.values):\n",
    "    if x not in depDict:\n",
    "        print(f\"There is a departement code not in depDict:{x}\")"
   ]
  },
  {
   "cell_type": "markdown",
   "metadata": {},
   "source": [
    "We correct the table nevertheless, and hope for the best(?)"
   ]
  },
  {
   "cell_type": "code",
   "execution_count": 48,
   "metadata": {},
   "outputs": [],
   "source": [
    "dDf.loc[:,'dep'] = depColAsStr"
   ]
  },
  {
   "cell_type": "code",
   "execution_count": 49,
   "metadata": {},
   "outputs": [
    {
     "name": "stdout",
     "output_type": "stream",
     "text": [
      "dDf:\n",
      "\tcolumn names:['nbre_pass_corona' 'nbre_pass_tot' 'nbre_hospit_corona'\n",
      " 'nbre_pass_corona_h' 'nbre_pass_corona_f' 'nbre_pass_tot_h'\n",
      " 'nbre_pass_tot_f' 'nbre_hospit_corona_h' 'nbre_hospit_corona_f'\n",
      " 'nbre_acte_corona' 'nbre_acte_tot' 'nbre_acte_corona_h'\n",
      " 'nbre_acte_corona_f' 'nbre_acte_tot_h' 'nbre_acte_tot_f']\n",
      "\tmulti-index names:['dep', 'sursaud_cl_age_corona', 'date_de_passage']\n"
     ]
    }
   ],
   "source": [
    "dDf=data_dailyDep.set_index([\"dep\",\"sursaud_cl_age_corona\",'date_de_passage'] ).copy()\n",
    "\n",
    "print(f\"dDf:\\n\\tcolumn names:{dDf.columns.values}\"\n",
    "      +f\"\\n\\tmulti-index names:{dDf.index.names}\")"
   ]
  },
  {
   "cell_type": "markdown",
   "metadata": {},
   "source": [
    "This is a check that all departement's data are relative the same dates! Seems\n",
    "weird, but this has permitted to diagnose that there was a mix of integer and string\n",
    "data in the \"dep\" column (string needed because of Corsica 2A and 2B codes!!!)"
   ]
  },
  {
   "cell_type": "code",
   "execution_count": 50,
   "metadata": {},
   "outputs": [],
   "source": [
    "dDfG=dDf.groupby(['dep', \"sursaud_cl_age_corona\"])\n",
    "dDateList=None\n",
    "for dep in dDfG:\n",
    "    gg=dDfG.get_group(dep[0]).copy().reset_index('date_de_passage')['date_de_passage'].values\n",
    "    if dDateList is None:\n",
    "        dDateList=gg\n",
    "    else:\n",
    "        if len(gg)!= len (dDateList):\n",
    "            print(f\"Different number of dates for dep={dep[0]}; was:{len(dDateList)}\"+\n",
    "                  f\" This one: {len(gg)}\")\n"
   ]
  },
  {
   "cell_type": "markdown",
   "metadata": {},
   "source": [
    "#### Extract last days values\n",
    "Last days values are averaged over a period of time, as parametrized\n",
    "by `nbDaysFilter`, and this is represented in `hndLDays`. \n",
    "For now, we are using the data from \n",
    "`donnees-hospitalieres-nouveaux-covid19.*` (`hndDf`); this is consistent with\n",
    "per departement graphs in `COVID-Data-FromGouv-Later`."
   ]
  },
  {
   "cell_type": "code",
   "execution_count": 51,
   "metadata": {},
   "outputs": [
    {
     "data": {
      "text/html": [
       "<div>\n",
       "<style scoped>\n",
       "    .dataframe tbody tr th:only-of-type {\n",
       "        vertical-align: middle;\n",
       "    }\n",
       "\n",
       "    .dataframe tbody tr th {\n",
       "        vertical-align: top;\n",
       "    }\n",
       "\n",
       "    .dataframe thead th {\n",
       "        text-align: right;\n",
       "    }\n",
       "</style>\n",
       "<table border=\"1\" class=\"dataframe\">\n",
       "  <thead>\n",
       "    <tr style=\"text-align: right;\">\n",
       "      <th></th>\n",
       "      <th>incid_hosp</th>\n",
       "      <th>incid_rea</th>\n",
       "      <th>incid_dc</th>\n",
       "      <th>incid_rad</th>\n",
       "    </tr>\n",
       "  </thead>\n",
       "  <tbody>\n",
       "    <tr>\n",
       "      <th>count</th>\n",
       "      <td>59874.000000</td>\n",
       "      <td>59874.000000</td>\n",
       "      <td>59874.000000</td>\n",
       "      <td>59874.000000</td>\n",
       "    </tr>\n",
       "    <tr>\n",
       "      <th>mean</th>\n",
       "      <td>9.158282</td>\n",
       "      <td>1.680295</td>\n",
       "      <td>1.534105</td>\n",
       "      <td>7.307997</td>\n",
       "    </tr>\n",
       "    <tr>\n",
       "      <th>std</th>\n",
       "      <td>18.516946</td>\n",
       "      <td>3.977909</td>\n",
       "      <td>3.354967</td>\n",
       "      <td>13.635658</td>\n",
       "    </tr>\n",
       "    <tr>\n",
       "      <th>min</th>\n",
       "      <td>0.000000</td>\n",
       "      <td>0.000000</td>\n",
       "      <td>0.000000</td>\n",
       "      <td>0.000000</td>\n",
       "    </tr>\n",
       "    <tr>\n",
       "      <th>25%</th>\n",
       "      <td>0.000000</td>\n",
       "      <td>0.000000</td>\n",
       "      <td>0.000000</td>\n",
       "      <td>0.000000</td>\n",
       "    </tr>\n",
       "    <tr>\n",
       "      <th>50%</th>\n",
       "      <td>3.000000</td>\n",
       "      <td>0.000000</td>\n",
       "      <td>0.000000</td>\n",
       "      <td>2.000000</td>\n",
       "    </tr>\n",
       "    <tr>\n",
       "      <th>75%</th>\n",
       "      <td>10.000000</td>\n",
       "      <td>2.000000</td>\n",
       "      <td>2.000000</td>\n",
       "      <td>8.000000</td>\n",
       "    </tr>\n",
       "    <tr>\n",
       "      <th>max</th>\n",
       "      <td>404.000000</td>\n",
       "      <td>96.000000</td>\n",
       "      <td>76.000000</td>\n",
       "      <td>222.000000</td>\n",
       "    </tr>\n",
       "  </tbody>\n",
       "</table>\n",
       "</div>"
      ],
      "text/plain": [
       "         incid_hosp     incid_rea      incid_dc     incid_rad\n",
       "count  59874.000000  59874.000000  59874.000000  59874.000000\n",
       "mean       9.158282      1.680295      1.534105      7.307997\n",
       "std       18.516946      3.977909      3.354967     13.635658\n",
       "min        0.000000      0.000000      0.000000      0.000000\n",
       "25%        0.000000      0.000000      0.000000      0.000000\n",
       "50%        3.000000      0.000000      0.000000      2.000000\n",
       "75%       10.000000      2.000000      2.000000      8.000000\n",
       "max      404.000000     96.000000     76.000000    222.000000"
      ]
     },
     "metadata": {},
     "output_type": "display_data"
    },
    {
     "data": {
      "text/html": [
       "<div>\n",
       "<style scoped>\n",
       "    .dataframe tbody tr th:only-of-type {\n",
       "        vertical-align: middle;\n",
       "    }\n",
       "\n",
       "    .dataframe tbody tr th {\n",
       "        vertical-align: top;\n",
       "    }\n",
       "\n",
       "    .dataframe thead th {\n",
       "        text-align: right;\n",
       "    }\n",
       "</style>\n",
       "<table border=\"1\" class=\"dataframe\">\n",
       "  <thead>\n",
       "    <tr style=\"text-align: right;\">\n",
       "      <th></th>\n",
       "      <th>nbre_pass_corona</th>\n",
       "      <th>nbre_pass_tot</th>\n",
       "      <th>nbre_hospit_corona</th>\n",
       "      <th>nbre_pass_corona_h</th>\n",
       "      <th>nbre_pass_corona_f</th>\n",
       "      <th>nbre_pass_tot_h</th>\n",
       "      <th>nbre_pass_tot_f</th>\n",
       "      <th>nbre_hospit_corona_h</th>\n",
       "      <th>nbre_hospit_corona_f</th>\n",
       "      <th>nbre_acte_corona</th>\n",
       "      <th>nbre_acte_tot</th>\n",
       "      <th>nbre_acte_corona_h</th>\n",
       "      <th>nbre_acte_corona_f</th>\n",
       "      <th>nbre_acte_tot_h</th>\n",
       "      <th>nbre_acte_tot_f</th>\n",
       "    </tr>\n",
       "  </thead>\n",
       "  <tbody>\n",
       "    <tr>\n",
       "      <th>count</th>\n",
       "      <td>365586.000000</td>\n",
       "      <td>365586.000000</td>\n",
       "      <td>365586.000000</td>\n",
       "      <td>60991.000000</td>\n",
       "      <td>60991.000000</td>\n",
       "      <td>60991.000000</td>\n",
       "      <td>60991.000000</td>\n",
       "      <td>60991.000000</td>\n",
       "      <td>60991.000000</td>\n",
       "      <td>167504.000000</td>\n",
       "      <td>167504.000000</td>\n",
       "      <td>28051.000000</td>\n",
       "      <td>28051.000000</td>\n",
       "      <td>28051.000000</td>\n",
       "      <td>28051.000000</td>\n",
       "    </tr>\n",
       "    <tr>\n",
       "      <th>mean</th>\n",
       "      <td>3.101765</td>\n",
       "      <td>130.240876</td>\n",
       "      <td>1.474189</td>\n",
       "      <td>4.603253</td>\n",
       "      <td>4.691987</td>\n",
       "      <td>202.959223</td>\n",
       "      <td>187.339476</td>\n",
       "      <td>2.430457</td>\n",
       "      <td>1.987572</td>\n",
       "      <td>2.995033</td>\n",
       "      <td>64.830846</td>\n",
       "      <td>3.915475</td>\n",
       "      <td>5.033368</td>\n",
       "      <td>82.921571</td>\n",
       "      <td>111.014188</td>\n",
       "    </tr>\n",
       "    <tr>\n",
       "      <th>std</th>\n",
       "      <td>9.236028</td>\n",
       "      <td>190.959046</td>\n",
       "      <td>4.163477</td>\n",
       "      <td>9.299329</td>\n",
       "      <td>9.657490</td>\n",
       "      <td>167.794890</td>\n",
       "      <td>154.078343</td>\n",
       "      <td>4.784746</td>\n",
       "      <td>3.779569</td>\n",
       "      <td>7.090684</td>\n",
       "      <td>99.862772</td>\n",
       "      <td>5.894904</td>\n",
       "      <td>7.594831</td>\n",
       "      <td>72.755689</td>\n",
       "      <td>95.277289</td>\n",
       "    </tr>\n",
       "    <tr>\n",
       "      <th>min</th>\n",
       "      <td>0.000000</td>\n",
       "      <td>0.000000</td>\n",
       "      <td>0.000000</td>\n",
       "      <td>0.000000</td>\n",
       "      <td>0.000000</td>\n",
       "      <td>0.000000</td>\n",
       "      <td>0.000000</td>\n",
       "      <td>0.000000</td>\n",
       "      <td>0.000000</td>\n",
       "      <td>0.000000</td>\n",
       "      <td>1.000000</td>\n",
       "      <td>0.000000</td>\n",
       "      <td>0.000000</td>\n",
       "      <td>0.000000</td>\n",
       "      <td>0.000000</td>\n",
       "    </tr>\n",
       "    <tr>\n",
       "      <th>25%</th>\n",
       "      <td>0.000000</td>\n",
       "      <td>32.000000</td>\n",
       "      <td>0.000000</td>\n",
       "      <td>0.000000</td>\n",
       "      <td>0.000000</td>\n",
       "      <td>88.000000</td>\n",
       "      <td>82.000000</td>\n",
       "      <td>0.000000</td>\n",
       "      <td>0.000000</td>\n",
       "      <td>0.000000</td>\n",
       "      <td>12.000000</td>\n",
       "      <td>1.000000</td>\n",
       "      <td>1.000000</td>\n",
       "      <td>39.000000</td>\n",
       "      <td>54.000000</td>\n",
       "    </tr>\n",
       "    <tr>\n",
       "      <th>50%</th>\n",
       "      <td>1.000000</td>\n",
       "      <td>65.000000</td>\n",
       "      <td>0.000000</td>\n",
       "      <td>2.000000</td>\n",
       "      <td>2.000000</td>\n",
       "      <td>149.000000</td>\n",
       "      <td>137.000000</td>\n",
       "      <td>1.000000</td>\n",
       "      <td>1.000000</td>\n",
       "      <td>1.000000</td>\n",
       "      <td>30.000000</td>\n",
       "      <td>2.000000</td>\n",
       "      <td>3.000000</td>\n",
       "      <td>58.000000</td>\n",
       "      <td>79.000000</td>\n",
       "    </tr>\n",
       "    <tr>\n",
       "      <th>75%</th>\n",
       "      <td>3.000000</td>\n",
       "      <td>141.000000</td>\n",
       "      <td>1.000000</td>\n",
       "      <td>5.000000</td>\n",
       "      <td>5.000000</td>\n",
       "      <td>263.000000</td>\n",
       "      <td>242.000000</td>\n",
       "      <td>3.000000</td>\n",
       "      <td>2.000000</td>\n",
       "      <td>3.000000</td>\n",
       "      <td>76.000000</td>\n",
       "      <td>5.000000</td>\n",
       "      <td>6.000000</td>\n",
       "      <td>98.000000</td>\n",
       "      <td>132.000000</td>\n",
       "    </tr>\n",
       "    <tr>\n",
       "      <th>max</th>\n",
       "      <td>635.000000</td>\n",
       "      <td>2560.000000</td>\n",
       "      <td>203.000000</td>\n",
       "      <td>320.000000</td>\n",
       "      <td>315.000000</td>\n",
       "      <td>1392.000000</td>\n",
       "      <td>1240.000000</td>\n",
       "      <td>130.000000</td>\n",
       "      <td>76.000000</td>\n",
       "      <td>259.000000</td>\n",
       "      <td>1444.000000</td>\n",
       "      <td>121.000000</td>\n",
       "      <td>144.000000</td>\n",
       "      <td>621.000000</td>\n",
       "      <td>824.000000</td>\n",
       "    </tr>\n",
       "  </tbody>\n",
       "</table>\n",
       "</div>"
      ],
      "text/plain": [
       "       nbre_pass_corona  nbre_pass_tot  nbre_hospit_corona  \\\n",
       "count     365586.000000  365586.000000       365586.000000   \n",
       "mean           3.101765     130.240876            1.474189   \n",
       "std            9.236028     190.959046            4.163477   \n",
       "min            0.000000       0.000000            0.000000   \n",
       "25%            0.000000      32.000000            0.000000   \n",
       "50%            1.000000      65.000000            0.000000   \n",
       "75%            3.000000     141.000000            1.000000   \n",
       "max          635.000000    2560.000000          203.000000   \n",
       "\n",
       "       nbre_pass_corona_h  nbre_pass_corona_f  nbre_pass_tot_h  \\\n",
       "count        60991.000000        60991.000000     60991.000000   \n",
       "mean             4.603253            4.691987       202.959223   \n",
       "std              9.299329            9.657490       167.794890   \n",
       "min              0.000000            0.000000         0.000000   \n",
       "25%              0.000000            0.000000        88.000000   \n",
       "50%              2.000000            2.000000       149.000000   \n",
       "75%              5.000000            5.000000       263.000000   \n",
       "max            320.000000          315.000000      1392.000000   \n",
       "\n",
       "       nbre_pass_tot_f  nbre_hospit_corona_h  nbre_hospit_corona_f  \\\n",
       "count     60991.000000          60991.000000          60991.000000   \n",
       "mean        187.339476              2.430457              1.987572   \n",
       "std         154.078343              4.784746              3.779569   \n",
       "min           0.000000              0.000000              0.000000   \n",
       "25%          82.000000              0.000000              0.000000   \n",
       "50%         137.000000              1.000000              1.000000   \n",
       "75%         242.000000              3.000000              2.000000   \n",
       "max        1240.000000            130.000000             76.000000   \n",
       "\n",
       "       nbre_acte_corona  nbre_acte_tot  nbre_acte_corona_h  \\\n",
       "count     167504.000000  167504.000000        28051.000000   \n",
       "mean           2.995033      64.830846            3.915475   \n",
       "std            7.090684      99.862772            5.894904   \n",
       "min            0.000000       1.000000            0.000000   \n",
       "25%            0.000000      12.000000            1.000000   \n",
       "50%            1.000000      30.000000            2.000000   \n",
       "75%            3.000000      76.000000            5.000000   \n",
       "max          259.000000    1444.000000          121.000000   \n",
       "\n",
       "       nbre_acte_corona_f  nbre_acte_tot_h  nbre_acte_tot_f  \n",
       "count        28051.000000     28051.000000     28051.000000  \n",
       "mean             5.033368        82.921571       111.014188  \n",
       "std              7.594831        72.755689        95.277289  \n",
       "min              0.000000         0.000000         0.000000  \n",
       "25%              1.000000        39.000000        54.000000  \n",
       "50%              3.000000        58.000000        79.000000  \n",
       "75%              6.000000        98.000000       132.000000  \n",
       "max            144.000000       621.000000       824.000000  "
      ]
     },
     "metadata": {},
     "output_type": "display_data"
    }
   ],
   "source": [
    "display(hndDf.describe())\n",
    "display(dDf.describe())"
   ]
  },
  {
   "cell_type": "code",
   "execution_count": 52,
   "metadata": {},
   "outputs": [],
   "source": [
    "hndDfG=hndDf.groupby('dep')\n",
    "dataAsDict={}\n",
    "for (dep,depTb) in hndDfG:\n",
    "    #print(f\"dep={dep} {depTb.shape}\")\n",
    "    ll = depTb.iloc[-nbDaysFilter:, :]\n",
    "    llm = ll.mean()\n",
    "    dataAsDict[dep] = llm\n",
    "    #print(f\"{llm}\")\n",
    "hndLDays=PAN.DataFrame.from_dict(dataAsDict, orient='index')"
   ]
  },
  {
   "cell_type": "markdown",
   "metadata": {},
   "source": [
    "#### Prepare and Merge data \n",
    "\n",
    "Here we want to merge with other data:\n",
    "- need population count in the various territories\n",
    "- need vaccination data\n",
    "\n",
    "First, we embark on getting vaccination data averaged over the last `nbDaysFilter`\n",
    "days; the dates are listed in `lastDays`.\n",
    "\n",
    "A quite comprehensive treatment of selection with multi-indices appears in\n",
    "https://stackoverflow.com/questions/53927460/select-rows-in-pandas-multiindex-dataframe . All considered, I decide to use selection with a binary mask built over the index:"
   ]
  },
  {
   "cell_type": "code",
   "execution_count": 59,
   "metadata": {},
   "outputs": [
    {
     "name": "stdout",
     "output_type": "stream",
     "text": [
      "list of lastDays: ['2021-10-19' '2021-10-20' '2021-10-21' '2021-10-22' '2021-10-23'\n",
      " '2021-10-24' '2021-10-25']\n"
     ]
    }
   ],
   "source": [
    "v=vacDepf.set_index([\"vaccin\", \"dep\", \"jour\"]).loc[0, slice(None),slice(None)]\n",
    "lastDays=v.loc[\"1\"].index.values[-nbDaysFilter:]\n",
    "print(f\"list of lastDays: {lastDays}\")\n",
    "assert len(lastDays) == nbDaysFilter"
   ]
  },
  {
   "cell_type": "code",
   "execution_count": 60,
   "metadata": {},
   "outputs": [
    {
     "name": "stdout",
     "output_type": "stream",
     "text": [
      "vSelLast has\tshape=(721, 10),\n",
      "\t\tnb departement chunks:103.0\n"
     ]
    }
   ],
   "source": [
    "vSelLast=v[v.index.get_level_values('jour').map(lambda x: x in lastDays)]\n",
    "print(f\"vSelLast has\\tshape={vSelLast.shape},\"\n",
    "      +f\"\\n\\t\\tnb departement chunks:{vSelLast.shape[0] / nbDaysFilter}\")"
   ]
  },
  {
   "cell_type": "markdown",
   "metadata": {},
   "source": [
    "For each département:\n",
    "- we compute averages over `nbDaysFilter` last days for the vaccine delivery, which needs low pass filtering to avoid day to day variation and systematic variation on week ends\n",
    "- use vaccine cumulative data from the last day, since it is already a summation."
   ]
  },
  {
   "cell_type": "code",
   "execution_count": 61,
   "metadata": {},
   "outputs": [],
   "source": [
    "vSelLastG=vSelLast.groupby('dep')\n",
    "dataAsDict={}\n",
    "for (dep,depTb) in vSelLastG:\n",
    "    ll = depTb.iloc[-nbDaysFilter:, :]\n",
    "    llm = ll.mean()\n",
    "    for c in (\"n_cum_dose1\",\"n_cum_dose2\"):\n",
    "        llm[c] = depTb.iloc[-1:, :].loc[:,c]\n",
    "    dataAsDict[dep] = llm\n",
    "vacDepAvg=PAN.DataFrame.from_dict(dataAsDict, orient='index')"
   ]
  },
  {
   "cell_type": "code",
   "execution_count": 62,
   "metadata": {
    "scrolled": true
   },
   "outputs": [
    {
     "data": {
      "text/html": [
       "<div>\n",
       "<style scoped>\n",
       "    .dataframe tbody tr th:only-of-type {\n",
       "        vertical-align: middle;\n",
       "    }\n",
       "\n",
       "    .dataframe tbody tr th {\n",
       "        vertical-align: top;\n",
       "    }\n",
       "\n",
       "    .dataframe thead th {\n",
       "        text-align: right;\n",
       "    }\n",
       "</style>\n",
       "<table border=\"1\" class=\"dataframe\">\n",
       "  <thead>\n",
       "    <tr style=\"text-align: right;\">\n",
       "      <th></th>\n",
       "      <th>n_dose1</th>\n",
       "      <th>n_dose2</th>\n",
       "      <th>n_dose3</th>\n",
       "      <th>n_dose4</th>\n",
       "      <th>n_rappel</th>\n",
       "      <th>n_cum_dose1</th>\n",
       "      <th>n_cum_dose2</th>\n",
       "      <th>n_cum_dose3</th>\n",
       "      <th>n_cum_dose4</th>\n",
       "      <th>n_cum_rappel</th>\n",
       "    </tr>\n",
       "  </thead>\n",
       "  <tbody>\n",
       "    <tr>\n",
       "      <th>1</th>\n",
       "      <td>181.000000</td>\n",
       "      <td>382.571429</td>\n",
       "      <td>486.571429</td>\n",
       "      <td>0.857143</td>\n",
       "      <td>539.000000</td>\n",
       "      <td>416795.0</td>\n",
       "      <td>348913.0</td>\n",
       "      <td>18267.142857</td>\n",
       "      <td>14.428571</td>\n",
       "      <td>18433.857143</td>\n",
       "    </tr>\n",
       "    <tr>\n",
       "      <th>10</th>\n",
       "      <td>102.142857</td>\n",
       "      <td>183.571429</td>\n",
       "      <td>399.571429</td>\n",
       "      <td>0.285714</td>\n",
       "      <td>406.428571</td>\n",
       "      <td>235685.0</td>\n",
       "      <td>209636.0</td>\n",
       "      <td>12363.714286</td>\n",
       "      <td>15.571429</td>\n",
       "      <td>12129.428571</td>\n",
       "    </tr>\n",
       "    <tr>\n",
       "      <th>11</th>\n",
       "      <td>141.142857</td>\n",
       "      <td>217.428571</td>\n",
       "      <td>462.571429</td>\n",
       "      <td>0.142857</td>\n",
       "      <td>476.714286</td>\n",
       "      <td>271144.0</td>\n",
       "      <td>245749.0</td>\n",
       "      <td>15554.714286</td>\n",
       "      <td>7.857143</td>\n",
       "      <td>15224.285714</td>\n",
       "    </tr>\n",
       "    <tr>\n",
       "      <th>12</th>\n",
       "      <td>75.571429</td>\n",
       "      <td>103.428571</td>\n",
       "      <td>298.000000</td>\n",
       "      <td>0.000000</td>\n",
       "      <td>313.428571</td>\n",
       "      <td>217019.0</td>\n",
       "      <td>197422.0</td>\n",
       "      <td>13260.142857</td>\n",
       "      <td>1.000000</td>\n",
       "      <td>13024.428571</td>\n",
       "    </tr>\n",
       "    <tr>\n",
       "      <th>13</th>\n",
       "      <td>864.000000</td>\n",
       "      <td>1248.571429</td>\n",
       "      <td>2279.000000</td>\n",
       "      <td>2.714286</td>\n",
       "      <td>2379.428571</td>\n",
       "      <td>1443277.0</td>\n",
       "      <td>1219920.0</td>\n",
       "      <td>70812.714286</td>\n",
       "      <td>67.714286</td>\n",
       "      <td>69404.142857</td>\n",
       "    </tr>\n",
       "    <tr>\n",
       "      <th>...</th>\n",
       "      <td>...</td>\n",
       "      <td>...</td>\n",
       "      <td>...</td>\n",
       "      <td>...</td>\n",
       "      <td>...</td>\n",
       "      <td>...</td>\n",
       "      <td>...</td>\n",
       "      <td>...</td>\n",
       "      <td>...</td>\n",
       "      <td>...</td>\n",
       "    </tr>\n",
       "    <tr>\n",
       "      <th>973</th>\n",
       "      <td>138.571429</td>\n",
       "      <td>139.857143</td>\n",
       "      <td>41.428571</td>\n",
       "      <td>0.000000</td>\n",
       "      <td>37.000000</td>\n",
       "      <td>83338.0</td>\n",
       "      <td>63569.0</td>\n",
       "      <td>1325.428571</td>\n",
       "      <td>0.000000</td>\n",
       "      <td>887.428571</td>\n",
       "    </tr>\n",
       "    <tr>\n",
       "      <th>974</th>\n",
       "      <td>774.142857</td>\n",
       "      <td>869.571429</td>\n",
       "      <td>247.571429</td>\n",
       "      <td>0.000000</td>\n",
       "      <td>274.857143</td>\n",
       "      <td>507989.0</td>\n",
       "      <td>450306.0</td>\n",
       "      <td>9644.571429</td>\n",
       "      <td>7.000000</td>\n",
       "      <td>8071.571429</td>\n",
       "    </tr>\n",
       "    <tr>\n",
       "      <th>976</th>\n",
       "      <td>531.571429</td>\n",
       "      <td>770.571429</td>\n",
       "      <td>8.142857</td>\n",
       "      <td>0.000000</td>\n",
       "      <td>8.000000</td>\n",
       "      <td>144950.0</td>\n",
       "      <td>99115.0</td>\n",
       "      <td>316.428571</td>\n",
       "      <td>0.000000</td>\n",
       "      <td>227.428571</td>\n",
       "    </tr>\n",
       "    <tr>\n",
       "      <th>977</th>\n",
       "      <td>2.428571</td>\n",
       "      <td>6.857143</td>\n",
       "      <td>3.142857</td>\n",
       "      <td>0.000000</td>\n",
       "      <td>3.000000</td>\n",
       "      <td>6807.0</td>\n",
       "      <td>5865.0</td>\n",
       "      <td>148.857143</td>\n",
       "      <td>0.000000</td>\n",
       "      <td>131.000000</td>\n",
       "    </tr>\n",
       "    <tr>\n",
       "      <th>978</th>\n",
       "      <td>20.714286</td>\n",
       "      <td>13.857143</td>\n",
       "      <td>5.714286</td>\n",
       "      <td>0.000000</td>\n",
       "      <td>6.285714</td>\n",
       "      <td>12897.0</td>\n",
       "      <td>10540.0</td>\n",
       "      <td>226.142857</td>\n",
       "      <td>0.000000</td>\n",
       "      <td>192.714286</td>\n",
       "    </tr>\n",
       "  </tbody>\n",
       "</table>\n",
       "<p>103 rows × 10 columns</p>\n",
       "</div>"
      ],
      "text/plain": [
       "        n_dose1      n_dose2      n_dose3   n_dose4     n_rappel  n_cum_dose1  \\\n",
       "1    181.000000   382.571429   486.571429  0.857143   539.000000     416795.0   \n",
       "10   102.142857   183.571429   399.571429  0.285714   406.428571     235685.0   \n",
       "11   141.142857   217.428571   462.571429  0.142857   476.714286     271144.0   \n",
       "12    75.571429   103.428571   298.000000  0.000000   313.428571     217019.0   \n",
       "13   864.000000  1248.571429  2279.000000  2.714286  2379.428571    1443277.0   \n",
       "..          ...          ...          ...       ...          ...          ...   \n",
       "973  138.571429   139.857143    41.428571  0.000000    37.000000      83338.0   \n",
       "974  774.142857   869.571429   247.571429  0.000000   274.857143     507989.0   \n",
       "976  531.571429   770.571429     8.142857  0.000000     8.000000     144950.0   \n",
       "977    2.428571     6.857143     3.142857  0.000000     3.000000       6807.0   \n",
       "978   20.714286    13.857143     5.714286  0.000000     6.285714      12897.0   \n",
       "\n",
       "     n_cum_dose2   n_cum_dose3  n_cum_dose4  n_cum_rappel  \n",
       "1       348913.0  18267.142857    14.428571  18433.857143  \n",
       "10      209636.0  12363.714286    15.571429  12129.428571  \n",
       "11      245749.0  15554.714286     7.857143  15224.285714  \n",
       "12      197422.0  13260.142857     1.000000  13024.428571  \n",
       "13     1219920.0  70812.714286    67.714286  69404.142857  \n",
       "..           ...           ...          ...           ...  \n",
       "973      63569.0   1325.428571     0.000000    887.428571  \n",
       "974     450306.0   9644.571429     7.000000   8071.571429  \n",
       "976      99115.0    316.428571     0.000000    227.428571  \n",
       "977       5865.0    148.857143     0.000000    131.000000  \n",
       "978      10540.0    226.142857     0.000000    192.714286  \n",
       "\n",
       "[103 rows x 10 columns]"
      ]
     },
     "execution_count": 62,
     "metadata": {},
     "output_type": "execute_result"
    }
   ],
   "source": [
    "vacDepAvg"
   ]
  },
  {
   "cell_type": "markdown",
   "metadata": {},
   "source": [
    "Codes **missing** in `depDict` (it was loaded from Data originating at Insee??!!, **Check**)\n",
    "- 975 : St Pierre et Miquelon\n",
    "- 976 : Mayotte\n",
    "- 977 : St Barthelemy\n",
    "- 978 : St Martin"
   ]
  },
  {
   "cell_type": "markdown",
   "metadata": {},
   "source": [
    "Now, we embark on merging..\n",
    "- `vacDepAvg` : vaccination average over last days\n",
    "- `hndLDays`  : incidence average over last days\n",
    "- `depStats`  : population statistics (with some missing entries!!)\n",
    "\n"
   ]
  },
  {
   "cell_type": "code",
   "execution_count": 63,
   "metadata": {
    "scrolled": true
   },
   "outputs": [
    {
     "data": {
      "text/html": [
       "<div>\n",
       "<style scoped>\n",
       "    .dataframe tbody tr th:only-of-type {\n",
       "        vertical-align: middle;\n",
       "    }\n",
       "\n",
       "    .dataframe tbody tr th {\n",
       "        vertical-align: top;\n",
       "    }\n",
       "\n",
       "    .dataframe thead th {\n",
       "        text-align: right;\n",
       "    }\n",
       "</style>\n",
       "<table border=\"1\" class=\"dataframe\">\n",
       "  <thead>\n",
       "    <tr style=\"text-align: right;\">\n",
       "      <th></th>\n",
       "      <th>Nom du département</th>\n",
       "      <th>Population municipale</th>\n",
       "      <th>Population totale</th>\n",
       "    </tr>\n",
       "    <tr>\n",
       "      <th>dep</th>\n",
       "      <th></th>\n",
       "      <th></th>\n",
       "      <th></th>\n",
       "    </tr>\n",
       "  </thead>\n",
       "  <tbody>\n",
       "    <tr>\n",
       "      <th>01</th>\n",
       "      <td>Ain</td>\n",
       "      <td>643350</td>\n",
       "      <td>659180</td>\n",
       "    </tr>\n",
       "    <tr>\n",
       "      <th>02</th>\n",
       "      <td>Aisne</td>\n",
       "      <td>534490</td>\n",
       "      <td>546527</td>\n",
       "    </tr>\n",
       "    <tr>\n",
       "      <th>03</th>\n",
       "      <td>Allier</td>\n",
       "      <td>337988</td>\n",
       "      <td>347035</td>\n",
       "    </tr>\n",
       "    <tr>\n",
       "      <th>04</th>\n",
       "      <td>Alpes-de-Haute-Provence</td>\n",
       "      <td>163915</td>\n",
       "      <td>168381</td>\n",
       "    </tr>\n",
       "    <tr>\n",
       "      <th>05</th>\n",
       "      <td>Hautes-Alpes</td>\n",
       "      <td>141284</td>\n",
       "      <td>145883</td>\n",
       "    </tr>\n",
       "    <tr>\n",
       "      <th>...</th>\n",
       "      <td>...</td>\n",
       "      <td>...</td>\n",
       "      <td>...</td>\n",
       "    </tr>\n",
       "    <tr>\n",
       "      <th>95</th>\n",
       "      <td>Val-d'Oise</td>\n",
       "      <td>1228618</td>\n",
       "      <td>1239262</td>\n",
       "    </tr>\n",
       "    <tr>\n",
       "      <th>971</th>\n",
       "      <td>Guadeloupe</td>\n",
       "      <td>390253</td>\n",
       "      <td>396153</td>\n",
       "    </tr>\n",
       "    <tr>\n",
       "      <th>972</th>\n",
       "      <td>Martinique</td>\n",
       "      <td>372594</td>\n",
       "      <td>377711</td>\n",
       "    </tr>\n",
       "    <tr>\n",
       "      <th>973</th>\n",
       "      <td>Guyane</td>\n",
       "      <td>268700</td>\n",
       "      <td>271124</td>\n",
       "    </tr>\n",
       "    <tr>\n",
       "      <th>974</th>\n",
       "      <td>La Réunion</td>\n",
       "      <td>853659</td>\n",
       "      <td>863063</td>\n",
       "    </tr>\n",
       "  </tbody>\n",
       "</table>\n",
       "<p>100 rows × 3 columns</p>\n",
       "</div>"
      ],
      "text/plain": [
       "          Nom du département  Population municipale  Population totale\n",
       "dep                                                                   \n",
       "01                       Ain                 643350             659180\n",
       "02                     Aisne                 534490             546527\n",
       "03                    Allier                 337988             347035\n",
       "04   Alpes-de-Haute-Provence                 163915             168381\n",
       "05              Hautes-Alpes                 141284             145883\n",
       "..                       ...                    ...                ...\n",
       "95                Val-d'Oise                1228618            1239262\n",
       "971               Guadeloupe                 390253             396153\n",
       "972               Martinique                 372594             377711\n",
       "973                   Guyane                 268700             271124\n",
       "974               La Réunion                 853659             863063\n",
       "\n",
       "[100 rows x 3 columns]"
      ]
     },
     "execution_count": 63,
     "metadata": {},
     "output_type": "execute_result"
    }
   ],
   "source": [
    "depStatIdx=depStats.copy().set_index('dep')\n",
    "depStatIdx"
   ]
  },
  {
   "cell_type": "markdown",
   "metadata": {},
   "source": [
    "Now we need to use a 3 way merge of indexed data in `depStatIdx`, `hndLDays` and `vacDepAvg`"
   ]
  },
  {
   "cell_type": "code",
   "execution_count": 64,
   "metadata": {},
   "outputs": [],
   "source": [
    "def substFirstColname(tble,name):\n",
    "    l = [name]\n",
    "    l.extend(tble.columns.values[1:])\n",
    "    tble.columns=l"
   ]
  },
  {
   "cell_type": "code",
   "execution_count": 65,
   "metadata": {},
   "outputs": [],
   "source": [
    "t1=depStatIdx.reset_index()\n",
    "t2=hndLDays.reset_index()\n",
    "t3=vacDepAvg.reset_index()\n",
    "substFirstColname(t2,\"dep\")\n",
    "substFirstColname(t3,\"dep\")"
   ]
  },
  {
   "cell_type": "code",
   "execution_count": 66,
   "metadata": {},
   "outputs": [],
   "source": [
    "vacM1 = PAN.merge(t1, t2, on=\"dep\" ) \n",
    "vacDepMerged=PAN.merge(vacM1, t3, on=\"dep\" ) \n",
    "vacGrMerged=vacMerged.groupby([\"dep\",\"jour\",\"vaccin\"]).sum()"
   ]
  },
  {
   "cell_type": "markdown",
   "metadata": {},
   "source": [
    "Depending on the data we compute occurrences per million population or as percentage of population."
   ]
  },
  {
   "cell_type": "code",
   "execution_count": 67,
   "metadata": {},
   "outputs": [],
   "source": [
    "colLabs = ( 'incid_hosp', 'incid_rea', 'incid_dc', 'incid_rad',\n",
    "            'n_dose1', 'n_dose2', \n",
    "           'n_cum_dose1', 'n_cum_dose2')\n",
    "for lab in colLabs[:6]:\n",
    "    vacDepMerged[lab+\"_perM\"] = vacDepMerged[lab]/vacDepMerged[\"Population totale\"]*1.0e6\n",
    "for lab in colLabs[6:]:\n",
    "    vacDepMerged[lab+\"_perC\"] = vacDepMerged[lab]/vacDepMerged[\"Population totale\"]*100    \n"
   ]
  },
  {
   "cell_type": "code",
   "execution_count": 68,
   "metadata": {},
   "outputs": [
    {
     "name": "stdout",
     "output_type": "stream",
     "text": [
      "incid_hosp               2.348509\n",
      "incid_rea                0.623234\n",
      "incid_dc                 0.284144\n",
      "incid_rad                2.106750\n",
      "n_dose1                244.361068\n",
      "n_dose2                405.940345\n",
      "n_dose3                709.249608\n",
      "n_dose4                  1.083203\n",
      "n_rappel               756.048666\n",
      "n_cum_dose1         528022.439560\n",
      "n_cum_dose2         463009.648352\n",
      "n_cum_dose3          24511.282575\n",
      "n_cum_dose4             33.558870\n",
      "n_cum_rappel         24644.503925\n",
      "incid_hosp_perM          3.500345\n",
      "incid_rea_perM           0.877663\n",
      "incid_dc_perM            0.401815\n",
      "incid_rad_perM           3.067214\n",
      "n_dose1_perM           332.739360\n",
      "n_dose2_perM           554.224783\n",
      "n_cum_dose1_perC        74.267786\n",
      "n_cum_dose2_perC        65.893238\n",
      "Name: mean, dtype: float64\n"
     ]
    }
   ],
   "source": [
    "print(vacDepMerged.describe().loc[\"mean\",:].iloc[2:])"
   ]
  },
  {
   "cell_type": "code",
   "execution_count": 69,
   "metadata": {},
   "outputs": [
    {
     "name": "stdout",
     "output_type": "stream",
     "text": [
      "incid_hosp           mean=2.35e+00\tstd=2.63e+00\n",
      "incid_rea            mean=6.23e-01\tstd=7.37e-01\n",
      "incid_dc             mean=2.84e-01\tstd=4.11e-01\n",
      "incid_rad            mean=2.11e+00\tstd=2.72e+00\n",
      "n_dose1              mean=2.44e+02\tstd=2.10e+02\n",
      "n_dose2              mean=4.06e+02\tstd=3.52e+02\n",
      "n_dose3              mean=7.09e+02\tstd=5.32e+02\n",
      "n_dose4              mean=1.08e+00\tstd=1.29e+00\n",
      "n_rappel             mean=7.56e+02\tstd=5.75e+02\n",
      "n_cum_dose1          mean=5.28e+05\tstd=4.08e+05\n",
      "n_cum_dose2          mean=4.63e+05\tstd=3.47e+05\n",
      "n_cum_dose3          mean=2.45e+04\tstd=1.70e+04\n",
      "n_cum_dose4          mean=3.36e+01\tstd=3.73e+01\n",
      "n_cum_rappel         mean=2.46e+04\tstd=1.74e+04\n",
      "incid_hosp_perM      mean=3.50e+00\tstd=3.63e+00\n",
      "incid_rea_perM       mean=8.78e-01\tstd=1.06e+00\n",
      "incid_dc_perM        mean=4.02e-01\tstd=5.36e-01\n",
      "incid_rad_perM       mean=3.07e+00\tstd=4.09e+00\n",
      "n_dose1_perM         mean=3.33e+02\tstd=9.99e+01\n",
      "n_dose2_perM         mean=5.54e+02\tstd=1.06e+02\n",
      "n_cum_dose1_perC     mean=7.43e+01\tstd=9.20e+00\n",
      "n_cum_dose2_perC     mean=6.59e+01\tstd=9.10e+00\n"
     ]
    }
   ],
   "source": [
    "vd=vacDepMerged.describe().loc[['mean','std']]\n",
    "for c in vd.columns[2:]:\n",
    "    print(f\"{c:20s} mean={vd.loc['mean',c]:7.2e}\\tstd={vd.loc['std',c]:7.2e}\")"
   ]
  },
  {
   "cell_type": "markdown",
   "metadata": {},
   "source": [
    "#### Analyse and make graphics"
   ]
  },
  {
   "cell_type": "code",
   "execution_count": 70,
   "metadata": {},
   "outputs": [
    {
     "data": {
      "text/html": [
       "<div>\n",
       "<style scoped>\n",
       "    .dataframe tbody tr th:only-of-type {\n",
       "        vertical-align: middle;\n",
       "    }\n",
       "\n",
       "    .dataframe tbody tr th {\n",
       "        vertical-align: top;\n",
       "    }\n",
       "\n",
       "    .dataframe thead th {\n",
       "        text-align: right;\n",
       "    }\n",
       "</style>\n",
       "<table border=\"1\" class=\"dataframe\">\n",
       "  <thead>\n",
       "    <tr style=\"text-align: right;\">\n",
       "      <th></th>\n",
       "      <th>dep</th>\n",
       "      <th>Nom du département</th>\n",
       "      <th>Population municipale</th>\n",
       "      <th>Population totale</th>\n",
       "      <th>incid_hosp</th>\n",
       "      <th>incid_rea</th>\n",
       "      <th>incid_dc</th>\n",
       "      <th>incid_rad</th>\n",
       "      <th>n_dose1</th>\n",
       "      <th>n_dose2</th>\n",
       "      <th>...</th>\n",
       "      <th>n_cum_dose4</th>\n",
       "      <th>n_cum_rappel</th>\n",
       "      <th>incid_hosp_perM</th>\n",
       "      <th>incid_rea_perM</th>\n",
       "      <th>incid_dc_perM</th>\n",
       "      <th>incid_rad_perM</th>\n",
       "      <th>n_dose1_perM</th>\n",
       "      <th>n_dose2_perM</th>\n",
       "      <th>n_cum_dose1_perC</th>\n",
       "      <th>n_cum_dose2_perC</th>\n",
       "    </tr>\n",
       "  </thead>\n",
       "  <tbody>\n",
       "    <tr>\n",
       "      <th>0</th>\n",
       "      <td>10</td>\n",
       "      <td>Aube</td>\n",
       "      <td>310020</td>\n",
       "      <td>317118</td>\n",
       "      <td>1.000000</td>\n",
       "      <td>0.142857</td>\n",
       "      <td>0.000000</td>\n",
       "      <td>1.000000</td>\n",
       "      <td>102.142857</td>\n",
       "      <td>183.571429</td>\n",
       "      <td>...</td>\n",
       "      <td>15.571429</td>\n",
       "      <td>12129.428571</td>\n",
       "      <td>3.153400</td>\n",
       "      <td>0.450486</td>\n",
       "      <td>0.000000</td>\n",
       "      <td>3.153400</td>\n",
       "      <td>322.097318</td>\n",
       "      <td>578.874200</td>\n",
       "      <td>74.320915</td>\n",
       "      <td>66.106623</td>\n",
       "    </tr>\n",
       "    <tr>\n",
       "      <th>1</th>\n",
       "      <td>11</td>\n",
       "      <td>Aude</td>\n",
       "      <td>370260</td>\n",
       "      <td>379094</td>\n",
       "      <td>1.714286</td>\n",
       "      <td>0.000000</td>\n",
       "      <td>0.428571</td>\n",
       "      <td>0.571429</td>\n",
       "      <td>141.142857</td>\n",
       "      <td>217.428571</td>\n",
       "      <td>...</td>\n",
       "      <td>7.857143</td>\n",
       "      <td>15224.285714</td>\n",
       "      <td>4.522060</td>\n",
       "      <td>0.000000</td>\n",
       "      <td>1.130515</td>\n",
       "      <td>1.507353</td>\n",
       "      <td>372.316252</td>\n",
       "      <td>573.547910</td>\n",
       "      <td>71.524213</td>\n",
       "      <td>64.825347</td>\n",
       "    </tr>\n",
       "    <tr>\n",
       "      <th>2</th>\n",
       "      <td>12</td>\n",
       "      <td>Aveyron</td>\n",
       "      <td>279206</td>\n",
       "      <td>289488</td>\n",
       "      <td>1.000000</td>\n",
       "      <td>0.142857</td>\n",
       "      <td>0.000000</td>\n",
       "      <td>0.142857</td>\n",
       "      <td>75.571429</td>\n",
       "      <td>103.428571</td>\n",
       "      <td>...</td>\n",
       "      <td>1.000000</td>\n",
       "      <td>13024.428571</td>\n",
       "      <td>3.454375</td>\n",
       "      <td>0.493482</td>\n",
       "      <td>0.000000</td>\n",
       "      <td>0.493482</td>\n",
       "      <td>261.052025</td>\n",
       "      <td>357.281032</td>\n",
       "      <td>74.966493</td>\n",
       "      <td>68.196955</td>\n",
       "    </tr>\n",
       "    <tr>\n",
       "      <th>3</th>\n",
       "      <td>13</td>\n",
       "      <td>Bouches-du-Rhône</td>\n",
       "      <td>2024162</td>\n",
       "      <td>2048504</td>\n",
       "      <td>14.857143</td>\n",
       "      <td>3.428571</td>\n",
       "      <td>2.142857</td>\n",
       "      <td>16.857143</td>\n",
       "      <td>864.000000</td>\n",
       "      <td>1248.571429</td>\n",
       "      <td>...</td>\n",
       "      <td>67.714286</td>\n",
       "      <td>69404.142857</td>\n",
       "      <td>7.252679</td>\n",
       "      <td>1.673695</td>\n",
       "      <td>1.046060</td>\n",
       "      <td>8.229002</td>\n",
       "      <td>421.771205</td>\n",
       "      <td>609.504023</td>\n",
       "      <td>70.455171</td>\n",
       "      <td>59.551751</td>\n",
       "    </tr>\n",
       "    <tr>\n",
       "      <th>4</th>\n",
       "      <td>14</td>\n",
       "      <td>Calvados</td>\n",
       "      <td>694002</td>\n",
       "      <td>708344</td>\n",
       "      <td>1.285714</td>\n",
       "      <td>0.428571</td>\n",
       "      <td>0.142857</td>\n",
       "      <td>0.285714</td>\n",
       "      <td>209.714286</td>\n",
       "      <td>374.285714</td>\n",
       "      <td>...</td>\n",
       "      <td>29.285714</td>\n",
       "      <td>29630.714286</td>\n",
       "      <td>1.815099</td>\n",
       "      <td>0.605033</td>\n",
       "      <td>0.201678</td>\n",
       "      <td>0.403355</td>\n",
       "      <td>296.062769</td>\n",
       "      <td>528.395404</td>\n",
       "      <td>81.913025</td>\n",
       "      <td>74.377986</td>\n",
       "    </tr>\n",
       "    <tr>\n",
       "      <th>...</th>\n",
       "      <td>...</td>\n",
       "      <td>...</td>\n",
       "      <td>...</td>\n",
       "      <td>...</td>\n",
       "      <td>...</td>\n",
       "      <td>...</td>\n",
       "      <td>...</td>\n",
       "      <td>...</td>\n",
       "      <td>...</td>\n",
       "      <td>...</td>\n",
       "      <td>...</td>\n",
       "      <td>...</td>\n",
       "      <td>...</td>\n",
       "      <td>...</td>\n",
       "      <td>...</td>\n",
       "      <td>...</td>\n",
       "      <td>...</td>\n",
       "      <td>...</td>\n",
       "      <td>...</td>\n",
       "      <td>...</td>\n",
       "      <td>...</td>\n",
       "    </tr>\n",
       "    <tr>\n",
       "      <th>86</th>\n",
       "      <td>95</td>\n",
       "      <td>Val-d'Oise</td>\n",
       "      <td>1228618</td>\n",
       "      <td>1239262</td>\n",
       "      <td>4.285714</td>\n",
       "      <td>1.571429</td>\n",
       "      <td>0.714286</td>\n",
       "      <td>2.571429</td>\n",
       "      <td>455.000000</td>\n",
       "      <td>686.285714</td>\n",
       "      <td>...</td>\n",
       "      <td>22.285714</td>\n",
       "      <td>31625.571429</td>\n",
       "      <td>3.458279</td>\n",
       "      <td>1.268036</td>\n",
       "      <td>0.576380</td>\n",
       "      <td>2.074968</td>\n",
       "      <td>367.154000</td>\n",
       "      <td>553.785813</td>\n",
       "      <td>75.004559</td>\n",
       "      <td>61.192306</td>\n",
       "    </tr>\n",
       "    <tr>\n",
       "      <th>87</th>\n",
       "      <td>971</td>\n",
       "      <td>Guadeloupe</td>\n",
       "      <td>390253</td>\n",
       "      <td>396153</td>\n",
       "      <td>1.571429</td>\n",
       "      <td>0.857143</td>\n",
       "      <td>0.714286</td>\n",
       "      <td>2.714286</td>\n",
       "      <td>212.428571</td>\n",
       "      <td>266.142857</td>\n",
       "      <td>...</td>\n",
       "      <td>3.714286</td>\n",
       "      <td>3120.714286</td>\n",
       "      <td>3.966721</td>\n",
       "      <td>2.163666</td>\n",
       "      <td>1.803055</td>\n",
       "      <td>6.851610</td>\n",
       "      <td>536.228607</td>\n",
       "      <td>671.818356</td>\n",
       "      <td>32.857002</td>\n",
       "      <td>28.140643</td>\n",
       "    </tr>\n",
       "    <tr>\n",
       "      <th>88</th>\n",
       "      <td>972</td>\n",
       "      <td>Martinique</td>\n",
       "      <td>372594</td>\n",
       "      <td>377711</td>\n",
       "      <td>6.285714</td>\n",
       "      <td>2.285714</td>\n",
       "      <td>0.857143</td>\n",
       "      <td>4.714286</td>\n",
       "      <td>317.000000</td>\n",
       "      <td>345.714286</td>\n",
       "      <td>...</td>\n",
       "      <td>2.000000</td>\n",
       "      <td>3373.000000</td>\n",
       "      <td>16.641597</td>\n",
       "      <td>6.051490</td>\n",
       "      <td>2.269309</td>\n",
       "      <td>12.481198</td>\n",
       "      <td>839.266000</td>\n",
       "      <td>915.287841</td>\n",
       "      <td>34.280177</td>\n",
       "      <td>29.155360</td>\n",
       "    </tr>\n",
       "    <tr>\n",
       "      <th>89</th>\n",
       "      <td>973</td>\n",
       "      <td>Guyane</td>\n",
       "      <td>268700</td>\n",
       "      <td>271124</td>\n",
       "      <td>7.857143</td>\n",
       "      <td>2.000000</td>\n",
       "      <td>0.714286</td>\n",
       "      <td>9.285714</td>\n",
       "      <td>138.571429</td>\n",
       "      <td>139.857143</td>\n",
       "      <td>...</td>\n",
       "      <td>0.000000</td>\n",
       "      <td>887.428571</td>\n",
       "      <td>28.979887</td>\n",
       "      <td>7.376698</td>\n",
       "      <td>2.634535</td>\n",
       "      <td>34.248957</td>\n",
       "      <td>511.099824</td>\n",
       "      <td>515.841987</td>\n",
       "      <td>30.737965</td>\n",
       "      <td>23.446467</td>\n",
       "    </tr>\n",
       "    <tr>\n",
       "      <th>90</th>\n",
       "      <td>974</td>\n",
       "      <td>La Réunion</td>\n",
       "      <td>853659</td>\n",
       "      <td>863063</td>\n",
       "      <td>1.571429</td>\n",
       "      <td>0.571429</td>\n",
       "      <td>0.285714</td>\n",
       "      <td>1.857143</td>\n",
       "      <td>774.142857</td>\n",
       "      <td>869.571429</td>\n",
       "      <td>...</td>\n",
       "      <td>7.000000</td>\n",
       "      <td>8071.571429</td>\n",
       "      <td>1.820758</td>\n",
       "      <td>0.662094</td>\n",
       "      <td>0.331047</td>\n",
       "      <td>2.151805</td>\n",
       "      <td>896.971434</td>\n",
       "      <td>1007.541082</td>\n",
       "      <td>58.858855</td>\n",
       "      <td>52.175334</td>\n",
       "    </tr>\n",
       "  </tbody>\n",
       "</table>\n",
       "<p>91 rows × 26 columns</p>\n",
       "</div>"
      ],
      "text/plain": [
       "    dep Nom du département  Population municipale  Population totale  \\\n",
       "0    10               Aube                 310020             317118   \n",
       "1    11               Aude                 370260             379094   \n",
       "2    12            Aveyron                 279206             289488   \n",
       "3    13   Bouches-du-Rhône                2024162            2048504   \n",
       "4    14           Calvados                 694002             708344   \n",
       "..  ...                ...                    ...                ...   \n",
       "86   95         Val-d'Oise                1228618            1239262   \n",
       "87  971         Guadeloupe                 390253             396153   \n",
       "88  972         Martinique                 372594             377711   \n",
       "89  973             Guyane                 268700             271124   \n",
       "90  974         La Réunion                 853659             863063   \n",
       "\n",
       "    incid_hosp  incid_rea  incid_dc  incid_rad     n_dose1      n_dose2  ...  \\\n",
       "0     1.000000   0.142857  0.000000   1.000000  102.142857   183.571429  ...   \n",
       "1     1.714286   0.000000  0.428571   0.571429  141.142857   217.428571  ...   \n",
       "2     1.000000   0.142857  0.000000   0.142857   75.571429   103.428571  ...   \n",
       "3    14.857143   3.428571  2.142857  16.857143  864.000000  1248.571429  ...   \n",
       "4     1.285714   0.428571  0.142857   0.285714  209.714286   374.285714  ...   \n",
       "..         ...        ...       ...        ...         ...          ...  ...   \n",
       "86    4.285714   1.571429  0.714286   2.571429  455.000000   686.285714  ...   \n",
       "87    1.571429   0.857143  0.714286   2.714286  212.428571   266.142857  ...   \n",
       "88    6.285714   2.285714  0.857143   4.714286  317.000000   345.714286  ...   \n",
       "89    7.857143   2.000000  0.714286   9.285714  138.571429   139.857143  ...   \n",
       "90    1.571429   0.571429  0.285714   1.857143  774.142857   869.571429  ...   \n",
       "\n",
       "    n_cum_dose4  n_cum_rappel  incid_hosp_perM  incid_rea_perM  incid_dc_perM  \\\n",
       "0     15.571429  12129.428571         3.153400        0.450486       0.000000   \n",
       "1      7.857143  15224.285714         4.522060        0.000000       1.130515   \n",
       "2      1.000000  13024.428571         3.454375        0.493482       0.000000   \n",
       "3     67.714286  69404.142857         7.252679        1.673695       1.046060   \n",
       "4     29.285714  29630.714286         1.815099        0.605033       0.201678   \n",
       "..          ...           ...              ...             ...            ...   \n",
       "86    22.285714  31625.571429         3.458279        1.268036       0.576380   \n",
       "87     3.714286   3120.714286         3.966721        2.163666       1.803055   \n",
       "88     2.000000   3373.000000        16.641597        6.051490       2.269309   \n",
       "89     0.000000    887.428571        28.979887        7.376698       2.634535   \n",
       "90     7.000000   8071.571429         1.820758        0.662094       0.331047   \n",
       "\n",
       "    incid_rad_perM  n_dose1_perM  n_dose2_perM  n_cum_dose1_perC  \\\n",
       "0         3.153400    322.097318    578.874200         74.320915   \n",
       "1         1.507353    372.316252    573.547910         71.524213   \n",
       "2         0.493482    261.052025    357.281032         74.966493   \n",
       "3         8.229002    421.771205    609.504023         70.455171   \n",
       "4         0.403355    296.062769    528.395404         81.913025   \n",
       "..             ...           ...           ...               ...   \n",
       "86        2.074968    367.154000    553.785813         75.004559   \n",
       "87        6.851610    536.228607    671.818356         32.857002   \n",
       "88       12.481198    839.266000    915.287841         34.280177   \n",
       "89       34.248957    511.099824    515.841987         30.737965   \n",
       "90        2.151805    896.971434   1007.541082         58.858855   \n",
       "\n",
       "    n_cum_dose2_perC  \n",
       "0          66.106623  \n",
       "1          64.825347  \n",
       "2          68.196955  \n",
       "3          59.551751  \n",
       "4          74.377986  \n",
       "..               ...  \n",
       "86         61.192306  \n",
       "87         28.140643  \n",
       "88         29.155360  \n",
       "89         23.446467  \n",
       "90         52.175334  \n",
       "\n",
       "[91 rows x 26 columns]"
      ]
     },
     "execution_count": 70,
     "metadata": {},
     "output_type": "execute_result"
    }
   ],
   "source": [
    "vacDepMerged"
   ]
  },
  {
   "cell_type": "markdown",
   "metadata": {},
   "source": [
    "Matplotlib parametrization:\n",
    "- Use more `matplotlib`related `kwargs`. \n",
    "- We use a color which conveys information about the departement's population.\n",
    "- Adopt a common coloring scheme\n",
    "- Set size of scatterplot markers"
   ]
  },
  {
   "cell_type": "code",
   "execution_count": 71,
   "metadata": {},
   "outputs": [],
   "source": [
    "colormap = cm.get_cmap('brg', 32)\n",
    "\n",
    "vdm=vacDepMerged\n",
    "popRel=vdm.loc[:,'Population totale'] / max(vdm.loc[:,'Population totale'])\n",
    "colors=colormap(popRel)\n",
    "size = 2+150*popRel.map(sqrt)\n",
    "alpha=0.5"
   ]
  },
  {
   "cell_type": "markdown",
   "metadata": {},
   "source": [
    "May be it is clearer in 3D!"
   ]
  },
  {
   "cell_type": "code",
   "execution_count": 72,
   "metadata": {
    "scrolled": true
   },
   "outputs": [
    {
     "name": "stdout",
     "output_type": "stream",
     "text": [
      "Saving figure FIG315\n"
     ]
    },
    {
     "data": {
      "image/png": "[encoded data removed]",
      "text/plain": [
       "<Figure size 576x576 with 2 Axes>"
      ]
     },
     "metadata": {},
     "output_type": "display_data"
    }
   ],
   "source": [
    "## Older version\n",
    "\n",
    "vdm=vacDepMerged\n",
    "fig, ax1 = PLT.subplots(figsize=(8,8))\n",
    "ax = fig.add_subplot(1, 1, 1, projection='3d')\n",
    "\n",
    "x=vdm.loc[:,\"incid_dc_perM\"]\n",
    "y=vdm.loc[:,\"n_cum_dose2_perC\"]\n",
    "z=popRel\n",
    "\n",
    "ax.scatter(x, y, z, c = colors, \n",
    "              s = 2*size, marker=\"o\")\n",
    "\n",
    "ax.set_xlabel('Death per Million per Day')\n",
    "ax.set_ylabel('Dose2 percentage')\n",
    "ax.set_zlabel('Population relative max')\n",
    "ImgMgr.save_fig(\"FIG315\")"
   ]
  },
  {
   "cell_type": "markdown",
   "metadata": {},
   "source": [
    "## Scikit used for classification\n",
    "\n",
    "First we adapt the data by entering the relative population  size of the departement in column `PopRel`."
   ]
  },
  {
   "cell_type": "code",
   "execution_count": 73,
   "metadata": {},
   "outputs": [],
   "source": [
    "selcols=[vacDepMerged.columns[3]]\n",
    "selcols.extend(vacDepMerged.columns[14:])\n",
    "vdm=vacDepMerged.loc[:,selcols].copy()\n",
    "vdm.loc[:,'PopRel'] = vdm.loc[:,'Population totale'] / max(vdm.loc[:,'Population totale'])"
   ]
  },
  {
   "cell_type": "markdown",
   "metadata": {},
   "source": [
    "This means that the area of the dots is (roughly) proportional to the population."
   ]
  },
  {
   "cell_type": "code",
   "execution_count": 74,
   "metadata": {},
   "outputs": [
    {
     "name": "stderr",
     "output_type": "stream",
     "text": [
      "figObj.kwargs['data'].shape = (91, 14)\n",
      "figArgDict keys=<built-in method keys of dict object at 0x7fb2dd9f8cc0>\n",
      "In <class 'lib.figureHelpers.FigAdapter_KMeans'>.__call__: fitted j  KMeans classifier\n",
      "type colors:<class 'numpy.ndarray'>\n"
     ]
    },
    {
     "name": "stdout",
     "output_type": "stream",
     "text": [
      "Saving figure FIG316\n"
     ]
    },
    {
     "data": {
      "image/png": "[encoded data removed]",
      "text/plain": [
       "<Figure size 576x576 with 2 Axes>"
      ]
     },
     "metadata": {},
     "output_type": "display_data"
    }
   ],
   "source": [
    "sizes = 16*(150*vdm.loc[:,'PopRel']).map(lambda x: max(0.1,sqrt(x)))\n",
    "\n",
    "nbClusters=5\n",
    "figAdaptKM = FHelp.FigAdapter_KMeans(fitData = vdm, nbClusters = nbClusters)\n",
    "figSc3D = FHelp.FigFrom3DScatterPlot( adapter = figAdaptKM, data = vdm, figsize=(8,8),\n",
    "                                    sizes = sizes)\n",
    "\n",
    "            # this fits the data and prepares the figure\n",
    "figSc3D( xcol=\"incid_dc_perM\",\n",
    "         ycol=\"n_cum_dose2_perC\", \n",
    "         zcol='PopRel',\n",
    "         xlabel=\"death per million\",\n",
    "         ylabel=\"cum vaccine dose 2 percent\",\n",
    "         zlabel=\"population relative max\",\n",
    "         title=\"Segmentation based on all data\\ncolors=auto, area~population\")\n",
    "\n",
    "ImgMgr.save_fig(\"FIG316\")"
   ]
  },
  {
   "cell_type": "markdown",
   "metadata": {},
   "source": [
    "## Try to obtain improved classification\n",
    "Here, we try to improve classification, in particular by preprocessing, normalizing data and the like.\n",
    "After all we have all Scikit abilities at hand:\n",
    "- documented at https://scikit-learn.org/stable/modules/classes.html#module-sklearn.preprocessing\n",
    "  - https://scikit-learn.org/stable/modules/generated/sklearn.preprocessing.StandardScaler.html#sklearn.preprocessing.StandardScaler\n",
    "- The user guide is available at https://scikit-learn.org/stable/modules/preprocessing.html#preprocessing-scaler\n",
    "\n",
    "\n",
    "Some information may be gleaned from \n",
    "- https://stackoverflow.com/questions/20027645/does-kmeans-normalize-features-automatically-in-sklearn\n",
    "  - a practical example is shown at https://stackoverflow.com/questions/57507584/feature-scaling-for-kmeans-algorithm\n",
    "\n",
    "\n",
    "### Use data standardisation"
   ]
  },
  {
   "cell_type": "code",
   "execution_count": 75,
   "metadata": {},
   "outputs": [
    {
     "name": "stderr",
     "output_type": "stream",
     "text": [
      "figObj.kwargs['data'].shape = (91, 14)\n",
      "figArgDict keys=<built-in method keys of dict object at 0x7fb2dd9fe4c0>\n",
      "In <class 'lib.figureHelpers.FigAdapter_KMeans'>.dfNormalizereturning\n",
      "                 0             1             2             3             4   \\\n",
      "count  9.100000e+01  9.100000e+01  9.100000e+01  9.100000e+01  9.100000e+01   \n",
      "mean   1.116323e-16 -1.685160e-17  1.927640e-16 -1.098023e-16 -2.196046e-17   \n",
      "std    1.005540e+00  1.005540e+00  1.005540e+00  1.005540e+00  1.005540e+00   \n",
      "min   -1.197607e+00 -1.204919e+00 -1.367885e+00 -9.040913e-01 -1.369885e+00   \n",
      "25%   -7.428442e-01 -7.367104e-01 -7.166684e-01 -6.462326e-01 -7.006990e-01   \n",
      "50%   -2.575264e-01 -2.340346e-01 -2.474565e-01 -2.806121e-01 -2.351838e-01   \n",
      "75%    3.745787e-01  4.986794e-01  4.324573e-01  2.062404e-01  3.677199e-01   \n",
      "max    3.711375e+00  3.547126e+00  3.882182e+00  5.519283e+00  3.905012e+00   \n",
      "\n",
      "                 5             6             7             8             9   \\\n",
      "count  9.100000e+01  9.100000e+01  9.100000e+01  9.100000e+01  9.100000e+01   \n",
      "mean  -1.043122e-16 -8.662180e-17  4.361590e-17  1.769037e-17 -1.561632e-16   \n",
      "std    1.005540e+00  1.005540e+00  1.005540e+00  1.005540e+00  1.005540e+00   \n",
      "min   -9.688854e-01 -8.320870e-01 -7.533499e-01 -7.544306e-01 -1.511473e+00   \n",
      "25%   -4.656880e-01 -4.462228e-01 -7.533499e-01 -4.243703e-01 -4.289421e-01   \n",
      "50%   -2.348343e-01 -2.043751e-01 -2.840857e-01 -2.748926e-01 -1.713579e-01   \n",
      "75%    1.528937e-01  1.989980e-01  2.712854e-01  9.854195e-02  2.656091e-01   \n",
      "max    7.052664e+00  6.161548e+00  4.186054e+00  7.669651e+00  5.679557e+00   \n",
      "\n",
      "                 10            11            12            13  \n",
      "count  9.100000e+01  9.100000e+01  9.100000e+01  9.100000e+01  \n",
      "mean  -4.001683e-16 -1.756836e-16  1.437190e-15 -2.830459e-16  \n",
      "std    1.005540e+00  1.005540e+00  1.005540e+00  1.005540e+00  \n",
      "min   -1.870727e+00 -4.758434e+00 -4.690171e+00 -1.197607e+00  \n",
      "25%   -5.773705e-01 -2.056166e-01 -2.388437e-01 -7.428442e-01  \n",
      "50%   -1.212071e-01  9.694242e-02  1.002845e-01 -2.575264e-01  \n",
      "75%    2.795374e-01  4.364418e-01  5.699226e-01  3.745787e-01  \n",
      "max    4.305957e+00  1.826005e+00  1.370790e+00  3.711375e+00  \n",
      "In <class 'lib.figureHelpers.FigAdapter_KMeans'>.__call__: fitted j  KMeans classifier\n",
      "type colors:<class 'numpy.ndarray'>\n"
     ]
    },
    {
     "name": "stdout",
     "output_type": "stream",
     "text": [
      "Saving figure FIG317\n"
     ]
    },
    {
     "data": {
      "image/png": "[encoded data removed]",
      "text/plain": [
       "<Figure size 576x576 with 2 Axes>"
      ]
     },
     "metadata": {},
     "output_type": "display_data"
    }
   ],
   "source": [
    "sizes = 16*(150*vdm.loc[:,'PopRel']).map(lambda x: max(0.01,sqrt(x)))\n",
    "\n",
    "nbClusters=5\n",
    "figAdaptKM = FHelp.FigAdapter_KMeans(fitData = vdm.iloc[:,1:], nbClusters = nbClusters, \n",
    "                                     scaler=\"standard\")\n",
    "\n",
    "colormap = CM.get_cmap('brg', 32)\n",
    "# lambda is used to defer evaluation of the labels\n",
    "lambdaColors = lambda x : colormap((1+ figAdaptKM.k_means.labels_)/nbClusters)\n",
    "lambdaSize =  sizes\n",
    "\n",
    "figSc3D = FHelp.FigFrom3DScatterPlot( adapter = figAdaptKM, data = vdm, \n",
    "                                      figsize=(8,8))\n",
    "\n",
    "            # this fits the data and prepares the figure\n",
    "figSc3D( xcol=\"incid_dc_perM\",\n",
    "         ycol=\"n_cum_dose2_perC\", \n",
    "         zcol='PopRel',\n",
    "         colors = lambdaColors,\n",
    "         sizes =  lambdaSize,\n",
    "         xlabel=\"death per million\",\n",
    "         ylabel=\"cum vaccine dose 2 percent\",\n",
    "         zlabel=\"population relative max\",\n",
    "         title=\"Segmentation based on all data\")\n",
    "\n",
    "ImgMgr.save_fig(\"FIG317\")\n"
   ]
  },
  {
   "cell_type": "markdown",
   "metadata": {},
   "source": [
    "### Do not fit based on population data"
   ]
  },
  {
   "cell_type": "code",
   "execution_count": 76,
   "metadata": {},
   "outputs": [
    {
     "name": "stderr",
     "output_type": "stream",
     "text": [
      "figObj.kwargs['data'].shape = (91, 14)\n",
      "figArgDict keys=<built-in method keys of dict object at 0x7fb2dd946f40>\n",
      "In <class 'lib.figureHelpers.FigAdapter_KMeans'>.dfNormalizereturning\n",
      "                 0             1             2             3             4   \\\n",
      "count  9.100000e+01  9.100000e+01  9.100000e+01  9.100000e+01  9.100000e+01   \n",
      "mean   1.116323e-16 -1.685160e-17  1.927640e-16 -1.098023e-16 -2.196046e-17   \n",
      "std    1.005540e+00  1.005540e+00  1.005540e+00  1.005540e+00  1.005540e+00   \n",
      "min   -1.197607e+00 -1.204919e+00 -1.367885e+00 -9.040913e-01 -1.369885e+00   \n",
      "25%   -7.428442e-01 -7.367104e-01 -7.166684e-01 -6.462326e-01 -7.006990e-01   \n",
      "50%   -2.575264e-01 -2.340346e-01 -2.474565e-01 -2.806121e-01 -2.351838e-01   \n",
      "75%    3.745787e-01  4.986794e-01  4.324573e-01  2.062404e-01  3.677199e-01   \n",
      "max    3.711375e+00  3.547126e+00  3.882182e+00  5.519283e+00  3.905012e+00   \n",
      "\n",
      "                 5             6             7             8             9   \\\n",
      "count  9.100000e+01  9.100000e+01  9.100000e+01  9.100000e+01  9.100000e+01   \n",
      "mean  -1.043122e-16 -8.662180e-17  4.361590e-17  1.769037e-17 -1.561632e-16   \n",
      "std    1.005540e+00  1.005540e+00  1.005540e+00  1.005540e+00  1.005540e+00   \n",
      "min   -9.688854e-01 -8.320870e-01 -7.533499e-01 -7.544306e-01 -1.511473e+00   \n",
      "25%   -4.656880e-01 -4.462228e-01 -7.533499e-01 -4.243703e-01 -4.289421e-01   \n",
      "50%   -2.348343e-01 -2.043751e-01 -2.840857e-01 -2.748926e-01 -1.713579e-01   \n",
      "75%    1.528937e-01  1.989980e-01  2.712854e-01  9.854195e-02  2.656091e-01   \n",
      "max    7.052664e+00  6.161548e+00  4.186054e+00  7.669651e+00  5.679557e+00   \n",
      "\n",
      "                 10            11            12            13  \n",
      "count  9.100000e+01  9.100000e+01  9.100000e+01  9.100000e+01  \n",
      "mean  -4.001683e-16 -1.756836e-16  1.437190e-15 -2.830459e-16  \n",
      "std    1.005540e+00  1.005540e+00  1.005540e+00  1.005540e+00  \n",
      "min   -1.870727e+00 -4.758434e+00 -4.690171e+00 -1.197607e+00  \n",
      "25%   -5.773705e-01 -2.056166e-01 -2.388437e-01 -7.428442e-01  \n",
      "50%   -1.212071e-01  9.694242e-02  1.002845e-01 -2.575264e-01  \n",
      "75%    2.795374e-01  4.364418e-01  5.699226e-01  3.745787e-01  \n",
      "max    4.305957e+00  1.826005e+00  1.370790e+00  3.711375e+00  \n",
      "In <class 'lib.figureHelpers.FigAdapter_KMeans'>.__call__: fitted j  KMeans classifier\n",
      "type colors:<class 'numpy.ndarray'>\n"
     ]
    },
    {
     "name": "stdout",
     "output_type": "stream",
     "text": [
      "Saving figure FIG318\n"
     ]
    },
    {
     "data": {
      "image/png": "[encoded data removed]",
      "text/plain": [
       "<Figure size 576x576 with 2 Axes>"
      ]
     },
     "metadata": {},
     "output_type": "display_data"
    }
   ],
   "source": [
    "sizes = 16*(150*vdm.loc[:,'PopRel']).map(lambda x: max(0.01,sqrt(x)))\n",
    "\n",
    "nbClusters=5\n",
    "figAdaptKM = FHelp.FigAdapter_KMeans(fitData = vdm.iloc[:,1:-1], \n",
    "                                     nbClusters = nbClusters, \n",
    "                                     scaler=\"standard\")\n",
    "\n",
    "colormap = CM.get_cmap('brg', 32)\n",
    "# lambda is used to defer evaluation of the labels\n",
    "lambdaColors = lambda x : colormap((1+ figAdaptKM.k_means.labels_)/nbClusters)\n",
    "lambdaSize =  sizes\n",
    "\n",
    "figSc3D = FHelp.FigFrom3DScatterPlot( adapter = figAdaptKM, data = vdm, \n",
    "                                      figsize=(8,8))\n",
    "\n",
    "            # this fits the data and prepares the figure\n",
    "figSc3D( xcol=\"incid_dc_perM\",\n",
    "         ycol=\"n_cum_dose2_perC\", \n",
    "         zcol='PopRel',\n",
    "         colors = lambdaColors,\n",
    "         sizes =  lambdaSize,\n",
    "         xlabel=\"death per million\",\n",
    "         ylabel=\"cum vaccine dose 2 percent\",\n",
    "         zlabel=\"population relative max\",\n",
    "         title=\"Segmentation based on all data\\nexcept population\")\n",
    "\n",
    "ImgMgr.save_fig(\"FIG318\")\n"
   ]
  },
  {
   "cell_type": "code",
   "execution_count": 77,
   "metadata": {},
   "outputs": [
    {
     "name": "stderr",
     "output_type": "stream",
     "text": [
      "figObj.kwargs['data'].shape = (91, 14)\n",
      "figArgDict keys=<built-in method keys of dict object at 0x7fb2dd8b81c0>\n",
      "In <class 'lib.figureHelpers.FigAdapter_KMeans'>.dfNormalizereturning\n",
      "                 0             1             2             3             4   \\\n",
      "count  9.100000e+01  9.100000e+01  9.100000e+01  9.100000e+01  9.100000e+01   \n",
      "mean   1.116323e-16 -1.685160e-17  1.927640e-16 -1.098023e-16 -2.196046e-17   \n",
      "std    1.005540e+00  1.005540e+00  1.005540e+00  1.005540e+00  1.005540e+00   \n",
      "min   -1.197607e+00 -1.204919e+00 -1.367885e+00 -9.040913e-01 -1.369885e+00   \n",
      "25%   -7.428442e-01 -7.367104e-01 -7.166684e-01 -6.462326e-01 -7.006990e-01   \n",
      "50%   -2.575264e-01 -2.340346e-01 -2.474565e-01 -2.806121e-01 -2.351838e-01   \n",
      "75%    3.745787e-01  4.986794e-01  4.324573e-01  2.062404e-01  3.677199e-01   \n",
      "max    3.711375e+00  3.547126e+00  3.882182e+00  5.519283e+00  3.905012e+00   \n",
      "\n",
      "                 5             6             7             8             9   \\\n",
      "count  9.100000e+01  9.100000e+01  9.100000e+01  9.100000e+01  9.100000e+01   \n",
      "mean  -1.043122e-16 -8.662180e-17  4.361590e-17  1.769037e-17 -1.561632e-16   \n",
      "std    1.005540e+00  1.005540e+00  1.005540e+00  1.005540e+00  1.005540e+00   \n",
      "min   -9.688854e-01 -8.320870e-01 -7.533499e-01 -7.544306e-01 -1.511473e+00   \n",
      "25%   -4.656880e-01 -4.462228e-01 -7.533499e-01 -4.243703e-01 -4.289421e-01   \n",
      "50%   -2.348343e-01 -2.043751e-01 -2.840857e-01 -2.748926e-01 -1.713579e-01   \n",
      "75%    1.528937e-01  1.989980e-01  2.712854e-01  9.854195e-02  2.656091e-01   \n",
      "max    7.052664e+00  6.161548e+00  4.186054e+00  7.669651e+00  5.679557e+00   \n",
      "\n",
      "                 10            11            12            13  \n",
      "count  9.100000e+01  9.100000e+01  9.100000e+01  9.100000e+01  \n",
      "mean  -4.001683e-16 -1.756836e-16  1.437190e-15 -2.830459e-16  \n",
      "std    1.005540e+00  1.005540e+00  1.005540e+00  1.005540e+00  \n",
      "min   -1.870727e+00 -4.758434e+00 -4.690171e+00 -1.197607e+00  \n",
      "25%   -5.773705e-01 -2.056166e-01 -2.388437e-01 -7.428442e-01  \n",
      "50%   -1.212071e-01  9.694242e-02  1.002845e-01 -2.575264e-01  \n",
      "75%    2.795374e-01  4.364418e-01  5.699226e-01  3.745787e-01  \n",
      "max    4.305957e+00  1.826005e+00  1.370790e+00  3.711375e+00  \n",
      "In <class 'lib.figureHelpers.FigAdapter_KMeans'>.__call__: fitted j  KMeans classifier\n",
      "type colors:<class 'numpy.ndarray'>\n"
     ]
    },
    {
     "name": "stdout",
     "output_type": "stream",
     "text": [
      "Saving figure FIG319\n"
     ]
    },
    {
     "data": {
      "image/png": "[encoded data removed]",
      "text/plain": [
       "<Figure size 576x576 with 2 Axes>"
      ]
     },
     "metadata": {},
     "output_type": "display_data"
    }
   ],
   "source": [
    "fitCols=list(range(1,4))\n",
    "fitCols.extend(range(5,7))\n",
    "\n",
    "sizes = 16*(150*vdm.loc[:,'PopRel']).map(lambda x: max(0.01,sqrt(x)))\n",
    "\n",
    "nbClusters=5\n",
    "figAdaptKM = FHelp.FigAdapter_KMeans(fitData = vdm.iloc[:,fitCols], \n",
    "                                     nbClusters = nbClusters, \n",
    "                                     scaler=\"standard\")\n",
    "\n",
    "colormap = CM.get_cmap('brg', 32)\n",
    "# lambda is used to defer evaluation of the labels\n",
    "lambdaColors = lambda x : colormap((1+ figAdaptKM.k_means.labels_)/nbClusters)\n",
    "lambdaSize =  sizes\n",
    "\n",
    "figSc3D = FHelp.FigFrom3DScatterPlot( adapter = figAdaptKM, data = vdm, \n",
    "                                      figsize=(8,8))\n",
    "\n",
    "            # this fits the data and prepares the figure\n",
    "figSc3D( xcol=\"incid_dc_perM\",\n",
    "         ycol=\"n_cum_dose2_perC\", \n",
    "         zcol='incid_hosp_perM',\n",
    "         colors = lambdaColors,\n",
    "         sizes =  lambdaSize,\n",
    "         xlabel=\"death per million\",\n",
    "         ylabel=\"cum vaccine dose 2 percent\",\n",
    "         zlabel=\"incid hosp perM\",\n",
    "         title=\"Segmentation based on incidence- + vaccine-\")\n",
    "\n",
    "ImgMgr.save_fig(\"FIG319\")\n"
   ]
  },
  {
   "cell_type": "code",
   "execution_count": 78,
   "metadata": {},
   "outputs": [
    {
     "data": {
      "text/html": [
       "<div>\n",
       "<style scoped>\n",
       "    .dataframe tbody tr th:only-of-type {\n",
       "        vertical-align: middle;\n",
       "    }\n",
       "\n",
       "    .dataframe tbody tr th {\n",
       "        vertical-align: top;\n",
       "    }\n",
       "\n",
       "    .dataframe thead th {\n",
       "        text-align: right;\n",
       "    }\n",
       "</style>\n",
       "<table border=\"1\" class=\"dataframe\">\n",
       "  <thead>\n",
       "    <tr style=\"text-align: right;\">\n",
       "      <th></th>\n",
       "      <th>n_cum_dose2</th>\n",
       "      <th>n_cum_dose3</th>\n",
       "      <th>n_cum_dose4</th>\n",
       "      <th>incid_hosp_perM</th>\n",
       "      <th>incid_rea_perM</th>\n",
       "    </tr>\n",
       "  </thead>\n",
       "  <tbody>\n",
       "    <tr>\n",
       "      <th>0</th>\n",
       "      <td>209636.0</td>\n",
       "      <td>12363.714286</td>\n",
       "      <td>15.571429</td>\n",
       "      <td>3.153400</td>\n",
       "      <td>0.450486</td>\n",
       "    </tr>\n",
       "    <tr>\n",
       "      <th>1</th>\n",
       "      <td>245749.0</td>\n",
       "      <td>15554.714286</td>\n",
       "      <td>7.857143</td>\n",
       "      <td>4.522060</td>\n",
       "      <td>0.000000</td>\n",
       "    </tr>\n",
       "    <tr>\n",
       "      <th>2</th>\n",
       "      <td>197422.0</td>\n",
       "      <td>13260.142857</td>\n",
       "      <td>1.000000</td>\n",
       "      <td>3.454375</td>\n",
       "      <td>0.493482</td>\n",
       "    </tr>\n",
       "    <tr>\n",
       "      <th>3</th>\n",
       "      <td>1219920.0</td>\n",
       "      <td>70812.714286</td>\n",
       "      <td>67.714286</td>\n",
       "      <td>7.252679</td>\n",
       "      <td>1.673695</td>\n",
       "    </tr>\n",
       "    <tr>\n",
       "      <th>4</th>\n",
       "      <td>526852.0</td>\n",
       "      <td>29897.571429</td>\n",
       "      <td>29.285714</td>\n",
       "      <td>1.815099</td>\n",
       "      <td>0.605033</td>\n",
       "    </tr>\n",
       "    <tr>\n",
       "      <th>...</th>\n",
       "      <td>...</td>\n",
       "      <td>...</td>\n",
       "      <td>...</td>\n",
       "      <td>...</td>\n",
       "      <td>...</td>\n",
       "    </tr>\n",
       "    <tr>\n",
       "      <th>86</th>\n",
       "      <td>758333.0</td>\n",
       "      <td>32006.571429</td>\n",
       "      <td>22.285714</td>\n",
       "      <td>3.458279</td>\n",
       "      <td>1.268036</td>\n",
       "    </tr>\n",
       "    <tr>\n",
       "      <th>87</th>\n",
       "      <td>111480.0</td>\n",
       "      <td>3908.428571</td>\n",
       "      <td>3.714286</td>\n",
       "      <td>3.966721</td>\n",
       "      <td>2.163666</td>\n",
       "    </tr>\n",
       "    <tr>\n",
       "      <th>88</th>\n",
       "      <td>110123.0</td>\n",
       "      <td>3742.285714</td>\n",
       "      <td>2.000000</td>\n",
       "      <td>16.641597</td>\n",
       "      <td>6.051490</td>\n",
       "    </tr>\n",
       "    <tr>\n",
       "      <th>89</th>\n",
       "      <td>63569.0</td>\n",
       "      <td>1325.428571</td>\n",
       "      <td>0.000000</td>\n",
       "      <td>28.979887</td>\n",
       "      <td>7.376698</td>\n",
       "    </tr>\n",
       "    <tr>\n",
       "      <th>90</th>\n",
       "      <td>450306.0</td>\n",
       "      <td>9644.571429</td>\n",
       "      <td>7.000000</td>\n",
       "      <td>1.820758</td>\n",
       "      <td>0.662094</td>\n",
       "    </tr>\n",
       "  </tbody>\n",
       "</table>\n",
       "<p>91 rows × 5 columns</p>\n",
       "</div>"
      ],
      "text/plain": [
       "    n_cum_dose2   n_cum_dose3  n_cum_dose4  incid_hosp_perM  incid_rea_perM\n",
       "0      209636.0  12363.714286    15.571429         3.153400        0.450486\n",
       "1      245749.0  15554.714286     7.857143         4.522060        0.000000\n",
       "2      197422.0  13260.142857     1.000000         3.454375        0.493482\n",
       "3     1219920.0  70812.714286    67.714286         7.252679        1.673695\n",
       "4      526852.0  29897.571429    29.285714         1.815099        0.605033\n",
       "..          ...           ...          ...              ...             ...\n",
       "86     758333.0  32006.571429    22.285714         3.458279        1.268036\n",
       "87     111480.0   3908.428571     3.714286         3.966721        2.163666\n",
       "88     110123.0   3742.285714     2.000000        16.641597        6.051490\n",
       "89      63569.0   1325.428571     0.000000        28.979887        7.376698\n",
       "90     450306.0   9644.571429     7.000000         1.820758        0.662094\n",
       "\n",
       "[91 rows x 5 columns]"
      ]
     },
     "execution_count": 78,
     "metadata": {},
     "output_type": "execute_result"
    }
   ],
   "source": [
    "vdm.iloc[:,fitCols]"
   ]
  },
  {
   "cell_type": "code",
   "execution_count": null,
   "metadata": {},
   "outputs": [],
   "source": []
  }
 ],
 "metadata": {
  "kernelspec": {
   "display_name": "Python 3",
   "language": "python",
   "name": "python3"
  },
  "language_info": {
   "codemirror_mode": {
    "name": "ipython",
    "version": 3
   },
   "file_extension": ".py",
   "mimetype": "text/x-python",
   "name": "python",
   "nbconvert_exporter": "python",
   "pygments_lexer": "ipython3",
   "version": "3.9.4"
  }
 },
 "nbformat": 4,
 "nbformat_minor": 2
}
