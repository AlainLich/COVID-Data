{
 "cells": [
  {
   "cell_type": "markdown",
   "metadata": {},
   "source": [
    "#  Simple tool to analyze data from www.data.gouv.fr\n",
    "\n",
    "**Note:** This is a Jupyter notebook which is also available as its executable export as a Python 3 script (therefore with automatically generated comments)."
   ]
  },
  {
   "cell_type": "markdown",
   "metadata": {},
   "source": [
    "# Libraries"
   ]
  },
  {
   "cell_type": "code",
   "execution_count": null,
   "metadata": {
    "scrolled": true
   },
   "outputs": [],
   "source": [
    "# Sys import\n",
    "import sys, os, re\n",
    "# Common imports\n",
    "import math\n",
    "import numpy             as NP\n",
    "import numpy.random      as RAND\n",
    "import scipy.stats       as STATS\n",
    "from scipy import sparse\n",
    "from scipy import linalg\n",
    "\n",
    "# Better formatting functions\n",
    "from IPython.display import display, HTML\n",
    "from IPython import get_ipython\n",
    "\n",
    "import matplotlib        as MPL\n",
    "import matplotlib.pyplot as PLT\n",
    "import seaborn as SNS\n",
    "SNS.set(font_scale=1)\n",
    "\n",
    "# Python programming\n",
    "from itertools import cycle\n",
    "from time import time\n",
    "import datetime\n",
    "\n",
    "# Using pandas\n",
    "import pandas as PAN\n",
    "import xlrd"
   ]
  },
  {
   "cell_type": "code",
   "execution_count": null,
   "metadata": {
    "scrolled": true
   },
   "outputs": [],
   "source": [
    "import warnings\n",
    "warnings.filterwarnings('ignore')\n",
    "print(\"For now, reduce python warnings, I will look into this later\")"
   ]
  },
  {
   "cell_type": "markdown",
   "metadata": {},
   "source": [
    "### Import my own modules\n",
    "The next cell attempts to give user some information if things improperly setup.\n",
    "Intended to work both in Jupyter and when executing the Python file directly."
   ]
  },
  {
   "cell_type": "code",
   "execution_count": null,
   "metadata": {
    "scrolled": true
   },
   "outputs": [],
   "source": [
    "if not get_ipython() is None and os.path.abspath(\"../source/\") not in sys.path:\n",
    "    sys.path.append(os.path.abspath(\"../source/\"))\n",
    "try:\n",
    "    from lib.utilities     import *\n",
    "    from lib.figureHelpers import *\n",
    "    from lib.DataMgrJSON   import *\n",
    "    from lib.DataMgr       import *\n",
    "    import lib.basicDataCTE as DCTE\n",
    "except Exception as err:\n",
    "    print(\"Could not find library 'lib' with contents 'DataGouvFr' \")\n",
    "    if get_ipython() is None:\n",
    "        print(\"Check the PYTHONPATH environment variable which should point to 'source' wich contains 'lib'\")\n",
    "    else:\n",
    "        print(\"You are supposed to be running in JupySessions, and '../source/lib' should exist\")\n",
    "    raise err"
   ]
  },
  {
   "cell_type": "code",
   "execution_count": null,
   "metadata": {},
   "outputs": [],
   "source": [
    "import libApp.appFrance as appFrance"
   ]
  },
  {
   "cell_type": "markdown",
   "metadata": {},
   "source": [
    "## Check environment\n",
    "\n",
    "It is expected that:\n",
    "- your working directory is named `JupySessions`, \n",
    "- that it has subdirectories \n",
    "   - `images/*` where generated images may be stored to avoid overcrowding. \n",
    "- At the same level as your working dir there should be directories \n",
    "   - `../data` for storing input data and \n",
    "   - `../source` for python scripts.\n",
    "   \n",
    "My package library is in `../source/lib`, and users running under Python (not in Jupyter) should\n",
    "set their PYTHONPATH to include \"../source\" ( *or whatever appropriate* )."
   ]
  },
  {
   "cell_type": "code",
   "execution_count": null,
   "metadata": {
    "scrolled": true
   },
   "outputs": [],
   "source": [
    "checkSetup(chap=\"Chap01\")\n",
    "ImgMgr = ImageMgr(chapdir=\"Chap01\")"
   ]
  },
  {
   "cell_type": "markdown",
   "metadata": {},
   "source": [
    "# Load Data"
   ]
  },
  {
   "cell_type": "markdown",
   "metadata": {},
   "source": [
    "## Functions"
   ]
  },
  {
   "cell_type": "markdown",
   "metadata": {},
   "source": [
    "## Load CSV and XLSX data from remote \n",
    "The `dataFileVMgr` will manage a cache of data files in `../data`, the data will be downloaded\n",
    "from www.data.gouv.fr using a request for datasets with badge '`covid-19`' if a more recent\n",
    "version is present on the remote site. The meta information is stored/cached  in `../data/.data`\n",
    "as the pickle of a json.\n",
    "\n",
    "We check what is in the cache/data directory; for each file, we identify the latest version, \n",
    "and list this below to make sure. The file name will usually contain a time stamp; this has to do with \n",
    "the version management/identification technique used when downloading from www.data.gouv.fr.\n",
    "\n",
    "For the files used in this notebook, the latest version is used/loaded irrespective of the\n",
    "timestamp used in the notebook."
   ]
  },
  {
   "cell_type": "code",
   "execution_count": null,
   "metadata": {
    "scrolled": false
   },
   "outputs": [],
   "source": [
    "dataFileVMgr = manageAndCacheDataFilesFRDG(\"../data\", maxDirSz= 80*(2**10)**2)\n",
    "dataFileVMgr.getRemoteInfo()\n",
    "dataFileVMgr.updatePrepare()\n",
    "dataFileVMgr.cacheUpdate()"
   ]
  },
  {
   "cell_type": "code",
   "execution_count": null,
   "metadata": {
    "scrolled": true
   },
   "outputs": [],
   "source": [
    "last = lambda x: dataFileVMgr.getRecentVersion(x,default=True)"
   ]
  },
  {
   "cell_type": "markdown",
   "metadata": {},
   "source": [
    "This ensures we load the most recent version, so that it is not required to update the list \n",
    "below. The timestamps shown in the following sequence will be update by the call to `getRecentVersion`."
   ]
  },
  {
   "cell_type": "code",
   "execution_count": null,
   "metadata": {
    "scrolled": true
   },
   "outputs": [],
   "source": [
    "dailyDepCsv    = last(\"sursaud-covid19-quotidien-2020-04-11-19h00-departement.csv\")\n",
    "dailyRegionCsv = last(\"sursaud-covid19-quotidien-2020-04-11-19h00-region.csv\")\n",
    "dailyFranceCsv = last(\"sursaud-covid19-quotidien-2020-04-12-19h00-france.csv\")\n",
    "dailyXlsx      = last(\"sursaud-covid19-quotidien-2020-04-12-19h00.xlsx\")\n",
    "weeklyCsv      = last(\"sursaud-covid19-hebdomadaire-2020-04-08-19h00.csv\")\n",
    "\n",
    "hospAgeCsv     = last(\"donnees-hospitalieres-classe-age-covid19-2020-04-11-19h00.csv\")\n",
    "hospNouveauCsv = last(\"donnees-hospitalieres-nouveaux-covid19-2020-04-11-19h00.csv\")\n",
    "hospCsv        = last(\"donnees-hospitalieres-covid19-2020-04-11-19h00.csv\")\n",
    "hospEtablCsv   = last(\"donnees-hospitalieres-etablissements-covid19-2020-04-12-19h00.csv\")\n",
    "weeklyLabCsv   = last(\"donnees-tests-covid19-labo-hebdomadaire-2020-04-16-10h47.csv\")\n",
    "dailyLabCsv    = last(\"donnees-tests-covid19-labo-quotidien-2020-04-17-19h00.csv\")\n",
    "\n",
    "\n",
    "S1 = set (dataFileVMgr.listMostRecent())\n",
    "S2 =set((dailyDepCsv,dailyRegionCsv,dailyFranceCsv, dailyXlsx, weeklyCsv, \n",
    "         hospAgeCsv, hospNouveauCsv, hospCsv,  hospEtablCsv, weeklyLabCsv, dailyLabCsv  ))\n",
    "missing = S1. difference(S2)\n",
    "if len(missing) > 0:\n",
    "    print (f\"Missing comparing with most recent files in ../data:\")\n",
    "for f in missing:\n",
    "    print(f\"\\t{f}\")\n",
    "    \n",
    "metaHebdoCsv = \"../data/metadonnee-urgenceshos-sosmedecins-covid19-hebdo.csv\" \n",
    "metaQuotRegCsv = \"../data/metadonnee-urgenceshos-sosmedecin-covid19-quot-reg.csv\"\n",
    "metaQuotFraCsv = \"../data/metadonnee-urgenceshos-sosmedecin-covid19-quot-fra.csv\" \n",
    "metaQuotCsv = \"../data/metadonnee-urgenceshos-sosmedecin-covid19-quot.csv\"\n",
    "\n",
    "\n",
    "metaHospservices = \"../data/metadonnees-services-hospitaliers-covid19.csv\"\n",
    "metaHospAge = \"../data/metadonnees-donnees-hospitalieres-covid19-classes-age.csv\"\n",
    "metaHospIncid = \"../data/metadonnees-hospit-incid.csv\"\n",
    "metaHosp = \"../data/metadonnees-donnees-hospitalieres-covid19.csv\"\n",
    "metaHospEtabl = \"../data/donnees-hospitalieres-etablissements-covid19-2020-04-11-19h00.csv\"\n",
    "\n",
    "metaSexeCsv = \"../data/metadonnees-sexe.csv\"\n",
    "metaRegionsCsv=\"../data/regions-france.csv\"\n",
    "metaTranchesAgeCsv=\"../data/code-tranches-dage.csv\""
   ]
  },
  {
   "cell_type": "code",
   "execution_count": null,
   "metadata": {},
   "outputs": [],
   "source": [
    "ad  = lambda x: \"../data/\"+x\n",
    "S1 = set (map(ad, dataFileVMgr.listMostRecent(nonTS=True)))\n",
    "S2 =set((metaHebdoCsv, metaQuotRegCsv,  metaQuotFraCsv, metaQuotCsv, \n",
    "         metaHospservices, metaHospAge, metaHospIncid, metaHosp,  metaHospEtabl, metaRegionsCsv, metaTranchesAgeCsv ))\n",
    "missing = S1. difference(S2)\n",
    "if len(missing) > 0 and False:\n",
    "    print (f\"Missing comparing with non timestamped files in ../data:\")\n",
    "    print (\"These may eventually be exploited in other notebooks (e.g. COVID-MoreData-FromGouv)\")\n",
    "    for f in missing:\n",
    "        print(f\"\\t{f}\")"
   ]
  },
  {
   "cell_type": "markdown",
   "metadata": {},
   "source": [
    "Now load the stuff\n"
   ]
  },
  {
   "cell_type": "code",
   "execution_count": null,
   "metadata": {
    "scrolled": true
   },
   "outputs": [],
   "source": [
    "ad  = lambda x: \"../data/\"+x\n",
    "data_dailyRegion = read_csvPandas(ad(dailyRegionCsv), error_bad_lines=False,sep=\",\" )\n",
    "data_dailyDep    = read_csvPandas(ad(dailyDepCsv), error_bad_lines=False,sep=\",\")\n",
    "data_dailyFrance = read_csvPandas(ad(dailyFranceCsv), error_bad_lines=False,sep=\",\")\n",
    "data_daily       = read_xlsxPandas(ad(dailyXlsx))\n",
    "data_weekly      = read_csvPandas(ad(weeklyCsv), error_bad_lines=False,sep=\";\")\n",
    "\n",
    "data_hospNouveau = read_csvPandas(ad(hospNouveauCsv), error_bad_lines=False,sep=\";\")\n",
    "data_hosp        = read_csvPandas(ad(hospCsv), error_bad_lines=False,sep=\";\")\n",
    "data_hospAge     = read_csvPandas(ad(hospAgeCsv), error_bad_lines=False,sep=\";\")\n",
    "data_hospEtabl   = read_csvPandas(ad(hospEtablCsv), error_bad_lines=False,sep=\";\")\n",
    "\n",
    "data_weeklyLab   = read_csvPandas(ad(weeklyLabCsv), error_bad_lines=False,sep=\";\")\n",
    "data_dailyLab    = read_csvPandas(ad(dailyLabCsv), error_bad_lines=False,sep=\";\")\n",
    "\n",
    "meta_Hebdo       = read_csvPandas(metaHebdoCsv,     clearNaN=True, error_bad_lines=False,sep=\";\", header=2)\n",
    "meta_QuotReg     = read_csvPandas(metaQuotRegCsv, clearNaN=True, error_bad_lines=False,sep=\";\", header=1)\n",
    "meta_QuotFra     = read_csvPandas(metaQuotFraCsv, clearNaN=True, error_bad_lines=False,sep=\";\", header=1)\n",
    "meta_Quot        = read_csvPandas(metaQuotCsv, clearNaN=True, error_bad_lines=False,sep=\";\", header=1)\n",
    "meta_HospServices = read_csvPandas(metaHospservices, clearNaN=True, error_bad_lines=False,sep=\";\")\n",
    "meta_HospAge      = read_csvPandas(metaHospAge, clearNaN=True, error_bad_lines=False,sep=\";\")\n",
    "meta_HospIncid    = read_csvPandas(metaHospIncid, clearNaN=True, error_bad_lines=False,sep=\";\")\n",
    "meta_Hosp         = read_csvPandas(metaHosp, clearNaN=True, error_bad_lines=False,sep=\";\")\n",
    "\n",
    "meta_Sexe = read_csvPandas(metaSexeCsv, clearNaN=True, error_bad_lines=False,sep=\";\",header=0)\n",
    "meta_Regions = read_csvPandas(metaRegionsCsv, clearNaN=True, error_bad_lines=False,sep=\",\")\n",
    "meta_Ages    =  read_csvPandas(metaTranchesAgeCsv, clearNaN=True, error_bad_lines=False,sep=\";\")"
   ]
  },
  {
   "cell_type": "markdown",
   "metadata": {},
   "source": [
    "## Figure out data characteristics"
   ]
  },
  {
   "cell_type": "code",
   "execution_count": null,
   "metadata": {
    "scrolled": true
   },
   "outputs": [],
   "source": [
    "def showBasics(data,dataName):\n",
    "    print(f\"{dataName:24}\\thas shape {data.shape}\")\n",
    "\n",
    "dataListDescr = ((data_dailyRegion, \"data_dailyRegion\"), \n",
    "                  (data_dailyDep,\"data_dailyDep\"), \n",
    "                  (data_hospAge,\"data_hospAge\"), \n",
    "                  (data_dailyFrance, \"data_dailyFrance\"),\n",
    "                  (data_daily,\"data_daily\"),\n",
    "                  (data_weekly , \"data_weekly \"),\n",
    "                  (data_hospNouveau,\"data_hospNouveau\"),\n",
    "                  (data_hosp,\"data_hosp\"),\n",
    "                  (data_hospAge,\"data_hospAge\"),\n",
    "                  (data_hospEtabl,\"data_hospEtabl\"),\n",
    "                  (data_weeklyLab,\"data_weeklyLab\"),\n",
    "                  (data_dailyLab ,\"data_dailyLab\"),\n",
    "                  (meta_Hebdo,\"meta_Hebdo\"),\n",
    "                  (meta_QuotReg,\"meta_QuotReg\"),\n",
    "                  (meta_QuotFra,\"meta_QuotFra\"),\n",
    "                  (meta_Quot,\"meta_Quot\"),\n",
    "                  (meta_HospServices,\"meta_HospServices\"),\n",
    "                  (meta_HospAge,\"meta_HospAge\"),\n",
    "                  (meta_HospIncid,\"meta_HospIncid\"),\n",
    "                  (meta_Hosp,\"meta_Hosp\"),\n",
    "                  (meta_Sexe,\"meta_Sexe\"),\n",
    "                  (meta_Regions,'meta_Regions'),\n",
    "                  (meta_Ages,'meta_Ages'))\n",
    "    \n",
    "for (dat,name) in dataListDescr:\n",
    "    showBasics(dat,name)\n"
   ]
  },
  {
   "cell_type": "markdown",
   "metadata": {},
   "source": [
    "### Help with meta data\n",
    "Of course I encountered some surprises, see `checkRepresentedRegions` issue with unknown codes which\n",
    "did occur in some files!"
   ]
  },
  {
   "cell_type": "code",
   "execution_count": null,
   "metadata": {
    "scrolled": true
   },
   "outputs": [],
   "source": [
    "def checkRepresentedRegions(df,col='reg',**kwOpts):\n",
    "    \"list regions represented in a dataframe, if kwd print=True, will print list of code->string\"\n",
    "    regs = set(df[col])\n",
    "    if \"print\" in kwOpts:\n",
    "        for r in regs:\n",
    "            extract = meta_Regions[ meta_Regions['code_region'] == r]\n",
    "            # print (f\"r={r}\\t{extract}\\t{extract.shape}\")\n",
    "            if extract.shape[0] == 0:\n",
    "                lib = f\"**Unknown:{r}**\"\n",
    "            else:\n",
    "                lib=extract.iloc[0]. at ['nom_region']\n",
    "            print(f\"Region: code={r}\\t->{lib}\")\n",
    "    return regs"
   ]
  },
  {
   "cell_type": "code",
   "execution_count": null,
   "metadata": {
    "scrolled": false
   },
   "outputs": [],
   "source": [
    "if False:\n",
    "    for (dat,name) in dataListDescr:\n",
    "        if name[0:5]==\"meta_\": continue\n",
    "        print(f\"\\nDescription of data in '{name}'\\n\")\n",
    "        display(dat.describe().transpose())"
   ]
  },
  {
   "cell_type": "code",
   "execution_count": null,
   "metadata": {
    "scrolled": true
   },
   "outputs": [],
   "source": [
    "if False:\n",
    "    for (dat,name) in dataListDescr:\n",
    "        if name[0:5]!=\"meta_\": continue\n",
    "        print(f\"\\nMeta data in '{name}'\\n\")\n",
    "        display(dat)"
   ]
  },
  {
   "cell_type": "markdown",
   "metadata": {},
   "source": [
    "### Focus on the recent period"
   ]
  },
  {
   "cell_type": "code",
   "execution_count": null,
   "metadata": {},
   "outputs": [],
   "source": [
    "nbLastDays=50"
   ]
  },
  {
   "cell_type": "markdown",
   "metadata": {},
   "source": [
    "## Get some demographics data from INSEE\n",
    "For the time being, these data are obtained / loaded from Insee web site using a manual process and are placed in a different directory, therefore a distinct FileManager is used, and loading this data is done here; for more details see the notebook `Pop-Data-FromGouv.ipy`\n",
    "\n",
    "Using the base version which does not try to update the \"../dataPop\" directory"
   ]
  },
  {
   "cell_type": "code",
   "execution_count": null,
   "metadata": {
    "scrolled": true
   },
   "outputs": [],
   "source": [
    "dataFileVMgrInsee = manageDataFileVersions(\"../dataPop\") \n",
    "inseeDepXLS           =\"../dataPop/InseeDep.xls\"\n",
    "inseeDep            = read_xlsxPandas(inseeDepXLS, sheet_name=1, header=7)\n",
    "inseeReg            = read_xlsxPandas(inseeDepXLS, sheet_name=0, header=7)"
   ]
  },
  {
   "cell_type": "markdown",
   "metadata": {},
   "source": [
    "Now we can display our demographics data (summarized)"
   ]
  },
  {
   "cell_type": "code",
   "execution_count": null,
   "metadata": {
    "scrolled": true
   },
   "outputs": [],
   "source": [
    "display(inseeDep.iloc[:,4:].sum())\n",
    "display(inseeReg.iloc[:,4:].sum())"
   ]
  },
  {
   "cell_type": "markdown",
   "metadata": {},
   "source": [
    "## Let's do some graphics!"
   ]
  },
  {
   "cell_type": "markdown",
   "metadata": {},
   "source": [
    "### Données de  urgences hospitalières et de SOS médecins \n",
    "Df: dailyRegion ( file sursaud-covid19-quotidien)\n",
    "#### Structure the data"
   ]
  },
  {
   "cell_type": "markdown",
   "metadata": {},
   "source": [
    "Select age category '0', thus getting all ages"
   ]
  },
  {
   "cell_type": "code",
   "execution_count": null,
   "metadata": {
    "scrolled": true
   },
   "outputs": [],
   "source": [
    "def select_Ages(df, ageGroup='0'):\n",
    "    return df.loc[df['sursaud_cl_age_corona'] == ageGroup]\n",
    "def select_AllAges(df):\n",
    "    return select_Ages(df)"
   ]
  },
  {
   "cell_type": "code",
   "execution_count": null,
   "metadata": {
    "scrolled": true
   },
   "outputs": [],
   "source": [
    "def groupByDate(df):\n",
    "    return df.groupby('date_de_passage')"
   ]
  },
  {
   "cell_type": "markdown",
   "metadata": {},
   "source": [
    "First, I work with the dailyRegion data, summing up for all regions."
   ]
  },
  {
   "cell_type": "code",
   "execution_count": null,
   "metadata": {
    "scrolled": true
   },
   "outputs": [],
   "source": [
    "gr_all_age_regions = groupByDate(select_AllAges(data_dailyRegion)).sum()\n",
    "checkRepresentedRegions(data_dailyRegion, print=True);"
   ]
  },
  {
   "cell_type": "code",
   "execution_count": null,
   "metadata": {},
   "outputs": [],
   "source": [
    "display(meta_QuotReg[[ \"Colonne\",\"Description_FR\" ]])"
   ]
  },
  {
   "cell_type": "code",
   "execution_count": null,
   "metadata": {},
   "outputs": [],
   "source": [
    "gr_all_age_regions.describe()"
   ]
  },
  {
   "cell_type": "code",
   "execution_count": null,
   "metadata": {
    "scrolled": false
   },
   "outputs": [],
   "source": [
    "dfGrAll = PAN.DataFrame(gr_all_age_regions.copy(), columns=gr_all_age_regions.columns[1:])\n",
    "flist = list (map (lambda x:  ( x, re.compile(\".*_\" + x + \"_.*\")), (\"pass\", \"hospit\", \"acte\", \"acte_corona\")))\n",
    "for (feature, frex) in flist:\n",
    "        urgences = appFrance.UrgenceSOSDataFig()\n",
    "        urgences.initPainter( dataFrame = dfGrAll, single=True, colSelectRex=frex)\n",
    "        urgences.mkImage(\n",
    "            title=\"Whole France/Data ER + SOS-medecin\\nAll age groups; feature:\" + feature,\n",
    "            xlabel=f\"Days since {urgences.painter.df.index[0]}\"\n",
    "        )\n",
    "        ImgMgr.save_fig(\"FIG002\"+feature)"
   ]
  },
  {
   "cell_type": "markdown",
   "metadata": {},
   "source": [
    "Then, I look at the national data, as represented in `data_dailyFrance` and `data_daily`"
   ]
  },
  {
   "cell_type": "code",
   "execution_count": null,
   "metadata": {
    "scrolled": true
   },
   "outputs": [],
   "source": [
    "print(f\"data_daily: {data_daily.shape}\")\n",
    "print(f\"{','.join(data_daily.columns)}\")\n",
    "display(data_daily.describe())\n",
    "display(data_daily[:5])\n",
    "\n",
    "print(\"data_dailyFrance:  {data_dailyFrance.shape}\")\n",
    "print(f\"{','.join(data_dailyFrance.columns)}\")\n",
    "display(data_dailyFrance.describe())\n",
    "display(data_dailyFrance[:5])"
   ]
  },
  {
   "cell_type": "markdown",
   "metadata": {},
   "source": [
    "### Hospital data\n",
    "DF: hospNouveau  File: donnees-hospitalieres-nouveaux-covid19"
   ]
  },
  {
   "cell_type": "code",
   "execution_count": null,
   "metadata": {},
   "outputs": [],
   "source": [
    "gr_all_data_hospNouveau=data_hospNouveau.groupby('jour').sum()\n",
    "dfGrHN = PAN.DataFrame(gr_all_data_hospNouveau)\n",
    "colOpts = {'incid_dc': {\"c\":\"b\",\"marker\":\"v\"},  \n",
    "           'incid_rea': {\"c\":\"r\",\"marker\":\"o\", \"linestyle\":\"--\"},\n",
    "           'incid_rad': {\"marker\":\"+\"},\n",
    "           'incid_hosp': {\"marker\":\"*\"}\n",
    "          }"
   ]
  },
  {
   "cell_type": "code",
   "execution_count": null,
   "metadata": {
    "scrolled": false
   },
   "outputs": [],
   "source": [
    "painter = figureTSFromFrame(dfGrHN.iloc[-nbLastDays:,:])\n",
    "painter.doPlot()\n",
    "painter.setAttrs(colOpts=colOpts,\n",
    "                 xlabel=f\"Days since {painter.dt[0]}\", \n",
    "                 title=\"Whole France (Hospital)\\nDaily variation in patient status\",\n",
    "                 legend=True  ) \n",
    "\n",
    "PAN.set_option('display.max_colwidth', None)\n",
    "display(meta_HospIncid[[ \"Colonne\",\"Description_EN\" ]])\n",
    "ImgMgr.save_fig(\"FIG062\")"
   ]
  },
  {
   "cell_type": "code",
   "execution_count": null,
   "metadata": {
    "scrolled": false
   },
   "outputs": [],
   "source": [
    "gr_all_data_hosp=data_hosp.loc[data_hosp[\"sexe\"] == 0 ].groupby('jour').sum()\n",
    "cols = [ c for c in gr_all_data_hosp.columns if c != 'sexe']\n",
    "dfGrH = PAN.DataFrame(gr_all_data_hosp[cols])\n",
    "colOpts = { 'dc': {\"c\":\"b\",\"marker\":\"v\"},  \n",
    "           'rea': {\"c\":\"r\",\"marker\":\"o\", \"linestyle\":\"--\"},\n",
    "           'rad': {\"marker\":\"+\"},\n",
    "           'hosp': {\"marker\":\"*\"}\n",
    "          }\n",
    "painter = figureTSFromFrame(dfGrH.iloc[-nbLastDays:,:])\n",
    "painter.doPlot()\n",
    "painter.setAttrs( colOpts=colOpts,\n",
    "                  xlabel=f\"Days since {painter.dt[0]}\",\n",
    "                  title=\"Whole France / Hospital\\n:Daily patient status (ICU,Hosp) / Accumulated (discharged, dead)\",\n",
    "                 legend=True) \n",
    "display(meta_Hosp[[ \"Colonne\",\"Description_EN\" ]])\n",
    "ImgMgr.save_fig(\"FIG063\")"
   ]
  },
  {
   "cell_type": "code",
   "execution_count": null,
   "metadata": {
    "scrolled": false
   },
   "outputs": [],
   "source": [
    "gr_all_data_hosp=data_hosp.loc[data_hosp[\"sexe\"] == 0 ].groupby('jour').sum()\n",
    "cols = [ c for c in gr_all_data_hosp.columns if c not in ('sexe','rad')]\n",
    "dfGrH = PAN.DataFrame(gr_all_data_hosp[cols])\n",
    "colOpts = { 'dc': {\"c\":\"b\",\"marker\":\"v\"},  \n",
    "           'rea': {\"c\":\"r\",\"marker\":\"o\", \"linestyle\":\"--\"},\n",
    "           'rad': {\"marker\":\"+\"},\n",
    "           'hosp': {\"marker\":\"*\"}\n",
    "          }\n",
    "painter = figureTSFromFrame(dfGrH.iloc[-nbLastDays:,:])\n",
    "painter.doPlot()\n",
    "painter.setAttrs( colOpts=colOpts,\n",
    "                  xlabel=f\"Days since {painter.dt[0]}\",\n",
    "                  title=\"Whole France / Hospital\\n:Daily patient status (ICU,Hosp) / Accumulated (dead)\",\n",
    "                 legend=True) \n",
    "display(meta_Hosp[[ \"Colonne\",\"Description_EN\" ]])\n",
    "ImgMgr.save_fig(\"FIG064\")"
   ]
  },
  {
   "cell_type": "markdown",
   "metadata": {},
   "source": [
    "### Now analyze hospital data according to sex"
   ]
  },
  {
   "cell_type": "code",
   "execution_count": null,
   "metadata": {
    "scrolled": true
   },
   "outputs": [],
   "source": [
    "data_hosp_DepSex=data_hosp.set_index([\"dep\",\"sexe\"])\n",
    "data_hosp_DepSex[data_hosp_DepSex.index.get_level_values(1)!=0]\n",
    "\n",
    "d1 = data_hosp_DepSex[data_hosp_DepSex.index.get_level_values(1)==1]\n",
    "d2 = data_hosp_DepSex[data_hosp_DepSex.index.get_level_values(1)==2]\n",
    "\n",
    "d1s=d1.groupby(\"jour\").sum()\n",
    "d2s=d2.groupby(\"jour\").sum()\n",
    "\n",
    "dm= PAN.concat([d1s,d2s], axis=1)\n",
    "cols1 = list(map (lambda x: x+\"_M\", d1s.columns))\n",
    "cols2 = list(map (lambda x: x+\"_F\", d2s.columns))\n",
    "dm.columns = (*cols1,*cols2)"
   ]
  },
  {
   "cell_type": "code",
   "execution_count": null,
   "metadata": {
    "scrolled": false
   },
   "outputs": [],
   "source": [
    "painter = figureTSFromFrame(dm)\n",
    "colOpts = {'dc_F': {\"c\":\"r\",\"marker\":\"v\"},  \n",
    "           'dc_M': {\"c\":\"b\",\"marker\":\"v\"},\n",
    "           'rea_F': {\"c\":\"r\",\"marker\":\"o\", \"linestyle\":\"--\"},  \n",
    "           'rea_M': {\"c\":\"b\",\"marker\":\"o\", \"linestyle\":\"--\"},\n",
    "           'rad_F': {\"marker\":\"+\"},\n",
    "           'rad_M': {\"marker\":\"+\"}\n",
    "          }\n",
    "painter.doPlotBycol()\n",
    "painter.setAttrs(colOpts = colOpts,\n",
    "                    xlabel  = f\"Days since {painter.dt[0]}\",\n",
    "               title=\"Whole France\\ / Hospital\\n Male / Female\\n:Daily patient status (ICU,Hosp) / Accumulated (discharged, dead)\",\n",
    "               legend=True    ) \n",
    "display(meta_Hosp[[ \"Colonne\",\"Description_EN\" ]])\n",
    "ImgMgr.save_fig(\"FIG065\")"
   ]
  },
  {
   "cell_type": "code",
   "execution_count": null,
   "metadata": {
    "scrolled": false
   },
   "outputs": [],
   "source": [
    "cols = [ c for c in dm.columns if c not in ('rad_F','rad_M')]\n",
    "painter = figureTSFromFrame(dm[cols].iloc[-nbLastDays:,:])\n",
    "colOpts = {'dc_F': {\"c\":\"r\",\"marker\":\"v\"},  \n",
    "           'dc_M': {\"c\":\"b\",\"marker\":\"v\"},\n",
    "           'rea_F': {\"c\":\"r\",\"marker\":\"o\", \"linestyle\":\"--\"},  \n",
    "           'rea_M': {\"c\":\"b\",\"marker\":\"o\", \"linestyle\":\"--\"},\n",
    "           'rad_F': {\"marker\":\"+\"},\n",
    "           'rad_M': {\"marker\":\"+\"}\n",
    "          }\n",
    "painter.doPlotBycol()\n",
    "painter.setAttrs(colOpts = colOpts,\n",
    "                    xlabel  = f\"Days since {painter.dt[0]}\",\n",
    "               title=\"Whole France\\ / Hospital\\n Male / Female\\n:Daily patient status (ICU,Hosp) / Accumulated (dead)\",\n",
    "               legend=True    ) \n",
    "display(meta_Hosp[[ \"Colonne\",\"Description_EN\" ]])\n",
    "ImgMgr.save_fig(\"FIG066\")"
   ]
  },
  {
   "cell_type": "markdown",
   "metadata": {},
   "source": [
    "### Now analyze hospital data according to age\n",
    "For now the data available in table `data_hospAge` covers a small number of days.... hopefully this may improve, either by more earlier data becoming available, or just by more data being collected day after day!\n",
    "\n",
    "This has been modified to handle bad data quality occurring recently; probably not a good solution, just removing duplicate entries, need to check whether dates are still meaningful! Bad data has been occurring only\n",
    "around July 4th, still hope that later versions will clear this!"
   ]
  },
  {
   "cell_type": "code",
   "execution_count": null,
   "metadata": {
    "scrolled": true
   },
   "outputs": [],
   "source": [
    "data_hosp_RegAge=data_hospAge.set_index([\"reg\",\"jour\",'cl_age90'])\n",
    "ddd= data_hosp_RegAge[ data_hosp_RegAge.index.get_level_values(2)!=0 ]\n",
    "\n",
    "# We may have multiple entries for same day, this is an issue in the way\n",
    "# this table is made up. For now, seems that best strategy is to sum!\n",
    "# We keep track of previous strategy which was to arbitrarily select a value among duplicate indices,\n",
    "# therefore the if True\n",
    "if True:\n",
    "  dhRA = ddd.groupby(by=list(ddd.index.names)).sum().copy()\n",
    "  dhRAg = dhRA.unstack('cl_age90').groupby(\"jour\").sum()\n",
    "else:\n",
    "    # older strategy, kept for referral, parameter keep has several possible values\n",
    "    # remove duplicate entries, not performing selection between multiple values\n",
    "  duplic = ~ddd.duplicated(keep=False)\n",
    "  print( f\"Number of duplicated lines: {duplic.sum()} {duplic.sum()/duplic.size*100:.2f}%\")\n",
    "  dhRA = ddd[ duplic ].unstack('cl_age90')\n",
    "  dhRAg = dhRA.groupby(\"jour\").sum()\n",
    "    \n",
    "ageClasses = sorted(set(dhRAg.columns.get_level_values(1)))\n",
    "print(f\"age classes = {ageClasses}\")\n",
    "\n",
    "levCat = sorted(set(dhRAg.columns.get_level_values(0)))\n",
    "levAge = sorted(set(dhRAg.columns.get_level_values(1)))\n",
    "subnodeSpec=(lambda i,j:{\"nrows\":i,\"ncols\":j})(*subPlotShape(len(levAge),maxCol=6))\n",
    "\n",
    "print(f\"nb age classes:{len(levAge)}\\tsubnodeSpec:{subnodeSpec}\")\n",
    "if len(levAge) != len(ageClasses):\n",
    "    raise RuntimeError(\"Inconsistent values for number of age classes\")"
   ]
  },
  {
   "cell_type": "code",
   "execution_count": null,
   "metadata": {
    "scrolled": true
   },
   "outputs": [],
   "source": [
    "colOpts = {'dc':  {\"c\":\"b\",\"marker\":\"v\"},  \n",
    "           'rea': {\"c\":\"r\",\"marker\":\"o\", \"linestyle\":\"--\"},  \n",
    "           'rad':  {\"marker\":\"^\"},\n",
    "           'hosp': {\"marker\":\"+\"}\n",
    "          }"
   ]
  },
  {
   "cell_type": "code",
   "execution_count": null,
   "metadata": {
    "scrolled": false
   },
   "outputs": [],
   "source": [
    "painter = figureTSFromFrame(None, subplots=subnodeSpec, figsize=(15,15))\n",
    "for i in range(len(levAge)):\n",
    "    cat = ageClasses[i]\n",
    "    if cat < 90:\n",
    "        title = f\"Age {cat-9}-{cat}\"\n",
    "    else: \n",
    "        title = \"Age 90+\"\n",
    "        \n",
    "    dfExtract = dhRAg.loc(axis=1)[:,cat]\n",
    "    # remove the now redundant information labeled 'cl_age90'\n",
    "    dfExtract.columns = dfExtract.columns.levels[0]\n",
    "    cols = [c for c in dfExtract.columns  if c != 'rad']\n",
    "    painter.doPlotBycol(dfExtract[cols]);\n",
    "    painter.setAttrs(colOpts = colOpts,\n",
    "                     xlabel  = f\"Days since {painter.dt[0]}\",\n",
    "                     title   = title,\n",
    "                     legend  = True    ) \n",
    "    \n",
    "    \n",
    "    painter.advancePlotIndex()\n",
    "\n",
    "display(meta_Hosp[[ \"Colonne\",\"Description_EN\" ]])\n",
    "ImgMgr.save_fig(\"FIG067\")"
   ]
  },
  {
   "cell_type": "code",
   "execution_count": null,
   "metadata": {
    "scrolled": false
   },
   "outputs": [],
   "source": [
    "painter = figureTSFromFrame(None, subplots=subnodeSpec, figsize=(15,15))\n",
    "for i in range(len(levAge)):\n",
    "    cat = ageClasses[i]\n",
    "    if cat < 90:\n",
    "        title = f\"Age {cat-9}-{cat}\"\n",
    "    else: \n",
    "        title = \"Age 90+\"\n",
    "        \n",
    "    dfExtract = dhRAg.loc(axis=1)[:,cat]\n",
    "    # remove the now redundant information labeled 'cl_age90'\n",
    "    dfExtract.columns = dfExtract.columns.levels[0]\n",
    "    cols = [c for c in dfExtract.columns  if c != 'rad']\n",
    "    painter.doPlotBycol(dfExtract[cols].iloc[-nbLastDays:,:]);\n",
    "    painter.setAttrs(colOpts = colOpts,\n",
    "                     xlabel  = f\"Days since {painter.dt[0]}\",\n",
    "                     title   = title,\n",
    "                     legend  = True    ) \n",
    "    \n",
    "    \n",
    "    painter.advancePlotIndex()\n",
    "\n",
    "display(meta_Hosp[[ \"Colonne\",\"Description_EN\" ]])\n",
    "ImgMgr.save_fig(\"FIG068\")"
   ]
  },
  {
   "cell_type": "markdown",
   "metadata": {},
   "source": [
    "## Testing : Laboratory data\n",
    "\n",
    "This concerns testing (I have not found the meta data yet, but column labels are clear enough).\n",
    "The `data_dailyLab` data is split between age classes and departements."
   ]
  },
  {
   "cell_type": "code",
   "execution_count": null,
   "metadata": {},
   "outputs": [],
   "source": [
    "todayStr = datetime.date.today().isoformat()    # handle a data error that appeared on 5/5/2020"
   ]
  },
  {
   "cell_type": "code",
   "execution_count": null,
   "metadata": {
    "scrolled": false
   },
   "outputs": [],
   "source": [
    "msk=d=data_dailyLab.loc[:,\"jour\"]<=todayStr      #there is an error in the version of the data distrib 05/05/2020\n",
    "dl=data_dailyLab.loc[msk,:]\n",
    "dlGr = dl.loc[dl[\"clage_covid\"]==\"0\"].groupby('jour').sum()\n",
    "\n",
    "painter = figureTSFromFrame(dlGr)\n",
    "colOpts = {'nb_test': {\"c\":\"b\", \"marker\":\"*\"},  \n",
    "           'nb_pos':  {\"c\":\"r\", \"marker\":\"+\"},\n",
    "           'nb_test_h': {\"c\":\"b\",\"marker\":\"o\", \"linestyle\":\"--\"},  \n",
    "           'nb_test_f': {\"c\":\"g\",\"marker\":\"o\", \"linestyle\":\"--\"},\n",
    "           'nb_pos_h': {\"c\":\"b\", \"marker\":\"+\"},\n",
    "           'nb_pos_f': {\"c\":\"g\", \"marker\":\"+\"}\n",
    "          }\n",
    "painter.doPlotBycol()\n",
    "painter.setAttrs(colOpts = colOpts,\n",
    "                    xlabel  = f\"Days since {painter.dt[0]}\",\n",
    "               title=\"Whole France laboratory: tested, positive for male(h) and female(f)\",\n",
    "               legend=True    ) \n",
    "\n",
    "ImgMgr.save_fig(\"FIG080\")"
   ]
  },
  {
   "cell_type": "code",
   "execution_count": null,
   "metadata": {
    "scrolled": true
   },
   "outputs": [],
   "source": [
    "dlGr.describe()"
   ]
  },
  {
   "cell_type": "markdown",
   "metadata": {},
   "source": [
    "Analyze laboratory data according to age"
   ]
  },
  {
   "cell_type": "code",
   "execution_count": null,
   "metadata": {
    "scrolled": true
   },
   "outputs": [],
   "source": [
    "data_dailyLab.columns\n",
    "dataDLab = data_dailyLab.loc[msk,:].copy()"
   ]
  },
  {
   "cell_type": "code",
   "execution_count": null,
   "metadata": {
    "scrolled": true
   },
   "outputs": [],
   "source": [
    "dataDLab=dataDLab.set_index([\"dep\",\"jour\",'clage_covid'])\n",
    "dhRA = dataDLab[ dataDLab.index.get_level_values(2)!='0' ].unstack('clage_covid')\n",
    "dhRAg = dhRA.groupby(\"jour\").sum()"
   ]
  },
  {
   "cell_type": "code",
   "execution_count": null,
   "metadata": {
    "scrolled": true
   },
   "outputs": [],
   "source": [
    "ageClasses = sorted(set(dhRAg.columns.get_level_values(1)))\n",
    "print(f\"age classes = {ageClasses}\")\n",
    "\n",
    "levCat = sorted(set(dhRA.columns.get_level_values(0)))\n",
    "levAge = sorted(set(dhRA.columns.get_level_values(1)))\n",
    "subnodeSpec=(lambda i,j:{\"nrows\":i,\"ncols\":j})(*subPlotShape(len(levAge),maxCol=6))\n",
    "\n",
    "print(f\"nb age classes:{len(levAge)}\\tsubnodeSpec:{subnodeSpec}\")\n",
    "if len(levAge) != len(ageClasses):\n",
    "    raise RuntimeError(\"Inconsistent values for number of age classes\")"
   ]
  },
  {
   "cell_type": "code",
   "execution_count": null,
   "metadata": {
    "scrolled": true
   },
   "outputs": [],
   "source": [
    "colOpts = {'nb_test': {\"c\":\"b\", \"marker\":\"*\"},  \n",
    "           'nb_pos':  {\"c\":\"r\", \"marker\":\"+\"},\n",
    "           'nb_test_h': {\"c\":\"b\",\"marker\":\"o\", \"linestyle\":\"--\"},  \n",
    "           'nb_test_f': {\"c\":\"g\",\"marker\":\"o\", \"linestyle\":\"--\"},\n",
    "           'nb_pos_h': {\"c\":\"b\", \"marker\":\"+\"},\n",
    "           'nb_pos_f': {\"c\":\"g\", \"marker\":\"+\"}\n",
    "          }"
   ]
  },
  {
   "cell_type": "code",
   "execution_count": null,
   "metadata": {
    "scrolled": false
   },
   "outputs": [],
   "source": [
    "painter = figureTSFromFrame(None, subplots=subnodeSpec, figsize=(15,15))\n",
    "for i in 'ABCDE':\n",
    "    cat = meta_Ages.loc[meta_Ages.iloc[:,0]==i].iloc[:,1].values[0]\n",
    "    title = f\"Labo Tests\\nAge: {cat}\"\n",
    "\n",
    "    dfExtract = dhRAg.loc(axis=1)[:,i]\n",
    "    # remove the now redundant information labeled 'cl_age90'\n",
    "    dfExtract.columns = dfExtract.columns.levels[0]\n",
    "    painter.doPlotBycol(dfExtract);\n",
    "    \n",
    "    painter.setAttrs(colOpts = colOpts,\n",
    "                     xlabel  = f\"Days since {painter.dt[0]}\",\n",
    "                     title   = title,\n",
    "                     legend  = True    ) \n",
    "    \n",
    "    \n",
    "    painter.advancePlotIndex()\n",
    "\n",
    "display(meta_Ages)\n",
    "ImgMgr.save_fig(\"FIG082\")"
   ]
  },
  {
   "cell_type": "markdown",
   "metadata": {},
   "source": [
    "# Merge COVID and demographics data\n",
    "See the `Pop-Data-FromGouv.ipynb` notebook for more details on the demographics data obtained from\n",
    "INSEE (https://www.insee.fr/fr/accueil). "
   ]
  },
  {
   "cell_type": "markdown",
   "metadata": {},
   "source": [
    "Prepare the data for a database style join/merge, documented on https://pandas.pydata.org/pandas-docs/stable/user_guide/merging.html.\n",
    "First we need to establish \"dep\" as an index in hospital data: "
   ]
  },
  {
   "cell_type": "code",
   "execution_count": null,
   "metadata": {
    "scrolled": true
   },
   "outputs": [],
   "source": [
    "hndDf = data_hospNouveau.copy()\n",
    "hndDf.set_index(\"dep\");"
   ]
  },
  {
   "cell_type": "markdown",
   "metadata": {},
   "source": [
    "Then we extract the demographic information and set index \"dep\" "
   ]
  },
  {
   "cell_type": "code",
   "execution_count": null,
   "metadata": {
    "scrolled": true
   },
   "outputs": [],
   "source": [
    "depStats = inseeDep.iloc[:,[2,3,7,8]].copy()\n",
    "cols = depStats.columns.values\n",
    "cols[0]=\"dep\"\n",
    "depStats.columns = cols\n",
    "depStats.set_index(\"dep\");"
   ]
  },
  {
   "cell_type": "markdown",
   "metadata": {},
   "source": [
    "Now we perform the merge, and group by date and 'départements': "
   ]
  },
  {
   "cell_type": "code",
   "execution_count": null,
   "metadata": {
    "scrolled": true
   },
   "outputs": [],
   "source": [
    "hndMerged = PAN.merge(hndDf,depStats, on=\"dep\" ) \n",
    "hndGrMerged=hndMerged.groupby([\"jour\",\"dep\"]).sum()"
   ]
  },
  {
   "cell_type": "markdown",
   "metadata": {},
   "source": [
    "For now, look at daily statistics normalized by concerned population (unit= event per million people)"
   ]
  },
  {
   "cell_type": "code",
   "execution_count": null,
   "metadata": {
    "scrolled": true
   },
   "outputs": [],
   "source": [
    "hndGMJour = hndGrMerged.groupby(\"jour\").sum()\n",
    "colLabs = (\"incid_hosp\", \"incid_rea\", \"incid_dc\", \"incid_rad\")\n",
    "for lab in colLabs:\n",
    "    hndGMJour[lab+\"_rate\"] = hndGMJour[lab]/hndGMJour[\"Population totale\"]*1.0e6"
   ]
  },
  {
   "cell_type": "markdown",
   "metadata": {},
   "source": [
    "And the graph can be readily generated:"
   ]
  },
  {
   "cell_type": "code",
   "execution_count": null,
   "metadata": {
    "scrolled": false
   },
   "outputs": [],
   "source": [
    "ncolLabs = list ( x+\"_rate\" for x in colLabs)\n",
    "df=hndGMJour.loc[:,ncolLabs]\n",
    "colOpts = {'incid_dc_rate'  : {\"c\":\"b\",\"marker\":\"v\"},  \n",
    "           'incid_rea_rate' : {\"c\":\"r\",\"marker\":\"o\", \"linestyle\":\"--\"},\n",
    "           'incid_rad_rate' : {\"marker\":\"+\"},\n",
    "           'incid_hosp_rate': {\"marker\":\"*\"}\n",
    "          }\n",
    "\n",
    "painter = figureTSFromFrame(df)\n",
    "painter.doPlot()\n",
    "painter.setAttrs(colOpts=colOpts,\n",
    "                 xlabel=f\"Days since {painter.dt[0]}\", \n",
    "                 ylabel=\"Events per million people\",\n",
    "                 title=\"Whole France (Hospital)\\nDaily variation in patient status\",\n",
    "                 legend=True  ) \n",
    "\n",
    "PAN.set_option('display.max_colwidth', None)\n",
    "display(meta_HospIncid[[ \"Colonne\",\"Description_EN\" ]])\n",
    "ImgMgr.save_fig(\"FIG085\")"
   ]
  },
  {
   "cell_type": "code",
   "execution_count": null,
   "metadata": {
    "scrolled": false
   },
   "outputs": [],
   "source": [
    "ncolLabs = list ( x+\"_rate\" for x in colLabs)\n",
    "df=hndGMJour.loc[:,ncolLabs]\n",
    "colOpts = {'incid_dc_rate'  : {\"c\":\"b\",\"marker\":\"v\"},  \n",
    "           'incid_rea_rate' : {\"c\":\"r\",\"marker\":\"o\", \"linestyle\":\"--\"},\n",
    "           'incid_rad_rate' : {\"marker\":\"+\"},\n",
    "           'incid_hosp_rate': {\"marker\":\"*\"}\n",
    "          }\n",
    "\n",
    "painter = figureTSFromFrame(df.iloc[-nbLastDays:,:])\n",
    "painter.doPlot()\n",
    "painter.setAttrs(colOpts=colOpts,\n",
    "                 xlabel=f\"Days since {painter.dt[0]}\", \n",
    "                 ylabel=\"Events per million people\",\n",
    "                 title=\"Whole France (Hospital)\\nDaily variation in patient status\",\n",
    "                 legend=True  ) \n",
    "\n",
    "PAN.set_option('display.max_colwidth', None)\n",
    "display(meta_HospIncid[[ \"Colonne\",\"Description_EN\" ]])\n",
    "ImgMgr.save_fig(\"FIG086\")"
   ]
  },
  {
   "cell_type": "markdown",
   "metadata": {},
   "source": [
    "Now we can do the same exercise keeping the 'département' information around:"
   ]
  },
  {
   "cell_type": "code",
   "execution_count": null,
   "metadata": {
    "scrolled": true
   },
   "outputs": [],
   "source": [
    "hndGMDepJour = hndGrMerged.iloc[:,[0,1,2,3,5]].copy()"
   ]
  },
  {
   "cell_type": "code",
   "execution_count": null,
   "metadata": {
    "scrolled": true
   },
   "outputs": [],
   "source": [
    "colLabs = (\"incid_hosp\", \"incid_rea\", \"incid_dc\", \"incid_rad\")\n",
    "for lab in colLabs:\n",
    "    hndGMDepJour[lab+\"_rate\"] = hndGMDepJour[lab]/hndGMDepJour[\"Population totale\"]*1.0e6"
   ]
  },
  {
   "cell_type": "code",
   "execution_count": null,
   "metadata": {},
   "outputs": [],
   "source": [
    "cols=list(hndMerged.columns)\n",
    "cols[6]=\"depL\"\n",
    "hndMerged.columns=cols"
   ]
  },
  {
   "cell_type": "markdown",
   "metadata": {},
   "source": [
    "### Look at the distribution accross areas ('departements')\n"
   ]
  },
  {
   "cell_type": "markdown",
   "metadata": {},
   "source": [
    "### A first  look at departmental data"
   ]
  },
  {
   "cell_type": "code",
   "execution_count": null,
   "metadata": {},
   "outputs": [],
   "source": [
    "hndMerged[\"date\"] = PAN.to_datetime(hndMerged.loc[:,\"jour\"], format=\"%Y/%m/%d\")\n",
    "dateStart = hndMerged[\"date\"].min()\n",
    "dateEnd   = hndMerged[\"date\"].max() \n",
    "dateSpan  = dateEnd - dateStart \n",
    "print(f\"Our statistics span {dateSpan.days+1} days, start: {dateStart} and end {dateEnd}\")\n",
    "\n",
    "hndMerged[\"elapsedDays\"] = (hndMerged[\"date\"] - dateStart).dt.days"
   ]
  },
  {
   "cell_type": "code",
   "execution_count": null,
   "metadata": {},
   "outputs": [],
   "source": [
    "dtx = hndMerged[ hndMerged[\"Population totale\"] > 1.0e6 ]\n",
    "dtg = dtx.groupby(\"dep\")\n",
    "subnodeSpec=(lambda i,j:{\"nrows\":i,\"ncols\":j})(*subPlotShape(len(dtg),maxCol=4, colFirst=False))"
   ]
  },
  {
   "cell_type": "code",
   "execution_count": null,
   "metadata": {},
   "outputs": [],
   "source": [
    "painter = figureFromFrame(None, subplots=subnodeSpec, figsize=(15,20))\n",
    "for (departement,dfExtractOrig) in dtg :\n",
    "    pop = dfExtractOrig[\"Population totale\"].iloc[0]\n",
    "    depL = dfExtractOrig[\"depL\"].iloc[0]\n",
    "    print(f\"Departement={depL}, pop:{pop/1.0E6}M\")\n",
    "    dfExtract = dfExtractOrig.set_index(\"elapsedDays\").copy()\n",
    "    dfExtract.loc[:,\"cumhosp\"] = dfExtract.loc[:,\"incid_hosp\"].sort_index().cumsum()/dfExtract.loc[:,\"Population totale\"]*1.0E6\n",
    "    dfExtract.loc[:,\"cumdeaths\"] = dfExtract.loc[:,\"incid_dc\"].sort_index().cumsum()/dfExtract.loc[:,\"Population totale\"]*1.0E6\n",
    "    dfExtract.loc[:,\"hosp\"] = dfExtract.loc[:,\"incid_hosp\"]/dfExtract.loc[:,\"Population totale\"]*1.0E6\n",
    "    dfExtract.loc[:,\"deaths\"] = dfExtract.loc[:,\"incid_dc\"]/dfExtract.loc[:,\"Population totale\"]*1.0E6\n",
    "    painter.doPlot(df = dfExtract.loc[:,[\"hosp\",\"deaths\",\"cumhosp\",\"cumdeaths\"]])\n",
    "    painter.setAttrs(label=f\"Days since {dateStart}\",\n",
    "                 title=f\"Data from Data.Gouv.Fr: {depL}\",\n",
    "                 legend=True,\n",
    "                 xlabel=f\"Days since {dateStart}\",\n",
    "                 ylabel=\"Events per million population\"   )\n",
    "        \n",
    "    painter.advancePlotIndex()  \n",
    "ImgMgr.save_fig(\"FIG090\")  "
   ]
  },
  {
   "cell_type": "code",
   "execution_count": null,
   "metadata": {},
   "outputs": [],
   "source": [
    "painter = figureFromFrame(None, subplots=subnodeSpec, figsize=(15,20))\n",
    "for (departement,dfExtractOrig) in dtg :\n",
    "    pop = dfExtractOrig[\"Population totale\"].iloc[0]\n",
    "    depL = dfExtractOrig[\"depL\"].iloc[0]\n",
    "    print(f\"Departement={depL}, pop:{pop/1.0E6}M\")\n",
    "    dfExtract = dfExtractOrig.set_index(\"elapsedDays\").copy()\n",
    "    #dfExtract.loc[:,\"cumhosp\"] = dfExtract.loc[:,\"incid_hosp\"].sort_index().cumsum()/dfExtract.loc[:,\"Population totale\"]*1.0E6\n",
    "    dfExtract.loc[:,\"cumdeaths\"] = dfExtract.loc[:,\"incid_dc\"].sort_index().cumsum()/dfExtract.loc[:,\"Population totale\"]*1.0E6\n",
    "    dfExtract.loc[:,\"hosp\"] = dfExtract.loc[:,\"incid_hosp\"]/dfExtract.loc[:,\"Population totale\"]*1.0E6\n",
    "    dfExtract.loc[:,\"deaths\"] = dfExtract.loc[:,\"incid_dc\"]/dfExtract.loc[:,\"Population totale\"]*1.0E6\n",
    "    painter.doPlot(df = dfExtract.loc[:,[\"hosp\",\"deaths\", \"cumdeaths\"]])\n",
    "    painter.setAttrs(label=f\"Days since {dateStart}\",\n",
    "                 title=f\"Data from Data.Gouv.Fr: {depL}\",\n",
    "                 legend=True,\n",
    "                 xlabel=f\"Days since {dateStart}\",\n",
    "                 ylabel=\"Events per million population\"   )\n",
    "        \n",
    "    painter.advancePlotIndex()  \n",
    "ImgMgr.save_fig(\"FIG091\")  "
   ]
  },
  {
   "cell_type": "code",
   "execution_count": null,
   "metadata": {},
   "outputs": [],
   "source": [
    "painter = figureFromFrame(None, subplots=subnodeSpec, figsize=(15,20))\n",
    "for (departement,dfExtractOrig) in dtg :\n",
    "    pop = dfExtractOrig[\"Population totale\"].iloc[0]\n",
    "    depL = dfExtractOrig[\"depL\"].iloc[0]\n",
    "    print(f\"Departement={depL}, pop:{pop/1.0E6}M\")\n",
    "    dfExtract = dfExtractOrig.set_index(\"elapsedDays\").copy()\n",
    "    dfExtract.loc[:,\"cumhosp\"] = dfExtract.loc[:,\"incid_hosp\"].sort_index().cumsum()/dfExtract.loc[:,\"Population totale\"]*1.0E6\n",
    "    dfExtract.loc[:,\"cumdeaths\"] = dfExtract.loc[:,\"incid_dc\"].sort_index().cumsum()/dfExtract.loc[:,\"Population totale\"]*1.0E6\n",
    "    dfExtract.loc[:,\"hosp\"] = dfExtract.loc[:,\"incid_hosp\"]/dfExtract.loc[:,\"Population totale\"]*1.0E6\n",
    "    dfExtract.loc[:,\"deaths\"] = dfExtract.loc[:,\"incid_dc\"]/dfExtract.loc[:,\"Population totale\"]*1.0E6\n",
    "    painter.doPlot(df = dfExtract.loc[:,[\"hosp\",\"deaths\",\"cumhosp\",\"cumdeaths\"]], \n",
    "                   colOpts={\"hosp\": {\"yscale\":'log'},\n",
    "                          \"deaths\": {\"yscale\":'log'},\n",
    "                          \"cumhosp\": {\"yscale\":'log'},\n",
    "                          \"cumdeaths\": {\"yscale\":'log'},})\n",
    "    painter.setAttrs(label=f\"Days since {dateStart}\",\n",
    "                 title=f\"Data from Data.Gouv.Fr: {depL}\",\n",
    "                 legend=True,\n",
    "                 xlabel=f\"Days since {dateStart}\",\n",
    "                 ylabel=\"Events per million population\"\n",
    "                 )\n",
    "        \n",
    "    painter.advancePlotIndex()  \n",
    "ImgMgr.save_fig(\"FIG095\")  "
   ]
  },
  {
   "cell_type": "code",
   "execution_count": null,
   "metadata": {},
   "outputs": [],
   "source": []
  }
 ],
 "metadata": {
  "kernelspec": {
   "display_name": "Python 3",
   "language": "python",
   "name": "python3"
  },
  "language_info": {
   "codemirror_mode": {
    "name": "ipython",
    "version": 3
   },
   "file_extension": ".py",
   "mimetype": "text/x-python",
   "name": "python",
   "nbconvert_exporter": "python",
   "pygments_lexer": "ipython3",
   "version": "3.8.2"
  }
 },
 "nbformat": 4,
 "nbformat_minor": 2
}
