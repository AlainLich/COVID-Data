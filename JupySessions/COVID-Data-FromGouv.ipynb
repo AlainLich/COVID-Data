{
 "cells": [
  {
   "cell_type": "markdown",
   "metadata": {},
   "source": [
    "#  Simple tool to analyze data from www.data.gouv.fr\n",
    "\n",
    "\n",
    "## Web Sources\n",
    "https://www.data.gouv.fr/en/datasets/donnees-des-urgences-hospitalieres-et-de-sos-medecins-relatives-a-lepidemie-de-covid-19/\n",
    "\n",
    "https://www.data.gouv.fr/fr/datasets/donnees-hospitalieres-relatives-a-lepidemie-de-covid-19/\n"
   ]
  },
  {
   "cell_type": "markdown",
   "metadata": {},
   "source": [
    "# Libraries"
   ]
  },
  {
   "cell_type": "code",
   "execution_count": null,
   "metadata": {},
   "outputs": [],
   "source": [
    "# Sys import\n",
    "import sys, os, re\n",
    "# Common imports\n",
    "import numpy             as NP\n",
    "import numpy.random      as RAND\n",
    "import scipy.stats       as STATS\n",
    "from scipy import sparse\n",
    "from scipy import linalg\n",
    "\n",
    "# Better formatting functions\n",
    "from IPython.display import display, HTML\n",
    "\n",
    "import matplotlib        as MPL\n",
    "import matplotlib.pyplot as PLT\n",
    "import seaborn as SNS\n",
    "SNS.set(font_scale=1)\n",
    "\n",
    "# Python programming\n",
    "from itertools import cycle\n",
    "from time import time\n",
    "import datetime\n",
    "\n",
    "# Using pandas\n",
    "import pandas as PAN\n",
    "import xlrd"
   ]
  },
  {
   "cell_type": "code",
   "execution_count": null,
   "metadata": {},
   "outputs": [],
   "source": [
    "import warnings\n",
    "warnings.filterwarnings('ignore')\n",
    "print(\"For now, reduce python warnings, I will look into this later\")"
   ]
  },
  {
   "cell_type": "markdown",
   "metadata": {},
   "source": [
    "##  Save figures"
   ]
  },
  {
   "cell_type": "code",
   "execution_count": null,
   "metadata": {},
   "outputs": [],
   "source": [
    "class ImageMgr(object):\n",
    "    def __init__(self, rootdir=\".\", chapdir=\"DefaultChap\", imgtype=\"jpg\"):\n",
    "       \n",
    "         self.PROJECT_ROOT_DIR = rootdir\n",
    "         self.CHAPTER_ID=chapdir\n",
    "         self.imgtype=\".\"+imgtype\n",
    "            \n",
    "    def save_fig(self, fig_id, tight_layout=True):\n",
    "       \"Save the current figure\"\n",
    "       path = os.path.join(self.PROJECT_ROOT_DIR, \"images\", self.CHAPTER_ID, fig_id + self.imgtype)\n",
    "       print(\"Saving figure\", fig_id)\n",
    "       if tight_layout:\n",
    "          PLT.tight_layout()\n",
    "       PLT.savefig(path, format='png', dpi=300)\n",
    "\n"
   ]
  },
  {
   "cell_type": "markdown",
   "metadata": {},
   "source": [
    "## Check environment\n",
    "\n",
    "It is expected that your working directory is named `JupySessions`, that it has subdirectories `images/*` \n",
    "where generated images may be stored to avoid overcrowding. At the same level as your working dir\n",
    "there should be directories `../data` for storing input data and `../source` for python scripts, libraries,..."
   ]
  },
  {
   "cell_type": "code",
   "execution_count": null,
   "metadata": {},
   "outputs": [],
   "source": [
    "def checkSetup(chap = None):\n",
    "    cwd = os.getcwd()\n",
    "    dp, dir = os.path.split(cwd)\n",
    "    if ( dir != 'JupySessions'):\n",
    "       raise(RuntimeError(\"Installation incorrect, check that this executes in 'JupySessions' \"))\n",
    "    # Check subdirectory f'JupySessions/images/{chap}'\n",
    "    if chap:\n",
    "        img = os.path.join(dp,  'JupySessions', 'images', chap)\n",
    "        if (not os.path.exists( img)):\n",
    "          raise(RuntimeError(\"Installation incorrect, check that image dir exists at '%s'\" % img ))\n",
    "    # now check that the expected subdirectories are where expected\n",
    "    for d in ('data','source'):\n",
    "       ddir = os.path.join(dp,  d)\n",
    "       if (not os.path.exists( ddir)):\n",
    "          raise(RuntimeError(\"Installation incorrect, check that  dir '%s' exists at '%s'\" % (d,ddir )))"
   ]
  },
  {
   "cell_type": "code",
   "execution_count": null,
   "metadata": {},
   "outputs": [],
   "source": [
    "checkSetup(chap=\"Chap01\")\n",
    "ImgMgr = ImageMgr(chapdir=\"Chap01\")"
   ]
  },
  {
   "cell_type": "markdown",
   "metadata": {},
   "source": [
    "# Load Data"
   ]
  },
  {
   "cell_type": "markdown",
   "metadata": {},
   "source": [
    "## Functions"
   ]
  },
  {
   "cell_type": "code",
   "execution_count": null,
   "metadata": {},
   "outputs": [],
   "source": [
    "def read_csvPandas(fname,clearNaN=False, **kwargs):\n",
    "    \"\"\" Read a csv file, all keywords arguments permitted for pandas.read_csv \n",
    "        will be honored\n",
    "    \"\"\"\n",
    "    df = PAN.read_csv(fname,**kwargs)\n",
    "    if clearNaN:\n",
    "        return df.dropna(how=\"all\").dropna(axis=1)\n",
    "    return df"
   ]
  },
  {
   "cell_type": "code",
   "execution_count": null,
   "metadata": {},
   "outputs": [],
   "source": [
    "def read_xlsxPandas(fname,clearNaN=False, **kwargs):\n",
    "    \"\"\" Read a xlsx file, all keywords arguments permitted for pandas.read_csv \n",
    "        will be honored\n",
    "    \"\"\"\n",
    "    df = PAN.read_excel(fname,**kwargs)\n",
    "    if clearNaN:\n",
    "        return df.dropna(how=\"all\").dropna(axis=1)\n",
    "    return df"
   ]
  },
  {
   "cell_type": "code",
   "execution_count": null,
   "metadata": {},
   "outputs": [],
   "source": [
    "class manageDataFileVersions(object):\n",
    "    \"\"\" For each file name in directory, find which are different versions of same as \n",
    "        indicated in the file name with pattern yyyy-mm-dd-HHhMM, \n",
    "    \"\"\"\n",
    "    def __init__(self, dirpath=\"../data\"):\n",
    "        \"dirpath is path relative current working directory\"\n",
    "        self.dirpath = dirpath\n",
    "        if not os.path.isdir(dirpath):\n",
    "            raise RuntimeError(f\"Path {dirpath} not directory\")\n",
    "        self._walk()\n",
    "    datedFileRex = re.compile(\"\"\"^(?P<hdr>.*[^\\d])\n",
    "    (?P<year>\\d+)-(?P<month>\\d+)-(?P<day>\\d+)  # Year\n",
    "    -(?P<hour>\\d+)h(?P<minute>\\d+)             # Time\n",
    "    (?P<ftr>.*)$\"\"\", re.VERBOSE)    \n",
    "    \n",
    "    def _walk(self):\n",
    "        lfiles = os.listdir(self.dirpath)\n",
    "        filDir={}\n",
    "        genDir={}\n",
    "        for lf in lfiles:\n",
    "            mobj = manageDataFileVersions.datedFileRex.match(lf)\n",
    "            if mobj:\n",
    "               fls = ( int(mobj.groupdict()[z]) for z in  ('year', 'month', 'day','hour','minute') )\n",
    "               date = datetime.datetime( *fls )\n",
    "               gen  =  \"!\".join(map (lambda x: mobj.groupdict()[x] , (\"hdr\",\"ftr\")))\n",
    "               filDir[lf]=(gen,date)\n",
    "               if gen in genDir:\n",
    "                    if date > genDir[gen][0]:\n",
    "                        genDir[gen] = (date,lf)\n",
    "               else:\n",
    "                    genDir[gen]= (date,lf, self.dirpath+\"/\"+lf)\n",
    "        self.filDir = filDir\n",
    "        self.genDir = genDir\n",
    "        \n",
    "    def listMostRecent(self):\n",
    "        return sorted([  k[1]   for k in self.genDir.values()])\n",
    "    \n",
    "    def getRecentVersion(self,file, default=None):\n",
    "        if file not in self.filDir:\n",
    "            if not default:\n",
    "               raise RuntimeError(f\"Unexpected file:'{file}'\")\n",
    "            elif default is True:\n",
    "                return file\n",
    "            else:\n",
    "                return default\n",
    "        else:\n",
    "                return self.genDir[self.filDir[file][0]][1]\n",
    "    "
   ]
  },
  {
   "cell_type": "code",
   "execution_count": null,
   "metadata": {},
   "outputs": [],
   "source": [
    "def setDefaults(dict, optDict, defaultDict):\n",
    "    for (k,v) in optDict.items():\n",
    "        dict[k] = v\n",
    "    for  (k,v) in defaultDict.items():\n",
    "        if k not in dict:\n",
    "            dict[k] = v"
   ]
  },
  {
   "cell_type": "code",
   "execution_count": null,
   "metadata": {},
   "outputs": [],
   "source": [
    "class  figureTSFromFrame(object):\n",
    "    \"\"\"Make a figure from a time series from a DataFrame; \n",
    "          it is expected that the row index are dates in string.\n",
    "          These are converted into the elapsed days from start of table, and represented\n",
    "          in DateTime format.\n",
    "          Keywords listed in defaultOpts are honored.\n",
    "    \"\"\"\n",
    "    defaultOpts = {\"dateFmt\":'%Y-%m-%d', \"figsize\":(10,10)}\n",
    "    def __init__(self, df, **kwdOpts):\n",
    "        self.df   = df.copy()\n",
    "        self.optd = {}\n",
    "        setDefaults(self.optd, kwdOpts, figureTSFromFrame.defaultOpts)\n",
    "        self._dtToElapsed()\n",
    "        \n",
    "    def _dtToElapsed(self):\n",
    "        self.df.origIndex = self.df.index\n",
    "        self.dt = PAN.to_datetime(self.df.index, format=self.optd[\"dateFmt\"]  )\n",
    "        self.elapsedDays = self.dt - self.dt[0]\n",
    "        self.df.index = self.elapsedDays.days\n",
    "        \n",
    "    def doPlot(self, **kwdOpts):   \n",
    "        PLT.figure(figsize=self.optd[\"figsize\"])\n",
    "        PLT.plot(self.df);\n",
    "        self._plotKwd(kwdOpts)\n",
    "        \n",
    "    def doPlotBycol(self, colSel=None, colOpts = {}, **kwdOpts):\n",
    "        if colSel is None:\n",
    "           colSel = self.df.columns\n",
    "        chk = set(colSel)-set(self.df.columns)\n",
    "        if len(chk)>0:\n",
    "            raise RuntimeError(f\"Unexpected col names in colSel={chk}\")\n",
    "        \n",
    "        PLT.figure(figsize=self.optd[\"figsize\"])\n",
    "        for c in colSel:\n",
    "               if c in colOpts:\n",
    "                    optd = colOpts[c]\n",
    "               else:\n",
    "                    optd = {}\n",
    "               \n",
    "               PLT.plot(self.df.loc[:,c], **optd); \n",
    "        self._plotKwd(kwdOpts)\n",
    "        \n",
    "    def _plotKwd(self,kwdOpts):\n",
    "        # plots an axis label\n",
    "        if \"xlabel\" in kwdOpts:\n",
    "           PLT.xlabel(kwdOpts[\"xlabel\"]) \n",
    "        if \"ylabel\" in kwdOpts:\n",
    "           PLT.ylabel(kwdOpts[\"ylabel\"])\n",
    "        if \"title\" in kwdOpts:\n",
    "           PLT.title(kwdOpts[\"title\"])\n",
    "        # sets our legend for our graph.\n",
    "        if \"legend\"  in kwdOpts and kwdOpts[\"legend\"]:          \n",
    "           PLT.legend(self.df.columns,loc='best') ;"
   ]
  },
  {
   "cell_type": "markdown",
   "metadata": {},
   "source": [
    "Two examples of using this class is given below:\n",
    "- a simple one (the <ImgMgr> is defined above, it shows that the plot may be output to file)\n",
    "```\n",
    "painter = figureTSFromFrame(dfGr)\n",
    "painter.doPlot(xlabel=f\"Days since {painter.dt[0]}\",\n",
    "               title=\"Whole France/Data ER + SOS-medecin\\nAll age groups\",legend=True  )\n",
    "ImgMgr.save_fig(\"FIG002\")\n",
    "```\n",
    "\n",
    "- a more sophisticated case, where line styles are defined:    \n",
    "```\n",
    "painter = figureTSFromFrame(dm)\n",
    "colOpts = {'dc_F': {\"c\":\"r\",\"marker\":\"v\"},  \n",
    "           'dc_M': {\"c\":\"b\",\"marker\":\"v\"},\n",
    "           'rea_F': {\"c\":\"r\",\"marker\":\"o\", \"linestyle\":\"--\"},  \n",
    "           'rea_M': {\"c\":\"b\",\"marker\":\"o\", \"linestyle\":\"--\"},\n",
    "           'rad_F': {\"marker\":\"+\"},\n",
    "           'rad_M': {\"marker\":\"+\"}\n",
    "          }\n",
    "painter.doPlotBycol(colOpts = colOpts,\n",
    "                    xlabel  = f\"Days since {painter.dt[0]}\",\n",
    "               title=\"Whole France\\ / Hospital\\n Male / Female\\n:Daily patient status (ICU,Hosp) / Accumulated (discharged, dead)\",\n",
    "               legend=True    ) \n",
    "               ```"
   ]
  },
  {
   "cell_type": "markdown",
   "metadata": {},
   "source": [
    "## Load from CSV \n",
    "These csv have been downloaded before!; We check what is in the data directory; for each file, we\n",
    "identify the latest version, and list this below to make sure. This has to do with the version\n",
    "management technique (apparently) used at www.data.gouv.fr."
   ]
  },
  {
   "cell_type": "code",
   "execution_count": null,
   "metadata": {},
   "outputs": [],
   "source": [
    "dataFileVMgr = manageDataFileVersions()\n",
    "print(\"Most recent versions of files in data directory:\")\n",
    "for f in dataFileVMgr.listMostRecent() :\n",
    "    print(f\"\\t{f}\")"
   ]
  },
  {
   "cell_type": "code",
   "execution_count": null,
   "metadata": {},
   "outputs": [],
   "source": [
    "last = lambda x: dataFileVMgr.getRecentVersion(x,default=True)\n",
    "dailyDepCsv    = last(\"sursaud-covid19-quotidien-2020-04-11-19h00-departement.csv\")\n",
    "dailyRegionCsv = last(\"sursaud-covid19-quotidien-2020-04-11-19h00-region.csv\")\n",
    "dailyFranceCsv = last(\"sursaud-covid19-quotidien-2020-04-12-19h00-france.csv\")\n",
    "dailyXlsx      = last(\"sursaud-covid19-quotidien-2020-04-12-19h00.xlsx\")\n",
    "weeklyCsv      = last(\"sursaud-covid19-hebdomadaire-2020-04-08-19h00.csv\")\n",
    "\n",
    "hospAgeCsv     = last(\"donnees-hospitalieres-classe-age-covid19-2020-04-11-19h00.csv\")\n",
    "hospNouveauCsv = last(\"donnees-hospitalieres-nouveaux-covid19-2020-04-11-19h00.csv\")\n",
    "hospCsv        = last(\"donnees-hospitalieres-covid19-2020-04-11-19h00.csv\")\n",
    "hospEtablCsv   = last(\"donnees-hospitalieres-etablissements-covid19-2020-04-12-19h00.csv\")\n",
    "\n",
    "S1 = set (dataFileVMgr.listMostRecent())\n",
    "S2 =set((dailyDepCsv,dailyRegionCsv,dailyFranceCsv, dailyXlsx, weeklyCsv, \n",
    "         hospAgeCsv, hospNouveauCsv, hospCsv,  hospEtablCsv ))\n",
    "missing = S1. difference(S2)\n",
    "if len(missing) > 0:\n",
    "    print (f\"Missing comparing with most recent files in ../data:\")\n",
    "for f in missing:\n",
    "    print(f\"\\t{f}\")\n",
    "    \n",
    "metaHebdoCsv = \"../data/metadonnee-urgenceshos-sosmedecin-covid19-hebdo.csv\" \n",
    "metaQuotRegCsv = \"../data/metadonnee-urgenceshos-sosmedecin-covid19-quot-reg.csv\"\n",
    "metaQuotFraCsv = \"../data/metadonnee-urgenceshos-sosmedecin-covid19-quot-fra.csv\" \n",
    "metaQuotCsv = \"../data/metadonnee-urgenceshos-sosmedecin-covid19-quot.csv\"\n",
    "\n",
    "\n",
    "metaHospservices = \"../data/metadonnees-services-hospitaliers-covid19.csv\"\n",
    "metaHospAge = \"../data/metadonnees-donnees-hospitalieres-covid19-classes-age.csv\"\n",
    "metaHospIncid = \"../data/metadonnees-hospit-incid.csv\"\n",
    "metaHosp = \"../data/metadonnees-donnees-hospitalieres-covid19.csv\"\n",
    "metaHospEtabl = \"../data/donnees-hospitalieres-etablissements-covid19-2020-04-11-19h00.csv\"\n",
    "\n",
    "metaSexeCsv = \"../data/metadonnees-sexe.csv\"\n",
    "metaRegionsCsv=\"../data/regions-france.csv\"\n",
    "metaTranchesAgeCsv=\"../data/code-tranches-dage.csv\""
   ]
  },
  {
   "cell_type": "markdown",
   "metadata": {},
   "source": [
    "Now load the stuff\n"
   ]
  },
  {
   "cell_type": "code",
   "execution_count": null,
   "metadata": {},
   "outputs": [],
   "source": [
    "ad  = lambda x: \"../data/\"+x\n",
    "data_dailyRegion = read_csvPandas(ad(dailyRegionCsv), error_bad_lines=False,sep=\",\" )\n",
    "data_dailyDep    = read_csvPandas(ad(dailyDepCsv), error_bad_lines=False,sep=\",\")\n",
    "data_dailyFrance = read_csvPandas(ad(dailyFranceCsv), error_bad_lines=False,sep=\",\")\n",
    "data_daily       = read_xlsxPandas(ad(dailyXlsx), error_bad_lines=False,sep=\",\")\n",
    "data_weekly      = read_csvPandas(ad(weeklyCsv), error_bad_lines=False,sep=\",\")\n",
    "\n",
    "data_hospNouveau = read_csvPandas(ad(hospNouveauCsv), error_bad_lines=False,sep=\";\")\n",
    "data_hosp        = read_csvPandas(ad(hospCsv), error_bad_lines=False,sep=\";\")\n",
    "data_hospAge          = read_csvPandas(ad(hospAgeCsv), error_bad_lines=False,sep=\";\")\n",
    "data_hospEtabl        = read_csvPandas(ad(hospEtablCsv), error_bad_lines=False,sep=\";\")\n",
    "\n",
    "meta_Hebdo       = read_csvPandas(metaHebdoCsv,     clearNaN=True, error_bad_lines=False,sep=\";\", header=2)\n",
    "meta_QuotReg     = read_csvPandas(metaQuotRegCsv, clearNaN=True, error_bad_lines=False,sep=\";\", header=1)\n",
    "meta_QuotFra     = read_csvPandas(metaQuotFraCsv, clearNaN=True, error_bad_lines=False,sep=\";\", header=1)\n",
    "meta_Quot        = read_csvPandas(metaQuotCsv, clearNaN=True, error_bad_lines=False,sep=\";\", header=1)\n",
    "meta_HospServices = read_csvPandas(metaHospservices, clearNaN=True, error_bad_lines=False,sep=\";\")\n",
    "meta_HospAge      = read_csvPandas(metaHospAge, clearNaN=True, error_bad_lines=False,sep=\";\")\n",
    "meta_HospIncid    = read_csvPandas(metaHospIncid, clearNaN=True, error_bad_lines=False,sep=\";\")\n",
    "meta_Hosp         = read_csvPandas(metaHosp, clearNaN=True, error_bad_lines=False,sep=\";\")\n",
    "\n",
    "meta_Sexe = read_csvPandas(metaSexeCsv, clearNaN=True, error_bad_lines=False,sep=\";\",header=0)\n",
    "meta_Regions = read_csvPandas(metaRegionsCsv, clearNaN=True, error_bad_lines=False,sep=\",\")\n",
    "meta_Ages    =  read_csvPandas(metaTranchesAgeCsv, clearNaN=True, error_bad_lines=False,sep=\";\")"
   ]
  },
  {
   "cell_type": "markdown",
   "metadata": {},
   "source": [
    "## Figure out data characteristics"
   ]
  },
  {
   "cell_type": "code",
   "execution_count": null,
   "metadata": {},
   "outputs": [],
   "source": [
    "def showBasics(data,dataName):\n",
    "    print(f\"{dataName:24}\\thas shape {data.shape}\")\n",
    "\n",
    "dataListDescr = ((data_dailyRegion, \"data_dailyRegion\"), \n",
    "                  (data_dailyDep,\"data_dailyDep\"), \n",
    "                  (data_hospAge,\"data_hospAge\"), \n",
    "                  (data_dailyFrance, \"data_dailyFrance\"),\n",
    "                  (data_daily,\"data_daily\"),\n",
    "                  (data_weekly , \"data_weekly \"),\n",
    "                  (data_hospNouveau,\"data_hospNouveau\"),\n",
    "                  (data_hosp,\"data_hosp\"),\n",
    "                  (data_hospAge,\"data_hospAge\"),\n",
    "                  (data_hospEtabl,\"data_hospEtabl\"),\n",
    "                  (meta_Hebdo,\"meta_Hebdo\"),\n",
    "                  (meta_QuotReg,\"meta_QuotReg\"),\n",
    "                  (meta_QuotFra,\"meta_QuotFra\"),\n",
    "                  (meta_Quot,\"meta_Quot\"),\n",
    "                  (meta_HospServices,\"meta_HospServices\"),\n",
    "                  (meta_HospAge,\"meta_HospAge\"),\n",
    "                  (meta_HospIncid,\"meta_HospIncid\"),\n",
    "                  (meta_Hosp,\"meta_Hosp\"),\n",
    "                  (meta_Sexe,\"meta_Sexe\"),\n",
    "                  (meta_Regions,'meta_Regions'),\n",
    "                  (meta_Ages,'meta_Ages'))\n",
    "    \n",
    "for (dat,name) in dataListDescr:\n",
    "    showBasics(dat,name)\n"
   ]
  },
  {
   "cell_type": "markdown",
   "metadata": {},
   "source": [
    "### Help with meta data\n",
    "Of course I encountered some surprises, see `checkRepresentedRegions` issue with unknown codes which\n",
    "did occur in some files!"
   ]
  },
  {
   "cell_type": "code",
   "execution_count": null,
   "metadata": {},
   "outputs": [],
   "source": [
    "def checkRepresentedRegions(df,col='reg',**kwOpts):\n",
    "    \"list regions represented in a dataframe, if kwd print=True, will print list of code->string\"\n",
    "    regs = set(df[col])\n",
    "    if \"print\" in kwOpts:\n",
    "        for r in regs:\n",
    "            extract = meta_Regions[ meta_Regions['code_region'] == r]\n",
    "            # print (f\"r={r}\\t{extract}\\t{extract.shape}\")\n",
    "            if extract.shape[0] == 0:\n",
    "                lib = f\"**Unknown:{r}**\"\n",
    "            else:\n",
    "                lib=extract.iloc[0]. at ['nom_region']\n",
    "            print(f\"Region: code={r}\\t->{lib}\")\n",
    "    return regs"
   ]
  },
  {
   "cell_type": "code",
   "execution_count": null,
   "metadata": {},
   "outputs": [],
   "source": [
    "for (dat,name) in dataListDescr:\n",
    "    if name[0:5]==\"meta_\": continue\n",
    "    print(f\"\\nDescription of data in '{name}'\\n\")\n",
    "    display(dat.describe().transpose())"
   ]
  },
  {
   "cell_type": "code",
   "execution_count": null,
   "metadata": {},
   "outputs": [],
   "source": [
    "for (dat,name) in dataListDescr:\n",
    "    if name[0:5]!=\"meta_\": continue\n",
    "    print(f\"\\nMeta data in '{name}'\\n\")\n",
    "    display(dat)"
   ]
  },
  {
   "cell_type": "markdown",
   "metadata": {},
   "source": [
    "## Let's do some graphics!"
   ]
  },
  {
   "cell_type": "markdown",
   "metadata": {},
   "source": [
    "### Données de  urgences hospitalières et de SOS médecins \n",
    "Df: dailyRegion ( file sursaud-covid19-quotidien)\n",
    "#### Structure the data"
   ]
  },
  {
   "cell_type": "markdown",
   "metadata": {},
   "source": [
    "Select age category '0', thus getting all ages"
   ]
  },
  {
   "cell_type": "code",
   "execution_count": null,
   "metadata": {},
   "outputs": [],
   "source": [
    "def select_Ages(df, ageGroup='0'):\n",
    "    return df.loc[df['sursaud_cl_age_corona'] == ageGroup]\n",
    "def select_AllAges(df):\n",
    "    return select_Ages(df)"
   ]
  },
  {
   "cell_type": "code",
   "execution_count": null,
   "metadata": {},
   "outputs": [],
   "source": [
    "def groupByDate(df):\n",
    "    return df.groupby('date_de_passage')"
   ]
  },
  {
   "cell_type": "markdown",
   "metadata": {},
   "source": [
    "First, I work with the dailyRegion data, summing up for all regions."
   ]
  },
  {
   "cell_type": "code",
   "execution_count": null,
   "metadata": {},
   "outputs": [],
   "source": [
    "gr_all_age_regions = groupByDate(select_AllAges(data_dailyRegion)).sum()\n",
    "checkRepresentedRegions(data_dailyRegion, print=True);"
   ]
  },
  {
   "cell_type": "code",
   "execution_count": null,
   "metadata": {},
   "outputs": [],
   "source": [
    "dfGr = PAN.DataFrame(gr_all_age_regions.copy(), columns=gr_all_age_regions.columns[1:])\n",
    "painter = figureTSFromFrame(dfGr)\n",
    "painter.doPlot(xlabel=f\"Days since {painter.dt[0]}\",\n",
    "               title=\"Whole France/Data ER + SOS-medecin\\nAll age groups\",legend=True  )\n",
    "\n",
    "        \n",
    "PAN.set_option('display.max_colwidth', None)\n",
    "display(meta_QuotReg[[ \"Colonne\",\"Description_FR\" ]])\n",
    "ImgMgr.save_fig(\"FIG002\")"
   ]
  },
  {
   "cell_type": "markdown",
   "metadata": {},
   "source": [
    "Then, I look at the national data, as represented in `data_dailyFrance` and `data_daily`"
   ]
  },
  {
   "cell_type": "code",
   "execution_count": null,
   "metadata": {},
   "outputs": [],
   "source": [
    "print(f\"data_daily: {data_daily.shape}\")\n",
    "print(f\"{','.join(data_daily.columns)}\")\n",
    "display(data_daily.describe())\n",
    "display(data_daily[:5])\n",
    "\n",
    "print(\"data_dailyFrance:  {data_dailyFrance.shape}\")\n",
    "print(f\"{','.join(data_dailyFrance.columns)}\")\n",
    "display(data_dailyFrance.describe())\n",
    "display(data_dailyFrance[:5])"
   ]
  },
  {
   "cell_type": "markdown",
   "metadata": {},
   "source": [
    "### Hospital data\n",
    "DF: hospNouveau  File: donnees-hospitalieres-nouveaux-covid19"
   ]
  },
  {
   "cell_type": "code",
   "execution_count": null,
   "metadata": {
    "scrolled": false
   },
   "outputs": [],
   "source": [
    "gr_all_data_hospNouveau=data_hospNouveau.groupby('jour').sum()\n",
    "dfGrHN = PAN.DataFrame(gr_all_data_hospNouveau)\n",
    "painter = figureTSFromFrame(dfGrHN)\n",
    "painter.doPlot(xlabel=f\"Days since {painter.dt[0]}\",\n",
    "               title=\"Whole France (Hospital)\\nDaily variation in patient status\",\n",
    "               legend=True  ) \n",
    "\n",
    "PAN.set_option('display.max_colwidth', None)\n",
    "display(meta_HospIncid[[ \"Colonne\",\"Description_EN\" ]])"
   ]
  },
  {
   "cell_type": "code",
   "execution_count": null,
   "metadata": {},
   "outputs": [],
   "source": [
    "gr_all_data_hosp=data_hosp.loc[data_hosp[\"sexe\"] == 0 ].groupby('jour').sum()\n",
    "cols = [ c for c in gr_all_data_hosp.columns if c != 'sexe']\n",
    "dfGrH = PAN.DataFrame(gr_all_data_hosp[cols])\n",
    "painter = figureTSFromFrame(dfGrH)\n",
    "painter.doPlot(xlabel=f\"Days since {painter.dt[0]}\",\n",
    "               title=\"Whole France / Hospital\\n:Daily patient status (ICU,Hosp) / Accumulated (discharged, dead)\",\n",
    "               legend=True  ) \n",
    "display(meta_Hosp[[ \"Colonne\",\"Description_EN\" ]])\n",
    "ImgMgr.save_fig(\"FIG003\")"
   ]
  },
  {
   "cell_type": "code",
   "execution_count": null,
   "metadata": {},
   "outputs": [],
   "source": [
    "data_hosp_DepSex=data_hosp.set_index([\"dep\",\"sexe\"])\n",
    "data_hosp_DepSex[data_hosp_DepSex.index.get_level_values(1)!=0]\n",
    "\n",
    "d1 = data_hosp_DepSex[data_hosp_DepSex.index.get_level_values(1)==1]\n",
    "d2 = data_hosp_DepSex[data_hosp_DepSex.index.get_level_values(1)==2]\n",
    "\n",
    "d1s=d1.groupby(\"jour\").sum()\n",
    "d2s=d2.groupby(\"jour\").sum()\n",
    "\n",
    "dm= PAN.concat([d1s,d2s], axis=1)\n",
    "cols1 = list(map (lambda x: x+\"_M\", d1s.columns))\n",
    "cols2 = list(map (lambda x: x+\"_F\", d2s.columns))\n",
    "dm.columns = (*cols1,*cols2)"
   ]
  },
  {
   "cell_type": "code",
   "execution_count": null,
   "metadata": {},
   "outputs": [],
   "source": [
    "dm.loc[:, 'hosp_M']"
   ]
  },
  {
   "cell_type": "code",
   "execution_count": null,
   "metadata": {},
   "outputs": [],
   "source": [
    "painter = figureTSFromFrame(dm)\n",
    "colOpts = {'dc_F': {\"c\":\"r\",\"marker\":\"v\"},  \n",
    "           'dc_M': {\"c\":\"b\",\"marker\":\"v\"},\n",
    "           'rea_F': {\"c\":\"r\",\"marker\":\"o\", \"linestyle\":\"--\"},  \n",
    "           'rea_M': {\"c\":\"b\",\"marker\":\"o\", \"linestyle\":\"--\"},\n",
    "           'rad_F': {\"marker\":\"+\"},\n",
    "           'rad_M': {\"marker\":\"+\"}\n",
    "          }\n",
    "painter.doPlotBycol(colOpts = colOpts,\n",
    "                    xlabel  = f\"Days since {painter.dt[0]}\",\n",
    "               title=\"Whole France\\ / Hospital\\n Male / Female\\n:Daily patient status (ICU,Hosp) / Accumulated (discharged, dead)\",\n",
    "               legend=True    ) \n",
    "display(meta_Hosp[[ \"Colonne\",\"Description_EN\" ]])\n",
    "ImgMgr.save_fig(\"FIG004\")"
   ]
  },
  {
   "cell_type": "code",
   "execution_count": null,
   "metadata": {},
   "outputs": [],
   "source": []
  }
 ],
 "metadata": {
  "kernelspec": {
   "display_name": "Python 3",
   "language": "python",
   "name": "python3"
  },
  "language_info": {
   "codemirror_mode": {
    "name": "ipython",
    "version": 3
   },
   "file_extension": ".py",
   "mimetype": "text/x-python",
   "name": "python",
   "nbconvert_exporter": "python",
   "pygments_lexer": "ipython3",
   "version": "3.6.5"
  }
 },
 "nbformat": 4,
 "nbformat_minor": 2
}
