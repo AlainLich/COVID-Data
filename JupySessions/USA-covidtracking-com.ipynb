{
 "cells": [
  {
   "cell_type": "markdown",
   "metadata": {},
   "source": [
    "# Analyze population data from https://covidtracking.com\n",
    "\n",
    "\n",
    "**Note:** This is a Jupyter notebook which is also available as its executable export as a Python 3 script (therefore with automatically generated comments)."
   ]
  },
  {
   "cell_type": "markdown",
   "metadata": {},
   "source": [
    "### Sept 29,2021: Obsolete data\n",
    "Our source https://covidtracking.com/data/api says:\n",
    "- `As of March 7, 2021 we are no longer collecting new data. Learn about available federal data at https://covidtracking.com/analysis-updates/federal-covid-data-101-how-to-find-data.`\n",
    "  - https://covidtracking.com/analysis-updates/simple-covid-data\n",
    "  - https://covidtracking.com/about-data/data-summary\n",
    "  - https://covidtracking.com/about-data/federal-resources\n",
    "\n",
    "**The following loads and analyses data up to March 7, 2021.**"
   ]
  },
  {
   "cell_type": "markdown",
   "metadata": {},
   "source": [
    "# Libraries"
   ]
  },
  {
   "cell_type": "code",
   "execution_count": null,
   "metadata": {},
   "outputs": [],
   "source": [
    "import sys,os\n",
    "addPath= [os.path.abspath(\"../venv/lib/python3.9/site-packages/\"),\n",
    "          os.path.abspath(\"../source\")]\n",
    "addPath.extend(sys.path)\n",
    "sys.path = addPath"
   ]
  },
  {
   "cell_type": "code",
   "execution_count": null,
   "metadata": {},
   "outputs": [],
   "source": [
    "# Sys import\n",
    "import sys, os, re\n",
    "# Common imports\n",
    "import math\n",
    "import numpy             as NP\n",
    "import numpy.random      as RAND\n",
    "import scipy.stats       as STATS\n",
    "from scipy import sparse\n",
    "from scipy import linalg\n",
    "\n",
    "# Better formatting functions\n",
    "from IPython.display import display, HTML\n",
    "from IPython import get_ipython\n",
    "\n",
    "import matplotlib        as MPL\n",
    "import matplotlib.pyplot as PLT\n",
    "import seaborn as SNS\n",
    "SNS.set(font_scale=1)\n",
    "\n",
    "# Python programming\n",
    "from itertools import cycle\n",
    "from time import time\n",
    "import datetime\n",
    "\n",
    "# Using pandas\n",
    "import pandas as PAN\n",
    "import xlrd"
   ]
  },
  {
   "cell_type": "code",
   "execution_count": null,
   "metadata": {},
   "outputs": [],
   "source": [
    "sys.path.append('/home/alain/test/MachLearn/COVID/source')"
   ]
  },
  {
   "cell_type": "code",
   "execution_count": null,
   "metadata": {},
   "outputs": [],
   "source": [
    "import libApp.appUSA as appUSA"
   ]
  },
  {
   "cell_type": "code",
   "execution_count": null,
   "metadata": {},
   "outputs": [],
   "source": [
    "import warnings\n",
    "warnings.filterwarnings('ignore')\n",
    "print(\"For now, reduce python warnings, I will look into this later\")"
   ]
  },
  {
   "cell_type": "markdown",
   "metadata": {},
   "source": [
    "### Import my own modules\n",
    "The next cell attempts to give user some information if things improperly setup.\n",
    "Intended to work both in Jupyter and when executing the Python file directly."
   ]
  },
  {
   "cell_type": "code",
   "execution_count": null,
   "metadata": {},
   "outputs": [],
   "source": [
    "if not get_ipython() is None and os.path.abspath(\"../source/\") not in sys.path:\n",
    "    sys.path.append(os.path.abspath(\"../source/\"))\n",
    "try:\n",
    "    from lib.utilities     import *\n",
    "    from lib.figureHelpers import *\n",
    "    from lib.DataMgrJSON   import *\n",
    "    from lib.DataMgr       import *\n",
    "    from lib.pandaUtils    import *\n",
    "except Exception as err:\n",
    "    print(\"Could not find library 'lib' with contents 'DataGouvFr' \")\n",
    "    if get_ipython() is None:\n",
    "        print(\"Check the PYTHONPATH environment variable which should point to 'source' wich contains 'lib'\")\n",
    "    else:\n",
    "        print(\"You are supposed to be running in JupySessions, and '../source/lib' should exist\")\n",
    "    raise err"
   ]
  },
  {
   "cell_type": "code",
   "execution_count": null,
   "metadata": {},
   "outputs": [],
   "source": [
    "from IPython.core.display import display, HTML\n",
    "display(HTML(\"<style>.container { width:100% !important; }</style>\"))"
   ]
  },
  {
   "cell_type": "markdown",
   "metadata": {},
   "source": [
    "## Check environment\n",
    "\n",
    "It is expected that:\n",
    "- your working directory is named `JupySessions`, \n",
    "- that it has subdirectories \n",
    "   - `images/*` where generated images may be stored to avoid overcrowding. \n",
    "- At the same level as your working dir there should be directories \n",
    "   - `../data` for storing input data and \n",
    "   - `../source` for python scripts.\n",
    "   \n",
    "My package library is in `../source/lib`, and users running under Python (not in Jupyter) should\n",
    "set their PYTHONPATH to include \"../source\" ( *or whatever appropriate* )."
   ]
  },
  {
   "cell_type": "code",
   "execution_count": null,
   "metadata": {},
   "outputs": [],
   "source": [
    "checkSetup(chap=\"Chap04\")\n",
    "ImgMgr = ImageMgr(chapdir=\"Chap04\")"
   ]
  },
  {
   "cell_type": "markdown",
   "metadata": {},
   "source": [
    "# Load Data"
   ]
  },
  {
   "cell_type": "markdown",
   "metadata": {},
   "source": [
    "## Functions"
   ]
  },
  {
   "cell_type": "markdown",
   "metadata": {},
   "source": [
    "## Load CSV and XLSX data from remote \n",
    "The `dataFileVMgr` will manage a cache of data files in `../dataUSCovidTrack`.\n",
    "\n",
    "We check what is in the cache/data directory; for each file, we identify the latest version, \n",
    "and list this below to make sure. Files of interest are documented in `.filespecs.json`\n",
    "\n",
    "Consulted: https://github.com/COVID19Tracking/covid-tracking-api\n",
    "  \n",
    "Downloaded: see `.filespecs.json`"
   ]
  },
  {
   "cell_type": "code",
   "execution_count": null,
   "metadata": {},
   "outputs": [],
   "source": [
    "dataFileVMgr = manageAndCacheFilesJSONHandwritten(\"../dataUSCovidTrack\")"
   ]
  },
  {
   "cell_type": "code",
   "execution_count": null,
   "metadata": {},
   "outputs": [],
   "source": [
    "dataFileVMgr.getRemoteInfo()\n",
    "dataFileVMgr.updatePrepare()\n",
    "dataFileVMgr.cacheUpdate()"
   ]
  },
  {
   "cell_type": "code",
   "execution_count": null,
   "metadata": {},
   "outputs": [],
   "source": [
    "print(\"Most recent versions of files in data directory:\")\n",
    "for f in dataFileVMgr.listMostRecent() :\n",
    "    print(f\"\\t{f}\")"
   ]
  },
  {
   "cell_type": "code",
   "execution_count": null,
   "metadata": {},
   "outputs": [],
   "source": [
    "last = lambda x: dataFileVMgr.getRecentVersion(x,default=True)"
   ]
  },
  {
   "cell_type": "markdown",
   "metadata": {},
   "source": [
    "This ensures we load the most recent version, so that it is not required to update the list \n",
    "below. The timestamps shown in the following sequence will be update by the call to `getRecentVersion`."
   ]
  },
  {
   "cell_type": "code",
   "execution_count": null,
   "metadata": {},
   "outputs": [],
   "source": [
    "USStatesDailyCSV    = last('CTStatesDaily.csv' ) \n",
    "USStatesInfoCSV     = last('CTStatesInfo.csv')\n",
    "USDailyCSV          = last('CTUSDaily.csv')\n",
    "\n",
    "USAPopChangeCSV     =  last('USACensusPopchange.csv')  \n",
    "USAPopChangeRankCSV =  last('USACensusPopchangeRanks.csv')"
   ]
  },
  {
   "cell_type": "markdown",
   "metadata": {},
   "source": [
    "Now load the stuff"
   ]
  },
  {
   "cell_type": "code",
   "execution_count": null,
   "metadata": {},
   "outputs": [],
   "source": [
    "ad  = lambda x: \"../dataUSCovidTrack/\"+x\n",
    "\n",
    "data_USStatesDaily    = read_csvPandas(ad(USStatesDailyCSV) , error_bad_lines=False, sep=\",\" )\n",
    "data_USStatesInfo     = read_csvPandas(ad(USStatesInfoCSV),   error_bad_lines=False, sep=\",\" )\n",
    "data_USDaily          = read_csvPandas(ad(USDailyCSV),        error_bad_lines=False, sep=\",\" )\n",
    "data_USAPopChange     = read_csvPandas(ad(USAPopChangeCSV) ,  error_bad_lines=False, sep=\",\" )\n",
    "data_USAPopChangeRank = read_csvPandas(ad(USAPopChangeRankCSV), error_bad_lines=False, sep=\",\" )"
   ]
  },
  {
   "cell_type": "markdown",
   "metadata": {},
   "source": [
    "Show the shape of the loaded data:"
   ]
  },
  {
   "cell_type": "code",
   "execution_count": null,
   "metadata": {},
   "outputs": [],
   "source": [
    "def showBasics(data,dataName):\n",
    "    print(f\"{dataName:24}\\thas shape {data.shape}\")\n",
    "\n",
    "dataListDescr = ( (data_USStatesDaily, \"data_USStatesDaily\"),\n",
    "                  (data_USStatesInfo,  \"data_USStatesInfo\"),\n",
    "                  (data_USDaily ,      \"data_USDaily\"),\n",
    "                  (data_USAPopChange,  \"data_USAPopChange\"),\n",
    "                  (data_USAPopChangeRank, \"data_USAPopChangeRank\"),\n",
    "                )\n",
    "    \n",
    "for (dat,name) in dataListDescr:\n",
    "    showBasics(dat,name)\n"
   ]
  },
  {
   "cell_type": "code",
   "execution_count": null,
   "metadata": {},
   "outputs": [],
   "source": [
    "for (dat,name) in dataListDescr:\n",
    "    if name[0:5]==\"meta_\": continue\n",
    "    print(f\"\\nDescription of data in '{name}'\\n\")\n",
    "    display(dat.describe().transpose())"
   ]
  },
  {
   "cell_type": "code",
   "execution_count": null,
   "metadata": {},
   "outputs": [],
   "source": [
    "for (dat,name) in dataListDescr:\n",
    "    if name[0:5]==\"meta_\": continue\n",
    "    print(f\"\\nInformation about '{name}'\\n\")\n",
    "    dat.info()"
   ]
  },
  {
   "cell_type": "markdown",
   "metadata": {},
   "source": [
    "### Get demographics information\n",
    "The metadata is in `../dataUSCovidTrack/*.pdf`. We need to preprocess the demographics information for ease of use below. Notice that column `STATE` features state's **FIPS codes**."
   ]
  },
  {
   "cell_type": "code",
   "execution_count": null,
   "metadata": {},
   "outputs": [],
   "source": [
    "demogrCols=(\"SUMLEV\",\"STATE\",\"NAME\",\"POPESTIMATE2019\" )\n",
    "demogrX = data_USAPopChange.loc[:,demogrCols]\n",
    "demogrX[\"SUMLEV\"]== 40\n",
    "demogr = demogrX[demogrX[\"SUMLEV\"]== 40 ].copy() "
   ]
  },
  {
   "cell_type": "code",
   "execution_count": null,
   "metadata": {},
   "outputs": [],
   "source": [
    "dtCols = ('date','fips', 'state', \n",
    "          'positive', 'negative', \n",
    "          'hospitalizedCurrently', 'hospitalizedCumulative', \n",
    "          'inIcuCurrently', 'inIcuCumulative',\n",
    "          'onVentilatorCurrently', 'onVentilatorCumulative', \n",
    "          'recovered','death', 'hospitalized'\n",
    "         )"
   ]
  },
  {
   "cell_type": "code",
   "execution_count": null,
   "metadata": {},
   "outputs": [],
   "source": [
    "dt  = data_USStatesDaily.loc[ :, dtCols].copy()\n",
    "dt[\"dateNum\"] = PAN.to_datetime(dt.loc[:,\"date\"], format=\"%Y%m%d\")\n",
    "dateStart = dt[\"dateNum\"].min()\n",
    "dateEnd   = dt[\"dateNum\"].max() \n",
    "dateSpan  = dateEnd - dateStart \n",
    "print(f\"Our statistics span {dateSpan.days+1} days, start: {dateStart} and end {dateEnd}\")\n",
    "dt[\"elapsedDays\"] = (dt[\"dateNum\"] - dateStart).dt.days\n",
    "\n",
    "dt = dt.set_index(\"state\")\n",
    "dtg = dt.groupby(\"state\")\n",
    "\n",
    "#dtx = dt[dt.index == \"Europe\"]\n",
    "#dtg = dtx.groupby(\"countriesAndTerritories\")"
   ]
  },
  {
   "cell_type": "markdown",
   "metadata": {},
   "source": [
    "Now, the figure making process is generalized into this class, since we plan to emit multiple figures."
   ]
  },
  {
   "cell_type": "markdown",
   "metadata": {},
   "source": [
    "First attempt, just get the first!"
   ]
  },
  {
   "cell_type": "code",
   "execution_count": null,
   "metadata": {
    "scrolled": false
   },
   "outputs": [],
   "source": [
    "plotCols=(\"recovered\",\"death\",\"hospitalized\")\n",
    "\n",
    "psFig =  appUSA.perStateFigure(dateStart)\n",
    "psFig.getDemographics(data_USAPopChange)\n",
    "psFig.initPainter(subnodeSpec=15, maxCol=3)\n",
    "psFig.mkImage(dtg,plotCols)\n",
    "ImgMgr.save_fig(\"FIG001\")\n",
    "print(f\"Had issues with state encodings:{psFig.abbrevIssueList}\")"
   ]
  },
  {
   "cell_type": "markdown",
   "metadata": {},
   "source": [
    "## Now select  States  according to multiple criteria\n",
    "### Start with most populated states"
   ]
  },
  {
   "cell_type": "code",
   "execution_count": null,
   "metadata": {},
   "outputs": [],
   "source": [
    "tble = psFig.getPopStateTble(dtg)"
   ]
  },
  {
   "cell_type": "code",
   "execution_count": null,
   "metadata": {},
   "outputs": [],
   "source": [
    "mostPopulated = tble.sort_values(by=[\"pop\"], ascending=False,).iloc[:15,0].values"
   ]
  },
  {
   "cell_type": "code",
   "execution_count": null,
   "metadata": {},
   "outputs": [],
   "source": [
    "psFig2 =  appUSA.perStateSelected(dateStart,mostPopulated)\n",
    "psFig2.getDemographics(data_USAPopChange)\n",
    "psFig2.initPainter(subnodeSpec=15, maxCol=3)\n",
    "psFig2.mkImage(dtg,plotCols)\n",
    "ImgMgr.save_fig(\"FIG002\")\n",
    "print(f\"Had issues with state encodings:{psFig2.abbrevIssueList}\")"
   ]
  },
  {
   "cell_type": "code",
   "execution_count": null,
   "metadata": {},
   "outputs": [],
   "source": [
    "dtgMax = dtg.max().loc[:,[\"fips\",\"death\",\"recovered\",\"hospitalized\"]]\n",
    "\n",
    "dtgMerged = PAN.merge(dtgMax.reset_index(), demogr, left_on=\"fips\", right_on=\"STATE\")\n",
    "dtgMerged[\"deathPM\"]= dtgMerged.loc[:,\"death\"]/dtgMerged.loc[:,\"POPESTIMATE2019\"]*1.0e6\n",
    "\n",
    "mostDeadly = dtgMerged.sort_values(by=[\"deathPM\"], ascending=False,).iloc[:15,0].values"
   ]
  },
  {
   "cell_type": "code",
   "execution_count": null,
   "metadata": {},
   "outputs": [],
   "source": [
    "psFig3 =  appUSA.perStateSelected(dateStart,mostDeadly)\n",
    "psFig3.getDemographics(data_USAPopChange)\n",
    "psFig3.initPainter(subnodeSpec=15, maxCol=3)\n",
    "psFig3.mkImage(dtg,plotCols)\n",
    "ImgMgr.save_fig(\"FIG003\")\n",
    "print(f\"Had issues with state encodings:{psFig3.abbrevIssueList}\")"
   ]
  },
  {
   "cell_type": "code",
   "execution_count": null,
   "metadata": {},
   "outputs": [],
   "source": []
  }
 ],
 "metadata": {
  "kernelspec": {
   "display_name": "Python 3",
   "language": "python",
   "name": "python3"
  },
  "language_info": {
   "codemirror_mode": {
    "name": "ipython",
    "version": 3
   },
   "file_extension": ".py",
   "mimetype": "text/x-python",
   "name": "python",
   "nbconvert_exporter": "python",
   "pygments_lexer": "ipython3",
   "version": "3.9.4"
  }
 },
 "nbformat": 4,
 "nbformat_minor": 2
}
